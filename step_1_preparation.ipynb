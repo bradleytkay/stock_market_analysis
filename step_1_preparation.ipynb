{
    "metadata": {
        "kernelspec": {
            "name": "SQL",
            "display_name": "SQL",
            "language": "sql"
        },
        "language_info": {
            "name": "sql",
            "version": ""
        }
    },
    "nbformat_minor": 2,
    "nbformat": 4,
    "cells": [
        {
            "cell_type": "markdown",
            "source": [
                "# Step 1: Preparation"
            ],
            "metadata": {
                "azdata_cell_guid": "0dadb0f9-1c83-4d15-aeda-21f357a710c3"
            },
            "attachments": {}
        },
        {
            "cell_type": "markdown",
            "source": [
                "## For this analysis, I am using the [Stock Market: Historical Data of Top 10 Companies](https://www.kaggle.com/datasets/khushipitroda/stock-market-historical-data-of-top-10-companies) dataset from Kaggle."
            ],
            "metadata": {
                "azdata_cell_guid": "fdaff1e2-73fc-4594-a999-f54fb072e627",
                "language": ""
            },
            "attachments": {}
        },
        {
            "cell_type": "code",
            "source": [
                "CREATE TABLE stock_data (\n",
                "    company VARCHAR(10),\n",
                "    [date] DATE,         -- Represents the trading day\n",
                "    [close] FLOAT,       -- The closing or last traded price\n",
                "    volume INT,          -- Total number of shares traded\n",
                "    [open] FLOAT,        -- The opening price\n",
                "    [high] FLOAT,        -- The highest price during the trading session\n",
                "    [low] FLOAT          -- The lowest price during the trading session\n",
                ");"
            ],
            "metadata": {
                "azdata_cell_guid": "53f9e11c-a6f7-4eeb-8f2b-215e74c50450",
                "language": "sql"
            },
            "outputs": [
                {
                    "output_type": "display_data",
                    "data": {
                        "text/html": "Commands completed successfully."
                    },
                    "metadata": {}
                },
                {
                    "output_type": "display_data",
                    "data": {
                        "text/html": "Total execution time: 00:00:00.009"
                    },
                    "metadata": {}
                }
            ],
            "execution_count": 4
        },
        {
            "cell_type": "code",
            "source": [
                "BULK INSERT stock_data\n",
                "FROM '/var/opt/mssql/data/data.csv'\n",
                "WITH (\n",
                "    FIELDTERMINATOR = ',',  -- Delimiter between columns\n",
                "    ROWTERMINATOR = '\\n',   -- Delimiter between rows\n",
                "    FIRSTROW = 2           -- Skips the header row in the CSV\n",
                ");"
            ],
            "metadata": {
                "azdata_cell_guid": "8f0a3e74-7072-4b61-8819-744695767583",
                "language": "sql"
            },
            "outputs": [
                {
                    "output_type": "display_data",
                    "data": {
                        "text/html": "(25160 rows affected)"
                    },
                    "metadata": {}
                },
                {
                    "output_type": "display_data",
                    "data": {
                        "text/html": "Total execution time: 00:00:00.191"
                    },
                    "metadata": {}
                }
            ],
            "execution_count": 5
        },
        {
            "cell_type": "code",
            "source": [
                "SELECT TOP 10 * FROM stock_data; -- Check to make sure everything's in place\n",
                "\n",
                "-- Looks good! "
            ],
            "metadata": {
                "azdata_cell_guid": "559eadec-6eda-4581-9c8b-78cb1cd338a0",
                "language": "sql"
            },
            "outputs": [
                {
                    "output_type": "display_data",
                    "data": {
                        "text/html": "(10 rows affected)"
                    },
                    "metadata": {}
                },
                {
                    "output_type": "display_data",
                    "data": {
                        "text/html": "Total execution time: 00:00:00.233"
                    },
                    "metadata": {}
                },
                {
                    "output_type": "execute_result",
                    "execution_count": 8,
                    "data": {
                        "application/vnd.dataresource+json": {
                            "schema": {
                                "fields": [
                                    {
                                        "name": "company"
                                    },
                                    {
                                        "name": "date"
                                    },
                                    {
                                        "name": "close"
                                    },
                                    {
                                        "name": "volume"
                                    },
                                    {
                                        "name": "open"
                                    },
                                    {
                                        "name": "high"
                                    },
                                    {
                                        "name": "low"
                                    }
                                ]
                            },
                            "data": [
                                {
                                    "company": "AAPL",
                                    "date": "2023-07-17",
                                    "close": "193.99",
                                    "volume": "50520160",
                                    "open": "191.9",
                                    "high": "194.32",
                                    "low": "191.81"
                                },
                                {
                                    "company": "AAPL",
                                    "date": "2023-07-14",
                                    "close": "190.69",
                                    "volume": "41616240",
                                    "open": "190.23",
                                    "high": "191.18",
                                    "low": "189.63"
                                },
                                {
                                    "company": "AAPL",
                                    "date": "2023-07-13",
                                    "close": "190.54",
                                    "volume": "41342340",
                                    "open": "190.5",
                                    "high": "191.19",
                                    "low": "189.78"
                                },
                                {
                                    "company": "AAPL",
                                    "date": "2023-07-12",
                                    "close": "189.77",
                                    "volume": "60750250",
                                    "open": "189.68",
                                    "high": "191.7",
                                    "low": "188.47"
                                },
                                {
                                    "company": "AAPL",
                                    "date": "2023-07-11",
                                    "close": "188.08",
                                    "volume": "46638120",
                                    "open": "189.16",
                                    "high": "189.3",
                                    "low": "186.6"
                                },
                                {
                                    "company": "AAPL",
                                    "date": "2023-07-10",
                                    "close": "188.61",
                                    "volume": "59922160",
                                    "open": "189.26",
                                    "high": "189.99",
                                    "low": "187.04"
                                },
                                {
                                    "company": "AAPL",
                                    "date": "2023-07-07",
                                    "close": "190.68",
                                    "volume": "46815000",
                                    "open": "191.41",
                                    "high": "192.67",
                                    "low": "190.24"
                                },
                                {
                                    "company": "AAPL",
                                    "date": "2023-07-06",
                                    "close": "191.81",
                                    "volume": "45156010",
                                    "open": "189.84",
                                    "high": "192.02",
                                    "low": "189.2"
                                },
                                {
                                    "company": "AAPL",
                                    "date": "2023-07-05",
                                    "close": "191.33",
                                    "volume": "46920260",
                                    "open": "191.57",
                                    "high": "192.98",
                                    "low": "190.62"
                                },
                                {
                                    "company": "AAPL",
                                    "date": "2023-07-03",
                                    "close": "192.46",
                                    "volume": "31346600",
                                    "open": "193.78",
                                    "high": "193.88",
                                    "low": "191.76"
                                }
                            ]
                        },
                        "text/html": "<table><tr><th>company</th><th>date</th><th>close</th><th>volume</th><th>open</th><th>high</th><th>low</th></tr><tr><td>AAPL</td><td>2023-07-17</td><td>193.99</td><td>50520160</td><td>191.9</td><td>194.32</td><td>191.81</td></tr><tr><td>AAPL</td><td>2023-07-14</td><td>190.69</td><td>41616240</td><td>190.23</td><td>191.18</td><td>189.63</td></tr><tr><td>AAPL</td><td>2023-07-13</td><td>190.54</td><td>41342340</td><td>190.5</td><td>191.19</td><td>189.78</td></tr><tr><td>AAPL</td><td>2023-07-12</td><td>189.77</td><td>60750250</td><td>189.68</td><td>191.7</td><td>188.47</td></tr><tr><td>AAPL</td><td>2023-07-11</td><td>188.08</td><td>46638120</td><td>189.16</td><td>189.3</td><td>186.6</td></tr><tr><td>AAPL</td><td>2023-07-10</td><td>188.61</td><td>59922160</td><td>189.26</td><td>189.99</td><td>187.04</td></tr><tr><td>AAPL</td><td>2023-07-07</td><td>190.68</td><td>46815000</td><td>191.41</td><td>192.67</td><td>190.24</td></tr><tr><td>AAPL</td><td>2023-07-06</td><td>191.81</td><td>45156010</td><td>189.84</td><td>192.02</td><td>189.2</td></tr><tr><td>AAPL</td><td>2023-07-05</td><td>191.33</td><td>46920260</td><td>191.57</td><td>192.98</td><td>190.62</td></tr><tr><td>AAPL</td><td>2023-07-03</td><td>192.46</td><td>31346600</td><td>193.78</td><td>193.88</td><td>191.76</td></tr></table>"
                    },
                    "metadata": {}
                }
            ],
            "execution_count": 8
        },
        {
            "cell_type": "code",
            "source": [
                "EXEC sp_help 'stock_data'; -- Check data types of each column\n",
                "\n",
                "-- It appears I neglected to set a PRIMARY KEY in my CREATE TABLE "
            ],
            "metadata": {
                "language": "sql",
                "azdata_cell_guid": "556bf03c-bb63-49aa-88cb-68ff5635a55b",
                "tags": []
            },
            "outputs": [
                {
                    "output_type": "display_data",
                    "data": {
                        "text/html": " "
                    },
                    "metadata": {}
                },
                {
                    "output_type": "display_data",
                    "data": {
                        "text/html": " "
                    },
                    "metadata": {}
                },
                {
                    "output_type": "display_data",
                    "data": {
                        "text/html": " "
                    },
                    "metadata": {}
                },
                {
                    "output_type": "display_data",
                    "data": {
                        "text/html": " "
                    },
                    "metadata": {}
                },
                {
                    "output_type": "display_data",
                    "data": {
                        "text/html": " "
                    },
                    "metadata": {}
                },
                {
                    "output_type": "display_data",
                    "data": {
                        "text/html": " "
                    },
                    "metadata": {}
                },
                {
                    "output_type": "display_data",
                    "data": {
                        "text/html": "The object 'stock_data' does not have any indexes, or you do not have permissions."
                    },
                    "metadata": {}
                },
                {
                    "output_type": "display_data",
                    "data": {
                        "text/html": " "
                    },
                    "metadata": {}
                },
                {
                    "output_type": "display_data",
                    "data": {
                        "text/html": "No constraints are defined on object 'stock_data', or you do not have permissions."
                    },
                    "metadata": {}
                },
                {
                    "output_type": "display_data",
                    "data": {
                        "text/html": " "
                    },
                    "metadata": {}
                },
                {
                    "output_type": "display_data",
                    "data": {
                        "text/html": "No foreign keys reference table 'stock_data', or you do not have permissions on referencing tables."
                    },
                    "metadata": {}
                },
                {
                    "output_type": "display_data",
                    "data": {
                        "text/html": "No views with schema binding reference table 'stock_data'."
                    },
                    "metadata": {}
                },
                {
                    "output_type": "display_data",
                    "data": {
                        "text/html": "Total execution time: 00:00:01.380"
                    },
                    "metadata": {}
                },
                {
                    "output_type": "execute_result",
                    "execution_count": 9,
                    "data": {
                        "application/vnd.dataresource+json": {
                            "schema": {
                                "fields": [
                                    {
                                        "name": "Name"
                                    },
                                    {
                                        "name": "Owner"
                                    },
                                    {
                                        "name": "Type"
                                    },
                                    {
                                        "name": "Created_datetime"
                                    }
                                ]
                            },
                            "data": [
                                {
                                    "Name": "stock_data",
                                    "Owner": "dbo",
                                    "Type": "user table",
                                    "Created_datetime": "2025-02-22 00:35:27.807"
                                }
                            ]
                        },
                        "text/html": "<table><tr><th>Name</th><th>Owner</th><th>Type</th><th>Created_datetime</th></tr><tr><td>stock_data</td><td>dbo</td><td>user table</td><td>2025-02-22 00:35:27.807</td></tr></table>"
                    },
                    "metadata": {}
                },
                {
                    "output_type": "execute_result",
                    "execution_count": 9,
                    "data": {
                        "application/vnd.dataresource+json": {
                            "schema": {
                                "fields": [
                                    {
                                        "name": "Column_name"
                                    },
                                    {
                                        "name": "Type"
                                    },
                                    {
                                        "name": "Computed"
                                    },
                                    {
                                        "name": "Length"
                                    },
                                    {
                                        "name": "Prec"
                                    },
                                    {
                                        "name": "Scale"
                                    },
                                    {
                                        "name": "Nullable"
                                    },
                                    {
                                        "name": "TrimTrailingBlanks"
                                    },
                                    {
                                        "name": "FixedLenNullInSource"
                                    },
                                    {
                                        "name": "Collation"
                                    }
                                ]
                            },
                            "data": [
                                {
                                    "Column_name": "company",
                                    "Type": "varchar",
                                    "Computed": "no",
                                    "Length": "10",
                                    "Prec": "     ",
                                    "Scale": "     ",
                                    "Nullable": "yes",
                                    "TrimTrailingBlanks": "no",
                                    "FixedLenNullInSource": "yes",
                                    "Collation": "SQL_Latin1_General_CP1_CI_AS"
                                },
                                {
                                    "Column_name": "date",
                                    "Type": "date",
                                    "Computed": "no",
                                    "Length": "3",
                                    "Prec": "10   ",
                                    "Scale": "0    ",
                                    "Nullable": "yes",
                                    "TrimTrailingBlanks": "(n/a)",
                                    "FixedLenNullInSource": "(n/a)",
                                    "Collation": "NULL"
                                },
                                {
                                    "Column_name": "close",
                                    "Type": "float",
                                    "Computed": "no",
                                    "Length": "8",
                                    "Prec": "53   ",
                                    "Scale": "NULL",
                                    "Nullable": "yes",
                                    "TrimTrailingBlanks": "(n/a)",
                                    "FixedLenNullInSource": "(n/a)",
                                    "Collation": "NULL"
                                },
                                {
                                    "Column_name": "volume",
                                    "Type": "int",
                                    "Computed": "no",
                                    "Length": "4",
                                    "Prec": "10   ",
                                    "Scale": "0    ",
                                    "Nullable": "yes",
                                    "TrimTrailingBlanks": "(n/a)",
                                    "FixedLenNullInSource": "(n/a)",
                                    "Collation": "NULL"
                                },
                                {
                                    "Column_name": "open",
                                    "Type": "float",
                                    "Computed": "no",
                                    "Length": "8",
                                    "Prec": "53   ",
                                    "Scale": "NULL",
                                    "Nullable": "yes",
                                    "TrimTrailingBlanks": "(n/a)",
                                    "FixedLenNullInSource": "(n/a)",
                                    "Collation": "NULL"
                                },
                                {
                                    "Column_name": "high",
                                    "Type": "float",
                                    "Computed": "no",
                                    "Length": "8",
                                    "Prec": "53   ",
                                    "Scale": "NULL",
                                    "Nullable": "yes",
                                    "TrimTrailingBlanks": "(n/a)",
                                    "FixedLenNullInSource": "(n/a)",
                                    "Collation": "NULL"
                                },
                                {
                                    "Column_name": "low",
                                    "Type": "float",
                                    "Computed": "no",
                                    "Length": "8",
                                    "Prec": "53   ",
                                    "Scale": "NULL",
                                    "Nullable": "yes",
                                    "TrimTrailingBlanks": "(n/a)",
                                    "FixedLenNullInSource": "(n/a)",
                                    "Collation": "NULL"
                                }
                            ]
                        },
                        "text/html": "<table><tr><th>Column_name</th><th>Type</th><th>Computed</th><th>Length</th><th>Prec</th><th>Scale</th><th>Nullable</th><th>TrimTrailingBlanks</th><th>FixedLenNullInSource</th><th>Collation</th></tr><tr><td>company</td><td>varchar</td><td>no</td><td>10</td><td>     </td><td>     </td><td>yes</td><td>no</td><td>yes</td><td>SQL_Latin1_General_CP1_CI_AS</td></tr><tr><td>date</td><td>date</td><td>no</td><td>3</td><td>10   </td><td>0    </td><td>yes</td><td>(n/a)</td><td>(n/a)</td><td>NULL</td></tr><tr><td>close</td><td>float</td><td>no</td><td>8</td><td>53   </td><td>NULL</td><td>yes</td><td>(n/a)</td><td>(n/a)</td><td>NULL</td></tr><tr><td>volume</td><td>int</td><td>no</td><td>4</td><td>10   </td><td>0    </td><td>yes</td><td>(n/a)</td><td>(n/a)</td><td>NULL</td></tr><tr><td>open</td><td>float</td><td>no</td><td>8</td><td>53   </td><td>NULL</td><td>yes</td><td>(n/a)</td><td>(n/a)</td><td>NULL</td></tr><tr><td>high</td><td>float</td><td>no</td><td>8</td><td>53   </td><td>NULL</td><td>yes</td><td>(n/a)</td><td>(n/a)</td><td>NULL</td></tr><tr><td>low</td><td>float</td><td>no</td><td>8</td><td>53   </td><td>NULL</td><td>yes</td><td>(n/a)</td><td>(n/a)</td><td>NULL</td></tr></table>"
                    },
                    "metadata": {}
                },
                {
                    "output_type": "execute_result",
                    "execution_count": 9,
                    "data": {
                        "application/vnd.dataresource+json": {
                            "schema": {
                                "fields": [
                                    {
                                        "name": "Identity"
                                    },
                                    {
                                        "name": "Seed"
                                    },
                                    {
                                        "name": "Increment"
                                    },
                                    {
                                        "name": "Not For Replication"
                                    }
                                ]
                            },
                            "data": [
                                {
                                    "Identity": "No identity column defined.",
                                    "Seed": "NULL",
                                    "Increment": "NULL",
                                    "Not For Replication": "NULL"
                                }
                            ]
                        },
                        "text/html": "<table><tr><th>Identity</th><th>Seed</th><th>Increment</th><th>Not For Replication</th></tr><tr><td>No identity column defined.</td><td>NULL</td><td>NULL</td><td>NULL</td></tr></table>"
                    },
                    "metadata": {}
                },
                {
                    "output_type": "execute_result",
                    "execution_count": 9,
                    "data": {
                        "application/vnd.dataresource+json": {
                            "schema": {
                                "fields": [
                                    {
                                        "name": "RowGuidCol"
                                    }
                                ]
                            },
                            "data": [
                                {
                                    "RowGuidCol": "No rowguidcol column defined."
                                }
                            ]
                        },
                        "text/html": "<table><tr><th>RowGuidCol</th></tr><tr><td>No rowguidcol column defined.</td></tr></table>"
                    },
                    "metadata": {}
                },
                {
                    "output_type": "execute_result",
                    "execution_count": 9,
                    "data": {
                        "application/vnd.dataresource+json": {
                            "schema": {
                                "fields": [
                                    {
                                        "name": "Data_located_on_filegroup"
                                    }
                                ]
                            },
                            "data": [
                                {
                                    "Data_located_on_filegroup": "PRIMARY"
                                }
                            ]
                        },
                        "text/html": "<table><tr><th>Data_located_on_filegroup</th></tr><tr><td>PRIMARY</td></tr></table>"
                    },
                    "metadata": {}
                }
            ],
            "execution_count": 9
        },
        {
            "cell_type": "code",
            "source": [
                "-- Check for duplicates \n",
                "SELECT company, date, COUNT(*) AS duplicate_count\n",
                "FROM stock_data\n",
                "GROUP BY company, date\n",
                "HAVING COUNT(*) > 1;\n",
                "\n",
                "-- No duplicates.  Nice! "
            ],
            "metadata": {
                "language": "sql",
                "azdata_cell_guid": "3d889880-d53c-42b1-b5ac-3d5ea2d3a998"
            },
            "outputs": [
                {
                    "output_type": "display_data",
                    "data": {
                        "text/html": "(0 rows affected)"
                    },
                    "metadata": {}
                },
                {
                    "output_type": "display_data",
                    "data": {
                        "text/html": "Total execution time: 00:00:00.167"
                    },
                    "metadata": {}
                },
                {
                    "output_type": "execute_result",
                    "execution_count": 10,
                    "data": {
                        "application/vnd.dataresource+json": {
                            "schema": {
                                "fields": [
                                    {
                                        "name": "company"
                                    },
                                    {
                                        "name": "date"
                                    },
                                    {
                                        "name": "duplicate_count"
                                    }
                                ]
                            },
                            "data": []
                        },
                        "text/html": "<table><tr><th>company</th><th>date</th><th>duplicate_count</th></tr></table>"
                    },
                    "metadata": {}
                }
            ],
            "execution_count": 10
        },
        {
            "cell_type": "code",
            "source": [
                "-- Make the company and date columns not nullable\n",
                "ALTER TABLE stock_data\n",
                "ALTER COLUMN company VARCHAR(50) NOT NULL;\n",
                "\n",
                "ALTER TABLE stock_data\n",
                "ALTER COLUMN date DATE NOT NULL;"
            ],
            "metadata": {
                "language": "sql",
                "azdata_cell_guid": "c64e9240-66fd-40ca-89b8-387e7621759a",
                "tags": []
            },
            "outputs": [
                {
                    "output_type": "display_data",
                    "data": {
                        "text/html": "Commands completed successfully."
                    },
                    "metadata": {}
                },
                {
                    "output_type": "display_data",
                    "data": {
                        "text/html": "Total execution time: 00:00:00.019"
                    },
                    "metadata": {}
                }
            ],
            "execution_count": 19
        },
        {
            "cell_type": "code",
            "source": [
                "-- Add a PRIMARY KEY on each unique combination of company and date\n",
                "ALTER TABLE stock_data\n",
                "ADD CONSTRAINT pk_stock_data PRIMARY KEY (company, date);"
            ],
            "metadata": {
                "language": "sql",
                "azdata_cell_guid": "80370d2f-b6d8-4105-867d-4f13d6a64882",
                "tags": []
            },
            "outputs": [
                {
                    "output_type": "display_data",
                    "data": {
                        "text/html": "Commands completed successfully."
                    },
                    "metadata": {}
                },
                {
                    "output_type": "display_data",
                    "data": {
                        "text/html": "Total execution time: 00:00:00.185"
                    },
                    "metadata": {}
                }
            ],
            "execution_count": 17
        }
    ]
}