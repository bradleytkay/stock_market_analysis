{
    "metadata": {
        "kernelspec": {
            "name": "SQL",
            "display_name": "SQL",
            "language": "sql"
        },
        "language_info": {
            "name": "sql",
            "version": ""
        }
    },
    "nbformat_minor": 2,
    "nbformat": 4,
    "cells": [
        {
            "cell_type": "markdown",
            "source": [
                "### For this analysis, I am using the [Stock Market: Historical Data of Top 10 Companies](https://www.kaggle.com/datasets/khushipitroda/stock-market-historical-data-of-top-10-companies) dataset from Kaggle."
            ],
            "metadata": {
                "azdata_cell_guid": "fdaff1e2-73fc-4594-a999-f54fb072e627",
                "language": ""
            },
            "attachments": {}
        },
        {
            "cell_type": "code",
            "source": [
                "CREATE TABLE stock_data (\n",
                "    company VARCHAR(10),\n",
                "    [date] DATE,         -- Represents the trading day\n",
                "    [close] FLOAT,       -- The closing or last traded price\n",
                "    volume INT,          -- Total number of shares traded\n",
                "    [open] FLOAT,        -- The opening price\n",
                "    [high] FLOAT,        -- The highest price during the trading session\n",
                "    [low] FLOAT          -- The lowest price during the trading session\n",
                ");\n",
                ""
            ],
            "metadata": {
                "azdata_cell_guid": "53f9e11c-a6f7-4eeb-8f2b-215e74c50450",
                "language": "sql"
            },
            "outputs": [
                {
                    "output_type": "display_data",
                    "data": {
                        "text/html": "Commands completed successfully."
                    },
                    "metadata": {}
                },
                {
                    "output_type": "display_data",
                    "data": {
                        "text/html": "Total execution time: 00:00:00.009"
                    },
                    "metadata": {}
                }
            ],
            "execution_count": 4
        },
        {
            "cell_type": "code",
            "source": [
                "BULK INSERT stock_data\n",
                "FROM '/var/opt/mssql/data/data.csv'\n",
                "WITH (\n",
                "    FIELDTERMINATOR = ',',  -- Delimiter between columns\n",
                "    ROWTERMINATOR = '\\n',   -- Delimiter between rows\n",
                "    FIRSTROW = 2           -- Skips the header row in the CSV\n",
                ");\n",
                ""
            ],
            "metadata": {
                "azdata_cell_guid": "8f0a3e74-7072-4b61-8819-744695767583",
                "language": "sql"
            },
            "outputs": [
                {
                    "output_type": "display_data",
                    "data": {
                        "text/html": "(25160 rows affected)"
                    },
                    "metadata": {}
                },
                {
                    "output_type": "display_data",
                    "data": {
                        "text/html": "Total execution time: 00:00:00.191"
                    },
                    "metadata": {}
                }
            ],
            "execution_count": 5
        }
    ]
}