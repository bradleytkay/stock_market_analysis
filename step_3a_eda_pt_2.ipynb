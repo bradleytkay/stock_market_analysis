{
    "metadata": {
        "kernelspec": {
            "name": "SQL",
            "display_name": "SQL",
            "language": "sql"
        },
        "language_info": {
            "name": "sql",
            "version": ""
        }
    },
    "nbformat_minor": 2,
    "nbformat": 4,
    "cells": [
        {
            "cell_type": "markdown",
            "source": [
                "# Step 3a: EDA, pt. 2"
            ],
            "metadata": {
                "azdata_cell_guid": "644f0fa7-ce4e-41a2-a4b6-3a9dcde95a63"
            },
            "attachments": {}
        },
        {
            "cell_type": "markdown",
            "source": [
                "## 1\\. Calculate Trends & Performance Over Time"
            ],
            "metadata": {
                "azdata_cell_guid": "3109d77a-3691-464d-8012-953f458103fb"
            },
            "attachments": {}
        },
        {
            "cell_type": "markdown",
            "source": [
                "### a. Compute monthly percentage change"
            ],
            "metadata": {
                "azdata_cell_guid": "31443b77-14df-430a-aa8a-352a71da91a4"
            },
            "attachments": {}
        },
        {
            "cell_type": "code",
            "source": [
                "WITH MonthlyChanges AS (\n",
                "    SELECT \n",
                "        company, \n",
                "        YEAR([date]) AS year,\n",
                "        MONTH([date]) AS month,\n",
                "        SUM([close]) AS month_end_close,\n",
                "        LAG(SUM([close])) OVER (PARTITION BY company ORDER BY YEAR([date]), MONTH([date])) AS prev_month_close\n",
                "    FROM stock_data\n",
                "    GROUP BY company, YEAR([date]), MONTH([date])\n",
                ")\n",
                "\n",
                "SELECT \n",
                "    company, \n",
                "    year, \n",
                "    month,\n",
                "    ROUND(((month_end_close - prev_month_close) / prev_month_close) * 100, 2) AS monthly_pct_change\n",
                "FROM MonthlyChanges;"
            ],
            "metadata": {
                "azdata_cell_guid": "7dc8e04a-c8f6-4c73-bc06-5e9151be7d31",
                "language": "sql"
            },
            "outputs": [
                {
                    "output_type": "display_data",
                    "data": {
                        "text/html": "(1210 rows affected)"
                    },
                    "metadata": {}
                },
                {
                    "output_type": "display_data",
                    "data": {
                        "text/html": "Total execution time: 00:00:00.052"
                    },
                    "metadata": {}
                },
                {
                    "output_type": "execute_result",
                    "metadata": {},
                    "execution_count": 12,
                    "data": {
                        "application/vnd.dataresource+json": {
                            "schema": {
                                "fields": [
                                    {
                                        "name": "company"
                                    },
                                    {
                                        "name": "year"
                                    },
                                    {
                                        "name": "month"
                                    },
                                    {
                                        "name": "monthly_pct_change"
                                    }
                                ]
                            },
                            "data": [
                                {
                                    "company": "AAPL",
                                    "year": "2013",
                                    "month": "7",
                                    "monthly_pct_change": "NULL"
                                },
                                {
                                    "company": "AAPL",
                                    "year": "2013",
                                    "month": "8",
                                    "monthly_pct_change": "143.76"
                                },
                                {
                                    "company": "AAPL",
                                    "year": "2013",
                                    "month": "9",
                                    "monthly_pct_change": "-9.96"
                                },
                                {
                                    "company": "AAPL",
                                    "year": "2013",
                                    "month": "10",
                                    "monthly_pct_change": "20.88"
                                },
                                {
                                    "company": "AAPL",
                                    "year": "2013",
                                    "month": "11",
                                    "monthly_pct_change": "-9.63"
                                },
                                {
                                    "company": "AAPL",
                                    "year": "2013",
                                    "month": "12",
                                    "monthly_pct_change": "12.02"
                                },
                                {
                                    "company": "AAPL",
                                    "year": "2014",
                                    "month": "1",
                                    "monthly_pct_change": "-3.97"
                                },
                                {
                                    "company": "AAPL",
                                    "year": "2014",
                                    "month": "2",
                                    "monthly_pct_change": "-11.35"
                                },
                                {
                                    "company": "AAPL",
                                    "year": "2014",
                                    "month": "3",
                                    "monthly_pct_change": "11.92"
                                },
                                {
                                    "company": "AAPL",
                                    "year": "2014",
                                    "month": "4",
                                    "monthly_pct_change": "1.48"
                                },
                                {
                                    "company": "AAPL",
                                    "year": "2014",
                                    "month": "5",
                                    "monthly_pct_change": "11.48"
                                },
                                {
                                    "company": "AAPL",
                                    "year": "2014",
                                    "month": "6",
                                    "monthly_pct_change": "6.64"
                                },
                                {
                                    "company": "AAPL",
                                    "year": "2014",
                                    "month": "7",
                                    "monthly_pct_change": "9.03"
                                },
                                {
                                    "company": "AAPL",
                                    "year": "2014",
                                    "month": "8",
                                    "monthly_pct_change": "-1.74"
                                },
                                {
                                    "company": "AAPL",
                                    "year": "2014",
                                    "month": "9",
                                    "monthly_pct_change": "2.15"
                                },
                                {
                                    "company": "AAPL",
                                    "year": "2014",
                                    "month": "10",
                                    "monthly_pct_change": "10.78"
                                },
                                {
                                    "company": "AAPL",
                                    "year": "2014",
                                    "month": "11",
                                    "monthly_pct_change": "-7.99"
                                },
                                {
                                    "company": "AAPL",
                                    "year": "2014",
                                    "month": "12",
                                    "monthly_pct_change": "14.89"
                                },
                                {
                                    "company": "AAPL",
                                    "year": "2015",
                                    "month": "1",
                                    "monthly_pct_change": "-10.52"
                                },
                                {
                                    "company": "AAPL",
                                    "year": "2015",
                                    "month": "2",
                                    "monthly_pct_change": "7.69"
                                },
                                {
                                    "company": "AAPL",
                                    "year": "2015",
                                    "month": "3",
                                    "monthly_pct_change": "16.29"
                                },
                                {
                                    "company": "AAPL",
                                    "year": "2015",
                                    "month": "4",
                                    "monthly_pct_change": "-3.54"
                                },
                                {
                                    "company": "AAPL",
                                    "year": "2015",
                                    "month": "5",
                                    "monthly_pct_change": "-3.66"
                                },
                                {
                                    "company": "AAPL",
                                    "year": "2015",
                                    "month": "6",
                                    "monthly_pct_change": "9.18"
                                },
                                {
                                    "company": "AAPL",
                                    "year": "2015",
                                    "month": "7",
                                    "monthly_pct_change": "-1.93"
                                },
                                {
                                    "company": "AAPL",
                                    "year": "2015",
                                    "month": "8",
                                    "monthly_pct_change": "-13.64"
                                },
                                {
                                    "company": "AAPL",
                                    "year": "2015",
                                    "month": "9",
                                    "monthly_pct_change": "-0.52"
                                },
                                {
                                    "company": "AAPL",
                                    "year": "2015",
                                    "month": "10",
                                    "monthly_pct_change": "5.29"
                                },
                                {
                                    "company": "AAPL",
                                    "year": "2015",
                                    "month": "11",
                                    "monthly_pct_change": "-5.24"
                                },
                                {
                                    "company": "AAPL",
                                    "year": "2015",
                                    "month": "12",
                                    "monthly_pct_change": "4.01"
                                },
                                {
                                    "company": "AAPL",
                                    "year": "2016",
                                    "month": "1",
                                    "monthly_pct_change": "-23.92"
                                },
                                {
                                    "company": "AAPL",
                                    "year": "2016",
                                    "month": "2",
                                    "monthly_pct_change": "2.39"
                                },
                                {
                                    "company": "AAPL",
                                    "year": "2016",
                                    "month": "3",
                                    "monthly_pct_change": "19.79"
                                },
                                {
                                    "company": "AAPL",
                                    "year": "2016",
                                    "month": "4",
                                    "monthly_pct_change": "-2.28"
                                },
                                {
                                    "company": "AAPL",
                                    "year": "2016",
                                    "month": "5",
                                    "monthly_pct_change": "-11.02"
                                },
                                {
                                    "company": "AAPL",
                                    "year": "2016",
                                    "month": "6",
                                    "monthly_pct_change": "6.58"
                                },
                                {
                                    "company": "AAPL",
                                    "year": "2016",
                                    "month": "7",
                                    "monthly_pct_change": "-7.27"
                                },
                                {
                                    "company": "AAPL",
                                    "year": "2016",
                                    "month": "8",
                                    "monthly_pct_change": "25.62"
                                },
                                {
                                    "company": "AAPL",
                                    "year": "2016",
                                    "month": "9",
                                    "monthly_pct_change": "-5.99"
                                },
                                {
                                    "company": "AAPL",
                                    "year": "2016",
                                    "month": "10",
                                    "monthly_pct_change": "4.38"
                                },
                                {
                                    "company": "AAPL",
                                    "year": "2016",
                                    "month": "11",
                                    "monthly_pct_change": "-4.8"
                                },
                                {
                                    "company": "AAPL",
                                    "year": "2016",
                                    "month": "12",
                                    "monthly_pct_change": "3.8"
                                },
                                {
                                    "company": "AAPL",
                                    "year": "2017",
                                    "month": "1",
                                    "monthly_pct_change": "-0.4"
                                },
                                {
                                    "company": "AAPL",
                                    "year": "2017",
                                    "month": "2",
                                    "monthly_pct_change": "6.24"
                                },
                                {
                                    "company": "AAPL",
                                    "year": "2017",
                                    "month": "3",
                                    "monthly_pct_change": "27.3"
                                },
                                {
                                    "company": "AAPL",
                                    "year": "2017",
                                    "month": "4",
                                    "monthly_pct_change": "-16.06"
                                },
                                {
                                    "company": "AAPL",
                                    "year": "2017",
                                    "month": "5",
                                    "monthly_pct_change": "23.36"
                                },
                                {
                                    "company": "AAPL",
                                    "year": "2017",
                                    "month": "6",
                                    "monthly_pct_change": "-2.89"
                                },
                                {
                                    "company": "AAPL",
                                    "year": "2017",
                                    "month": "7",
                                    "monthly_pct_change": "-8.8"
                                },
                                {
                                    "company": "AAPL",
                                    "year": "2017",
                                    "month": "8",
                                    "monthly_pct_change": "23.31"
                                },
                                {
                                    "company": "AAPL",
                                    "year": "2017",
                                    "month": "9",
                                    "monthly_pct_change": "-13.82"
                                },
                                {
                                    "company": "AAPL",
                                    "year": "2017",
                                    "month": "10",
                                    "monthly_pct_change": "10.14"
                                },
                                {
                                    "company": "AAPL",
                                    "year": "2017",
                                    "month": "11",
                                    "monthly_pct_change": "4.28"
                                },
                                {
                                    "company": "AAPL",
                                    "year": "2017",
                                    "month": "12",
                                    "monthly_pct_change": "-5.05"
                                },
                                {
                                    "company": "AAPL",
                                    "year": "2018",
                                    "month": "1",
                                    "monthly_pct_change": "6.29"
                                },
                                {
                                    "company": "AAPL",
                                    "year": "2018",
                                    "month": "2",
                                    "monthly_pct_change": "-12.83"
                                },
                                {
                                    "company": "AAPL",
                                    "year": "2018",
                                    "month": "3",
                                    "monthly_pct_change": "15.05"
                                },
                                {
                                    "company": "AAPL",
                                    "year": "2018",
                                    "month": "4",
                                    "monthly_pct_change": "-2.67"
                                },
                                {
                                    "company": "AAPL",
                                    "year": "2018",
                                    "month": "5",
                                    "monthly_pct_change": "14.45"
                                },
                                {
                                    "company": "AAPL",
                                    "year": "2018",
                                    "month": "6",
                                    "monthly_pct_change": "-2.96"
                                },
                                {
                                    "company": "AAPL",
                                    "year": "2018",
                                    "month": "7",
                                    "monthly_pct_change": "0.89"
                                },
                                {
                                    "company": "AAPL",
                                    "year": "2018",
                                    "month": "8",
                                    "monthly_pct_change": "22.78"
                                },
                                {
                                    "company": "AAPL",
                                    "year": "2018",
                                    "month": "9",
                                    "monthly_pct_change": "-14.01"
                                },
                                {
                                    "company": "AAPL",
                                    "year": "2018",
                                    "month": "10",
                                    "monthly_pct_change": "20.38"
                                },
                                {
                                    "company": "AAPL",
                                    "year": "2018",
                                    "month": "11",
                                    "monthly_pct_change": "-20.94"
                                },
                                {
                                    "company": "AAPL",
                                    "year": "2018",
                                    "month": "12",
                                    "monthly_pct_change": "-22.28"
                                },
                                {
                                    "company": "AAPL",
                                    "year": "2019",
                                    "month": "1",
                                    "monthly_pct_change": "3.73"
                                },
                                {
                                    "company": "AAPL",
                                    "year": "2019",
                                    "month": "2",
                                    "monthly_pct_change": "0.78"
                                },
                                {
                                    "company": "AAPL",
                                    "year": "2019",
                                    "month": "3",
                                    "monthly_pct_change": "17.97"
                                },
                                {
                                    "company": "AAPL",
                                    "year": "2019",
                                    "month": "4",
                                    "monthly_pct_change": "9.4"
                                },
                                {
                                    "company": "AAPL",
                                    "year": "2019",
                                    "month": "5",
                                    "monthly_pct_change": "-0.07"
                                },
                                {
                                    "company": "AAPL",
                                    "year": "2019",
                                    "month": "6",
                                    "monthly_pct_change": "-8.28"
                                },
                                {
                                    "company": "AAPL",
                                    "year": "2019",
                                    "month": "7",
                                    "monthly_pct_change": "16.98"
                                },
                                {
                                    "company": "AAPL",
                                    "year": "2019",
                                    "month": "8",
                                    "monthly_pct_change": "-0.13"
                                },
                                {
                                    "company": "AAPL",
                                    "year": "2019",
                                    "month": "9",
                                    "monthly_pct_change": "-3.31"
                                },
                                {
                                    "company": "AAPL",
                                    "year": "2019",
                                    "month": "10",
                                    "monthly_pct_change": "24.12"
                                },
                                {
                                    "company": "AAPL",
                                    "year": "2019",
                                    "month": "11",
                                    "monthly_pct_change": "-2.98"
                                },
                                {
                                    "company": "AAPL",
                                    "year": "2019",
                                    "month": "12",
                                    "monthly_pct_change": "10.6"
                                },
                                {
                                    "company": "AAPL",
                                    "year": "2020",
                                    "month": "1",
                                    "monthly_pct_change": "12.8"
                                },
                                {
                                    "company": "AAPL",
                                    "year": "2020",
                                    "month": "2",
                                    "monthly_pct_change": "-9.71"
                                },
                                {
                                    "company": "AAPL",
                                    "year": "2020",
                                    "month": "3",
                                    "monthly_pct_change": "-2.37"
                                },
                                {
                                    "company": "AAPL",
                                    "year": "2020",
                                    "month": "4",
                                    "monthly_pct_change": "-0.93"
                                },
                                {
                                    "company": "AAPL",
                                    "year": "2020",
                                    "month": "5",
                                    "monthly_pct_change": "8.39"
                                },
                                {
                                    "company": "AAPL",
                                    "year": "2020",
                                    "month": "6",
                                    "monthly_pct_change": "22.71"
                                },
                                {
                                    "company": "AAPL",
                                    "year": "2020",
                                    "month": "7",
                                    "monthly_pct_change": "10.54"
                                },
                                {
                                    "company": "AAPL",
                                    "year": "2020",
                                    "month": "8",
                                    "monthly_pct_change": "17.17"
                                },
                                {
                                    "company": "AAPL",
                                    "year": "2020",
                                    "month": "9",
                                    "monthly_pct_change": "-1.85"
                                },
                                {
                                    "company": "AAPL",
                                    "year": "2020",
                                    "month": "10",
                                    "monthly_pct_change": "5.93"
                                },
                                {
                                    "company": "AAPL",
                                    "year": "2020",
                                    "month": "11",
                                    "monthly_pct_change": "-8.77"
                                },
                                {
                                    "company": "AAPL",
                                    "year": "2020",
                                    "month": "12",
                                    "monthly_pct_change": "19.85"
                                },
                                {
                                    "company": "AAPL",
                                    "year": "2021",
                                    "month": "1",
                                    "monthly_pct_change": "-9.74"
                                },
                                {
                                    "company": "AAPL",
                                    "year": "2021",
                                    "month": "2",
                                    "monthly_pct_change": "-1.13"
                                },
                                {
                                    "company": "AAPL",
                                    "year": "2021",
                                    "month": "3",
                                    "monthly_pct_change": "12.16"
                                },
                                {
                                    "company": "AAPL",
                                    "year": "2021",
                                    "month": "4",
                                    "monthly_pct_change": "-1.25"
                                },
                                {
                                    "company": "AAPL",
                                    "year": "2021",
                                    "month": "5",
                                    "monthly_pct_change": "-8.4"
                                },
                                {
                                    "company": "AAPL",
                                    "year": "2021",
                                    "month": "6",
                                    "monthly_pct_change": "12.75"
                                },
                                {
                                    "company": "AAPL",
                                    "year": "2021",
                                    "month": "7",
                                    "monthly_pct_change": "6.6"
                                },
                                {
                                    "company": "AAPL",
                                    "year": "2021",
                                    "month": "8",
                                    "monthly_pct_change": "6.95"
                                },
                                {
                                    "company": "AAPL",
                                    "year": "2021",
                                    "month": "9",
                                    "monthly_pct_change": "-4.46"
                                },
                                {
                                    "company": "AAPL",
                                    "year": "2021",
                                    "month": "10",
                                    "monthly_pct_change": "-1.85"
                                },
                                {
                                    "company": "AAPL",
                                    "year": "2021",
                                    "month": "11",
                                    "monthly_pct_change": "5.97"
                                },
                                {
                                    "company": "AAPL",
                                    "year": "2021",
                                    "month": "12",
                                    "monthly_pct_change": "17.87"
                                },
                                {
                                    "company": "AAPL",
                                    "year": "2022",
                                    "month": "1",
                                    "monthly_pct_change": "-11.02"
                                },
                                {
                                    "company": "AAPL",
                                    "year": "2022",
                                    "month": "2",
                                    "monthly_pct_change": "-5.02"
                                },
                                {
                                    "company": "AAPL",
                                    "year": "2022",
                                    "month": "3",
                                    "monthly_pct_change": "17.83"
                                },
                                {
                                    "company": "AAPL",
                                    "year": "2022",
                                    "month": "4",
                                    "monthly_pct_change": "-12.25"
                                },
                                {
                                    "company": "AAPL",
                                    "year": "2022",
                                    "month": "5",
                                    "monthly_pct_change": "-6.58"
                                },
                                {
                                    "company": "AAPL",
                                    "year": "2022",
                                    "month": "6",
                                    "monthly_pct_change": "-5.82"
                                },
                                {
                                    "company": "AAPL",
                                    "year": "2022",
                                    "month": "7",
                                    "monthly_pct_change": "1.96"
                                },
                                {
                                    "company": "AAPL",
                                    "year": "2022",
                                    "month": "8",
                                    "monthly_pct_change": "28.23"
                                },
                                {
                                    "company": "AAPL",
                                    "year": "2022",
                                    "month": "9",
                                    "monthly_pct_change": "-16.29"
                                },
                                {
                                    "company": "AAPL",
                                    "year": "2022",
                                    "month": "10",
                                    "monthly_pct_change": "-5.22"
                                },
                                {
                                    "company": "AAPL",
                                    "year": "2022",
                                    "month": "11",
                                    "monthly_pct_change": "0.57"
                                },
                                {
                                    "company": "AAPL",
                                    "year": "2022",
                                    "month": "12",
                                    "monthly_pct_change": "-5.46"
                                },
                                {
                                    "company": "AAPL",
                                    "year": "2023",
                                    "month": "1",
                                    "monthly_pct_change": "-6.21"
                                },
                                {
                                    "company": "AAPL",
                                    "year": "2023",
                                    "month": "2",
                                    "monthly_pct_change": "5.63"
                                },
                                {
                                    "company": "AAPL",
                                    "year": "2023",
                                    "month": "3",
                                    "monthly_pct_change": "24.26"
                                },
                                {
                                    "company": "AAPL",
                                    "year": "2023",
                                    "month": "4",
                                    "monthly_pct_change": "-12.02"
                                },
                                {
                                    "company": "AAPL",
                                    "year": "2023",
                                    "month": "5",
                                    "monthly_pct_change": "21.11"
                                },
                                {
                                    "company": "AAPL",
                                    "year": "2023",
                                    "month": "6",
                                    "monthly_pct_change": "1.9"
                                },
                                {
                                    "company": "AAPL",
                                    "year": "2023",
                                    "month": "7",
                                    "monthly_pct_change": "-50.7"
                                },
                                {
                                    "company": "AMD",
                                    "year": "2013",
                                    "month": "7",
                                    "monthly_pct_change": "NULL"
                                },
                                {
                                    "company": "AMD",
                                    "year": "2013",
                                    "month": "8",
                                    "monthly_pct_change": "106.28"
                                },
                                {
                                    "company": "AMD",
                                    "year": "2013",
                                    "month": "9",
                                    "monthly_pct_change": "-6.15"
                                },
                                {
                                    "company": "AMD",
                                    "year": "2013",
                                    "month": "10",
                                    "monthly_pct_change": "11.62"
                                },
                                {
                                    "company": "AMD",
                                    "year": "2013",
                                    "month": "11",
                                    "monthly_pct_change": "-18.45"
                                },
                                {
                                    "company": "AMD",
                                    "year": "2013",
                                    "month": "12",
                                    "monthly_pct_change": "13.75"
                                },
                                {
                                    "company": "AMD",
                                    "year": "2014",
                                    "month": "1",
                                    "monthly_pct_change": "6.21"
                                },
                                {
                                    "company": "AMD",
                                    "year": "2014",
                                    "month": "2",
                                    "monthly_pct_change": "-16.75"
                                },
                                {
                                    "company": "AMD",
                                    "year": "2014",
                                    "month": "3",
                                    "monthly_pct_change": "19.13"
                                },
                                {
                                    "company": "AMD",
                                    "year": "2014",
                                    "month": "4",
                                    "monthly_pct_change": "2.17"
                                },
                                {
                                    "company": "AMD",
                                    "year": "2014",
                                    "month": "5",
                                    "monthly_pct_change": "1.16"
                                },
                                {
                                    "company": "AMD",
                                    "year": "2014",
                                    "month": "6",
                                    "monthly_pct_change": "3.24"
                                },
                                {
                                    "company": "AMD",
                                    "year": "2014",
                                    "month": "7",
                                    "monthly_pct_change": "3.73"
                                },
                                {
                                    "company": "AMD",
                                    "year": "2014",
                                    "month": "8",
                                    "monthly_pct_change": "-3.82"
                                },
                                {
                                    "company": "AMD",
                                    "year": "2014",
                                    "month": "9",
                                    "monthly_pct_change": "-6.29"
                                },
                                {
                                    "company": "AMD",
                                    "year": "2014",
                                    "month": "10",
                                    "monthly_pct_change": "-18.81"
                                },
                                {
                                    "company": "AMD",
                                    "year": "2014",
                                    "month": "11",
                                    "monthly_pct_change": "-21.14"
                                },
                                {
                                    "company": "AMD",
                                    "year": "2014",
                                    "month": "12",
                                    "monthly_pct_change": "9.81"
                                },
                                {
                                    "company": "AMD",
                                    "year": "2015",
                                    "month": "1",
                                    "monthly_pct_change": "-10.41"
                                },
                                {
                                    "company": "AMD",
                                    "year": "2015",
                                    "month": "2",
                                    "monthly_pct_change": "12.56"
                                },
                                {
                                    "company": "AMD",
                                    "year": "2015",
                                    "month": "3",
                                    "monthly_pct_change": "7.82"
                                },
                                {
                                    "company": "AMD",
                                    "year": "2015",
                                    "month": "4",
                                    "monthly_pct_change": "-14.15"
                                },
                                {
                                    "company": "AMD",
                                    "year": "2015",
                                    "month": "5",
                                    "monthly_pct_change": "-13.9"
                                },
                                {
                                    "company": "AMD",
                                    "year": "2015",
                                    "month": "6",
                                    "monthly_pct_change": "14.87"
                                },
                                {
                                    "company": "AMD",
                                    "year": "2015",
                                    "month": "7",
                                    "monthly_pct_change": "-18.52"
                                },
                                {
                                    "company": "AMD",
                                    "year": "2015",
                                    "month": "8",
                                    "monthly_pct_change": "-8.4"
                                },
                                {
                                    "company": "AMD",
                                    "year": "2015",
                                    "month": "9",
                                    "monthly_pct_change": "-4.51"
                                },
                                {
                                    "company": "AMD",
                                    "year": "2015",
                                    "month": "10",
                                    "monthly_pct_change": "16.15"
                                },
                                {
                                    "company": "AMD",
                                    "year": "2015",
                                    "month": "11",
                                    "monthly_pct_change": "-1.19"
                                },
                                {
                                    "company": "AMD",
                                    "year": "2015",
                                    "month": "12",
                                    "monthly_pct_change": "29.78"
                                },
                                {
                                    "company": "AMD",
                                    "year": "2016",
                                    "month": "1",
                                    "monthly_pct_change": "-25.01"
                                },
                                {
                                    "company": "AMD",
                                    "year": "2016",
                                    "month": "2",
                                    "monthly_pct_change": "-6.43"
                                },
                                {
                                    "company": "AMD",
                                    "year": "2016",
                                    "month": "3",
                                    "monthly_pct_change": "44.9"
                                },
                                {
                                    "company": "AMD",
                                    "year": "2016",
                                    "month": "4",
                                    "monthly_pct_change": "10.43"
                                },
                                {
                                    "company": "AMD",
                                    "year": "2016",
                                    "month": "5",
                                    "monthly_pct_change": "29.17"
                                },
                                {
                                    "company": "AMD",
                                    "year": "2016",
                                    "month": "6",
                                    "monthly_pct_change": "27.76"
                                },
                                {
                                    "company": "AMD",
                                    "year": "2016",
                                    "month": "7",
                                    "monthly_pct_change": "7.92"
                                },
                                {
                                    "company": "AMD",
                                    "year": "2016",
                                    "month": "8",
                                    "monthly_pct_change": "43.07"
                                },
                                {
                                    "company": "AMD",
                                    "year": "2016",
                                    "month": "9",
                                    "monthly_pct_change": "-15.68"
                                },
                                {
                                    "company": "AMD",
                                    "year": "2016",
                                    "month": "10",
                                    "monthly_pct_change": "6.69"
                                },
                                {
                                    "company": "AMD",
                                    "year": "2016",
                                    "month": "11",
                                    "monthly_pct_change": "11.67"
                                },
                                {
                                    "company": "AMD",
                                    "year": "2016",
                                    "month": "12",
                                    "monthly_pct_change": "37.64"
                                },
                                {
                                    "company": "AMD",
                                    "year": "2017",
                                    "month": "1",
                                    "monthly_pct_change": "-4.17"
                                },
                                {
                                    "company": "AMD",
                                    "year": "2017",
                                    "month": "2",
                                    "monthly_pct_change": "20.48"
                                },
                                {
                                    "company": "AMD",
                                    "year": "2017",
                                    "month": "3",
                                    "monthly_pct_change": "23.72"
                                },
                                {
                                    "company": "AMD",
                                    "year": "2017",
                                    "month": "4",
                                    "monthly_pct_change": "-20.41"
                                },
                                {
                                    "company": "AMD",
                                    "year": "2017",
                                    "month": "5",
                                    "monthly_pct_change": "-3.78"
                                },
                                {
                                    "company": "AMD",
                                    "year": "2017",
                                    "month": "6",
                                    "monthly_pct_change": "12.82"
                                },
                                {
                                    "company": "AMD",
                                    "year": "2017",
                                    "month": "7",
                                    "monthly_pct_change": "0.03"
                                },
                                {
                                    "company": "AMD",
                                    "year": "2017",
                                    "month": "8",
                                    "monthly_pct_change": "6.41"
                                },
                                {
                                    "company": "AMD",
                                    "year": "2017",
                                    "month": "9",
                                    "monthly_pct_change": "-12.44"
                                },
                                {
                                    "company": "AMD",
                                    "year": "2017",
                                    "month": "10",
                                    "monthly_pct_change": "14.28"
                                },
                                {
                                    "company": "AMD",
                                    "year": "2017",
                                    "month": "11",
                                    "monthly_pct_change": "-18.98"
                                },
                                {
                                    "company": "AMD",
                                    "year": "2017",
                                    "month": "12",
                                    "monthly_pct_change": "-12.37"
                                },
                                {
                                    "company": "AMD",
                                    "year": "2018",
                                    "month": "1",
                                    "monthly_pct_change": "25.12"
                                },
                                {
                                    "company": "AMD",
                                    "year": "2018",
                                    "month": "2",
                                    "monthly_pct_change": "-12.36"
                                },
                                {
                                    "company": "AMD",
                                    "year": "2018",
                                    "month": "3",
                                    "monthly_pct_change": "3.94"
                                },
                                {
                                    "company": "AMD",
                                    "year": "2018",
                                    "month": "4",
                                    "monthly_pct_change": "-10.42"
                                },
                                {
                                    "company": "AMD",
                                    "year": "2018",
                                    "month": "5",
                                    "monthly_pct_change": "29.29"
                                },
                                {
                                    "company": "AMD",
                                    "year": "2018",
                                    "month": "6",
                                    "monthly_pct_change": "19.82"
                                },
                                {
                                    "company": "AMD",
                                    "year": "2018",
                                    "month": "7",
                                    "monthly_pct_change": "7.22"
                                },
                                {
                                    "company": "AMD",
                                    "year": "2018",
                                    "month": "8",
                                    "monthly_pct_change": "37.65"
                                },
                                {
                                    "company": "AMD",
                                    "year": "2018",
                                    "month": "9",
                                    "monthly_pct_change": "21"
                                },
                                {
                                    "company": "AMD",
                                    "year": "2018",
                                    "month": "10",
                                    "monthly_pct_change": "-2.97"
                                },
                                {
                                    "company": "AMD",
                                    "year": "2018",
                                    "month": "11",
                                    "monthly_pct_change": "-24.65"
                                },
                                {
                                    "company": "AMD",
                                    "year": "2018",
                                    "month": "12",
                                    "monthly_pct_change": "-14.67"
                                },
                                {
                                    "company": "AMD",
                                    "year": "2019",
                                    "month": "1",
                                    "monthly_pct_change": "16.84"
                                },
                                {
                                    "company": "AMD",
                                    "year": "2019",
                                    "month": "2",
                                    "monthly_pct_change": "5.02"
                                },
                                {
                                    "company": "AMD",
                                    "year": "2019",
                                    "month": "3",
                                    "monthly_pct_change": "13.57"
                                },
                                {
                                    "company": "AMD",
                                    "year": "2019",
                                    "month": "4",
                                    "monthly_pct_change": "14.92"
                                },
                                {
                                    "company": "AMD",
                                    "year": "2019",
                                    "month": "5",
                                    "monthly_pct_change": "3.04"
                                },
                                {
                                    "company": "AMD",
                                    "year": "2019",
                                    "month": "6",
                                    "monthly_pct_change": "0.95"
                                },
                                {
                                    "company": "AMD",
                                    "year": "2019",
                                    "month": "7",
                                    "monthly_pct_change": "18.86"
                                },
                                {
                                    "company": "AMD",
                                    "year": "2019",
                                    "month": "8",
                                    "monthly_pct_change": "-6.23"
                                },
                                {
                                    "company": "AMD",
                                    "year": "2019",
                                    "month": "9",
                                    "monthly_pct_change": "-10.88"
                                },
                                {
                                    "company": "AMD",
                                    "year": "2019",
                                    "month": "10",
                                    "monthly_pct_change": "16.71"
                                },
                                {
                                    "company": "AMD",
                                    "year": "2019",
                                    "month": "11",
                                    "monthly_pct_change": "7.88"
                                },
                                {
                                    "company": "AMD",
                                    "year": "2019",
                                    "month": "12",
                                    "monthly_pct_change": "16.72"
                                },
                                {
                                    "company": "AMD",
                                    "year": "2020",
                                    "month": "1",
                                    "monthly_pct_change": "16.25"
                                },
                                {
                                    "company": "AMD",
                                    "year": "2020",
                                    "month": "2",
                                    "monthly_pct_change": "-5.52"
                                },
                                {
                                    "company": "AMD",
                                    "year": "2020",
                                    "month": "3",
                                    "monthly_pct_change": "0.12"
                                },
                                {
                                    "company": "AMD",
                                    "year": "2020",
                                    "month": "4",
                                    "monthly_pct_change": "11.87"
                                },
                                {
                                    "company": "AMD",
                                    "year": "2020",
                                    "month": "5",
                                    "monthly_pct_change": "-2.13"
                                },
                                {
                                    "company": "AMD",
                                    "year": "2020",
                                    "month": "6",
                                    "monthly_pct_change": "9.97"
                                },
                                {
                                    "company": "AMD",
                                    "year": "2020",
                                    "month": "7",
                                    "monthly_pct_change": "12.59"
                                },
                                {
                                    "company": "AMD",
                                    "year": "2020",
                                    "month": "8",
                                    "monthly_pct_change": "32.22"
                                },
                                {
                                    "company": "AMD",
                                    "year": "2020",
                                    "month": "9",
                                    "monthly_pct_change": "-4.37"
                                },
                                {
                                    "company": "AMD",
                                    "year": "2020",
                                    "month": "10",
                                    "monthly_pct_change": "7.96"
                                },
                                {
                                    "company": "AMD",
                                    "year": "2020",
                                    "month": "11",
                                    "monthly_pct_change": "-8"
                                },
                                {
                                    "company": "AMD",
                                    "year": "2020",
                                    "month": "12",
                                    "monthly_pct_change": "23.22"
                                },
                                {
                                    "company": "AMD",
                                    "year": "2021",
                                    "month": "1",
                                    "monthly_pct_change": "-15.04"
                                },
                                {
                                    "company": "AMD",
                                    "year": "2021",
                                    "month": "2",
                                    "monthly_pct_change": "-3.27"
                                },
                                {
                                    "company": "AMD",
                                    "year": "2021",
                                    "month": "3",
                                    "monthly_pct_change": "8.34"
                                },
                                {
                                    "company": "AMD",
                                    "year": "2021",
                                    "month": "4",
                                    "monthly_pct_change": "-5.85"
                                },
                                {
                                    "company": "AMD",
                                    "year": "2021",
                                    "month": "5",
                                    "monthly_pct_change": "-10.43"
                                },
                                {
                                    "company": "AMD",
                                    "year": "2021",
                                    "month": "6",
                                    "monthly_pct_change": "19.08"
                                },
                                {
                                    "company": "AMD",
                                    "year": "2021",
                                    "month": "7",
                                    "monthly_pct_change": "5.44"
                                },
                                {
                                    "company": "AMD",
                                    "year": "2021",
                                    "month": "8",
                                    "monthly_pct_change": "23.82"
                                },
                                {
                                    "company": "AMD",
                                    "year": "2021",
                                    "month": "9",
                                    "monthly_pct_change": "-7.43"
                                },
                                {
                                    "company": "AMD",
                                    "year": "2021",
                                    "month": "10",
                                    "monthly_pct_change": "6.52"
                                },
                                {
                                    "company": "AMD",
                                    "year": "2021",
                                    "month": "11",
                                    "monthly_pct_change": "30.77"
                                },
                                {
                                    "company": "AMD",
                                    "year": "2021",
                                    "month": "12",
                                    "monthly_pct_change": "2.29"
                                },
                                {
                                    "company": "AMD",
                                    "year": "2022",
                                    "month": "1",
                                    "monthly_pct_change": "-19.64"
                                },
                                {
                                    "company": "AMD",
                                    "year": "2022",
                                    "month": "2",
                                    "monthly_pct_change": "-10.4"
                                },
                                {
                                    "company": "AMD",
                                    "year": "2022",
                                    "month": "3",
                                    "monthly_pct_change": "14.02"
                                },
                                {
                                    "company": "AMD",
                                    "year": "2022",
                                    "month": "4",
                                    "monthly_pct_change": "-26.07"
                                },
                                {
                                    "company": "AMD",
                                    "year": "2022",
                                    "month": "5",
                                    "monthly_pct_change": "3.33"
                                },
                                {
                                    "company": "AMD",
                                    "year": "2022",
                                    "month": "6",
                                    "monthly_pct_change": "-3.63"
                                },
                                {
                                    "company": "AMD",
                                    "year": "2022",
                                    "month": "7",
                                    "monthly_pct_change": "-13.09"
                                },
                                {
                                    "company": "AMD",
                                    "year": "2022",
                                    "month": "8",
                                    "monthly_pct_change": "33.68"
                                },
                                {
                                    "company": "AMD",
                                    "year": "2022",
                                    "month": "9",
                                    "monthly_pct_change": "-28.96"
                                },
                                {
                                    "company": "AMD",
                                    "year": "2022",
                                    "month": "10",
                                    "monthly_pct_change": "-19.56"
                                },
                                {
                                    "company": "AMD",
                                    "year": "2022",
                                    "month": "11",
                                    "monthly_pct_change": "15.4"
                                },
                                {
                                    "company": "AMD",
                                    "year": "2022",
                                    "month": "12",
                                    "monthly_pct_change": "-2.18"
                                },
                                {
                                    "company": "AMD",
                                    "year": "2023",
                                    "month": "1",
                                    "monthly_pct_change": "-1.72"
                                },
                                {
                                    "company": "AMD",
                                    "year": "2023",
                                    "month": "2",
                                    "monthly_pct_change": "10.97"
                                },
                                {
                                    "company": "AMD",
                                    "year": "2023",
                                    "month": "3",
                                    "monthly_pct_change": "33.44"
                                },
                                {
                                    "company": "AMD",
                                    "year": "2023",
                                    "month": "4",
                                    "monthly_pct_change": "-17.08"
                                },
                                {
                                    "company": "AMD",
                                    "year": "2023",
                                    "month": "5",
                                    "monthly_pct_change": "30.33"
                                },
                                {
                                    "company": "AMD",
                                    "year": "2023",
                                    "month": "6",
                                    "monthly_pct_change": "10"
                                },
                                {
                                    "company": "AMD",
                                    "year": "2023",
                                    "month": "7",
                                    "monthly_pct_change": "-53.67"
                                },
                                {
                                    "company": "AMZN",
                                    "year": "2013",
                                    "month": "7",
                                    "monthly_pct_change": "NULL"
                                },
                                {
                                    "company": "AMZN",
                                    "year": "2013",
                                    "month": "8",
                                    "monthly_pct_change": "110.85"
                                },
                                {
                                    "company": "AMZN",
                                    "year": "2013",
                                    "month": "9",
                                    "monthly_pct_change": "-4.86"
                                },
                                {
                                    "company": "AMZN",
                                    "year": "2013",
                                    "month": "10",
                                    "monthly_pct_change": "23.02"
                                },
                                {
                                    "company": "AMZN",
                                    "year": "2013",
                                    "month": "11",
                                    "monthly_pct_change": "-2.67"
                                },
                                {
                                    "company": "AMZN",
                                    "year": "2013",
                                    "month": "12",
                                    "monthly_pct_change": "12.67"
                                },
                                {
                                    "company": "AMZN",
                                    "year": "2014",
                                    "month": "1",
                                    "monthly_pct_change": "0.86"
                                },
                                {
                                    "company": "AMZN",
                                    "year": "2014",
                                    "month": "2",
                                    "monthly_pct_change": "-18.8"
                                },
                                {
                                    "company": "AMZN",
                                    "year": "2014",
                                    "month": "3",
                                    "monthly_pct_change": "13.11"
                                },
                                {
                                    "company": "AMZN",
                                    "year": "2014",
                                    "month": "4",
                                    "monthly_pct_change": "-11.3"
                                },
                                {
                                    "company": "AMZN",
                                    "year": "2014",
                                    "month": "5",
                                    "monthly_pct_change": "-5.81"
                                },
                                {
                                    "company": "AMZN",
                                    "year": "2014",
                                    "month": "6",
                                    "monthly_pct_change": "7.13"
                                },
                                {
                                    "company": "AMZN",
                                    "year": "2014",
                                    "month": "7",
                                    "monthly_pct_change": "9.72"
                                },
                                {
                                    "company": "AMZN",
                                    "year": "2014",
                                    "month": "8",
                                    "monthly_pct_change": "-8.08"
                                },
                                {
                                    "company": "AMZN",
                                    "year": "2014",
                                    "month": "9",
                                    "monthly_pct_change": "0.92"
                                },
                                {
                                    "company": "AMZN",
                                    "year": "2014",
                                    "month": "10",
                                    "monthly_pct_change": "2.26"
                                },
                                {
                                    "company": "AMZN",
                                    "year": "2014",
                                    "month": "11",
                                    "monthly_pct_change": "-14.64"
                                },
                                {
                                    "company": "AMZN",
                                    "year": "2014",
                                    "month": "12",
                                    "monthly_pct_change": "12.19"
                                },
                                {
                                    "company": "AMZN",
                                    "year": "2015",
                                    "month": "1",
                                    "monthly_pct_change": "-10.87"
                                },
                                {
                                    "company": "AMZN",
                                    "year": "2015",
                                    "month": "2",
                                    "monthly_pct_change": "17.9"
                                },
                                {
                                    "company": "AMZN",
                                    "year": "2015",
                                    "month": "3",
                                    "monthly_pct_change": "15.66"
                                },
                                {
                                    "company": "AMZN",
                                    "year": "2015",
                                    "month": "4",
                                    "monthly_pct_change": "0.26"
                                },
                                {
                                    "company": "AMZN",
                                    "year": "2015",
                                    "month": "5",
                                    "monthly_pct_change": "3.13"
                                },
                                {
                                    "company": "AMZN",
                                    "year": "2015",
                                    "month": "6",
                                    "monthly_pct_change": "11.47"
                                },
                                {
                                    "company": "AMZN",
                                    "year": "2015",
                                    "month": "7",
                                    "monthly_pct_change": "10.66"
                                },
                                {
                                    "company": "AMZN",
                                    "year": "2015",
                                    "month": "8",
                                    "monthly_pct_change": "3.38"
                                },
                                {
                                    "company": "AMZN",
                                    "year": "2015",
                                    "month": "9",
                                    "monthly_pct_change": "0.48"
                                },
                                {
                                    "company": "AMZN",
                                    "year": "2015",
                                    "month": "10",
                                    "monthly_pct_change": "13.98"
                                },
                                {
                                    "company": "AMZN",
                                    "year": "2015",
                                    "month": "11",
                                    "monthly_pct_change": "5.5"
                                },
                                {
                                    "company": "AMZN",
                                    "year": "2015",
                                    "month": "12",
                                    "monthly_pct_change": "11.94"
                                },
                                {
                                    "company": "AMZN",
                                    "year": "2016",
                                    "month": "1",
                                    "monthly_pct_change": "-22.44"
                                },
                                {
                                    "company": "AMZN",
                                    "year": "2016",
                                    "month": "2",
                                    "monthly_pct_change": "-7.07"
                                },
                                {
                                    "company": "AMZN",
                                    "year": "2016",
                                    "month": "3",
                                    "monthly_pct_change": "18.65"
                                },
                                {
                                    "company": "AMZN",
                                    "year": "2016",
                                    "month": "4",
                                    "monthly_pct_change": "2.34"
                                },
                                {
                                    "company": "AMZN",
                                    "year": "2016",
                                    "month": "5",
                                    "monthly_pct_change": "13.67"
                                },
                                {
                                    "company": "AMZN",
                                    "year": "2016",
                                    "month": "6",
                                    "monthly_pct_change": "7.6"
                                },
                                {
                                    "company": "AMZN",
                                    "year": "2016",
                                    "month": "7",
                                    "monthly_pct_change": "-5.91"
                                },
                                {
                                    "company": "AMZN",
                                    "year": "2016",
                                    "month": "8",
                                    "monthly_pct_change": "18.63"
                                },
                                {
                                    "company": "AMZN",
                                    "year": "2016",
                                    "month": "9",
                                    "monthly_pct_change": "-5.81"
                                },
                                {
                                    "company": "AMZN",
                                    "year": "2016",
                                    "month": "10",
                                    "monthly_pct_change": "4.5"
                                },
                                {
                                    "company": "AMZN",
                                    "year": "2016",
                                    "month": "11",
                                    "monthly_pct_change": "-7.41"
                                },
                                {
                                    "company": "AMZN",
                                    "year": "2016",
                                    "month": "12",
                                    "monthly_pct_change": "0"
                                },
                                {
                                    "company": "AMZN",
                                    "year": "2017",
                                    "month": "1",
                                    "monthly_pct_change": "0.75"
                                },
                                {
                                    "company": "AMZN",
                                    "year": "2017",
                                    "month": "2",
                                    "monthly_pct_change": "-1.68"
                                },
                                {
                                    "company": "AMZN",
                                    "year": "2017",
                                    "month": "3",
                                    "monthly_pct_change": "23.73"
                                },
                                {
                                    "company": "AMZN",
                                    "year": "2017",
                                    "month": "4",
                                    "monthly_pct_change": "-12.64"
                                },
                                {
                                    "company": "AMZN",
                                    "year": "2017",
                                    "month": "5",
                                    "monthly_pct_change": "23.27"
                                },
                                {
                                    "company": "AMZN",
                                    "year": "2017",
                                    "month": "6",
                                    "monthly_pct_change": "2.99"
                                },
                                {
                                    "company": "AMZN",
                                    "year": "2017",
                                    "month": "7",
                                    "monthly_pct_change": "-7.44"
                                },
                                {
                                    "company": "AMZN",
                                    "year": "2017",
                                    "month": "8",
                                    "monthly_pct_change": "10.78"
                                },
                                {
                                    "company": "AMZN",
                                    "year": "2017",
                                    "month": "9",
                                    "monthly_pct_change": "-13.26"
                                },
                                {
                                    "company": "AMZN",
                                    "year": "2017",
                                    "month": "10",
                                    "monthly_pct_change": "13.6"
                                },
                                {
                                    "company": "AMZN",
                                    "year": "2017",
                                    "month": "11",
                                    "monthly_pct_change": "8.72"
                                },
                                {
                                    "company": "AMZN",
                                    "year": "2017",
                                    "month": "12",
                                    "monthly_pct_change": "-2.33"
                                },
                                {
                                    "company": "AMZN",
                                    "year": "2018",
                                    "month": "1",
                                    "monthly_pct_change": "17.59"
                                },
                                {
                                    "company": "AMZN",
                                    "year": "2018",
                                    "month": "2",
                                    "monthly_pct_change": "-0.31"
                                },
                                {
                                    "company": "AMZN",
                                    "year": "2018",
                                    "month": "3",
                                    "monthly_pct_change": "18.03"
                                },
                                {
                                    "company": "AMZN",
                                    "year": "2018",
                                    "month": "4",
                                    "monthly_pct_change": "-4.68"
                                },
                                {
                                    "company": "AMZN",
                                    "year": "2018",
                                    "month": "5",
                                    "monthly_pct_change": "13.8"
                                },
                                {
                                    "company": "AMZN",
                                    "year": "2018",
                                    "month": "6",
                                    "monthly_pct_change": "1.68"
                                },
                                {
                                    "company": "AMZN",
                                    "year": "2018",
                                    "month": "7",
                                    "monthly_pct_change": "5.05"
                                },
                                {
                                    "company": "AMZN",
                                    "year": "2018",
                                    "month": "8",
                                    "monthly_pct_change": "16.47"
                                },
                                {
                                    "company": "AMZN",
                                    "year": "2018",
                                    "month": "9",
                                    "monthly_pct_change": "-14.42"
                                },
                                {
                                    "company": "AMZN",
                                    "year": "2018",
                                    "month": "10",
                                    "monthly_pct_change": "9.72"
                                },
                                {
                                    "company": "AMZN",
                                    "year": "2018",
                                    "month": "11",
                                    "monthly_pct_change": "-16.72"
                                },
                                {
                                    "company": "AMZN",
                                    "year": "2018",
                                    "month": "12",
                                    "monthly_pct_change": "-13.2"
                                },
                                {
                                    "company": "AMZN",
                                    "year": "2019",
                                    "month": "1",
                                    "monthly_pct_change": "16.24"
                                },
                                {
                                    "company": "AMZN",
                                    "year": "2019",
                                    "month": "2",
                                    "monthly_pct_change": "-10.25"
                                },
                                {
                                    "company": "AMZN",
                                    "year": "2019",
                                    "month": "3",
                                    "monthly_pct_change": "17.02"
                                },
                                {
                                    "company": "AMZN",
                                    "year": "2019",
                                    "month": "4",
                                    "monthly_pct_change": "8.34"
                                },
                                {
                                    "company": "AMZN",
                                    "year": "2019",
                                    "month": "5",
                                    "monthly_pct_change": "4.94"
                                },
                                {
                                    "company": "AMZN",
                                    "year": "2019",
                                    "month": "6",
                                    "monthly_pct_change": "-9.91"
                                },
                                {
                                    "company": "AMZN",
                                    "year": "2019",
                                    "month": "7",
                                    "monthly_pct_change": "16.73"
                                },
                                {
                                    "company": "AMZN",
                                    "year": "2019",
                                    "month": "8",
                                    "monthly_pct_change": "-8.76"
                                },
                                {
                                    "company": "AMZN",
                                    "year": "2019",
                                    "month": "9",
                                    "monthly_pct_change": "-8.81"
                                },
                                {
                                    "company": "AMZN",
                                    "year": "2019",
                                    "month": "10",
                                    "monthly_pct_change": "12.01"
                                },
                                {
                                    "company": "AMZN",
                                    "year": "2019",
                                    "month": "11",
                                    "monthly_pct_change": "-11.95"
                                },
                                {
                                    "company": "AMZN",
                                    "year": "2019",
                                    "month": "12",
                                    "monthly_pct_change": "5.68"
                                },
                                {
                                    "company": "AMZN",
                                    "year": "2020",
                                    "month": "1",
                                    "monthly_pct_change": "5.51"
                                },
                                {
                                    "company": "AMZN",
                                    "year": "2020",
                                    "month": "2",
                                    "monthly_pct_change": "-0.79"
                                },
                                {
                                    "company": "AMZN",
                                    "year": "2020",
                                    "month": "3",
                                    "monthly_pct_change": "4.93"
                                },
                                {
                                    "company": "AMZN",
                                    "year": "2020",
                                    "month": "4",
                                    "monthly_pct_change": "13.62"
                                },
                                {
                                    "company": "AMZN",
                                    "year": "2020",
                                    "month": "5",
                                    "monthly_pct_change": "2.31"
                                },
                                {
                                    "company": "AMZN",
                                    "year": "2020",
                                    "month": "6",
                                    "monthly_pct_change": "20.08"
                                },
                                {
                                    "company": "AMZN",
                                    "year": "2020",
                                    "month": "7",
                                    "monthly_pct_change": "16.85"
                                },
                                {
                                    "company": "AMZN",
                                    "year": "2020",
                                    "month": "8",
                                    "monthly_pct_change": "1.56"
                                },
                                {
                                    "company": "AMZN",
                                    "year": "2020",
                                    "month": "9",
                                    "monthly_pct_change": "-2.72"
                                },
                                {
                                    "company": "AMZN",
                                    "year": "2020",
                                    "month": "10",
                                    "monthly_pct_change": "7.08"
                                },
                                {
                                    "company": "AMZN",
                                    "year": "2020",
                                    "month": "11",
                                    "monthly_pct_change": "-11.59"
                                },
                                {
                                    "company": "AMZN",
                                    "year": "2020",
                                    "month": "12",
                                    "monthly_pct_change": "11.96"
                                },
                                {
                                    "company": "AMZN",
                                    "year": "2021",
                                    "month": "1",
                                    "monthly_pct_change": "-13.57"
                                },
                                {
                                    "company": "AMZN",
                                    "year": "2021",
                                    "month": "2",
                                    "monthly_pct_change": "2"
                                },
                                {
                                    "company": "AMZN",
                                    "year": "2021",
                                    "month": "3",
                                    "monthly_pct_change": "13.8"
                                },
                                {
                                    "company": "AMZN",
                                    "year": "2021",
                                    "month": "4",
                                    "monthly_pct_change": "-0.25"
                                },
                                {
                                    "company": "AMZN",
                                    "year": "2021",
                                    "month": "5",
                                    "monthly_pct_change": "-7.77"
                                },
                                {
                                    "company": "AMZN",
                                    "year": "2021",
                                    "month": "6",
                                    "monthly_pct_change": "14.12"
                                },
                                {
                                    "company": "AMZN",
                                    "year": "2021",
                                    "month": "7",
                                    "monthly_pct_change": "2.49"
                                },
                                {
                                    "company": "AMZN",
                                    "year": "2021",
                                    "month": "8",
                                    "monthly_pct_change": "-4.02"
                                },
                                {
                                    "company": "AMZN",
                                    "year": "2021",
                                    "month": "9",
                                    "monthly_pct_change": "-1.25"
                                },
                                {
                                    "company": "AMZN",
                                    "year": "2021",
                                    "month": "10",
                                    "monthly_pct_change": "-2.71"
                                },
                                {
                                    "company": "AMZN",
                                    "year": "2021",
                                    "month": "11",
                                    "monthly_pct_change": "5.5"
                                },
                                {
                                    "company": "AMZN",
                                    "year": "2021",
                                    "month": "12",
                                    "monthly_pct_change": "1.77"
                                },
                                {
                                    "company": "AMZN",
                                    "year": "2022",
                                    "month": "1",
                                    "monthly_pct_change": "-17.28"
                                },
                                {
                                    "company": "AMZN",
                                    "year": "2022",
                                    "month": "2",
                                    "monthly_pct_change": "-6.04"
                                },
                                {
                                    "company": "AMZN",
                                    "year": "2022",
                                    "month": "3",
                                    "monthly_pct_change": "21.44"
                                },
                                {
                                    "company": "AMZN",
                                    "year": "2022",
                                    "month": "4",
                                    "monthly_pct_change": "-14.72"
                                },
                                {
                                    "company": "AMZN",
                                    "year": "2022",
                                    "month": "5",
                                    "monthly_pct_change": "-21.95"
                                },
                                {
                                    "company": "AMZN",
                                    "year": "2022",
                                    "month": "6",
                                    "monthly_pct_change": "0.35"
                                },
                                {
                                    "company": "AMZN",
                                    "year": "2022",
                                    "month": "7",
                                    "monthly_pct_change": "-1.24"
                                },
                                {
                                    "company": "AMZN",
                                    "year": "2022",
                                    "month": "8",
                                    "monthly_pct_change": "35.05"
                                },
                                {
                                    "company": "AMZN",
                                    "year": "2022",
                                    "month": "9",
                                    "monthly_pct_change": "-18.15"
                                },
                                {
                                    "company": "AMZN",
                                    "year": "2022",
                                    "month": "10",
                                    "monthly_pct_change": "-7.1"
                                },
                                {
                                    "company": "AMZN",
                                    "year": "2022",
                                    "month": "11",
                                    "monthly_pct_change": "-17.92"
                                },
                                {
                                    "company": "AMZN",
                                    "year": "2022",
                                    "month": "12",
                                    "monthly_pct_change": "-6.4"
                                },
                                {
                                    "company": "AMZN",
                                    "year": "2023",
                                    "month": "1",
                                    "monthly_pct_change": "2.05"
                                },
                                {
                                    "company": "AMZN",
                                    "year": "2023",
                                    "month": "2",
                                    "monthly_pct_change": "0.03"
                                },
                                {
                                    "company": "AMZN",
                                    "year": "2023",
                                    "month": "3",
                                    "monthly_pct_change": "17.8"
                                },
                                {
                                    "company": "AMZN",
                                    "year": "2023",
                                    "month": "4",
                                    "monthly_pct_change": "-11.58"
                                },
                                {
                                    "company": "AMZN",
                                    "year": "2023",
                                    "month": "5",
                                    "monthly_pct_change": "25.42"
                                },
                                {
                                    "company": "AMZN",
                                    "year": "2023",
                                    "month": "6",
                                    "monthly_pct_change": "7.77"
                                },
                                {
                                    "company": "AMZN",
                                    "year": "2023",
                                    "month": "7",
                                    "monthly_pct_change": "-50.72"
                                },
                                {
                                    "company": "CSCO",
                                    "year": "2013",
                                    "month": "7",
                                    "monthly_pct_change": "NULL"
                                },
                                {
                                    "company": "CSCO",
                                    "year": "2013",
                                    "month": "8",
                                    "monthly_pct_change": "114.29"
                                },
                                {
                                    "company": "CSCO",
                                    "year": "2013",
                                    "month": "9",
                                    "monthly_pct_change": "-12.26"
                                },
                                {
                                    "company": "CSCO",
                                    "year": "2013",
                                    "month": "10",
                                    "monthly_pct_change": "9.11"
                                },
                                {
                                    "company": "CSCO",
                                    "year": "2013",
                                    "month": "11",
                                    "monthly_pct_change": "-15.49"
                                },
                                {
                                    "company": "CSCO",
                                    "year": "2013",
                                    "month": "12",
                                    "monthly_pct_change": "0.52"
                                },
                                {
                                    "company": "CSCO",
                                    "year": "2014",
                                    "month": "1",
                                    "monthly_pct_change": "4.73"
                                },
                                {
                                    "company": "CSCO",
                                    "year": "2014",
                                    "month": "2",
                                    "monthly_pct_change": "-9.64"
                                },
                                {
                                    "company": "CSCO",
                                    "year": "2014",
                                    "month": "3",
                                    "monthly_pct_change": "8.43"
                                },
                                {
                                    "company": "CSCO",
                                    "year": "2014",
                                    "month": "4",
                                    "monthly_pct_change": "5.65"
                                },
                                {
                                    "company": "CSCO",
                                    "year": "2014",
                                    "month": "5",
                                    "monthly_pct_change": "3.04"
                                },
                                {
                                    "company": "CSCO",
                                    "year": "2014",
                                    "month": "6",
                                    "monthly_pct_change": "4.09"
                                },
                                {
                                    "company": "CSCO",
                                    "year": "2014",
                                    "month": "7",
                                    "monthly_pct_change": "8.35"
                                },
                                {
                                    "company": "CSCO",
                                    "year": "2014",
                                    "month": "8",
                                    "monthly_pct_change": "-7.15"
                                },
                                {
                                    "company": "CSCO",
                                    "year": "2014",
                                    "month": "9",
                                    "monthly_pct_change": "0.6"
                                },
                                {
                                    "company": "CSCO",
                                    "year": "2014",
                                    "month": "10",
                                    "monthly_pct_change": "4.66"
                                },
                                {
                                    "company": "CSCO",
                                    "year": "2014",
                                    "month": "11",
                                    "monthly_pct_change": "-9.9"
                                },
                                {
                                    "company": "CSCO",
                                    "year": "2014",
                                    "month": "12",
                                    "monthly_pct_change": "22.59"
                                },
                                {
                                    "company": "CSCO",
                                    "year": "2015",
                                    "month": "1",
                                    "monthly_pct_change": "-9.2"
                                },
                                {
                                    "company": "CSCO",
                                    "year": "2015",
                                    "month": "2",
                                    "monthly_pct_change": "-1.8"
                                },
                                {
                                    "company": "CSCO",
                                    "year": "2015",
                                    "month": "3",
                                    "monthly_pct_change": "15.3"
                                },
                                {
                                    "company": "CSCO",
                                    "year": "2015",
                                    "month": "4",
                                    "monthly_pct_change": "-5.15"
                                },
                                {
                                    "company": "CSCO",
                                    "year": "2015",
                                    "month": "5",
                                    "monthly_pct_change": "-1.15"
                                },
                                {
                                    "company": "CSCO",
                                    "year": "2015",
                                    "month": "6",
                                    "monthly_pct_change": "7.53"
                                },
                                {
                                    "company": "CSCO",
                                    "year": "2015",
                                    "month": "7",
                                    "monthly_pct_change": "-2.73"
                                },
                                {
                                    "company": "CSCO",
                                    "year": "2015",
                                    "month": "8",
                                    "monthly_pct_change": "-6.05"
                                },
                                {
                                    "company": "CSCO",
                                    "year": "2015",
                                    "month": "9",
                                    "monthly_pct_change": "-5.97"
                                },
                                {
                                    "company": "CSCO",
                                    "year": "2015",
                                    "month": "10",
                                    "monthly_pct_change": "14.21"
                                },
                                {
                                    "company": "CSCO",
                                    "year": "2015",
                                    "month": "11",
                                    "monthly_pct_change": "-10.49"
                                },
                                {
                                    "company": "CSCO",
                                    "year": "2015",
                                    "month": "12",
                                    "monthly_pct_change": "7.68"
                                },
                                {
                                    "company": "CSCO",
                                    "year": "2016",
                                    "month": "1",
                                    "monthly_pct_change": "-22.3"
                                },
                                {
                                    "company": "CSCO",
                                    "year": "2016",
                                    "month": "2",
                                    "monthly_pct_change": "7.48"
                                },
                                {
                                    "company": "CSCO",
                                    "year": "2016",
                                    "month": "3",
                                    "monthly_pct_change": "22.55"
                                },
                                {
                                    "company": "CSCO",
                                    "year": "2016",
                                    "month": "4",
                                    "monthly_pct_change": "-3.27"
                                },
                                {
                                    "company": "CSCO",
                                    "year": "2016",
                                    "month": "5",
                                    "monthly_pct_change": "-2.46"
                                },
                                {
                                    "company": "CSCO",
                                    "year": "2016",
                                    "month": "6",
                                    "monthly_pct_change": "9.96"
                                },
                                {
                                    "company": "CSCO",
                                    "year": "2016",
                                    "month": "7",
                                    "monthly_pct_change": "-5.49"
                                },
                                {
                                    "company": "CSCO",
                                    "year": "2016",
                                    "month": "8",
                                    "monthly_pct_change": "19.25"
                                },
                                {
                                    "company": "CSCO",
                                    "year": "2016",
                                    "month": "9",
                                    "monthly_pct_change": "-7.54"
                                },
                                {
                                    "company": "CSCO",
                                    "year": "2016",
                                    "month": "10",
                                    "monthly_pct_change": "-2.09"
                                },
                                {
                                    "company": "CSCO",
                                    "year": "2016",
                                    "month": "11",
                                    "monthly_pct_change": "-0.57"
                                },
                                {
                                    "company": "CSCO",
                                    "year": "2016",
                                    "month": "12",
                                    "monthly_pct_change": "-1.05"
                                },
                                {
                                    "company": "CSCO",
                                    "year": "2017",
                                    "month": "1",
                                    "monthly_pct_change": "-4.36"
                                },
                                {
                                    "company": "CSCO",
                                    "year": "2017",
                                    "month": "2",
                                    "monthly_pct_change": "2.09"
                                },
                                {
                                    "company": "CSCO",
                                    "year": "2017",
                                    "month": "3",
                                    "monthly_pct_change": "26.62"
                                },
                                {
                                    "company": "CSCO",
                                    "year": "2017",
                                    "month": "4",
                                    "monthly_pct_change": "-19.87"
                                },
                                {
                                    "company": "CSCO",
                                    "year": "2017",
                                    "month": "5",
                                    "monthly_pct_change": "15.51"
                                },
                                {
                                    "company": "CSCO",
                                    "year": "2017",
                                    "month": "6",
                                    "monthly_pct_change": "-3.87"
                                },
                                {
                                    "company": "CSCO",
                                    "year": "2017",
                                    "month": "7",
                                    "monthly_pct_change": "-9.9"
                                },
                                {
                                    "company": "CSCO",
                                    "year": "2017",
                                    "month": "8",
                                    "monthly_pct_change": "15.24"
                                },
                                {
                                    "company": "CSCO",
                                    "year": "2017",
                                    "month": "9",
                                    "monthly_pct_change": "-10.01"
                                },
                                {
                                    "company": "CSCO",
                                    "year": "2017",
                                    "month": "10",
                                    "monthly_pct_change": "14.23"
                                },
                                {
                                    "company": "CSCO",
                                    "year": "2017",
                                    "month": "11",
                                    "monthly_pct_change": "-0.11"
                                },
                                {
                                    "company": "CSCO",
                                    "year": "2017",
                                    "month": "12",
                                    "monthly_pct_change": "2.38"
                                },
                                {
                                    "company": "CSCO",
                                    "year": "2018",
                                    "month": "1",
                                    "monthly_pct_change": "12.7"
                                },
                                {
                                    "company": "CSCO",
                                    "year": "2018",
                                    "month": "2",
                                    "monthly_pct_change": "-6.57"
                                },
                                {
                                    "company": "CSCO",
                                    "year": "2018",
                                    "month": "3",
                                    "monthly_pct_change": "15.54"
                                },
                                {
                                    "company": "CSCO",
                                    "year": "2018",
                                    "month": "4",
                                    "monthly_pct_change": "-2.37"
                                },
                                {
                                    "company": "CSCO",
                                    "year": "2018",
                                    "month": "5",
                                    "monthly_pct_change": "8.06"
                                },
                                {
                                    "company": "CSCO",
                                    "year": "2018",
                                    "month": "6",
                                    "monthly_pct_change": "-6.49"
                                },
                                {
                                    "company": "CSCO",
                                    "year": "2018",
                                    "month": "7",
                                    "monthly_pct_change": "-2.22"
                                },
                                {
                                    "company": "CSCO",
                                    "year": "2018",
                                    "month": "8",
                                    "monthly_pct_change": "15.73"
                                },
                                {
                                    "company": "CSCO",
                                    "year": "2018",
                                    "month": "9",
                                    "monthly_pct_change": "-12.47"
                                },
                                {
                                    "company": "CSCO",
                                    "year": "2018",
                                    "month": "10",
                                    "monthly_pct_change": "17.12"
                                },
                                {
                                    "company": "CSCO",
                                    "year": "2018",
                                    "month": "11",
                                    "monthly_pct_change": "-8.59"
                                },
                                {
                                    "company": "CSCO",
                                    "year": "2018",
                                    "month": "12",
                                    "monthly_pct_change": "-11.99"
                                },
                                {
                                    "company": "CSCO",
                                    "year": "2019",
                                    "month": "1",
                                    "monthly_pct_change": "9.24"
                                },
                                {
                                    "company": "CSCO",
                                    "year": "2019",
                                    "month": "2",
                                    "monthly_pct_change": "-0.39"
                                },
                                {
                                    "company": "CSCO",
                                    "year": "2019",
                                    "month": "3",
                                    "monthly_pct_change": "18.9"
                                },
                                {
                                    "company": "CSCO",
                                    "year": "2019",
                                    "month": "4",
                                    "monthly_pct_change": "6.46"
                                },
                                {
                                    "company": "CSCO",
                                    "year": "2019",
                                    "month": "5",
                                    "monthly_pct_change": "1.34"
                                },
                                {
                                    "company": "CSCO",
                                    "year": "2019",
                                    "month": "6",
                                    "monthly_pct_change": "-6.49"
                                },
                                {
                                    "company": "CSCO",
                                    "year": "2019",
                                    "month": "7",
                                    "monthly_pct_change": "12.37"
                                },
                                {
                                    "company": "CSCO",
                                    "year": "2019",
                                    "month": "8",
                                    "monthly_pct_change": "-12.6"
                                },
                                {
                                    "company": "CSCO",
                                    "year": "2019",
                                    "month": "9",
                                    "monthly_pct_change": "-10.23"
                                },
                                {
                                    "company": "CSCO",
                                    "year": "2019",
                                    "month": "10",
                                    "monthly_pct_change": "10.06"
                                },
                                {
                                    "company": "CSCO",
                                    "year": "2019",
                                    "month": "11",
                                    "monthly_pct_change": "-13.97"
                                },
                                {
                                    "company": "CSCO",
                                    "year": "2019",
                                    "month": "12",
                                    "monthly_pct_change": "3.82"
                                },
                                {
                                    "company": "CSCO",
                                    "year": "2020",
                                    "month": "1",
                                    "monthly_pct_change": "4.29"
                                },
                                {
                                    "company": "CSCO",
                                    "year": "2020",
                                    "month": "2",
                                    "monthly_pct_change": "-12.92"
                                },
                                {
                                    "company": "CSCO",
                                    "year": "2020",
                                    "month": "3",
                                    "monthly_pct_change": "-4.46"
                                },
                                {
                                    "company": "CSCO",
                                    "year": "2020",
                                    "month": "4",
                                    "monthly_pct_change": "4.14"
                                },
                                {
                                    "company": "CSCO",
                                    "year": "2020",
                                    "month": "5",
                                    "monthly_pct_change": "0.32"
                                },
                                {
                                    "company": "CSCO",
                                    "year": "2020",
                                    "month": "6",
                                    "monthly_pct_change": "16.15"
                                },
                                {
                                    "company": "CSCO",
                                    "year": "2020",
                                    "month": "7",
                                    "monthly_pct_change": "0.63"
                                },
                                {
                                    "company": "CSCO",
                                    "year": "2020",
                                    "month": "8",
                                    "monthly_pct_change": "-9.12"
                                },
                                {
                                    "company": "CSCO",
                                    "year": "2020",
                                    "month": "9",
                                    "monthly_pct_change": "-9.83"
                                },
                                {
                                    "company": "CSCO",
                                    "year": "2020",
                                    "month": "10",
                                    "monthly_pct_change": "1.5"
                                },
                                {
                                    "company": "CSCO",
                                    "year": "2020",
                                    "month": "11",
                                    "monthly_pct_change": "-5.87"
                                },
                                {
                                    "company": "CSCO",
                                    "year": "2020",
                                    "month": "12",
                                    "monthly_pct_change": "22.31"
                                },
                                {
                                    "company": "CSCO",
                                    "year": "2021",
                                    "month": "1",
                                    "monthly_pct_change": "-12.6"
                                },
                                {
                                    "company": "CSCO",
                                    "year": "2021",
                                    "month": "2",
                                    "monthly_pct_change": "3.27"
                                },
                                {
                                    "company": "CSCO",
                                    "year": "2021",
                                    "month": "3",
                                    "monthly_pct_change": "27.19"
                                },
                                {
                                    "company": "CSCO",
                                    "year": "2021",
                                    "month": "4",
                                    "monthly_pct_change": "-3.23"
                                },
                                {
                                    "company": "CSCO",
                                    "year": "2021",
                                    "month": "5",
                                    "monthly_pct_change": "-3.38"
                                },
                                {
                                    "company": "CSCO",
                                    "year": "2021",
                                    "month": "6",
                                    "monthly_pct_change": "11.84"
                                },
                                {
                                    "company": "CSCO",
                                    "year": "2021",
                                    "month": "7",
                                    "monthly_pct_change": "-3.48"
                                },
                                {
                                    "company": "CSCO",
                                    "year": "2021",
                                    "month": "8",
                                    "monthly_pct_change": "10.63"
                                },
                                {
                                    "company": "CSCO",
                                    "year": "2021",
                                    "month": "9",
                                    "monthly_pct_change": "-4.27"
                                },
                                {
                                    "company": "CSCO",
                                    "year": "2021",
                                    "month": "10",
                                    "monthly_pct_change": "-3.44"
                                },
                                {
                                    "company": "CSCO",
                                    "year": "2021",
                                    "month": "11",
                                    "monthly_pct_change": "1.71"
                                },
                                {
                                    "company": "CSCO",
                                    "year": "2021",
                                    "month": "12",
                                    "monthly_pct_change": "11.57"
                                },
                                {
                                    "company": "CSCO",
                                    "year": "2022",
                                    "month": "1",
                                    "monthly_pct_change": "-10.1"
                                },
                                {
                                    "company": "CSCO",
                                    "year": "2022",
                                    "month": "2",
                                    "monthly_pct_change": "-11.33"
                                },
                                {
                                    "company": "CSCO",
                                    "year": "2022",
                                    "month": "3",
                                    "monthly_pct_change": "21.52"
                                },
                                {
                                    "company": "CSCO",
                                    "year": "2022",
                                    "month": "4",
                                    "monthly_pct_change": "-17.69"
                                },
                                {
                                    "company": "CSCO",
                                    "year": "2022",
                                    "month": "5",
                                    "monthly_pct_change": "-5.23"
                                },
                                {
                                    "company": "CSCO",
                                    "year": "2022",
                                    "month": "6",
                                    "monthly_pct_change": "-7.15"
                                },
                                {
                                    "company": "CSCO",
                                    "year": "2022",
                                    "month": "7",
                                    "monthly_pct_change": "-5.62"
                                },
                                {
                                    "company": "CSCO",
                                    "year": "2022",
                                    "month": "8",
                                    "monthly_pct_change": "22.05"
                                },
                                {
                                    "company": "CSCO",
                                    "year": "2022",
                                    "month": "9",
                                    "monthly_pct_change": "-15.04"
                                },
                                {
                                    "company": "CSCO",
                                    "year": "2022",
                                    "month": "10",
                                    "monthly_pct_change": "-2.23"
                                },
                                {
                                    "company": "CSCO",
                                    "year": "2022",
                                    "month": "11",
                                    "monthly_pct_change": "9.7"
                                },
                                {
                                    "company": "CSCO",
                                    "year": "2022",
                                    "month": "12",
                                    "monthly_pct_change": "4.64"
                                },
                                {
                                    "company": "CSCO",
                                    "year": "2023",
                                    "month": "1",
                                    "monthly_pct_change": "-5.32"
                                },
                                {
                                    "company": "CSCO",
                                    "year": "2023",
                                    "month": "2",
                                    "monthly_pct_change": "-3.95"
                                },
                                {
                                    "company": "CSCO",
                                    "year": "2023",
                                    "month": "3",
                                    "monthly_pct_change": "24.11"
                                },
                                {
                                    "company": "CSCO",
                                    "year": "2023",
                                    "month": "4",
                                    "monthly_pct_change": "-18.1"
                                },
                                {
                                    "company": "CSCO",
                                    "year": "2023",
                                    "month": "5",
                                    "monthly_pct_change": "11.77"
                                },
                                {
                                    "company": "CSCO",
                                    "year": "2023",
                                    "month": "6",
                                    "monthly_pct_change": "1.51"
                                },
                                {
                                    "company": "CSCO",
                                    "year": "2023",
                                    "month": "7",
                                    "monthly_pct_change": "-51.84"
                                },
                                {
                                    "company": "META",
                                    "year": "2013",
                                    "month": "7",
                                    "monthly_pct_change": "NULL"
                                },
                                {
                                    "company": "META",
                                    "year": "2013",
                                    "month": "8",
                                    "monthly_pct_change": "175.89"
                                },
                                {
                                    "company": "META",
                                    "year": "2013",
                                    "month": "9",
                                    "monthly_pct_change": "7.36"
                                },
                                {
                                    "company": "META",
                                    "year": "2013",
                                    "month": "10",
                                    "monthly_pct_change": "26.94"
                                },
                                {
                                    "company": "META",
                                    "year": "2013",
                                    "month": "11",
                                    "monthly_pct_change": "-18.44"
                                },
                                {
                                    "company": "META",
                                    "year": "2013",
                                    "month": "12",
                                    "monthly_pct_change": "16.51"
                                },
                                {
                                    "company": "META",
                                    "year": "2014",
                                    "month": "1",
                                    "monthly_pct_change": "8.29"
                                },
                                {
                                    "company": "META",
                                    "year": "2014",
                                    "month": "2",
                                    "monthly_pct_change": "5.48"
                                },
                                {
                                    "company": "META",
                                    "year": "2014",
                                    "month": "3",
                                    "monthly_pct_change": "11.73"
                                },
                                {
                                    "company": "META",
                                    "year": "2014",
                                    "month": "4",
                                    "monthly_pct_change": "-11.16"
                                },
                                {
                                    "company": "META",
                                    "year": "2014",
                                    "month": "5",
                                    "monthly_pct_change": "0.81"
                                },
                                {
                                    "company": "META",
                                    "year": "2014",
                                    "month": "6",
                                    "monthly_pct_change": "7.92"
                                },
                                {
                                    "company": "META",
                                    "year": "2014",
                                    "month": "7",
                                    "monthly_pct_change": "11.52"
                                },
                                {
                                    "company": "META",
                                    "year": "2014",
                                    "month": "8",
                                    "monthly_pct_change": "2.28"
                                },
                                {
                                    "company": "META",
                                    "year": "2014",
                                    "month": "9",
                                    "monthly_pct_change": "4.47"
                                },
                                {
                                    "company": "META",
                                    "year": "2014",
                                    "month": "10",
                                    "monthly_pct_change": "8.48"
                                },
                                {
                                    "company": "META",
                                    "year": "2014",
                                    "month": "11",
                                    "monthly_pct_change": "-19.16"
                                },
                                {
                                    "company": "META",
                                    "year": "2014",
                                    "month": "12",
                                    "monthly_pct_change": "20.1"
                                },
                                {
                                    "company": "META",
                                    "year": "2015",
                                    "month": "1",
                                    "monthly_pct_change": "-10.22"
                                },
                                {
                                    "company": "META",
                                    "year": "2015",
                                    "month": "2",
                                    "monthly_pct_change": "-4.72"
                                },
                                {
                                    "company": "META",
                                    "year": "2015",
                                    "month": "3",
                                    "monthly_pct_change": "21.9"
                                },
                                {
                                    "company": "META",
                                    "year": "2015",
                                    "month": "4",
                                    "monthly_pct_change": "-3.28"
                                },
                                {
                                    "company": "META",
                                    "year": "2015",
                                    "month": "5",
                                    "monthly_pct_change": "-7.86"
                                },
                                {
                                    "company": "META",
                                    "year": "2015",
                                    "month": "6",
                                    "monthly_pct_change": "15.35"
                                },
                                {
                                    "company": "META",
                                    "year": "2015",
                                    "month": "7",
                                    "monthly_pct_change": "10.53"
                                },
                                {
                                    "company": "META",
                                    "year": "2015",
                                    "month": "8",
                                    "monthly_pct_change": "-4.83"
                                },
                                {
                                    "company": "META",
                                    "year": "2015",
                                    "month": "9",
                                    "monthly_pct_change": "-0.36"
                                },
                                {
                                    "company": "META",
                                    "year": "2015",
                                    "month": "10",
                                    "monthly_pct_change": "11.27"
                                },
                                {
                                    "company": "META",
                                    "year": "2015",
                                    "month": "11",
                                    "monthly_pct_change": "-0.82"
                                },
                                {
                                    "company": "META",
                                    "year": "2015",
                                    "month": "12",
                                    "monthly_pct_change": "9.38"
                                },
                                {
                                    "company": "META",
                                    "year": "2016",
                                    "month": "1",
                                    "monthly_pct_change": "-18.88"
                                },
                                {
                                    "company": "META",
                                    "year": "2016",
                                    "month": "2",
                                    "monthly_pct_change": "12.64"
                                },
                                {
                                    "company": "META",
                                    "year": "2016",
                                    "month": "3",
                                    "monthly_pct_change": "15.05"
                                },
                                {
                                    "company": "META",
                                    "year": "2016",
                                    "month": "4",
                                    "monthly_pct_change": "-3.55"
                                },
                                {
                                    "company": "META",
                                    "year": "2016",
                                    "month": "5",
                                    "monthly_pct_change": "5.83"
                                },
                                {
                                    "company": "META",
                                    "year": "2016",
                                    "month": "6",
                                    "monthly_pct_change": "1.94"
                                },
                                {
                                    "company": "META",
                                    "year": "2016",
                                    "month": "7",
                                    "monthly_pct_change": "-6.02"
                                },
                                {
                                    "company": "META",
                                    "year": "2016",
                                    "month": "8",
                                    "monthly_pct_change": "20.12"
                                },
                                {
                                    "company": "META",
                                    "year": "2016",
                                    "month": "9",
                                    "monthly_pct_change": "-5.73"
                                },
                                {
                                    "company": "META",
                                    "year": "2016",
                                    "month": "10",
                                    "monthly_pct_change": "0.93"
                                },
                                {
                                    "company": "META",
                                    "year": "2016",
                                    "month": "11",
                                    "monthly_pct_change": "-6.96"
                                },
                                {
                                    "company": "META",
                                    "year": "2016",
                                    "month": "12",
                                    "monthly_pct_change": "-2.19"
                                },
                                {
                                    "company": "META",
                                    "year": "2017",
                                    "month": "1",
                                    "monthly_pct_change": "2.32"
                                },
                                {
                                    "company": "META",
                                    "year": "2017",
                                    "month": "2",
                                    "monthly_pct_change": "0.25"
                                },
                                {
                                    "company": "META",
                                    "year": "2017",
                                    "month": "3",
                                    "monthly_pct_change": "26.1"
                                },
                                {
                                    "company": "META",
                                    "year": "2017",
                                    "month": "4",
                                    "monthly_pct_change": "-15.28"
                                },
                                {
                                    "company": "META",
                                    "year": "2017",
                                    "month": "5",
                                    "monthly_pct_change": "21.68"
                                },
                                {
                                    "company": "META",
                                    "year": "2017",
                                    "month": "6",
                                    "monthly_pct_change": "1.23"
                                },
                                {
                                    "company": "META",
                                    "year": "2017",
                                    "month": "7",
                                    "monthly_pct_change": "-4.04"
                                },
                                {
                                    "company": "META",
                                    "year": "2017",
                                    "month": "8",
                                    "monthly_pct_change": "21.18"
                                },
                                {
                                    "company": "META",
                                    "year": "2017",
                                    "month": "9",
                                    "monthly_pct_change": "-12.31"
                                },
                                {
                                    "company": "META",
                                    "year": "2017",
                                    "month": "10",
                                    "monthly_pct_change": "11.75"
                                },
                                {
                                    "company": "META",
                                    "year": "2017",
                                    "month": "11",
                                    "monthly_pct_change": "-1.03"
                                },
                                {
                                    "company": "META",
                                    "year": "2017",
                                    "month": "12",
                                    "monthly_pct_change": "-5.97"
                                },
                                {
                                    "company": "META",
                                    "year": "2018",
                                    "month": "1",
                                    "monthly_pct_change": "9.47"
                                },
                                {
                                    "company": "META",
                                    "year": "2018",
                                    "month": "2",
                                    "monthly_pct_change": "-11.82"
                                },
                                {
                                    "company": "META",
                                    "year": "2018",
                                    "month": "3",
                                    "monthly_pct_change": "6.37"
                                },
                                {
                                    "company": "META",
                                    "year": "2018",
                                    "month": "4",
                                    "monthly_pct_change": "-5.58"
                                },
                                {
                                    "company": "META",
                                    "year": "2018",
                                    "month": "5",
                                    "monthly_pct_change": "16.99"
                                },
                                {
                                    "company": "META",
                                    "year": "2018",
                                    "month": "6",
                                    "monthly_pct_change": "1.89"
                                },
                                {
                                    "company": "META",
                                    "year": "2018",
                                    "month": "7",
                                    "monthly_pct_change": "2.41"
                                },
                                {
                                    "company": "META",
                                    "year": "2018",
                                    "month": "8",
                                    "monthly_pct_change": "-2.79"
                                },
                                {
                                    "company": "META",
                                    "year": "2018",
                                    "month": "9",
                                    "monthly_pct_change": "-23.5"
                                },
                                {
                                    "company": "META",
                                    "year": "2018",
                                    "month": "10",
                                    "monthly_pct_change": "13.55"
                                },
                                {
                                    "company": "META",
                                    "year": "2018",
                                    "month": "11",
                                    "monthly_pct_change": "-16.13"
                                },
                                {
                                    "company": "META",
                                    "year": "2018",
                                    "month": "12",
                                    "monthly_pct_change": "-12.38"
                                },
                                {
                                    "company": "META",
                                    "year": "2019",
                                    "month": "1",
                                    "monthly_pct_change": "17.18"
                                },
                                {
                                    "company": "META",
                                    "year": "2019",
                                    "month": "2",
                                    "monthly_pct_change": "2.54"
                                },
                                {
                                    "company": "META",
                                    "year": "2019",
                                    "month": "3",
                                    "monthly_pct_change": "12.27"
                                },
                                {
                                    "company": "META",
                                    "year": "2019",
                                    "month": "4",
                                    "monthly_pct_change": "7.84"
                                },
                                {
                                    "company": "META",
                                    "year": "2019",
                                    "month": "5",
                                    "monthly_pct_change": "7.98"
                                },
                                {
                                    "company": "META",
                                    "year": "2019",
                                    "month": "6",
                                    "monthly_pct_change": "-11.44"
                                },
                                {
                                    "company": "META",
                                    "year": "2019",
                                    "month": "7",
                                    "monthly_pct_change": "21.12"
                                },
                                {
                                    "company": "META",
                                    "year": "2019",
                                    "month": "8",
                                    "monthly_pct_change": "-7.56"
                                },
                                {
                                    "company": "META",
                                    "year": "2019",
                                    "month": "9",
                                    "monthly_pct_change": "-8.48"
                                },
                                {
                                    "company": "META",
                                    "year": "2019",
                                    "month": "10",
                                    "monthly_pct_change": "14.16"
                                },
                                {
                                    "company": "META",
                                    "year": "2019",
                                    "month": "11",
                                    "monthly_pct_change": "-7.7"
                                },
                                {
                                    "company": "META",
                                    "year": "2019",
                                    "month": "12",
                                    "monthly_pct_change": "8.34"
                                },
                                {
                                    "company": "META",
                                    "year": "2020",
                                    "month": "1",
                                    "monthly_pct_change": "7.27"
                                },
                                {
                                    "company": "META",
                                    "year": "2020",
                                    "month": "2",
                                    "monthly_pct_change": "-13.34"
                                },
                                {
                                    "company": "META",
                                    "year": "2020",
                                    "month": "3",
                                    "monthly_pct_change": "-7.51"
                                },
                                {
                                    "company": "META",
                                    "year": "2020",
                                    "month": "4",
                                    "monthly_pct_change": "1.94"
                                },
                                {
                                    "company": "META",
                                    "year": "2020",
                                    "month": "5",
                                    "monthly_pct_change": "16.52"
                                },
                                {
                                    "company": "META",
                                    "year": "2020",
                                    "month": "6",
                                    "monthly_pct_change": "17.87"
                                },
                                {
                                    "company": "META",
                                    "year": "2020",
                                    "month": "7",
                                    "monthly_pct_change": "3.09"
                                },
                                {
                                    "company": "META",
                                    "year": "2020",
                                    "month": "8",
                                    "monthly_pct_change": "7.26"
                                },
                                {
                                    "company": "META",
                                    "year": "2020",
                                    "month": "9",
                                    "monthly_pct_change": "-0.83"
                                },
                                {
                                    "company": "META",
                                    "year": "2020",
                                    "month": "10",
                                    "monthly_pct_change": "6.03"
                                },
                                {
                                    "company": "META",
                                    "year": "2020",
                                    "month": "11",
                                    "monthly_pct_change": "-6.89"
                                },
                                {
                                    "company": "META",
                                    "year": "2020",
                                    "month": "12",
                                    "monthly_pct_change": "10.09"
                                },
                                {
                                    "company": "META",
                                    "year": "2021",
                                    "month": "1",
                                    "monthly_pct_change": "-17.36"
                                },
                                {
                                    "company": "META",
                                    "year": "2021",
                                    "month": "2",
                                    "monthly_pct_change": "0.65"
                                },
                                {
                                    "company": "META",
                                    "year": "2021",
                                    "month": "3",
                                    "monthly_pct_change": "25.22"
                                },
                                {
                                    "company": "META",
                                    "year": "2021",
                                    "month": "4",
                                    "monthly_pct_change": "1.99"
                                },
                                {
                                    "company": "META",
                                    "year": "2021",
                                    "month": "5",
                                    "monthly_pct_change": "-1.8"
                                },
                                {
                                    "company": "META",
                                    "year": "2021",
                                    "month": "6",
                                    "monthly_pct_change": "16.62"
                                },
                                {
                                    "company": "META",
                                    "year": "2021",
                                    "month": "7",
                                    "monthly_pct_change": "0.26"
                                },
                                {
                                    "company": "META",
                                    "year": "2021",
                                    "month": "8",
                                    "monthly_pct_change": "7.62"
                                },
                                {
                                    "company": "META",
                                    "year": "2021",
                                    "month": "9",
                                    "monthly_pct_change": "-4.3"
                                },
                                {
                                    "company": "META",
                                    "year": "2021",
                                    "month": "10",
                                    "monthly_pct_change": "-9.7"
                                },
                                {
                                    "company": "META",
                                    "year": "2021",
                                    "month": "11",
                                    "monthly_pct_change": "2.39"
                                },
                                {
                                    "company": "META",
                                    "year": "2021",
                                    "month": "12",
                                    "monthly_pct_change": "2.99"
                                },
                                {
                                    "company": "META",
                                    "year": "2022",
                                    "month": "1",
                                    "monthly_pct_change": "-12.23"
                                },
                                {
                                    "company": "META",
                                    "year": "2022",
                                    "month": "2",
                                    "monthly_pct_change": "-32.06"
                                },
                                {
                                    "company": "META",
                                    "year": "2022",
                                    "month": "3",
                                    "monthly_pct_change": "9.83"
                                },
                                {
                                    "company": "META",
                                    "year": "2022",
                                    "month": "4",
                                    "monthly_pct_change": "-12.63"
                                },
                                {
                                    "company": "META",
                                    "year": "2022",
                                    "month": "5",
                                    "monthly_pct_change": "-0.29"
                                },
                                {
                                    "company": "META",
                                    "year": "2022",
                                    "month": "6",
                                    "monthly_pct_change": "-12.26"
                                },
                                {
                                    "company": "META",
                                    "year": "2022",
                                    "month": "7",
                                    "monthly_pct_change": "-8.13"
                                },
                                {
                                    "company": "META",
                                    "year": "2022",
                                    "month": "8",
                                    "monthly_pct_change": "15.82"
                                },
                                {
                                    "company": "META",
                                    "year": "2022",
                                    "month": "9",
                                    "monthly_pct_change": "-18.77"
                                },
                                {
                                    "company": "META",
                                    "year": "2022",
                                    "month": "10",
                                    "monthly_pct_change": "-14.7"
                                },
                                {
                                    "company": "META",
                                    "year": "2022",
                                    "month": "11",
                                    "monthly_pct_change": "-16.82"
                                },
                                {
                                    "company": "META",
                                    "year": "2022",
                                    "month": "12",
                                    "monthly_pct_change": "10.87"
                                },
                                {
                                    "company": "META",
                                    "year": "2023",
                                    "month": "1",
                                    "monthly_pct_change": "10.81"
                                },
                                {
                                    "company": "META",
                                    "year": "2023",
                                    "month": "2",
                                    "monthly_pct_change": "22.15"
                                },
                                {
                                    "company": "META",
                                    "year": "2023",
                                    "month": "3",
                                    "monthly_pct_change": "33.03"
                                },
                                {
                                    "company": "META",
                                    "year": "2023",
                                    "month": "4",
                                    "monthly_pct_change": "-7.48"
                                },
                                {
                                    "company": "META",
                                    "year": "2023",
                                    "month": "5",
                                    "monthly_pct_change": "29.74"
                                },
                                {
                                    "company": "META",
                                    "year": "2023",
                                    "month": "6",
                                    "monthly_pct_change": "8.67"
                                },
                                {
                                    "company": "META",
                                    "year": "2023",
                                    "month": "7",
                                    "monthly_pct_change": "-48.48"
                                },
                                {
                                    "company": "MSFT",
                                    "year": "2013",
                                    "month": "7",
                                    "monthly_pct_change": "NULL"
                                },
                                {
                                    "company": "MSFT",
                                    "year": "2013",
                                    "month": "8",
                                    "monthly_pct_change": "122.73"
                                },
                                {
                                    "company": "MSFT",
                                    "year": "2013",
                                    "month": "9",
                                    "monthly_pct_change": "-8.98"
                                },
                                {
                                    "company": "MSFT",
                                    "year": "2013",
                                    "month": "10",
                                    "monthly_pct_change": "21.57"
                                },
                                {
                                    "company": "MSFT",
                                    "year": "2013",
                                    "month": "11",
                                    "monthly_pct_change": "-5.51"
                                },
                                {
                                    "company": "MSFT",
                                    "year": "2013",
                                    "month": "12",
                                    "monthly_pct_change": "5.26"
                                },
                                {
                                    "company": "MSFT",
                                    "year": "2014",
                                    "month": "1",
                                    "monthly_pct_change": "-2.95"
                                },
                                {
                                    "company": "MSFT",
                                    "year": "2014",
                                    "month": "2",
                                    "monthly_pct_change": "-7.3"
                                },
                                {
                                    "company": "MSFT",
                                    "year": "2014",
                                    "month": "3",
                                    "monthly_pct_change": "15.7"
                                },
                                {
                                    "company": "MSFT",
                                    "year": "2014",
                                    "month": "4",
                                    "monthly_pct_change": "2.95"
                                },
                                {
                                    "company": "MSFT",
                                    "year": "2014",
                                    "month": "5",
                                    "monthly_pct_change": "-0.53"
                                },
                                {
                                    "company": "MSFT",
                                    "year": "2014",
                                    "month": "6",
                                    "monthly_pct_change": "3.61"
                                },
                                {
                                    "company": "MSFT",
                                    "year": "2014",
                                    "month": "7",
                                    "monthly_pct_change": "9.45"
                                },
                                {
                                    "company": "MSFT",
                                    "year": "2014",
                                    "month": "8",
                                    "monthly_pct_change": "-2.24"
                                },
                                {
                                    "company": "MSFT",
                                    "year": "2014",
                                    "month": "9",
                                    "monthly_pct_change": "4.86"
                                },
                                {
                                    "company": "MSFT",
                                    "year": "2014",
                                    "month": "10",
                                    "monthly_pct_change": "6.65"
                                },
                                {
                                    "company": "MSFT",
                                    "year": "2014",
                                    "month": "11",
                                    "monthly_pct_change": "-11.53"
                                },
                                {
                                    "company": "MSFT",
                                    "year": "2014",
                                    "month": "12",
                                    "monthly_pct_change": "13.61"
                                },
                                {
                                    "company": "MSFT",
                                    "year": "2015",
                                    "month": "1",
                                    "monthly_pct_change": "-12.88"
                                },
                                {
                                    "company": "MSFT",
                                    "year": "2015",
                                    "month": "2",
                                    "monthly_pct_change": "-10.08"
                                },
                                {
                                    "company": "MSFT",
                                    "year": "2015",
                                    "month": "3",
                                    "monthly_pct_change": "13.25"
                                },
                                {
                                    "company": "MSFT",
                                    "year": "2015",
                                    "month": "4",
                                    "monthly_pct_change": "-1.52"
                                },
                                {
                                    "company": "MSFT",
                                    "year": "2015",
                                    "month": "5",
                                    "monthly_pct_change": "4.14"
                                },
                                {
                                    "company": "MSFT",
                                    "year": "2015",
                                    "month": "6",
                                    "monthly_pct_change": "6.38"
                                },
                                {
                                    "company": "MSFT",
                                    "year": "2015",
                                    "month": "7",
                                    "monthly_pct_change": "-0.77"
                                },
                                {
                                    "company": "MSFT",
                                    "year": "2015",
                                    "month": "8",
                                    "monthly_pct_change": "-4.77"
                                },
                                {
                                    "company": "MSFT",
                                    "year": "2015",
                                    "month": "9",
                                    "monthly_pct_change": "-4.27"
                                },
                                {
                                    "company": "MSFT",
                                    "year": "2015",
                                    "month": "10",
                                    "monthly_pct_change": "17.12"
                                },
                                {
                                    "company": "MSFT",
                                    "year": "2015",
                                    "month": "11",
                                    "monthly_pct_change": "0.59"
                                },
                                {
                                    "company": "MSFT",
                                    "year": "2015",
                                    "month": "12",
                                    "monthly_pct_change": "13.08"
                                },
                                {
                                    "company": "MSFT",
                                    "year": "2016",
                                    "month": "1",
                                    "monthly_pct_change": "-18.3"
                                },
                                {
                                    "company": "MSFT",
                                    "year": "2016",
                                    "month": "2",
                                    "monthly_pct_change": "3.21"
                                },
                                {
                                    "company": "MSFT",
                                    "year": "2016",
                                    "month": "3",
                                    "monthly_pct_change": "14.29"
                                },
                                {
                                    "company": "MSFT",
                                    "year": "2016",
                                    "month": "4",
                                    "monthly_pct_change": "-3.35"
                                },
                                {
                                    "company": "MSFT",
                                    "year": "2016",
                                    "month": "5",
                                    "monthly_pct_change": "-5.71"
                                },
                                {
                                    "company": "MSFT",
                                    "year": "2016",
                                    "month": "6",
                                    "monthly_pct_change": "4.66"
                                },
                                {
                                    "company": "MSFT",
                                    "year": "2016",
                                    "month": "7",
                                    "monthly_pct_change": "-3.41"
                                },
                                {
                                    "company": "MSFT",
                                    "year": "2016",
                                    "month": "8",
                                    "monthly_pct_change": "22.68"
                                },
                                {
                                    "company": "MSFT",
                                    "year": "2016",
                                    "month": "9",
                                    "monthly_pct_change": "-9.37"
                                },
                                {
                                    "company": "MSFT",
                                    "year": "2016",
                                    "month": "10",
                                    "monthly_pct_change": "1.93"
                                },
                                {
                                    "company": "MSFT",
                                    "year": "2016",
                                    "month": "11",
                                    "monthly_pct_change": "2.62"
                                },
                                {
                                    "company": "MSFT",
                                    "year": "2016",
                                    "month": "12",
                                    "monthly_pct_change": "3.66"
                                },
                                {
                                    "company": "MSFT",
                                    "year": "2017",
                                    "month": "1",
                                    "monthly_pct_change": "-3.12"
                                },
                                {
                                    "company": "MSFT",
                                    "year": "2017",
                                    "month": "2",
                                    "monthly_pct_change": "-3.61"
                                },
                                {
                                    "company": "MSFT",
                                    "year": "2017",
                                    "month": "3",
                                    "monthly_pct_change": "22.43"
                                },
                                {
                                    "company": "MSFT",
                                    "year": "2017",
                                    "month": "4",
                                    "monthly_pct_change": "-15.7"
                                },
                                {
                                    "company": "MSFT",
                                    "year": "2017",
                                    "month": "5",
                                    "monthly_pct_change": "20.59"
                                },
                                {
                                    "company": "MSFT",
                                    "year": "2017",
                                    "month": "6",
                                    "monthly_pct_change": "2.32"
                                },
                                {
                                    "company": "MSFT",
                                    "year": "2017",
                                    "month": "7",
                                    "monthly_pct_change": "-7.17"
                                },
                                {
                                    "company": "MSFT",
                                    "year": "2017",
                                    "month": "8",
                                    "monthly_pct_change": "16.29"
                                },
                                {
                                    "company": "MSFT",
                                    "year": "2017",
                                    "month": "9",
                                    "monthly_pct_change": "-11.22"
                                },
                                {
                                    "company": "MSFT",
                                    "year": "2017",
                                    "month": "10",
                                    "monthly_pct_change": "15.32"
                                },
                                {
                                    "company": "MSFT",
                                    "year": "2017",
                                    "month": "11",
                                    "monthly_pct_change": "2.53"
                                },
                                {
                                    "company": "MSFT",
                                    "year": "2017",
                                    "month": "12",
                                    "monthly_pct_change": "-3.58"
                                },
                                {
                                    "company": "MSFT",
                                    "year": "2018",
                                    "month": "1",
                                    "monthly_pct_change": "11.59"
                                },
                                {
                                    "company": "MSFT",
                                    "year": "2018",
                                    "month": "2",
                                    "monthly_pct_change": "-8.23"
                                },
                                {
                                    "company": "MSFT",
                                    "year": "2018",
                                    "month": "3",
                                    "monthly_pct_change": "12.38"
                                },
                                {
                                    "company": "MSFT",
                                    "year": "2018",
                                    "month": "4",
                                    "monthly_pct_change": "0.34"
                                },
                                {
                                    "company": "MSFT",
                                    "year": "2018",
                                    "month": "5",
                                    "monthly_pct_change": "9"
                                },
                                {
                                    "company": "MSFT",
                                    "year": "2018",
                                    "month": "6",
                                    "monthly_pct_change": "-1.02"
                                },
                                {
                                    "company": "MSFT",
                                    "year": "2018",
                                    "month": "7",
                                    "monthly_pct_change": "4.05"
                                },
                                {
                                    "company": "MSFT",
                                    "year": "2018",
                                    "month": "8",
                                    "monthly_pct_change": "13.76"
                                },
                                {
                                    "company": "MSFT",
                                    "year": "2018",
                                    "month": "9",
                                    "monthly_pct_change": "-14.69"
                                },
                                {
                                    "company": "MSFT",
                                    "year": "2018",
                                    "month": "10",
                                    "monthly_pct_change": "17.78"
                                },
                                {
                                    "company": "MSFT",
                                    "year": "2018",
                                    "month": "11",
                                    "monthly_pct_change": "-10.29"
                                },
                                {
                                    "company": "MSFT",
                                    "year": "2018",
                                    "month": "12",
                                    "monthly_pct_change": "-11.97"
                                },
                                {
                                    "company": "MSFT",
                                    "year": "2019",
                                    "month": "1",
                                    "monthly_pct_change": "10.25"
                                },
                                {
                                    "company": "MSFT",
                                    "year": "2019",
                                    "month": "2",
                                    "monthly_pct_change": "-6.23"
                                },
                                {
                                    "company": "MSFT",
                                    "year": "2019",
                                    "month": "3",
                                    "monthly_pct_change": "17.91"
                                },
                                {
                                    "company": "MSFT",
                                    "year": "2019",
                                    "month": "4",
                                    "monthly_pct_change": "6.65"
                                },
                                {
                                    "company": "MSFT",
                                    "year": "2019",
                                    "month": "5",
                                    "monthly_pct_change": "7.79"
                                },
                                {
                                    "company": "MSFT",
                                    "year": "2019",
                                    "month": "6",
                                    "monthly_pct_change": "-5.03"
                                },
                                {
                                    "company": "MSFT",
                                    "year": "2019",
                                    "month": "7",
                                    "monthly_pct_change": "15.09"
                                },
                                {
                                    "company": "MSFT",
                                    "year": "2019",
                                    "month": "8",
                                    "monthly_pct_change": "-1.25"
                                },
                                {
                                    "company": "MSFT",
                                    "year": "2019",
                                    "month": "9",
                                    "monthly_pct_change": "-7.93"
                                },
                                {
                                    "company": "MSFT",
                                    "year": "2019",
                                    "month": "10",
                                    "monthly_pct_change": "15.93"
                                },
                                {
                                    "company": "MSFT",
                                    "year": "2019",
                                    "month": "11",
                                    "monthly_pct_change": "-7.51"
                                },
                                {
                                    "company": "MSFT",
                                    "year": "2019",
                                    "month": "12",
                                    "monthly_pct_change": "9.31"
                                },
                                {
                                    "company": "MSFT",
                                    "year": "2020",
                                    "month": "1",
                                    "monthly_pct_change": "6.37"
                                },
                                {
                                    "company": "MSFT",
                                    "year": "2020",
                                    "month": "2",
                                    "monthly_pct_change": "-1.4"
                                },
                                {
                                    "company": "MSFT",
                                    "year": "2020",
                                    "month": "3",
                                    "monthly_pct_change": "-1.16"
                                },
                                {
                                    "company": "MSFT",
                                    "year": "2020",
                                    "month": "4",
                                    "monthly_pct_change": "5.77"
                                },
                                {
                                    "company": "MSFT",
                                    "year": "2020",
                                    "month": "5",
                                    "monthly_pct_change": "2.73"
                                },
                                {
                                    "company": "MSFT",
                                    "year": "2020",
                                    "month": "6",
                                    "monthly_pct_change": "16.25"
                                },
                                {
                                    "company": "MSFT",
                                    "year": "2020",
                                    "month": "7",
                                    "monthly_pct_change": "7.46"
                                },
                                {
                                    "company": "MSFT",
                                    "year": "2020",
                                    "month": "8",
                                    "monthly_pct_change": "-1.19"
                                },
                                {
                                    "company": "MSFT",
                                    "year": "2020",
                                    "month": "9",
                                    "monthly_pct_change": "-2.59"
                                },
                                {
                                    "company": "MSFT",
                                    "year": "2020",
                                    "month": "10",
                                    "monthly_pct_change": "6.81"
                                },
                                {
                                    "company": "MSFT",
                                    "year": "2020",
                                    "month": "11",
                                    "monthly_pct_change": "-8.56"
                                },
                                {
                                    "company": "MSFT",
                                    "year": "2020",
                                    "month": "12",
                                    "monthly_pct_change": "11.96"
                                },
                                {
                                    "company": "MSFT",
                                    "year": "2021",
                                    "month": "1",
                                    "monthly_pct_change": "-12.05"
                                },
                                {
                                    "company": "MSFT",
                                    "year": "2021",
                                    "month": "2",
                                    "monthly_pct_change": "8.15"
                                },
                                {
                                    "company": "MSFT",
                                    "year": "2021",
                                    "month": "3",
                                    "monthly_pct_change": "17.83"
                                },
                                {
                                    "company": "MSFT",
                                    "year": "2021",
                                    "month": "4",
                                    "monthly_pct_change": "-0.14"
                                },
                                {
                                    "company": "MSFT",
                                    "year": "2021",
                                    "month": "5",
                                    "monthly_pct_change": "-7.81"
                                },
                                {
                                    "company": "MSFT",
                                    "year": "2021",
                                    "month": "6",
                                    "monthly_pct_change": "15.17"
                                },
                                {
                                    "company": "MSFT",
                                    "year": "2021",
                                    "month": "7",
                                    "monthly_pct_change": "3.74"
                                },
                                {
                                    "company": "MSFT",
                                    "year": "2021",
                                    "month": "8",
                                    "monthly_pct_change": "9.53"
                                },
                                {
                                    "company": "MSFT",
                                    "year": "2021",
                                    "month": "9",
                                    "monthly_pct_change": "-3.72"
                                },
                                {
                                    "company": "MSFT",
                                    "year": "2021",
                                    "month": "10",
                                    "monthly_pct_change": "2.25"
                                },
                                {
                                    "company": "MSFT",
                                    "year": "2021",
                                    "month": "11",
                                    "monthly_pct_change": "10.65"
                                },
                                {
                                    "company": "MSFT",
                                    "year": "2021",
                                    "month": "12",
                                    "monthly_pct_change": "3.81"
                                },
                                {
                                    "company": "MSFT",
                                    "year": "2022",
                                    "month": "1",
                                    "monthly_pct_change": "-15.66"
                                },
                                {
                                    "company": "MSFT",
                                    "year": "2022",
                                    "month": "2",
                                    "monthly_pct_change": "-8.08"
                                },
                                {
                                    "company": "MSFT",
                                    "year": "2022",
                                    "month": "3",
                                    "monthly_pct_change": "19.85"
                                },
                                {
                                    "company": "MSFT",
                                    "year": "2022",
                                    "month": "4",
                                    "monthly_pct_change": "-15.08"
                                },
                                {
                                    "company": "MSFT",
                                    "year": "2022",
                                    "month": "5",
                                    "monthly_pct_change": "-3.03"
                                },
                                {
                                    "company": "MSFT",
                                    "year": "2022",
                                    "month": "6",
                                    "monthly_pct_change": "-2.71"
                                },
                                {
                                    "company": "MSFT",
                                    "year": "2022",
                                    "month": "7",
                                    "monthly_pct_change": "-3.77"
                                },
                                {
                                    "company": "MSFT",
                                    "year": "2022",
                                    "month": "8",
                                    "monthly_pct_change": "23.05"
                                },
                                {
                                    "company": "MSFT",
                                    "year": "2022",
                                    "month": "9",
                                    "monthly_pct_change": "-19.39"
                                },
                                {
                                    "company": "MSFT",
                                    "year": "2022",
                                    "month": "10",
                                    "monthly_pct_change": "-4.31"
                                },
                                {
                                    "company": "MSFT",
                                    "year": "2022",
                                    "month": "11",
                                    "monthly_pct_change": "0.1"
                                },
                                {
                                    "company": "MSFT",
                                    "year": "2022",
                                    "month": "12",
                                    "monthly_pct_change": "3.53"
                                },
                                {
                                    "company": "MSFT",
                                    "year": "2023",
                                    "month": "1",
                                    "monthly_pct_change": "-8"
                                },
                                {
                                    "company": "MSFT",
                                    "year": "2023",
                                    "month": "2",
                                    "monthly_pct_change": "3.97"
                                },
                                {
                                    "company": "MSFT",
                                    "year": "2023",
                                    "month": "3",
                                    "monthly_pct_change": "24.34"
                                },
                                {
                                    "company": "MSFT",
                                    "year": "2023",
                                    "month": "4",
                                    "monthly_pct_change": "-10.61"
                                },
                                {
                                    "company": "MSFT",
                                    "year": "2023",
                                    "month": "5",
                                    "monthly_pct_change": "26.17"
                                },
                                {
                                    "company": "MSFT",
                                    "year": "2023",
                                    "month": "6",
                                    "monthly_pct_change": "1.57"
                                },
                                {
                                    "company": "MSFT",
                                    "year": "2023",
                                    "month": "7",
                                    "monthly_pct_change": "-51.77"
                                },
                                {
                                    "company": "NFLX",
                                    "year": "2013",
                                    "month": "7",
                                    "monthly_pct_change": "NULL"
                                },
                                {
                                    "company": "NFLX",
                                    "year": "2013",
                                    "month": "8",
                                    "monthly_pct_change": "131.51"
                                },
                                {
                                    "company": "NFLX",
                                    "year": "2013",
                                    "month": "9",
                                    "monthly_pct_change": "4.42"
                                },
                                {
                                    "company": "NFLX",
                                    "year": "2013",
                                    "month": "10",
                                    "monthly_pct_change": "21.92"
                                },
                                {
                                    "company": "NFLX",
                                    "year": "2013",
                                    "month": "11",
                                    "monthly_pct_change": "-7.38"
                                },
                                {
                                    "company": "NFLX",
                                    "year": "2013",
                                    "month": "12",
                                    "monthly_pct_change": "12.78"
                                },
                                {
                                    "company": "NFLX",
                                    "year": "2014",
                                    "month": "1",
                                    "monthly_pct_change": "-2.43"
                                },
                                {
                                    "company": "NFLX",
                                    "year": "2014",
                                    "month": "2",
                                    "monthly_pct_change": "8.69"
                                },
                                {
                                    "company": "NFLX",
                                    "year": "2014",
                                    "month": "3",
                                    "monthly_pct_change": "6.28"
                                },
                                {
                                    "company": "NFLX",
                                    "year": "2014",
                                    "month": "4",
                                    "monthly_pct_change": "-17.9"
                                },
                                {
                                    "company": "NFLX",
                                    "year": "2014",
                                    "month": "5",
                                    "monthly_pct_change": "6.4"
                                },
                                {
                                    "company": "NFLX",
                                    "year": "2014",
                                    "month": "6",
                                    "monthly_pct_change": "19.56"
                                },
                                {
                                    "company": "NFLX",
                                    "year": "2014",
                                    "month": "7",
                                    "monthly_pct_change": "6.97"
                                },
                                {
                                    "company": "NFLX",
                                    "year": "2014",
                                    "month": "8",
                                    "monthly_pct_change": "-1.35"
                                },
                                {
                                    "company": "NFLX",
                                    "year": "2014",
                                    "month": "9",
                                    "monthly_pct_change": "1.22"
                                },
                                {
                                    "company": "NFLX",
                                    "year": "2014",
                                    "month": "10",
                                    "monthly_pct_change": "-2.39"
                                },
                                {
                                    "company": "NFLX",
                                    "year": "2014",
                                    "month": "11",
                                    "monthly_pct_change": "-25.21"
                                },
                                {
                                    "company": "NFLX",
                                    "year": "2014",
                                    "month": "12",
                                    "monthly_pct_change": "5.3"
                                },
                                {
                                    "company": "NFLX",
                                    "year": "2015",
                                    "month": "1",
                                    "monthly_pct_change": "0.08"
                                },
                                {
                                    "company": "NFLX",
                                    "year": "2015",
                                    "month": "2",
                                    "monthly_pct_change": "17.63"
                                },
                                {
                                    "company": "NFLX",
                                    "year": "2015",
                                    "month": "3",
                                    "monthly_pct_change": "9.47"
                                },
                                {
                                    "company": "NFLX",
                                    "year": "2015",
                                    "month": "4",
                                    "monthly_pct_change": "10.32"
                                },
                                {
                                    "company": "NFLX",
                                    "year": "2015",
                                    "month": "5",
                                    "monthly_pct_change": "12.29"
                                },
                                {
                                    "company": "NFLX",
                                    "year": "2015",
                                    "month": "6",
                                    "monthly_pct_change": "20.33"
                                },
                                {
                                    "company": "NFLX",
                                    "year": "2015",
                                    "month": "7",
                                    "monthly_pct_change": "11.84"
                                },
                                {
                                    "company": "NFLX",
                                    "year": "2015",
                                    "month": "8",
                                    "monthly_pct_change": "7.6"
                                },
                                {
                                    "company": "NFLX",
                                    "year": "2015",
                                    "month": "9",
                                    "monthly_pct_change": "-14.41"
                                },
                                {
                                    "company": "NFLX",
                                    "year": "2015",
                                    "month": "10",
                                    "monthly_pct_change": "9.99"
                                },
                                {
                                    "company": "NFLX",
                                    "year": "2015",
                                    "month": "11",
                                    "monthly_pct_change": "-0.07"
                                },
                                {
                                    "company": "NFLX",
                                    "year": "2015",
                                    "month": "12",
                                    "monthly_pct_change": "14.95"
                                },
                                {
                                    "company": "NFLX",
                                    "year": "2016",
                                    "month": "1",
                                    "monthly_pct_change": "-24.92"
                                },
                                {
                                    "company": "NFLX",
                                    "year": "2016",
                                    "month": "2",
                                    "monthly_pct_change": "-10.19"
                                },
                                {
                                    "company": "NFLX",
                                    "year": "2016",
                                    "month": "3",
                                    "monthly_pct_change": "21.43"
                                },
                                {
                                    "company": "NFLX",
                                    "year": "2016",
                                    "month": "4",
                                    "monthly_pct_change": "-3.11"
                                },
                                {
                                    "company": "NFLX",
                                    "year": "2016",
                                    "month": "5",
                                    "monthly_pct_change": "-7.58"
                                },
                                {
                                    "company": "NFLX",
                                    "year": "2016",
                                    "month": "6",
                                    "monthly_pct_change": "6.03"
                                },
                                {
                                    "company": "NFLX",
                                    "year": "2016",
                                    "month": "7",
                                    "monthly_pct_change": "-10.19"
                                },
                                {
                                    "company": "NFLX",
                                    "year": "2016",
                                    "month": "8",
                                    "monthly_pct_change": "18.04"
                                },
                                {
                                    "company": "NFLX",
                                    "year": "2016",
                                    "month": "9",
                                    "monthly_pct_change": "-6.95"
                                },
                                {
                                    "company": "NFLX",
                                    "year": "2016",
                                    "month": "10",
                                    "monthly_pct_change": "16.12"
                                },
                                {
                                    "company": "NFLX",
                                    "year": "2016",
                                    "month": "11",
                                    "monthly_pct_change": "4.62"
                                },
                                {
                                    "company": "NFLX",
                                    "year": "2016",
                                    "month": "12",
                                    "monthly_pct_change": "4.75"
                                },
                                {
                                    "company": "NFLX",
                                    "year": "2017",
                                    "month": "1",
                                    "monthly_pct_change": "3.59"
                                },
                                {
                                    "company": "NFLX",
                                    "year": "2017",
                                    "month": "2",
                                    "monthly_pct_change": "0.37"
                                },
                                {
                                    "company": "NFLX",
                                    "year": "2017",
                                    "month": "3",
                                    "monthly_pct_change": "21.67"
                                },
                                {
                                    "company": "NFLX",
                                    "year": "2017",
                                    "month": "4",
                                    "monthly_pct_change": "-16.1"
                                },
                                {
                                    "company": "NFLX",
                                    "year": "2017",
                                    "month": "5",
                                    "monthly_pct_change": "26.09"
                                },
                                {
                                    "company": "NFLX",
                                    "year": "2017",
                                    "month": "6",
                                    "monthly_pct_change": "-1.19"
                                },
                                {
                                    "company": "NFLX",
                                    "year": "2017",
                                    "month": "7",
                                    "monthly_pct_change": "-1.58"
                                },
                                {
                                    "company": "NFLX",
                                    "year": "2017",
                                    "month": "8",
                                    "monthly_pct_change": "17"
                                },
                                {
                                    "company": "NFLX",
                                    "year": "2017",
                                    "month": "9",
                                    "monthly_pct_change": "-8.36"
                                },
                                {
                                    "company": "NFLX",
                                    "year": "2017",
                                    "month": "10",
                                    "monthly_pct_change": "17.64"
                                },
                                {
                                    "company": "NFLX",
                                    "year": "2017",
                                    "month": "11",
                                    "monthly_pct_change": "-4.08"
                                },
                                {
                                    "company": "NFLX",
                                    "year": "2017",
                                    "month": "12",
                                    "monthly_pct_change": "-8.36"
                                },
                                {
                                    "company": "NFLX",
                                    "year": "2018",
                                    "month": "1",
                                    "monthly_pct_change": "30.18"
                                },
                                {
                                    "company": "NFLX",
                                    "year": "2018",
                                    "month": "2",
                                    "monthly_pct_change": "5.45"
                                },
                                {
                                    "company": "NFLX",
                                    "year": "2018",
                                    "month": "3",
                                    "monthly_pct_change": "27.13"
                                },
                                {
                                    "company": "NFLX",
                                    "year": "2018",
                                    "month": "4",
                                    "monthly_pct_change": "-1.53"
                                },
                                {
                                    "company": "NFLX",
                                    "year": "2018",
                                    "month": "5",
                                    "monthly_pct_change": "12.96"
                                },
                                {
                                    "company": "NFLX",
                                    "year": "2018",
                                    "month": "6",
                                    "monthly_pct_change": "10.6"
                                },
                                {
                                    "company": "NFLX",
                                    "year": "2018",
                                    "month": "7",
                                    "monthly_pct_change": "-0.68"
                                },
                                {
                                    "company": "NFLX",
                                    "year": "2018",
                                    "month": "8",
                                    "monthly_pct_change": "-0.6"
                                },
                                {
                                    "company": "NFLX",
                                    "year": "2018",
                                    "month": "9",
                                    "monthly_pct_change": "-13.48"
                                },
                                {
                                    "company": "NFLX",
                                    "year": "2018",
                                    "month": "10",
                                    "monthly_pct_change": "11.97"
                                },
                                {
                                    "company": "NFLX",
                                    "year": "2018",
                                    "month": "11",
                                    "monthly_pct_change": "-20.97"
                                },
                                {
                                    "company": "NFLX",
                                    "year": "2018",
                                    "month": "12",
                                    "monthly_pct_change": "-17.33"
                                },
                                {
                                    "company": "NFLX",
                                    "year": "2019",
                                    "month": "1",
                                    "monthly_pct_change": "35.74"
                                },
                                {
                                    "company": "NFLX",
                                    "year": "2019",
                                    "month": "2",
                                    "monthly_pct_change": "-1.25"
                                },
                                {
                                    "company": "NFLX",
                                    "year": "2019",
                                    "month": "3",
                                    "monthly_pct_change": "11.72"
                                },
                                {
                                    "company": "NFLX",
                                    "year": "2019",
                                    "month": "4",
                                    "monthly_pct_change": "1.87"
                                },
                                {
                                    "company": "NFLX",
                                    "year": "2019",
                                    "month": "5",
                                    "monthly_pct_change": "2.84"
                                },
                                {
                                    "company": "NFLX",
                                    "year": "2019",
                                    "month": "6",
                                    "monthly_pct_change": "-9.8"
                                },
                                {
                                    "company": "NFLX",
                                    "year": "2019",
                                    "month": "7",
                                    "monthly_pct_change": "8.2"
                                },
                                {
                                    "company": "NFLX",
                                    "year": "2019",
                                    "month": "8",
                                    "monthly_pct_change": "-13.58"
                                },
                                {
                                    "company": "NFLX",
                                    "year": "2019",
                                    "month": "9",
                                    "monthly_pct_change": "-15.44"
                                },
                                {
                                    "company": "NFLX",
                                    "year": "2019",
                                    "month": "10",
                                    "monthly_pct_change": "13.24"
                                },
                                {
                                    "company": "NFLX",
                                    "year": "2019",
                                    "month": "11",
                                    "monthly_pct_change": "-6.31"
                                },
                                {
                                    "company": "NFLX",
                                    "year": "2019",
                                    "month": "12",
                                    "monthly_pct_change": "10.43"
                                },
                                {
                                    "company": "NFLX",
                                    "year": "2020",
                                    "month": "1",
                                    "monthly_pct_change": "7.7"
                                },
                                {
                                    "company": "NFLX",
                                    "year": "2020",
                                    "month": "2",
                                    "monthly_pct_change": "-0.14"
                                },
                                {
                                    "company": "NFLX",
                                    "year": "2020",
                                    "month": "3",
                                    "monthly_pct_change": "8.54"
                                },
                                {
                                    "company": "NFLX",
                                    "year": "2020",
                                    "month": "4",
                                    "monthly_pct_change": "10.08"
                                },
                                {
                                    "company": "NFLX",
                                    "year": "2020",
                                    "month": "5",
                                    "monthly_pct_change": "2.07"
                                },
                                {
                                    "company": "NFLX",
                                    "year": "2020",
                                    "month": "6",
                                    "monthly_pct_change": "11.44"
                                },
                                {
                                    "company": "NFLX",
                                    "year": "2020",
                                    "month": "7",
                                    "monthly_pct_change": "13.76"
                                },
                                {
                                    "company": "NFLX",
                                    "year": "2020",
                                    "month": "8",
                                    "monthly_pct_change": "-4.8"
                                },
                                {
                                    "company": "NFLX",
                                    "year": "2020",
                                    "month": "9",
                                    "monthly_pct_change": "-0.51"
                                },
                                {
                                    "company": "NFLX",
                                    "year": "2020",
                                    "month": "10",
                                    "monthly_pct_change": "8.9"
                                },
                                {
                                    "company": "NFLX",
                                    "year": "2020",
                                    "month": "11",
                                    "monthly_pct_change": "-13.98"
                                },
                                {
                                    "company": "NFLX",
                                    "year": "2020",
                                    "month": "12",
                                    "monthly_pct_change": "16.57"
                                },
                                {
                                    "company": "NFLX",
                                    "year": "2021",
                                    "month": "1",
                                    "monthly_pct_change": "-11.92"
                                },
                                {
                                    "company": "NFLX",
                                    "year": "2021",
                                    "month": "2",
                                    "monthly_pct_change": "4.2"
                                },
                                {
                                    "company": "NFLX",
                                    "year": "2021",
                                    "month": "3",
                                    "monthly_pct_change": "14.25"
                                },
                                {
                                    "company": "NFLX",
                                    "year": "2021",
                                    "month": "4",
                                    "monthly_pct_change": "-6.05"
                                },
                                {
                                    "company": "NFLX",
                                    "year": "2021",
                                    "month": "5",
                                    "monthly_pct_change": "-11.27"
                                },
                                {
                                    "company": "NFLX",
                                    "year": "2021",
                                    "month": "6",
                                    "monthly_pct_change": "11.46"
                                },
                                {
                                    "company": "NFLX",
                                    "year": "2021",
                                    "month": "7",
                                    "monthly_pct_change": "0.26"
                                },
                                {
                                    "company": "NFLX",
                                    "year": "2021",
                                    "month": "8",
                                    "monthly_pct_change": "5.49"
                                },
                                {
                                    "company": "NFLX",
                                    "year": "2021",
                                    "month": "9",
                                    "monthly_pct_change": "5.93"
                                },
                                {
                                    "company": "NFLX",
                                    "year": "2021",
                                    "month": "10",
                                    "monthly_pct_change": "8.7"
                                },
                                {
                                    "company": "NFLX",
                                    "year": "2021",
                                    "month": "11",
                                    "monthly_pct_change": "3.94"
                                },
                                {
                                    "company": "NFLX",
                                    "year": "2021",
                                    "month": "12",
                                    "monthly_pct_change": "-4.5"
                                },
                                {
                                    "company": "NFLX",
                                    "year": "2022",
                                    "month": "1",
                                    "monthly_pct_change": "-27.11"
                                },
                                {
                                    "company": "NFLX",
                                    "year": "2022",
                                    "month": "2",
                                    "monthly_pct_change": "-21.92"
                                },
                                {
                                    "company": "NFLX",
                                    "year": "2022",
                                    "month": "3",
                                    "monthly_pct_change": "10.73"
                                },
                                {
                                    "company": "NFLX",
                                    "year": "2022",
                                    "month": "4",
                                    "monthly_pct_change": "-29.49"
                                },
                                {
                                    "company": "NFLX",
                                    "year": "2022",
                                    "month": "5",
                                    "monthly_pct_change": "-34.18"
                                },
                                {
                                    "company": "NFLX",
                                    "year": "2022",
                                    "month": "6",
                                    "monthly_pct_change": "-0.86"
                                },
                                {
                                    "company": "NFLX",
                                    "year": "2022",
                                    "month": "7",
                                    "monthly_pct_change": "2.58"
                                },
                                {
                                    "company": "NFLX",
                                    "year": "2022",
                                    "month": "8",
                                    "monthly_pct_change": "34.6"
                                },
                                {
                                    "company": "NFLX",
                                    "year": "2022",
                                    "month": "9",
                                    "monthly_pct_change": "-9.05"
                                },
                                {
                                    "company": "NFLX",
                                    "year": "2022",
                                    "month": "10",
                                    "monthly_pct_change": "10.41"
                                },
                                {
                                    "company": "NFLX",
                                    "year": "2022",
                                    "month": "11",
                                    "monthly_pct_change": "10.5"
                                },
                                {
                                    "company": "NFLX",
                                    "year": "2022",
                                    "month": "12",
                                    "monthly_pct_change": "6.66"
                                },
                                {
                                    "company": "NFLX",
                                    "year": "2023",
                                    "month": "1",
                                    "monthly_pct_change": "5.55"
                                },
                                {
                                    "company": "NFLX",
                                    "year": "2023",
                                    "month": "2",
                                    "monthly_pct_change": "-0.93"
                                },
                                {
                                    "company": "NFLX",
                                    "year": "2023",
                                    "month": "3",
                                    "monthly_pct_change": "8.4"
                                },
                                {
                                    "company": "NFLX",
                                    "year": "2023",
                                    "month": "4",
                                    "monthly_pct_change": "-11.8"
                                },
                                {
                                    "company": "NFLX",
                                    "year": "2023",
                                    "month": "5",
                                    "monthly_pct_change": "20.55"
                                },
                                {
                                    "company": "NFLX",
                                    "year": "2023",
                                    "month": "6",
                                    "monthly_pct_change": "15.78"
                                },
                                {
                                    "company": "NFLX",
                                    "year": "2023",
                                    "month": "7",
                                    "monthly_pct_change": "-49.92"
                                },
                                {
                                    "company": "QCOM",
                                    "year": "2013",
                                    "month": "7",
                                    "monthly_pct_change": "NULL"
                                },
                                {
                                    "company": "QCOM",
                                    "year": "2013",
                                    "month": "8",
                                    "monthly_pct_change": "132.23"
                                },
                                {
                                    "company": "QCOM",
                                    "year": "2013",
                                    "month": "9",
                                    "monthly_pct_change": "-6.32"
                                },
                                {
                                    "company": "QCOM",
                                    "year": "2013",
                                    "month": "10",
                                    "monthly_pct_change": "13.98"
                                },
                                {
                                    "company": "QCOM",
                                    "year": "2013",
                                    "month": "11",
                                    "monthly_pct_change": "-9.39"
                                },
                                {
                                    "company": "QCOM",
                                    "year": "2013",
                                    "month": "12",
                                    "monthly_pct_change": "8.63"
                                },
                                {
                                    "company": "QCOM",
                                    "year": "2014",
                                    "month": "1",
                                    "monthly_pct_change": "0.78"
                                },
                                {
                                    "company": "QCOM",
                                    "year": "2014",
                                    "month": "2",
                                    "monthly_pct_change": "-8.07"
                                },
                                {
                                    "company": "QCOM",
                                    "year": "2014",
                                    "month": "3",
                                    "monthly_pct_change": "13.8"
                                },
                                {
                                    "company": "QCOM",
                                    "year": "2014",
                                    "month": "4",
                                    "monthly_pct_change": "2.76"
                                },
                                {
                                    "company": "QCOM",
                                    "year": "2014",
                                    "month": "5",
                                    "monthly_pct_change": "0.59"
                                },
                                {
                                    "company": "QCOM",
                                    "year": "2014",
                                    "month": "6",
                                    "monthly_pct_change": "-0.46"
                                },
                                {
                                    "company": "QCOM",
                                    "year": "2014",
                                    "month": "7",
                                    "monthly_pct_change": "4.06"
                                },
                                {
                                    "company": "QCOM",
                                    "year": "2014",
                                    "month": "8",
                                    "monthly_pct_change": "-9.32"
                                },
                                {
                                    "company": "QCOM",
                                    "year": "2014",
                                    "month": "9",
                                    "monthly_pct_change": "0.82"
                                },
                                {
                                    "company": "QCOM",
                                    "year": "2014",
                                    "month": "10",
                                    "monthly_pct_change": "7.63"
                                },
                                {
                                    "company": "QCOM",
                                    "year": "2014",
                                    "month": "11",
                                    "monthly_pct_change": "-19.91"
                                },
                                {
                                    "company": "QCOM",
                                    "year": "2014",
                                    "month": "12",
                                    "monthly_pct_change": "17.7"
                                },
                                {
                                    "company": "QCOM",
                                    "year": "2015",
                                    "month": "1",
                                    "monthly_pct_change": "-10.84"
                                },
                                {
                                    "company": "QCOM",
                                    "year": "2015",
                                    "month": "2",
                                    "monthly_pct_change": "-7.66"
                                },
                                {
                                    "company": "QCOM",
                                    "year": "2015",
                                    "month": "3",
                                    "monthly_pct_change": "16.14"
                                },
                                {
                                    "company": "QCOM",
                                    "year": "2015",
                                    "month": "4",
                                    "monthly_pct_change": "-6.61"
                                },
                                {
                                    "company": "QCOM",
                                    "year": "2015",
                                    "month": "5",
                                    "monthly_pct_change": "-3.27"
                                },
                                {
                                    "company": "QCOM",
                                    "year": "2015",
                                    "month": "6",
                                    "monthly_pct_change": "5.78"
                                },
                                {
                                    "company": "QCOM",
                                    "year": "2015",
                                    "month": "7",
                                    "monthly_pct_change": "-5.34"
                                },
                                {
                                    "company": "QCOM",
                                    "year": "2015",
                                    "month": "8",
                                    "monthly_pct_change": "-8.82"
                                },
                                {
                                    "company": "QCOM",
                                    "year": "2015",
                                    "month": "9",
                                    "monthly_pct_change": "-10.1"
                                },
                                {
                                    "company": "QCOM",
                                    "year": "2015",
                                    "month": "10",
                                    "monthly_pct_change": "12.38"
                                },
                                {
                                    "company": "QCOM",
                                    "year": "2015",
                                    "month": "11",
                                    "monthly_pct_change": "-18.48"
                                },
                                {
                                    "company": "QCOM",
                                    "year": "2015",
                                    "month": "12",
                                    "monthly_pct_change": "3.94"
                                },
                                {
                                    "company": "QCOM",
                                    "year": "2016",
                                    "month": "1",
                                    "monthly_pct_change": "-17.92"
                                },
                                {
                                    "company": "QCOM",
                                    "year": "2016",
                                    "month": "2",
                                    "monthly_pct_change": "5.69"
                                },
                                {
                                    "company": "QCOM",
                                    "year": "2016",
                                    "month": "3",
                                    "monthly_pct_change": "20.84"
                                },
                                {
                                    "company": "QCOM",
                                    "year": "2016",
                                    "month": "4",
                                    "monthly_pct_change": "-5.17"
                                },
                                {
                                    "company": "QCOM",
                                    "year": "2016",
                                    "month": "5",
                                    "monthly_pct_change": "2.62"
                                },
                                {
                                    "company": "QCOM",
                                    "year": "2016",
                                    "month": "6",
                                    "monthly_pct_change": "6.84"
                                },
                                {
                                    "company": "QCOM",
                                    "year": "2016",
                                    "month": "7",
                                    "monthly_pct_change": "-4.18"
                                },
                                {
                                    "company": "QCOM",
                                    "year": "2016",
                                    "month": "8",
                                    "monthly_pct_change": "26.11"
                                },
                                {
                                    "company": "QCOM",
                                    "year": "2016",
                                    "month": "9",
                                    "monthly_pct_change": "-7.29"
                                },
                                {
                                    "company": "QCOM",
                                    "year": "2016",
                                    "month": "10",
                                    "monthly_pct_change": "6.34"
                                },
                                {
                                    "company": "QCOM",
                                    "year": "2016",
                                    "month": "11",
                                    "monthly_pct_change": "0.21"
                                },
                                {
                                    "company": "QCOM",
                                    "year": "2016",
                                    "month": "12",
                                    "monthly_pct_change": "-0.4"
                                },
                                {
                                    "company": "QCOM",
                                    "year": "2017",
                                    "month": "1",
                                    "monthly_pct_change": "-12.57"
                                },
                                {
                                    "company": "QCOM",
                                    "year": "2017",
                                    "month": "2",
                                    "monthly_pct_change": "-15"
                                },
                                {
                                    "company": "QCOM",
                                    "year": "2017",
                                    "month": "3",
                                    "monthly_pct_change": "26.13"
                                },
                                {
                                    "company": "QCOM",
                                    "year": "2017",
                                    "month": "4",
                                    "monthly_pct_change": "-21.98"
                                },
                                {
                                    "company": "QCOM",
                                    "year": "2017",
                                    "month": "5",
                                    "monthly_pct_change": "19.9"
                                },
                                {
                                    "company": "QCOM",
                                    "year": "2017",
                                    "month": "6",
                                    "monthly_pct_change": "1.68"
                                },
                                {
                                    "company": "QCOM",
                                    "year": "2017",
                                    "month": "7",
                                    "monthly_pct_change": "-12.67"
                                },
                                {
                                    "company": "QCOM",
                                    "year": "2017",
                                    "month": "8",
                                    "monthly_pct_change": "10.28"
                                },
                                {
                                    "company": "QCOM",
                                    "year": "2017",
                                    "month": "9",
                                    "monthly_pct_change": "-15.03"
                                },
                                {
                                    "company": "QCOM",
                                    "year": "2017",
                                    "month": "10",
                                    "monthly_pct_change": "13.33"
                                },
                                {
                                    "company": "QCOM",
                                    "year": "2017",
                                    "month": "11",
                                    "monthly_pct_change": "16.98"
                                },
                                {
                                    "company": "QCOM",
                                    "year": "2017",
                                    "month": "12",
                                    "monthly_pct_change": "-4.95"
                                },
                                {
                                    "company": "QCOM",
                                    "year": "2018",
                                    "month": "1",
                                    "monthly_pct_change": "8.7"
                                },
                                {
                                    "company": "QCOM",
                                    "year": "2018",
                                    "month": "2",
                                    "monthly_pct_change": "-12.61"
                                },
                                {
                                    "company": "QCOM",
                                    "year": "2018",
                                    "month": "3",
                                    "monthly_pct_change": "1.65"
                                },
                                {
                                    "company": "QCOM",
                                    "year": "2018",
                                    "month": "4",
                                    "monthly_pct_change": "-10.56"
                                },
                                {
                                    "company": "QCOM",
                                    "year": "2018",
                                    "month": "5",
                                    "monthly_pct_change": "9.51"
                                },
                                {
                                    "company": "QCOM",
                                    "year": "2018",
                                    "month": "6",
                                    "monthly_pct_change": "0.45"
                                },
                                {
                                    "company": "QCOM",
                                    "year": "2018",
                                    "month": "7",
                                    "monthly_pct_change": "0.89"
                                },
                                {
                                    "company": "QCOM",
                                    "year": "2018",
                                    "month": "8",
                                    "monthly_pct_change": "22.92"
                                },
                                {
                                    "company": "QCOM",
                                    "year": "2018",
                                    "month": "9",
                                    "monthly_pct_change": "-9.52"
                                },
                                {
                                    "company": "QCOM",
                                    "year": "2018",
                                    "month": "10",
                                    "monthly_pct_change": "11.19"
                                },
                                {
                                    "company": "QCOM",
                                    "year": "2018",
                                    "month": "11",
                                    "monthly_pct_change": "-21.1"
                                },
                                {
                                    "company": "QCOM",
                                    "year": "2018",
                                    "month": "12",
                                    "monthly_pct_change": "-10.78"
                                },
                                {
                                    "company": "QCOM",
                                    "year": "2019",
                                    "month": "1",
                                    "monthly_pct_change": "5.48"
                                },
                                {
                                    "company": "QCOM",
                                    "year": "2019",
                                    "month": "2",
                                    "monthly_pct_change": "-13.8"
                                },
                                {
                                    "company": "QCOM",
                                    "year": "2019",
                                    "month": "3",
                                    "monthly_pct_change": "19.3"
                                },
                                {
                                    "company": "QCOM",
                                    "year": "2019",
                                    "month": "4",
                                    "monthly_pct_change": "24.71"
                                },
                                {
                                    "company": "QCOM",
                                    "year": "2019",
                                    "month": "5",
                                    "monthly_pct_change": "18.66"
                                },
                                {
                                    "company": "QCOM",
                                    "year": "2019",
                                    "month": "6",
                                    "monthly_pct_change": "-18.16"
                                },
                                {
                                    "company": "QCOM",
                                    "year": "2019",
                                    "month": "7",
                                    "monthly_pct_change": "16.97"
                                },
                                {
                                    "company": "QCOM",
                                    "year": "2019",
                                    "month": "8",
                                    "monthly_pct_change": "-3.44"
                                },
                                {
                                    "company": "QCOM",
                                    "year": "2019",
                                    "month": "9",
                                    "monthly_pct_change": "-2.99"
                                },
                                {
                                    "company": "QCOM",
                                    "year": "2019",
                                    "month": "10",
                                    "monthly_pct_change": "14.97"
                                },
                                {
                                    "company": "QCOM",
                                    "year": "2019",
                                    "month": "11",
                                    "monthly_pct_change": "-2.11"
                                },
                                {
                                    "company": "QCOM",
                                    "year": "2019",
                                    "month": "12",
                                    "monthly_pct_change": "3.88"
                                },
                                {
                                    "company": "QCOM",
                                    "year": "2020",
                                    "month": "1",
                                    "monthly_pct_change": "3.75"
                                },
                                {
                                    "company": "QCOM",
                                    "year": "2020",
                                    "month": "2",
                                    "monthly_pct_change": "-12.67"
                                },
                                {
                                    "company": "QCOM",
                                    "year": "2020",
                                    "month": "3",
                                    "monthly_pct_change": "-5.86"
                                },
                                {
                                    "company": "QCOM",
                                    "year": "2020",
                                    "month": "4",
                                    "monthly_pct_change": "-0.2"
                                },
                                {
                                    "company": "QCOM",
                                    "year": "2020",
                                    "month": "5",
                                    "monthly_pct_change": "1.57"
                                },
                                {
                                    "company": "QCOM",
                                    "year": "2020",
                                    "month": "6",
                                    "monthly_pct_change": "23.06"
                                },
                                {
                                    "company": "QCOM",
                                    "year": "2020",
                                    "month": "7",
                                    "monthly_pct_change": "6.13"
                                },
                                {
                                    "company": "QCOM",
                                    "year": "2020",
                                    "month": "8",
                                    "monthly_pct_change": "15.46"
                                },
                                {
                                    "company": "QCOM",
                                    "year": "2020",
                                    "month": "9",
                                    "monthly_pct_change": "1.88"
                                },
                                {
                                    "company": "QCOM",
                                    "year": "2020",
                                    "month": "10",
                                    "monthly_pct_change": "14.04"
                                },
                                {
                                    "company": "QCOM",
                                    "year": "2020",
                                    "month": "11",
                                    "monthly_pct_change": "3.55"
                                },
                                {
                                    "company": "QCOM",
                                    "year": "2020",
                                    "month": "12",
                                    "monthly_pct_change": "16.13"
                                },
                                {
                                    "company": "QCOM",
                                    "year": "2021",
                                    "month": "1",
                                    "monthly_pct_change": "-9.43"
                                },
                                {
                                    "company": "QCOM",
                                    "year": "2021",
                                    "month": "2",
                                    "monthly_pct_change": "-7.11"
                                },
                                {
                                    "company": "QCOM",
                                    "year": "2021",
                                    "month": "3",
                                    "monthly_pct_change": "8.28"
                                },
                                {
                                    "company": "QCOM",
                                    "year": "2021",
                                    "month": "4",
                                    "monthly_pct_change": "-4.16"
                                },
                                {
                                    "company": "QCOM",
                                    "year": "2021",
                                    "month": "5",
                                    "monthly_pct_change": "-8.64"
                                },
                                {
                                    "company": "QCOM",
                                    "year": "2021",
                                    "month": "6",
                                    "monthly_pct_change": "13.03"
                                },
                                {
                                    "company": "QCOM",
                                    "year": "2021",
                                    "month": "7",
                                    "monthly_pct_change": "0.12"
                                },
                                {
                                    "company": "QCOM",
                                    "year": "2021",
                                    "month": "8",
                                    "monthly_pct_change": "7.19"
                                },
                                {
                                    "company": "QCOM",
                                    "year": "2021",
                                    "month": "9",
                                    "monthly_pct_change": "-9.82"
                                },
                                {
                                    "company": "QCOM",
                                    "year": "2021",
                                    "month": "10",
                                    "monthly_pct_change": "-5.89"
                                },
                                {
                                    "company": "QCOM",
                                    "year": "2021",
                                    "month": "11",
                                    "monthly_pct_change": "30.14"
                                },
                                {
                                    "company": "QCOM",
                                    "year": "2021",
                                    "month": "12",
                                    "monthly_pct_change": "12.78"
                                },
                                {
                                    "company": "QCOM",
                                    "year": "2022",
                                    "month": "1",
                                    "monthly_pct_change": "-11.29"
                                },
                                {
                                    "company": "QCOM",
                                    "year": "2022",
                                    "month": "2",
                                    "monthly_pct_change": "-7.22"
                                },
                                {
                                    "company": "QCOM",
                                    "year": "2022",
                                    "month": "3",
                                    "monthly_pct_change": "8.89"
                                },
                                {
                                    "company": "QCOM",
                                    "year": "2022",
                                    "month": "4",
                                    "monthly_pct_change": "-21.89"
                                },
                                {
                                    "company": "QCOM",
                                    "year": "2022",
                                    "month": "5",
                                    "monthly_pct_change": "2.67"
                                },
                                {
                                    "company": "QCOM",
                                    "year": "2022",
                                    "month": "6",
                                    "monthly_pct_change": "-3.79"
                                },
                                {
                                    "company": "QCOM",
                                    "year": "2022",
                                    "month": "7",
                                    "monthly_pct_change": "2.66"
                                },
                                {
                                    "company": "QCOM",
                                    "year": "2022",
                                    "month": "8",
                                    "monthly_pct_change": "18.03"
                                },
                                {
                                    "company": "QCOM",
                                    "year": "2022",
                                    "month": "9",
                                    "monthly_pct_change": "-21.7"
                                },
                                {
                                    "company": "QCOM",
                                    "year": "2022",
                                    "month": "10",
                                    "monthly_pct_change": "-6.97"
                                },
                                {
                                    "company": "QCOM",
                                    "year": "2022",
                                    "month": "11",
                                    "monthly_pct_change": "2.11"
                                },
                                {
                                    "company": "QCOM",
                                    "year": "2022",
                                    "month": "12",
                                    "monthly_pct_change": "-1.51"
                                },
                                {
                                    "company": "QCOM",
                                    "year": "2023",
                                    "month": "1",
                                    "monthly_pct_change": "-0.25"
                                },
                                {
                                    "company": "QCOM",
                                    "year": "2023",
                                    "month": "2",
                                    "monthly_pct_change": "1.09"
                                },
                                {
                                    "company": "QCOM",
                                    "year": "2023",
                                    "month": "3",
                                    "monthly_pct_change": "13.18"
                                },
                                {
                                    "company": "QCOM",
                                    "year": "2023",
                                    "month": "4",
                                    "monthly_pct_change": "-18.75"
                                },
                                {
                                    "company": "QCOM",
                                    "year": "2023",
                                    "month": "5",
                                    "monthly_pct_change": "4.41"
                                },
                                {
                                    "company": "QCOM",
                                    "year": "2023",
                                    "month": "6",
                                    "monthly_pct_change": "4.73"
                                },
                                {
                                    "company": "QCOM",
                                    "year": "2023",
                                    "month": "7",
                                    "monthly_pct_change": "-52.09"
                                },
                                {
                                    "company": "SBUX",
                                    "year": "2013",
                                    "month": "7",
                                    "monthly_pct_change": "NULL"
                                },
                                {
                                    "company": "SBUX",
                                    "year": "2013",
                                    "month": "8",
                                    "monthly_pct_change": "126.66"
                                },
                                {
                                    "company": "SBUX",
                                    "year": "2013",
                                    "month": "9",
                                    "monthly_pct_change": "-5.06"
                                },
                                {
                                    "company": "SBUX",
                                    "year": "2013",
                                    "month": "10",
                                    "monthly_pct_change": "20"
                                },
                                {
                                    "company": "SBUX",
                                    "year": "2013",
                                    "month": "11",
                                    "monthly_pct_change": "-10.2"
                                },
                                {
                                    "company": "SBUX",
                                    "year": "2013",
                                    "month": "12",
                                    "monthly_pct_change": "1.58"
                                },
                                {
                                    "company": "SBUX",
                                    "year": "2014",
                                    "month": "1",
                                    "monthly_pct_change": "-4.1"
                                },
                                {
                                    "company": "SBUX",
                                    "year": "2014",
                                    "month": "2",
                                    "monthly_pct_change": "-12.39"
                                },
                                {
                                    "company": "SBUX",
                                    "year": "2014",
                                    "month": "3",
                                    "monthly_pct_change": "12.6"
                                },
                                {
                                    "company": "SBUX",
                                    "year": "2014",
                                    "month": "4",
                                    "monthly_pct_change": "-4.07"
                                },
                                {
                                    "company": "SBUX",
                                    "year": "2014",
                                    "month": "5",
                                    "monthly_pct_change": "0.12"
                                },
                                {
                                    "company": "SBUX",
                                    "year": "2014",
                                    "month": "6",
                                    "monthly_pct_change": "6.56"
                                },
                                {
                                    "company": "SBUX",
                                    "year": "2014",
                                    "month": "7",
                                    "monthly_pct_change": "8.65"
                                },
                                {
                                    "company": "SBUX",
                                    "year": "2014",
                                    "month": "8",
                                    "monthly_pct_change": "-5.9"
                                },
                                {
                                    "company": "SBUX",
                                    "year": "2014",
                                    "month": "9",
                                    "monthly_pct_change": "-2.03"
                                },
                                {
                                    "company": "SBUX",
                                    "year": "2014",
                                    "month": "10",
                                    "monthly_pct_change": "7.81"
                                },
                                {
                                    "company": "SBUX",
                                    "year": "2014",
                                    "month": "11",
                                    "monthly_pct_change": "-13.49"
                                },
                                {
                                    "company": "SBUX",
                                    "year": "2014",
                                    "month": "12",
                                    "monthly_pct_change": "20.64"
                                },
                                {
                                    "company": "SBUX",
                                    "year": "2015",
                                    "month": "1",
                                    "monthly_pct_change": "-7.47"
                                },
                                {
                                    "company": "SBUX",
                                    "year": "2015",
                                    "month": "2",
                                    "monthly_pct_change": "4.77"
                                },
                                {
                                    "company": "SBUX",
                                    "year": "2015",
                                    "month": "3",
                                    "monthly_pct_change": "19.71"
                                },
                                {
                                    "company": "SBUX",
                                    "year": "2015",
                                    "month": "4",
                                    "monthly_pct_change": "-1.99"
                                },
                                {
                                    "company": "SBUX",
                                    "year": "2015",
                                    "month": "5",
                                    "monthly_pct_change": "-0.9"
                                },
                                {
                                    "company": "SBUX",
                                    "year": "2015",
                                    "month": "6",
                                    "monthly_pct_change": "15.23"
                                },
                                {
                                    "company": "SBUX",
                                    "year": "2015",
                                    "month": "7",
                                    "monthly_pct_change": "5.38"
                                },
                                {
                                    "company": "SBUX",
                                    "year": "2015",
                                    "month": "8",
                                    "monthly_pct_change": "-4.14"
                                },
                                {
                                    "company": "SBUX",
                                    "year": "2015",
                                    "month": "9",
                                    "monthly_pct_change": "0.38"
                                },
                                {
                                    "company": "SBUX",
                                    "year": "2015",
                                    "month": "10",
                                    "monthly_pct_change": "12.76"
                                },
                                {
                                    "company": "SBUX",
                                    "year": "2015",
                                    "month": "11",
                                    "monthly_pct_change": "-7.33"
                                },
                                {
                                    "company": "SBUX",
                                    "year": "2015",
                                    "month": "12",
                                    "monthly_pct_change": "7.88"
                                },
                                {
                                    "company": "SBUX",
                                    "year": "2016",
                                    "month": "1",
                                    "monthly_pct_change": "-16.78"
                                },
                                {
                                    "company": "SBUX",
                                    "year": "2016",
                                    "month": "2",
                                    "monthly_pct_change": "3.62"
                                },
                                {
                                    "company": "SBUX",
                                    "year": "2016",
                                    "month": "3",
                                    "monthly_pct_change": "12.83"
                                },
                                {
                                    "company": "SBUX",
                                    "year": "2016",
                                    "month": "4",
                                    "monthly_pct_change": "-3.4"
                                },
                                {
                                    "company": "SBUX",
                                    "year": "2016",
                                    "month": "5",
                                    "monthly_pct_change": "-6.53"
                                },
                                {
                                    "company": "SBUX",
                                    "year": "2016",
                                    "month": "6",
                                    "monthly_pct_change": "4.06"
                                },
                                {
                                    "company": "SBUX",
                                    "year": "2016",
                                    "month": "7",
                                    "monthly_pct_change": "-5.84"
                                },
                                {
                                    "company": "SBUX",
                                    "year": "2016",
                                    "month": "8",
                                    "monthly_pct_change": "12.45"
                                },
                                {
                                    "company": "SBUX",
                                    "year": "2016",
                                    "month": "9",
                                    "monthly_pct_change": "-11.26"
                                },
                                {
                                    "company": "SBUX",
                                    "year": "2016",
                                    "month": "10",
                                    "monthly_pct_change": "-2.07"
                                },
                                {
                                    "company": "SBUX",
                                    "year": "2016",
                                    "month": "11",
                                    "monthly_pct_change": "3.47"
                                },
                                {
                                    "company": "SBUX",
                                    "year": "2016",
                                    "month": "12",
                                    "monthly_pct_change": "4.48"
                                },
                                {
                                    "company": "SBUX",
                                    "year": "2017",
                                    "month": "1",
                                    "monthly_pct_change": "-5.23"
                                },
                                {
                                    "company": "SBUX",
                                    "year": "2017",
                                    "month": "2",
                                    "monthly_pct_change": "-6.89"
                                },
                                {
                                    "company": "SBUX",
                                    "year": "2017",
                                    "month": "3",
                                    "monthly_pct_change": "20.94"
                                },
                                {
                                    "company": "SBUX",
                                    "year": "2017",
                                    "month": "4",
                                    "monthly_pct_change": "-13.1"
                                },
                                {
                                    "company": "SBUX",
                                    "year": "2017",
                                    "month": "5",
                                    "monthly_pct_change": "19.73"
                                },
                                {
                                    "company": "SBUX",
                                    "year": "2017",
                                    "month": "6",
                                    "monthly_pct_change": "-0.2"
                                },
                                {
                                    "company": "SBUX",
                                    "year": "2017",
                                    "month": "7",
                                    "monthly_pct_change": "-13.86"
                                },
                                {
                                    "company": "SBUX",
                                    "year": "2017",
                                    "month": "8",
                                    "monthly_pct_change": "7.7"
                                },
                                {
                                    "company": "SBUX",
                                    "year": "2017",
                                    "month": "9",
                                    "monthly_pct_change": "-12.42"
                                },
                                {
                                    "company": "SBUX",
                                    "year": "2017",
                                    "month": "10",
                                    "monthly_pct_change": "10.65"
                                },
                                {
                                    "company": "SBUX",
                                    "year": "2017",
                                    "month": "11",
                                    "monthly_pct_change": "-1.15"
                                },
                                {
                                    "company": "SBUX",
                                    "year": "2017",
                                    "month": "12",
                                    "monthly_pct_change": "-2.17"
                                },
                                {
                                    "company": "SBUX",
                                    "year": "2018",
                                    "month": "1",
                                    "monthly_pct_change": "7.21"
                                },
                                {
                                    "company": "SBUX",
                                    "year": "2018",
                                    "month": "2",
                                    "monthly_pct_change": "-15.29"
                                },
                                {
                                    "company": "SBUX",
                                    "year": "2018",
                                    "month": "3",
                                    "monthly_pct_change": "14.81"
                                },
                                {
                                    "company": "SBUX",
                                    "year": "2018",
                                    "month": "4",
                                    "monthly_pct_change": "1.27"
                                },
                                {
                                    "company": "SBUX",
                                    "year": "2018",
                                    "month": "5",
                                    "monthly_pct_change": "2.28"
                                },
                                {
                                    "company": "SBUX",
                                    "year": "2018",
                                    "month": "6",
                                    "monthly_pct_change": "-9.44"
                                },
                                {
                                    "company": "SBUX",
                                    "year": "2018",
                                    "month": "7",
                                    "monthly_pct_change": "-6.63"
                                },
                                {
                                    "company": "SBUX",
                                    "year": "2018",
                                    "month": "8",
                                    "monthly_pct_change": "13.65"
                                },
                                {
                                    "company": "SBUX",
                                    "year": "2018",
                                    "month": "9",
                                    "monthly_pct_change": "-12.85"
                                },
                                {
                                    "company": "SBUX",
                                    "year": "2018",
                                    "month": "10",
                                    "monthly_pct_change": "25"
                                },
                                {
                                    "company": "SBUX",
                                    "year": "2018",
                                    "month": "11",
                                    "monthly_pct_change": "5.91"
                                },
                                {
                                    "company": "SBUX",
                                    "year": "2018",
                                    "month": "12",
                                    "monthly_pct_change": "-12.12"
                                },
                                {
                                    "company": "SBUX",
                                    "year": "2019",
                                    "month": "1",
                                    "monthly_pct_change": "10.99"
                                },
                                {
                                    "company": "SBUX",
                                    "year": "2019",
                                    "month": "2",
                                    "monthly_pct_change": "-2.4"
                                },
                                {
                                    "company": "SBUX",
                                    "year": "2019",
                                    "month": "3",
                                    "monthly_pct_change": "12.82"
                                },
                                {
                                    "company": "SBUX",
                                    "year": "2019",
                                    "month": "4",
                                    "monthly_pct_change": "6"
                                },
                                {
                                    "company": "SBUX",
                                    "year": "2019",
                                    "month": "5",
                                    "monthly_pct_change": "6.9"
                                },
                                {
                                    "company": "SBUX",
                                    "year": "2019",
                                    "month": "6",
                                    "monthly_pct_change": "-2.92"
                                },
                                {
                                    "company": "SBUX",
                                    "year": "2019",
                                    "month": "7",
                                    "monthly_pct_change": "20.64"
                                },
                                {
                                    "company": "SBUX",
                                    "year": "2019",
                                    "month": "8",
                                    "monthly_pct_change": "5.98"
                                },
                                {
                                    "company": "SBUX",
                                    "year": "2019",
                                    "month": "9",
                                    "monthly_pct_change": "-13.14"
                                },
                                {
                                    "company": "SBUX",
                                    "year": "2019",
                                    "month": "10",
                                    "monthly_pct_change": "6.79"
                                },
                                {
                                    "company": "SBUX",
                                    "year": "2019",
                                    "month": "11",
                                    "monthly_pct_change": "-14.74"
                                },
                                {
                                    "company": "SBUX",
                                    "year": "2019",
                                    "month": "12",
                                    "monthly_pct_change": "9.77"
                                },
                                {
                                    "company": "SBUX",
                                    "year": "2020",
                                    "month": "1",
                                    "monthly_pct_change": "3.14"
                                },
                                {
                                    "company": "SBUX",
                                    "year": "2020",
                                    "month": "2",
                                    "monthly_pct_change": "-13.36"
                                },
                                {
                                    "company": "SBUX",
                                    "year": "2020",
                                    "month": "3",
                                    "monthly_pct_change": "-9.05"
                                },
                                {
                                    "company": "SBUX",
                                    "year": "2020",
                                    "month": "4",
                                    "monthly_pct_change": "2.61"
                                },
                                {
                                    "company": "SBUX",
                                    "year": "2020",
                                    "month": "5",
                                    "monthly_pct_change": "-0.75"
                                },
                                {
                                    "company": "SBUX",
                                    "year": "2020",
                                    "month": "6",
                                    "monthly_pct_change": "11.55"
                                },
                                {
                                    "company": "SBUX",
                                    "year": "2020",
                                    "month": "7",
                                    "monthly_pct_change": "-2.46"
                                },
                                {
                                    "company": "SBUX",
                                    "year": "2020",
                                    "month": "8",
                                    "monthly_pct_change": "0.48"
                                },
                                {
                                    "company": "SBUX",
                                    "year": "2020",
                                    "month": "9",
                                    "monthly_pct_change": "8.48"
                                },
                                {
                                    "company": "SBUX",
                                    "year": "2020",
                                    "month": "10",
                                    "monthly_pct_change": "8.52"
                                },
                                {
                                    "company": "SBUX",
                                    "year": "2020",
                                    "month": "11",
                                    "monthly_pct_change": "-2.7"
                                },
                                {
                                    "company": "SBUX",
                                    "year": "2020",
                                    "month": "12",
                                    "monthly_pct_change": "19.1"
                                },
                                {
                                    "company": "SBUX",
                                    "year": "2021",
                                    "month": "1",
                                    "monthly_pct_change": "-13.69"
                                },
                                {
                                    "company": "SBUX",
                                    "year": "2021",
                                    "month": "2",
                                    "monthly_pct_change": "1.39"
                                },
                                {
                                    "company": "SBUX",
                                    "year": "2021",
                                    "month": "3",
                                    "monthly_pct_change": "25.03"
                                },
                                {
                                    "company": "SBUX",
                                    "year": "2021",
                                    "month": "4",
                                    "monthly_pct_change": "-2.6"
                                },
                                {
                                    "company": "SBUX",
                                    "year": "2021",
                                    "month": "5",
                                    "monthly_pct_change": "-6.59"
                                },
                                {
                                    "company": "SBUX",
                                    "year": "2021",
                                    "month": "6",
                                    "monthly_pct_change": "9.32"
                                },
                                {
                                    "company": "SBUX",
                                    "year": "2021",
                                    "month": "7",
                                    "monthly_pct_change": "1.96"
                                },
                                {
                                    "company": "SBUX",
                                    "year": "2021",
                                    "month": "8",
                                    "monthly_pct_change": "2.28"
                                },
                                {
                                    "company": "SBUX",
                                    "year": "2021",
                                    "month": "9",
                                    "monthly_pct_change": "-5.78"
                                },
                                {
                                    "company": "SBUX",
                                    "year": "2021",
                                    "month": "10",
                                    "monthly_pct_change": "-2.46"
                                },
                                {
                                    "company": "SBUX",
                                    "year": "2021",
                                    "month": "11",
                                    "monthly_pct_change": "0.02"
                                },
                                {
                                    "company": "SBUX",
                                    "year": "2021",
                                    "month": "12",
                                    "monthly_pct_change": "5.91"
                                },
                                {
                                    "company": "SBUX",
                                    "year": "2022",
                                    "month": "1",
                                    "monthly_pct_change": "-18.16"
                                },
                                {
                                    "company": "SBUX",
                                    "year": "2022",
                                    "month": "2",
                                    "monthly_pct_change": "-12.38"
                                },
                                {
                                    "company": "SBUX",
                                    "year": "2022",
                                    "month": "3",
                                    "monthly_pct_change": "12.45"
                                },
                                {
                                    "company": "SBUX",
                                    "year": "2022",
                                    "month": "4",
                                    "monthly_pct_change": "-20.08"
                                },
                                {
                                    "company": "SBUX",
                                    "year": "2022",
                                    "month": "5",
                                    "monthly_pct_change": "-3.27"
                                },
                                {
                                    "company": "SBUX",
                                    "year": "2022",
                                    "month": "6",
                                    "monthly_pct_change": "2.38"
                                },
                                {
                                    "company": "SBUX",
                                    "year": "2022",
                                    "month": "7",
                                    "monthly_pct_change": "1.29"
                                },
                                {
                                    "company": "SBUX",
                                    "year": "2022",
                                    "month": "8",
                                    "monthly_pct_change": "22.74"
                                },
                                {
                                    "company": "SBUX",
                                    "year": "2022",
                                    "month": "9",
                                    "monthly_pct_change": "-7.18"
                                },
                                {
                                    "company": "SBUX",
                                    "year": "2022",
                                    "month": "10",
                                    "monthly_pct_change": "-0.48"
                                },
                                {
                                    "company": "SBUX",
                                    "year": "2022",
                                    "month": "11",
                                    "monthly_pct_change": "9.18"
                                },
                                {
                                    "company": "SBUX",
                                    "year": "2022",
                                    "month": "12",
                                    "monthly_pct_change": "5.79"
                                },
                                {
                                    "company": "SBUX",
                                    "year": "2023",
                                    "month": "1",
                                    "monthly_pct_change": "0.36"
                                },
                                {
                                    "company": "SBUX",
                                    "year": "2023",
                                    "month": "2",
                                    "monthly_pct_change": "-5.12"
                                },
                                {
                                    "company": "SBUX",
                                    "year": "2023",
                                    "month": "3",
                                    "monthly_pct_change": "15"
                                },
                                {
                                    "company": "SBUX",
                                    "year": "2023",
                                    "month": "4",
                                    "monthly_pct_change": "-11.72"
                                },
                                {
                                    "company": "SBUX",
                                    "year": "2023",
                                    "month": "5",
                                    "monthly_pct_change": "12.63"
                                },
                                {
                                    "company": "SBUX",
                                    "year": "2023",
                                    "month": "6",
                                    "monthly_pct_change": "-9.36"
                                },
                                {
                                    "company": "SBUX",
                                    "year": "2023",
                                    "month": "7",
                                    "monthly_pct_change": "-52.37"
                                },
                                {
                                    "company": "TSLA",
                                    "year": "2013",
                                    "month": "7",
                                    "monthly_pct_change": "NULL"
                                },
                                {
                                    "company": "TSLA",
                                    "year": "2013",
                                    "month": "8",
                                    "monthly_pct_change": "162.74"
                                },
                                {
                                    "company": "TSLA",
                                    "year": "2013",
                                    "month": "9",
                                    "monthly_pct_change": "5.14"
                                },
                                {
                                    "company": "TSLA",
                                    "year": "2013",
                                    "month": "10",
                                    "monthly_pct_change": "15.47"
                                },
                                {
                                    "company": "TSLA",
                                    "year": "2013",
                                    "month": "11",
                                    "monthly_pct_change": "-31.67"
                                },
                                {
                                    "company": "TSLA",
                                    "year": "2013",
                                    "month": "12",
                                    "monthly_pct_change": "10.76"
                                },
                                {
                                    "company": "TSLA",
                                    "year": "2014",
                                    "month": "1",
                                    "monthly_pct_change": "13.29"
                                },
                                {
                                    "company": "TSLA",
                                    "year": "2014",
                                    "month": "2",
                                    "monthly_pct_change": "13.63"
                                },
                                {
                                    "company": "TSLA",
                                    "year": "2014",
                                    "month": "3",
                                    "monthly_pct_change": "25.07"
                                },
                                {
                                    "company": "TSLA",
                                    "year": "2014",
                                    "month": "4",
                                    "monthly_pct_change": "-10.66"
                                },
                                {
                                    "company": "TSLA",
                                    "year": "2014",
                                    "month": "5",
                                    "monthly_pct_change": "-4.13"
                                },
                                {
                                    "company": "TSLA",
                                    "year": "2014",
                                    "month": "6",
                                    "monthly_pct_change": "10.01"
                                },
                                {
                                    "company": "TSLA",
                                    "year": "2014",
                                    "month": "7",
                                    "monthly_pct_change": "6.47"
                                },
                                {
                                    "company": "TSLA",
                                    "year": "2014",
                                    "month": "8",
                                    "monthly_pct_change": "9.29"
                                },
                                {
                                    "company": "TSLA",
                                    "year": "2014",
                                    "month": "9",
                                    "monthly_pct_change": "3.64"
                                },
                                {
                                    "company": "TSLA",
                                    "year": "2014",
                                    "month": "10",
                                    "monthly_pct_change": "-1.04"
                                },
                                {
                                    "company": "TSLA",
                                    "year": "2014",
                                    "month": "11",
                                    "monthly_pct_change": "-14.9"
                                },
                                {
                                    "company": "TSLA",
                                    "year": "2014",
                                    "month": "12",
                                    "monthly_pct_change": "2.68"
                                },
                                {
                                    "company": "TSLA",
                                    "year": "2015",
                                    "month": "1",
                                    "monthly_pct_change": "-15.5"
                                },
                                {
                                    "company": "TSLA",
                                    "year": "2015",
                                    "month": "2",
                                    "monthly_pct_change": "-1.54"
                                },
                                {
                                    "company": "TSLA",
                                    "year": "2015",
                                    "month": "3",
                                    "monthly_pct_change": "7.03"
                                },
                                {
                                    "company": "TSLA",
                                    "year": "2015",
                                    "month": "4",
                                    "monthly_pct_change": "3.74"
                                },
                                {
                                    "company": "TSLA",
                                    "year": "2015",
                                    "month": "5",
                                    "monthly_pct_change": "9.01"
                                },
                                {
                                    "company": "TSLA",
                                    "year": "2015",
                                    "month": "6",
                                    "monthly_pct_change": "16.71"
                                },
                                {
                                    "company": "TSLA",
                                    "year": "2015",
                                    "month": "7",
                                    "monthly_pct_change": "3.74"
                                },
                                {
                                    "company": "TSLA",
                                    "year": "2015",
                                    "month": "8",
                                    "monthly_pct_change": "-12.44"
                                },
                                {
                                    "company": "TSLA",
                                    "year": "2015",
                                    "month": "9",
                                    "monthly_pct_change": "3.41"
                                },
                                {
                                    "company": "TSLA",
                                    "year": "2015",
                                    "month": "10",
                                    "monthly_pct_change": "-8.04"
                                },
                                {
                                    "company": "TSLA",
                                    "year": "2015",
                                    "month": "11",
                                    "monthly_pct_change": "-9.53"
                                },
                                {
                                    "company": "TSLA",
                                    "year": "2015",
                                    "month": "12",
                                    "monthly_pct_change": "14.61"
                                },
                                {
                                    "company": "TSLA",
                                    "year": "2016",
                                    "month": "1",
                                    "monthly_pct_change": "-23.23"
                                },
                                {
                                    "company": "TSLA",
                                    "year": "2016",
                                    "month": "2",
                                    "monthly_pct_change": "-12.69"
                                },
                                {
                                    "company": "TSLA",
                                    "year": "2016",
                                    "month": "3",
                                    "monthly_pct_change": "40.12"
                                },
                                {
                                    "company": "TSLA",
                                    "year": "2016",
                                    "month": "4",
                                    "monthly_pct_change": "10.82"
                                },
                                {
                                    "company": "TSLA",
                                    "year": "2016",
                                    "month": "5",
                                    "monthly_pct_change": "-13.67"
                                },
                                {
                                    "company": "TSLA",
                                    "year": "2016",
                                    "month": "6",
                                    "monthly_pct_change": "3.89"
                                },
                                {
                                    "company": "TSLA",
                                    "year": "2016",
                                    "month": "7",
                                    "monthly_pct_change": "-5.47"
                                },
                                {
                                    "company": "TSLA",
                                    "year": "2016",
                                    "month": "8",
                                    "monthly_pct_change": "15.18"
                                },
                                {
                                    "company": "TSLA",
                                    "year": "2016",
                                    "month": "9",
                                    "monthly_pct_change": "-17.46"
                                },
                                {
                                    "company": "TSLA",
                                    "year": "2016",
                                    "month": "10",
                                    "monthly_pct_change": "-0.28"
                                },
                                {
                                    "company": "TSLA",
                                    "year": "2016",
                                    "month": "11",
                                    "monthly_pct_change": "-6.21"
                                },
                                {
                                    "company": "TSLA",
                                    "year": "2016",
                                    "month": "12",
                                    "monthly_pct_change": "6.04"
                                },
                                {
                                    "company": "TSLA",
                                    "year": "2017",
                                    "month": "1",
                                    "monthly_pct_change": "13.64"
                                },
                                {
                                    "company": "TSLA",
                                    "year": "2017",
                                    "month": "2",
                                    "monthly_pct_change": "4.69"
                                },
                                {
                                    "company": "TSLA",
                                    "year": "2017",
                                    "month": "3",
                                    "monthly_pct_change": "18.5"
                                },
                                {
                                    "company": "TSLA",
                                    "year": "2017",
                                    "month": "4",
                                    "monthly_pct_change": "-2.47"
                                },
                                {
                                    "company": "TSLA",
                                    "year": "2017",
                                    "month": "5",
                                    "monthly_pct_change": "20.25"
                                },
                                {
                                    "company": "TSLA",
                                    "year": "2017",
                                    "month": "6",
                                    "monthly_pct_change": "15.57"
                                },
                                {
                                    "company": "TSLA",
                                    "year": "2017",
                                    "month": "7",
                                    "monthly_pct_change": "-18.29"
                                },
                                {
                                    "company": "TSLA",
                                    "year": "2017",
                                    "month": "8",
                                    "monthly_pct_change": "22.73"
                                },
                                {
                                    "company": "TSLA",
                                    "year": "2017",
                                    "month": "9",
                                    "monthly_pct_change": "-11.31"
                                },
                                {
                                    "company": "TSLA",
                                    "year": "2017",
                                    "month": "10",
                                    "monthly_pct_change": "5.95"
                                },
                                {
                                    "company": "TSLA",
                                    "year": "2017",
                                    "month": "11",
                                    "monthly_pct_change": "-14.1"
                                },
                                {
                                    "company": "TSLA",
                                    "year": "2017",
                                    "month": "12",
                                    "monthly_pct_change": "-0.88"
                                },
                                {
                                    "company": "TSLA",
                                    "year": "2018",
                                    "month": "1",
                                    "monthly_pct_change": "10.11"
                                },
                                {
                                    "company": "TSLA",
                                    "year": "2018",
                                    "month": "2",
                                    "monthly_pct_change": "-10.27"
                                },
                                {
                                    "company": "TSLA",
                                    "year": "2018",
                                    "month": "3",
                                    "monthly_pct_change": "4"
                                },
                                {
                                    "company": "TSLA",
                                    "year": "2018",
                                    "month": "4",
                                    "monthly_pct_change": "-8.29"
                                },
                                {
                                    "company": "TSLA",
                                    "year": "2018",
                                    "month": "5",
                                    "monthly_pct_change": "4.79"
                                },
                                {
                                    "company": "TSLA",
                                    "year": "2018",
                                    "month": "6",
                                    "monthly_pct_change": "10.52"
                                },
                                {
                                    "company": "TSLA",
                                    "year": "2018",
                                    "month": "7",
                                    "monthly_pct_change": "-7.04"
                                },
                                {
                                    "company": "TSLA",
                                    "year": "2018",
                                    "month": "8",
                                    "monthly_pct_change": "16.28"
                                },
                                {
                                    "company": "TSLA",
                                    "year": "2018",
                                    "month": "9",
                                    "monthly_pct_change": "-27.63"
                                },
                                {
                                    "company": "TSLA",
                                    "year": "2018",
                                    "month": "10",
                                    "monthly_pct_change": "18.9"
                                },
                                {
                                    "company": "TSLA",
                                    "year": "2018",
                                    "month": "11",
                                    "monthly_pct_change": "10.37"
                                },
                                {
                                    "company": "TSLA",
                                    "year": "2018",
                                    "month": "12",
                                    "monthly_pct_change": "-9.62"
                                },
                                {
                                    "company": "TSLA",
                                    "year": "2019",
                                    "month": "1",
                                    "monthly_pct_change": "2.29"
                                },
                                {
                                    "company": "TSLA",
                                    "year": "2019",
                                    "month": "2",
                                    "monthly_pct_change": "-12.57"
                                },
                                {
                                    "company": "TSLA",
                                    "year": "2019",
                                    "month": "3",
                                    "monthly_pct_change": "-0.25"
                                },
                                {
                                    "company": "TSLA",
                                    "year": "2019",
                                    "month": "4",
                                    "monthly_pct_change": "-4"
                                },
                                {
                                    "company": "TSLA",
                                    "year": "2019",
                                    "month": "5",
                                    "monthly_pct_change": "-13.68"
                                },
                                {
                                    "company": "TSLA",
                                    "year": "2019",
                                    "month": "6",
                                    "monthly_pct_change": "-11.57"
                                },
                                {
                                    "company": "TSLA",
                                    "year": "2019",
                                    "month": "7",
                                    "monthly_pct_change": "24.75"
                                },
                                {
                                    "company": "TSLA",
                                    "year": "2019",
                                    "month": "8",
                                    "monthly_pct_change": "-7.13"
                                },
                                {
                                    "company": "TSLA",
                                    "year": "2019",
                                    "month": "9",
                                    "monthly_pct_change": "-4.18"
                                },
                                {
                                    "company": "TSLA",
                                    "year": "2019",
                                    "month": "10",
                                    "monthly_pct_change": "29.11"
                                },
                                {
                                    "company": "TSLA",
                                    "year": "2019",
                                    "month": "11",
                                    "monthly_pct_change": "10.45"
                                },
                                {
                                    "company": "TSLA",
                                    "year": "2019",
                                    "month": "12",
                                    "monthly_pct_change": "17.22"
                                },
                                {
                                    "company": "TSLA",
                                    "year": "2020",
                                    "month": "1",
                                    "monthly_pct_change": "39.97"
                                },
                                {
                                    "company": "TSLA",
                                    "year": "2020",
                                    "month": "2",
                                    "monthly_pct_change": "36.48"
                                },
                                {
                                    "company": "TSLA",
                                    "year": "2020",
                                    "month": "3",
                                    "monthly_pct_change": "-18.82"
                                },
                                {
                                    "company": "TSLA",
                                    "year": "2020",
                                    "month": "4",
                                    "monthly_pct_change": "13.3"
                                },
                                {
                                    "company": "TSLA",
                                    "year": "2020",
                                    "month": "5",
                                    "monthly_pct_change": "14.73"
                                },
                                {
                                    "company": "TSLA",
                                    "year": "2020",
                                    "month": "6",
                                    "monthly_pct_change": "32.58"
                                },
                                {
                                    "company": "TSLA",
                                    "year": "2020",
                                    "month": "7",
                                    "monthly_pct_change": "51.54"
                                },
                                {
                                    "company": "TSLA",
                                    "year": "2020",
                                    "month": "8",
                                    "monthly_pct_change": "17.69"
                                },
                                {
                                    "company": "TSLA",
                                    "year": "2020",
                                    "month": "9",
                                    "monthly_pct_change": "14.84"
                                },
                                {
                                    "company": "TSLA",
                                    "year": "2020",
                                    "month": "10",
                                    "monthly_pct_change": "8.24"
                                },
                                {
                                    "company": "TSLA",
                                    "year": "2020",
                                    "month": "11",
                                    "monthly_pct_change": "-0.92"
                                },
                                {
                                    "company": "TSLA",
                                    "year": "2020",
                                    "month": "12",
                                    "monthly_pct_change": "50.92"
                                },
                                {
                                    "company": "TSLA",
                                    "year": "2021",
                                    "month": "1",
                                    "monthly_pct_change": "12.04"
                                },
                                {
                                    "company": "TSLA",
                                    "year": "2021",
                                    "month": "2",
                                    "monthly_pct_change": "-4.16"
                                },
                                {
                                    "company": "TSLA",
                                    "year": "2021",
                                    "month": "3",
                                    "monthly_pct_change": "0.1"
                                },
                                {
                                    "company": "TSLA",
                                    "year": "2021",
                                    "month": "4",
                                    "monthly_pct_change": "-1.35"
                                },
                                {
                                    "company": "TSLA",
                                    "year": "2021",
                                    "month": "5",
                                    "monthly_pct_change": "-17.23"
                                },
                                {
                                    "company": "TSLA",
                                    "year": "2021",
                                    "month": "6",
                                    "monthly_pct_change": "11.81"
                                },
                                {
                                    "company": "TSLA",
                                    "year": "2021",
                                    "month": "7",
                                    "monthly_pct_change": "0.36"
                                },
                                {
                                    "company": "TSLA",
                                    "year": "2021",
                                    "month": "8",
                                    "monthly_pct_change": "12.09"
                                },
                                {
                                    "company": "TSLA",
                                    "year": "2021",
                                    "month": "9",
                                    "monthly_pct_change": "2.05"
                                },
                                {
                                    "company": "TSLA",
                                    "year": "2021",
                                    "month": "10",
                                    "monthly_pct_change": "16.5"
                                },
                                {
                                    "company": "TSLA",
                                    "year": "2021",
                                    "month": "11",
                                    "monthly_pct_change": "27.59"
                                },
                                {
                                    "company": "TSLA",
                                    "year": "2021",
                                    "month": "12",
                                    "monthly_pct_change": "-4.75"
                                },
                                {
                                    "company": "TSLA",
                                    "year": "2022",
                                    "month": "1",
                                    "monthly_pct_change": "-9.87"
                                },
                                {
                                    "company": "TSLA",
                                    "year": "2022",
                                    "month": "2",
                                    "monthly_pct_change": "-17.35"
                                },
                                {
                                    "company": "TSLA",
                                    "year": "2022",
                                    "month": "3",
                                    "monthly_pct_change": "25.94"
                                },
                                {
                                    "company": "TSLA",
                                    "year": "2022",
                                    "month": "4",
                                    "monthly_pct_change": "-5.15"
                                },
                                {
                                    "company": "TSLA",
                                    "year": "2022",
                                    "month": "5",
                                    "monthly_pct_change": "-19.39"
                                },
                                {
                                    "company": "TSLA",
                                    "year": "2022",
                                    "month": "6",
                                    "monthly_pct_change": "-8.31"
                                },
                                {
                                    "company": "TSLA",
                                    "year": "2022",
                                    "month": "7",
                                    "monthly_pct_change": "2.31"
                                },
                                {
                                    "company": "TSLA",
                                    "year": "2022",
                                    "month": "8",
                                    "monthly_pct_change": "34.89"
                                },
                                {
                                    "company": "TSLA",
                                    "year": "2022",
                                    "month": "9",
                                    "monthly_pct_change": "-10.6"
                                },
                                {
                                    "company": "TSLA",
                                    "year": "2022",
                                    "month": "10",
                                    "monthly_pct_change": "-22.49"
                                },
                                {
                                    "company": "TSLA",
                                    "year": "2022",
                                    "month": "11",
                                    "monthly_pct_change": "-14.55"
                                },
                                {
                                    "company": "TSLA",
                                    "year": "2022",
                                    "month": "12",
                                    "monthly_pct_change": "-20.01"
                                },
                                {
                                    "company": "TSLA",
                                    "year": "2023",
                                    "month": "1",
                                    "monthly_pct_change": "-16.45"
                                },
                                {
                                    "company": "TSLA",
                                    "year": "2023",
                                    "month": "2",
                                    "monthly_pct_change": "41.42"
                                },
                                {
                                    "company": "TSLA",
                                    "year": "2023",
                                    "month": "3",
                                    "monthly_pct_change": "14.23"
                                },
                                {
                                    "company": "TSLA",
                                    "year": "2023",
                                    "month": "4",
                                    "monthly_pct_change": "-22.46"
                                },
                                {
                                    "company": "TSLA",
                                    "year": "2023",
                                    "month": "5",
                                    "monthly_pct_change": "15.03"
                                },
                                {
                                    "company": "TSLA",
                                    "year": "2023",
                                    "month": "6",
                                    "monthly_pct_change": "33.62"
                                },
                                {
                                    "company": "TSLA",
                                    "year": "2023",
                                    "month": "7",
                                    "monthly_pct_change": "-46.32"
                                }
                            ]
                        },
                        "text/html": [
                            "<table>",
                            "<tr><th>company</th><th>year</th><th>month</th><th>monthly_pct_change</th></tr>",
                            "<tr><td>AAPL</td><td>2013</td><td>7</td><td>NULL</td></tr>",
                            "<tr><td>AAPL</td><td>2013</td><td>8</td><td>143.76</td></tr>",
                            "<tr><td>AAPL</td><td>2013</td><td>9</td><td>-9.96</td></tr>",
                            "<tr><td>AAPL</td><td>2013</td><td>10</td><td>20.88</td></tr>",
                            "<tr><td>AAPL</td><td>2013</td><td>11</td><td>-9.63</td></tr>",
                            "<tr><td>AAPL</td><td>2013</td><td>12</td><td>12.02</td></tr>",
                            "<tr><td>AAPL</td><td>2014</td><td>1</td><td>-3.97</td></tr>",
                            "<tr><td>AAPL</td><td>2014</td><td>2</td><td>-11.35</td></tr>",
                            "<tr><td>AAPL</td><td>2014</td><td>3</td><td>11.92</td></tr>",
                            "<tr><td>AAPL</td><td>2014</td><td>4</td><td>1.48</td></tr>",
                            "<tr><td>AAPL</td><td>2014</td><td>5</td><td>11.48</td></tr>",
                            "<tr><td>AAPL</td><td>2014</td><td>6</td><td>6.64</td></tr>",
                            "<tr><td>AAPL</td><td>2014</td><td>7</td><td>9.03</td></tr>",
                            "<tr><td>AAPL</td><td>2014</td><td>8</td><td>-1.74</td></tr>",
                            "<tr><td>AAPL</td><td>2014</td><td>9</td><td>2.15</td></tr>",
                            "<tr><td>AAPL</td><td>2014</td><td>10</td><td>10.78</td></tr>",
                            "<tr><td>AAPL</td><td>2014</td><td>11</td><td>-7.99</td></tr>",
                            "<tr><td>AAPL</td><td>2014</td><td>12</td><td>14.89</td></tr>",
                            "<tr><td>AAPL</td><td>2015</td><td>1</td><td>-10.52</td></tr>",
                            "<tr><td>AAPL</td><td>2015</td><td>2</td><td>7.69</td></tr>",
                            "<tr><td>AAPL</td><td>2015</td><td>3</td><td>16.29</td></tr>",
                            "<tr><td>AAPL</td><td>2015</td><td>4</td><td>-3.54</td></tr>",
                            "<tr><td>AAPL</td><td>2015</td><td>5</td><td>-3.66</td></tr>",
                            "<tr><td>AAPL</td><td>2015</td><td>6</td><td>9.18</td></tr>",
                            "<tr><td>AAPL</td><td>2015</td><td>7</td><td>-1.93</td></tr>",
                            "<tr><td>AAPL</td><td>2015</td><td>8</td><td>-13.64</td></tr>",
                            "<tr><td>AAPL</td><td>2015</td><td>9</td><td>-0.52</td></tr>",
                            "<tr><td>AAPL</td><td>2015</td><td>10</td><td>5.29</td></tr>",
                            "<tr><td>AAPL</td><td>2015</td><td>11</td><td>-5.24</td></tr>",
                            "<tr><td>AAPL</td><td>2015</td><td>12</td><td>4.01</td></tr>",
                            "<tr><td>AAPL</td><td>2016</td><td>1</td><td>-23.92</td></tr>",
                            "<tr><td>AAPL</td><td>2016</td><td>2</td><td>2.39</td></tr>",
                            "<tr><td>AAPL</td><td>2016</td><td>3</td><td>19.79</td></tr>",
                            "<tr><td>AAPL</td><td>2016</td><td>4</td><td>-2.28</td></tr>",
                            "<tr><td>AAPL</td><td>2016</td><td>5</td><td>-11.02</td></tr>",
                            "<tr><td>AAPL</td><td>2016</td><td>6</td><td>6.58</td></tr>",
                            "<tr><td>AAPL</td><td>2016</td><td>7</td><td>-7.27</td></tr>",
                            "<tr><td>AAPL</td><td>2016</td><td>8</td><td>25.62</td></tr>",
                            "<tr><td>AAPL</td><td>2016</td><td>9</td><td>-5.99</td></tr>",
                            "<tr><td>AAPL</td><td>2016</td><td>10</td><td>4.38</td></tr>",
                            "<tr><td>AAPL</td><td>2016</td><td>11</td><td>-4.8</td></tr>",
                            "<tr><td>AAPL</td><td>2016</td><td>12</td><td>3.8</td></tr>",
                            "<tr><td>AAPL</td><td>2017</td><td>1</td><td>-0.4</td></tr>",
                            "<tr><td>AAPL</td><td>2017</td><td>2</td><td>6.24</td></tr>",
                            "<tr><td>AAPL</td><td>2017</td><td>3</td><td>27.3</td></tr>",
                            "<tr><td>AAPL</td><td>2017</td><td>4</td><td>-16.06</td></tr>",
                            "<tr><td>AAPL</td><td>2017</td><td>5</td><td>23.36</td></tr>",
                            "<tr><td>AAPL</td><td>2017</td><td>6</td><td>-2.89</td></tr>",
                            "<tr><td>AAPL</td><td>2017</td><td>7</td><td>-8.8</td></tr>",
                            "<tr><td>AAPL</td><td>2017</td><td>8</td><td>23.31</td></tr>",
                            "<tr><td>AAPL</td><td>2017</td><td>9</td><td>-13.82</td></tr>",
                            "<tr><td>AAPL</td><td>2017</td><td>10</td><td>10.14</td></tr>",
                            "<tr><td>AAPL</td><td>2017</td><td>11</td><td>4.28</td></tr>",
                            "<tr><td>AAPL</td><td>2017</td><td>12</td><td>-5.05</td></tr>",
                            "<tr><td>AAPL</td><td>2018</td><td>1</td><td>6.29</td></tr>",
                            "<tr><td>AAPL</td><td>2018</td><td>2</td><td>-12.83</td></tr>",
                            "<tr><td>AAPL</td><td>2018</td><td>3</td><td>15.05</td></tr>",
                            "<tr><td>AAPL</td><td>2018</td><td>4</td><td>-2.67</td></tr>",
                            "<tr><td>AAPL</td><td>2018</td><td>5</td><td>14.45</td></tr>",
                            "<tr><td>AAPL</td><td>2018</td><td>6</td><td>-2.96</td></tr>",
                            "<tr><td>AAPL</td><td>2018</td><td>7</td><td>0.89</td></tr>",
                            "<tr><td>AAPL</td><td>2018</td><td>8</td><td>22.78</td></tr>",
                            "<tr><td>AAPL</td><td>2018</td><td>9</td><td>-14.01</td></tr>",
                            "<tr><td>AAPL</td><td>2018</td><td>10</td><td>20.38</td></tr>",
                            "<tr><td>AAPL</td><td>2018</td><td>11</td><td>-20.94</td></tr>",
                            "<tr><td>AAPL</td><td>2018</td><td>12</td><td>-22.28</td></tr>",
                            "<tr><td>AAPL</td><td>2019</td><td>1</td><td>3.73</td></tr>",
                            "<tr><td>AAPL</td><td>2019</td><td>2</td><td>0.78</td></tr>",
                            "<tr><td>AAPL</td><td>2019</td><td>3</td><td>17.97</td></tr>",
                            "<tr><td>AAPL</td><td>2019</td><td>4</td><td>9.4</td></tr>",
                            "<tr><td>AAPL</td><td>2019</td><td>5</td><td>-0.07</td></tr>",
                            "<tr><td>AAPL</td><td>2019</td><td>6</td><td>-8.28</td></tr>",
                            "<tr><td>AAPL</td><td>2019</td><td>7</td><td>16.98</td></tr>",
                            "<tr><td>AAPL</td><td>2019</td><td>8</td><td>-0.13</td></tr>",
                            "<tr><td>AAPL</td><td>2019</td><td>9</td><td>-3.31</td></tr>",
                            "<tr><td>AAPL</td><td>2019</td><td>10</td><td>24.12</td></tr>",
                            "<tr><td>AAPL</td><td>2019</td><td>11</td><td>-2.98</td></tr>",
                            "<tr><td>AAPL</td><td>2019</td><td>12</td><td>10.6</td></tr>",
                            "<tr><td>AAPL</td><td>2020</td><td>1</td><td>12.8</td></tr>",
                            "<tr><td>AAPL</td><td>2020</td><td>2</td><td>-9.71</td></tr>",
                            "<tr><td>AAPL</td><td>2020</td><td>3</td><td>-2.37</td></tr>",
                            "<tr><td>AAPL</td><td>2020</td><td>4</td><td>-0.93</td></tr>",
                            "<tr><td>AAPL</td><td>2020</td><td>5</td><td>8.39</td></tr>",
                            "<tr><td>AAPL</td><td>2020</td><td>6</td><td>22.71</td></tr>",
                            "<tr><td>AAPL</td><td>2020</td><td>7</td><td>10.54</td></tr>",
                            "<tr><td>AAPL</td><td>2020</td><td>8</td><td>17.17</td></tr>",
                            "<tr><td>AAPL</td><td>2020</td><td>9</td><td>-1.85</td></tr>",
                            "<tr><td>AAPL</td><td>2020</td><td>10</td><td>5.93</td></tr>",
                            "<tr><td>AAPL</td><td>2020</td><td>11</td><td>-8.77</td></tr>",
                            "<tr><td>AAPL</td><td>2020</td><td>12</td><td>19.85</td></tr>",
                            "<tr><td>AAPL</td><td>2021</td><td>1</td><td>-9.74</td></tr>",
                            "<tr><td>AAPL</td><td>2021</td><td>2</td><td>-1.13</td></tr>",
                            "<tr><td>AAPL</td><td>2021</td><td>3</td><td>12.16</td></tr>",
                            "<tr><td>AAPL</td><td>2021</td><td>4</td><td>-1.25</td></tr>",
                            "<tr><td>AAPL</td><td>2021</td><td>5</td><td>-8.4</td></tr>",
                            "<tr><td>AAPL</td><td>2021</td><td>6</td><td>12.75</td></tr>",
                            "<tr><td>AAPL</td><td>2021</td><td>7</td><td>6.6</td></tr>",
                            "<tr><td>AAPL</td><td>2021</td><td>8</td><td>6.95</td></tr>",
                            "<tr><td>AAPL</td><td>2021</td><td>9</td><td>-4.46</td></tr>",
                            "<tr><td>AAPL</td><td>2021</td><td>10</td><td>-1.85</td></tr>",
                            "<tr><td>AAPL</td><td>2021</td><td>11</td><td>5.97</td></tr>",
                            "<tr><td>AAPL</td><td>2021</td><td>12</td><td>17.87</td></tr>",
                            "<tr><td>AAPL</td><td>2022</td><td>1</td><td>-11.02</td></tr>",
                            "<tr><td>AAPL</td><td>2022</td><td>2</td><td>-5.02</td></tr>",
                            "<tr><td>AAPL</td><td>2022</td><td>3</td><td>17.83</td></tr>",
                            "<tr><td>AAPL</td><td>2022</td><td>4</td><td>-12.25</td></tr>",
                            "<tr><td>AAPL</td><td>2022</td><td>5</td><td>-6.58</td></tr>",
                            "<tr><td>AAPL</td><td>2022</td><td>6</td><td>-5.82</td></tr>",
                            "<tr><td>AAPL</td><td>2022</td><td>7</td><td>1.96</td></tr>",
                            "<tr><td>AAPL</td><td>2022</td><td>8</td><td>28.23</td></tr>",
                            "<tr><td>AAPL</td><td>2022</td><td>9</td><td>-16.29</td></tr>",
                            "<tr><td>AAPL</td><td>2022</td><td>10</td><td>-5.22</td></tr>",
                            "<tr><td>AAPL</td><td>2022</td><td>11</td><td>0.57</td></tr>",
                            "<tr><td>AAPL</td><td>2022</td><td>12</td><td>-5.46</td></tr>",
                            "<tr><td>AAPL</td><td>2023</td><td>1</td><td>-6.21</td></tr>",
                            "<tr><td>AAPL</td><td>2023</td><td>2</td><td>5.63</td></tr>",
                            "<tr><td>AAPL</td><td>2023</td><td>3</td><td>24.26</td></tr>",
                            "<tr><td>AAPL</td><td>2023</td><td>4</td><td>-12.02</td></tr>",
                            "<tr><td>AAPL</td><td>2023</td><td>5</td><td>21.11</td></tr>",
                            "<tr><td>AAPL</td><td>2023</td><td>6</td><td>1.9</td></tr>",
                            "<tr><td>AAPL</td><td>2023</td><td>7</td><td>-50.7</td></tr>",
                            "<tr><td>AMD</td><td>2013</td><td>7</td><td>NULL</td></tr>",
                            "<tr><td>AMD</td><td>2013</td><td>8</td><td>106.28</td></tr>",
                            "<tr><td>AMD</td><td>2013</td><td>9</td><td>-6.15</td></tr>",
                            "<tr><td>AMD</td><td>2013</td><td>10</td><td>11.62</td></tr>",
                            "<tr><td>AMD</td><td>2013</td><td>11</td><td>-18.45</td></tr>",
                            "<tr><td>AMD</td><td>2013</td><td>12</td><td>13.75</td></tr>",
                            "<tr><td>AMD</td><td>2014</td><td>1</td><td>6.21</td></tr>",
                            "<tr><td>AMD</td><td>2014</td><td>2</td><td>-16.75</td></tr>",
                            "<tr><td>AMD</td><td>2014</td><td>3</td><td>19.13</td></tr>",
                            "<tr><td>AMD</td><td>2014</td><td>4</td><td>2.17</td></tr>",
                            "<tr><td>AMD</td><td>2014</td><td>5</td><td>1.16</td></tr>",
                            "<tr><td>AMD</td><td>2014</td><td>6</td><td>3.24</td></tr>",
                            "<tr><td>AMD</td><td>2014</td><td>7</td><td>3.73</td></tr>",
                            "<tr><td>AMD</td><td>2014</td><td>8</td><td>-3.82</td></tr>",
                            "<tr><td>AMD</td><td>2014</td><td>9</td><td>-6.29</td></tr>",
                            "<tr><td>AMD</td><td>2014</td><td>10</td><td>-18.81</td></tr>",
                            "<tr><td>AMD</td><td>2014</td><td>11</td><td>-21.14</td></tr>",
                            "<tr><td>AMD</td><td>2014</td><td>12</td><td>9.81</td></tr>",
                            "<tr><td>AMD</td><td>2015</td><td>1</td><td>-10.41</td></tr>",
                            "<tr><td>AMD</td><td>2015</td><td>2</td><td>12.56</td></tr>",
                            "<tr><td>AMD</td><td>2015</td><td>3</td><td>7.82</td></tr>",
                            "<tr><td>AMD</td><td>2015</td><td>4</td><td>-14.15</td></tr>",
                            "<tr><td>AMD</td><td>2015</td><td>5</td><td>-13.9</td></tr>",
                            "<tr><td>AMD</td><td>2015</td><td>6</td><td>14.87</td></tr>",
                            "<tr><td>AMD</td><td>2015</td><td>7</td><td>-18.52</td></tr>",
                            "<tr><td>AMD</td><td>2015</td><td>8</td><td>-8.4</td></tr>",
                            "<tr><td>AMD</td><td>2015</td><td>9</td><td>-4.51</td></tr>",
                            "<tr><td>AMD</td><td>2015</td><td>10</td><td>16.15</td></tr>",
                            "<tr><td>AMD</td><td>2015</td><td>11</td><td>-1.19</td></tr>",
                            "<tr><td>AMD</td><td>2015</td><td>12</td><td>29.78</td></tr>",
                            "<tr><td>AMD</td><td>2016</td><td>1</td><td>-25.01</td></tr>",
                            "<tr><td>AMD</td><td>2016</td><td>2</td><td>-6.43</td></tr>",
                            "<tr><td>AMD</td><td>2016</td><td>3</td><td>44.9</td></tr>",
                            "<tr><td>AMD</td><td>2016</td><td>4</td><td>10.43</td></tr>",
                            "<tr><td>AMD</td><td>2016</td><td>5</td><td>29.17</td></tr>",
                            "<tr><td>AMD</td><td>2016</td><td>6</td><td>27.76</td></tr>",
                            "<tr><td>AMD</td><td>2016</td><td>7</td><td>7.92</td></tr>",
                            "<tr><td>AMD</td><td>2016</td><td>8</td><td>43.07</td></tr>",
                            "<tr><td>AMD</td><td>2016</td><td>9</td><td>-15.68</td></tr>",
                            "<tr><td>AMD</td><td>2016</td><td>10</td><td>6.69</td></tr>",
                            "<tr><td>AMD</td><td>2016</td><td>11</td><td>11.67</td></tr>",
                            "<tr><td>AMD</td><td>2016</td><td>12</td><td>37.64</td></tr>",
                            "<tr><td>AMD</td><td>2017</td><td>1</td><td>-4.17</td></tr>",
                            "<tr><td>AMD</td><td>2017</td><td>2</td><td>20.48</td></tr>",
                            "<tr><td>AMD</td><td>2017</td><td>3</td><td>23.72</td></tr>",
                            "<tr><td>AMD</td><td>2017</td><td>4</td><td>-20.41</td></tr>",
                            "<tr><td>AMD</td><td>2017</td><td>5</td><td>-3.78</td></tr>",
                            "<tr><td>AMD</td><td>2017</td><td>6</td><td>12.82</td></tr>",
                            "<tr><td>AMD</td><td>2017</td><td>7</td><td>0.03</td></tr>",
                            "<tr><td>AMD</td><td>2017</td><td>8</td><td>6.41</td></tr>",
                            "<tr><td>AMD</td><td>2017</td><td>9</td><td>-12.44</td></tr>",
                            "<tr><td>AMD</td><td>2017</td><td>10</td><td>14.28</td></tr>",
                            "<tr><td>AMD</td><td>2017</td><td>11</td><td>-18.98</td></tr>",
                            "<tr><td>AMD</td><td>2017</td><td>12</td><td>-12.37</td></tr>",
                            "<tr><td>AMD</td><td>2018</td><td>1</td><td>25.12</td></tr>",
                            "<tr><td>AMD</td><td>2018</td><td>2</td><td>-12.36</td></tr>",
                            "<tr><td>AMD</td><td>2018</td><td>3</td><td>3.94</td></tr>",
                            "<tr><td>AMD</td><td>2018</td><td>4</td><td>-10.42</td></tr>",
                            "<tr><td>AMD</td><td>2018</td><td>5</td><td>29.29</td></tr>",
                            "<tr><td>AMD</td><td>2018</td><td>6</td><td>19.82</td></tr>",
                            "<tr><td>AMD</td><td>2018</td><td>7</td><td>7.22</td></tr>",
                            "<tr><td>AMD</td><td>2018</td><td>8</td><td>37.65</td></tr>",
                            "<tr><td>AMD</td><td>2018</td><td>9</td><td>21</td></tr>",
                            "<tr><td>AMD</td><td>2018</td><td>10</td><td>-2.97</td></tr>",
                            "<tr><td>AMD</td><td>2018</td><td>11</td><td>-24.65</td></tr>",
                            "<tr><td>AMD</td><td>2018</td><td>12</td><td>-14.67</td></tr>",
                            "<tr><td>AMD</td><td>2019</td><td>1</td><td>16.84</td></tr>",
                            "<tr><td>AMD</td><td>2019</td><td>2</td><td>5.02</td></tr>",
                            "<tr><td>AMD</td><td>2019</td><td>3</td><td>13.57</td></tr>",
                            "<tr><td>AMD</td><td>2019</td><td>4</td><td>14.92</td></tr>",
                            "<tr><td>AMD</td><td>2019</td><td>5</td><td>3.04</td></tr>",
                            "<tr><td>AMD</td><td>2019</td><td>6</td><td>0.95</td></tr>",
                            "<tr><td>AMD</td><td>2019</td><td>7</td><td>18.86</td></tr>",
                            "<tr><td>AMD</td><td>2019</td><td>8</td><td>-6.23</td></tr>",
                            "<tr><td>AMD</td><td>2019</td><td>9</td><td>-10.88</td></tr>",
                            "<tr><td>AMD</td><td>2019</td><td>10</td><td>16.71</td></tr>",
                            "<tr><td>AMD</td><td>2019</td><td>11</td><td>7.88</td></tr>",
                            "<tr><td>AMD</td><td>2019</td><td>12</td><td>16.72</td></tr>",
                            "<tr><td>AMD</td><td>2020</td><td>1</td><td>16.25</td></tr>",
                            "<tr><td>AMD</td><td>2020</td><td>2</td><td>-5.52</td></tr>",
                            "<tr><td>AMD</td><td>2020</td><td>3</td><td>0.12</td></tr>",
                            "<tr><td>AMD</td><td>2020</td><td>4</td><td>11.87</td></tr>",
                            "<tr><td>AMD</td><td>2020</td><td>5</td><td>-2.13</td></tr>",
                            "<tr><td>AMD</td><td>2020</td><td>6</td><td>9.97</td></tr>",
                            "<tr><td>AMD</td><td>2020</td><td>7</td><td>12.59</td></tr>",
                            "<tr><td>AMD</td><td>2020</td><td>8</td><td>32.22</td></tr>",
                            "<tr><td>AMD</td><td>2020</td><td>9</td><td>-4.37</td></tr>",
                            "<tr><td>AMD</td><td>2020</td><td>10</td><td>7.96</td></tr>",
                            "<tr><td>AMD</td><td>2020</td><td>11</td><td>-8</td></tr>",
                            "<tr><td>AMD</td><td>2020</td><td>12</td><td>23.22</td></tr>",
                            "<tr><td>AMD</td><td>2021</td><td>1</td><td>-15.04</td></tr>",
                            "<tr><td>AMD</td><td>2021</td><td>2</td><td>-3.27</td></tr>",
                            "<tr><td>AMD</td><td>2021</td><td>3</td><td>8.34</td></tr>",
                            "<tr><td>AMD</td><td>2021</td><td>4</td><td>-5.85</td></tr>",
                            "<tr><td>AMD</td><td>2021</td><td>5</td><td>-10.43</td></tr>",
                            "<tr><td>AMD</td><td>2021</td><td>6</td><td>19.08</td></tr>",
                            "<tr><td>AMD</td><td>2021</td><td>7</td><td>5.44</td></tr>",
                            "<tr><td>AMD</td><td>2021</td><td>8</td><td>23.82</td></tr>",
                            "<tr><td>AMD</td><td>2021</td><td>9</td><td>-7.43</td></tr>",
                            "<tr><td>AMD</td><td>2021</td><td>10</td><td>6.52</td></tr>",
                            "<tr><td>AMD</td><td>2021</td><td>11</td><td>30.77</td></tr>",
                            "<tr><td>AMD</td><td>2021</td><td>12</td><td>2.29</td></tr>",
                            "<tr><td>AMD</td><td>2022</td><td>1</td><td>-19.64</td></tr>",
                            "<tr><td>AMD</td><td>2022</td><td>2</td><td>-10.4</td></tr>",
                            "<tr><td>AMD</td><td>2022</td><td>3</td><td>14.02</td></tr>",
                            "<tr><td>AMD</td><td>2022</td><td>4</td><td>-26.07</td></tr>",
                            "<tr><td>AMD</td><td>2022</td><td>5</td><td>3.33</td></tr>",
                            "<tr><td>AMD</td><td>2022</td><td>6</td><td>-3.63</td></tr>",
                            "<tr><td>AMD</td><td>2022</td><td>7</td><td>-13.09</td></tr>",
                            "<tr><td>AMD</td><td>2022</td><td>8</td><td>33.68</td></tr>",
                            "<tr><td>AMD</td><td>2022</td><td>9</td><td>-28.96</td></tr>",
                            "<tr><td>AMD</td><td>2022</td><td>10</td><td>-19.56</td></tr>",
                            "<tr><td>AMD</td><td>2022</td><td>11</td><td>15.4</td></tr>",
                            "<tr><td>AMD</td><td>2022</td><td>12</td><td>-2.18</td></tr>",
                            "<tr><td>AMD</td><td>2023</td><td>1</td><td>-1.72</td></tr>",
                            "<tr><td>AMD</td><td>2023</td><td>2</td><td>10.97</td></tr>",
                            "<tr><td>AMD</td><td>2023</td><td>3</td><td>33.44</td></tr>",
                            "<tr><td>AMD</td><td>2023</td><td>4</td><td>-17.08</td></tr>",
                            "<tr><td>AMD</td><td>2023</td><td>5</td><td>30.33</td></tr>",
                            "<tr><td>AMD</td><td>2023</td><td>6</td><td>10</td></tr>",
                            "<tr><td>AMD</td><td>2023</td><td>7</td><td>-53.67</td></tr>",
                            "<tr><td>AMZN</td><td>2013</td><td>7</td><td>NULL</td></tr>",
                            "<tr><td>AMZN</td><td>2013</td><td>8</td><td>110.85</td></tr>",
                            "<tr><td>AMZN</td><td>2013</td><td>9</td><td>-4.86</td></tr>",
                            "<tr><td>AMZN</td><td>2013</td><td>10</td><td>23.02</td></tr>",
                            "<tr><td>AMZN</td><td>2013</td><td>11</td><td>-2.67</td></tr>",
                            "<tr><td>AMZN</td><td>2013</td><td>12</td><td>12.67</td></tr>",
                            "<tr><td>AMZN</td><td>2014</td><td>1</td><td>0.86</td></tr>",
                            "<tr><td>AMZN</td><td>2014</td><td>2</td><td>-18.8</td></tr>",
                            "<tr><td>AMZN</td><td>2014</td><td>3</td><td>13.11</td></tr>",
                            "<tr><td>AMZN</td><td>2014</td><td>4</td><td>-11.3</td></tr>",
                            "<tr><td>AMZN</td><td>2014</td><td>5</td><td>-5.81</td></tr>",
                            "<tr><td>AMZN</td><td>2014</td><td>6</td><td>7.13</td></tr>",
                            "<tr><td>AMZN</td><td>2014</td><td>7</td><td>9.72</td></tr>",
                            "<tr><td>AMZN</td><td>2014</td><td>8</td><td>-8.08</td></tr>",
                            "<tr><td>AMZN</td><td>2014</td><td>9</td><td>0.92</td></tr>",
                            "<tr><td>AMZN</td><td>2014</td><td>10</td><td>2.26</td></tr>",
                            "<tr><td>AMZN</td><td>2014</td><td>11</td><td>-14.64</td></tr>",
                            "<tr><td>AMZN</td><td>2014</td><td>12</td><td>12.19</td></tr>",
                            "<tr><td>AMZN</td><td>2015</td><td>1</td><td>-10.87</td></tr>",
                            "<tr><td>AMZN</td><td>2015</td><td>2</td><td>17.9</td></tr>",
                            "<tr><td>AMZN</td><td>2015</td><td>3</td><td>15.66</td></tr>",
                            "<tr><td>AMZN</td><td>2015</td><td>4</td><td>0.26</td></tr>",
                            "<tr><td>AMZN</td><td>2015</td><td>5</td><td>3.13</td></tr>",
                            "<tr><td>AMZN</td><td>2015</td><td>6</td><td>11.47</td></tr>",
                            "<tr><td>AMZN</td><td>2015</td><td>7</td><td>10.66</td></tr>",
                            "<tr><td>AMZN</td><td>2015</td><td>8</td><td>3.38</td></tr>",
                            "<tr><td>AMZN</td><td>2015</td><td>9</td><td>0.48</td></tr>",
                            "<tr><td>AMZN</td><td>2015</td><td>10</td><td>13.98</td></tr>",
                            "<tr><td>AMZN</td><td>2015</td><td>11</td><td>5.5</td></tr>",
                            "<tr><td>AMZN</td><td>2015</td><td>12</td><td>11.94</td></tr>",
                            "<tr><td>AMZN</td><td>2016</td><td>1</td><td>-22.44</td></tr>",
                            "<tr><td>AMZN</td><td>2016</td><td>2</td><td>-7.07</td></tr>",
                            "<tr><td>AMZN</td><td>2016</td><td>3</td><td>18.65</td></tr>",
                            "<tr><td>AMZN</td><td>2016</td><td>4</td><td>2.34</td></tr>",
                            "<tr><td>AMZN</td><td>2016</td><td>5</td><td>13.67</td></tr>",
                            "<tr><td>AMZN</td><td>2016</td><td>6</td><td>7.6</td></tr>",
                            "<tr><td>AMZN</td><td>2016</td><td>7</td><td>-5.91</td></tr>",
                            "<tr><td>AMZN</td><td>2016</td><td>8</td><td>18.63</td></tr>",
                            "<tr><td>AMZN</td><td>2016</td><td>9</td><td>-5.81</td></tr>",
                            "<tr><td>AMZN</td><td>2016</td><td>10</td><td>4.5</td></tr>",
                            "<tr><td>AMZN</td><td>2016</td><td>11</td><td>-7.41</td></tr>",
                            "<tr><td>AMZN</td><td>2016</td><td>12</td><td>0</td></tr>",
                            "<tr><td>AMZN</td><td>2017</td><td>1</td><td>0.75</td></tr>",
                            "<tr><td>AMZN</td><td>2017</td><td>2</td><td>-1.68</td></tr>",
                            "<tr><td>AMZN</td><td>2017</td><td>3</td><td>23.73</td></tr>",
                            "<tr><td>AMZN</td><td>2017</td><td>4</td><td>-12.64</td></tr>",
                            "<tr><td>AMZN</td><td>2017</td><td>5</td><td>23.27</td></tr>",
                            "<tr><td>AMZN</td><td>2017</td><td>6</td><td>2.99</td></tr>",
                            "<tr><td>AMZN</td><td>2017</td><td>7</td><td>-7.44</td></tr>",
                            "<tr><td>AMZN</td><td>2017</td><td>8</td><td>10.78</td></tr>",
                            "<tr><td>AMZN</td><td>2017</td><td>9</td><td>-13.26</td></tr>",
                            "<tr><td>AMZN</td><td>2017</td><td>10</td><td>13.6</td></tr>",
                            "<tr><td>AMZN</td><td>2017</td><td>11</td><td>8.72</td></tr>",
                            "<tr><td>AMZN</td><td>2017</td><td>12</td><td>-2.33</td></tr>",
                            "<tr><td>AMZN</td><td>2018</td><td>1</td><td>17.59</td></tr>",
                            "<tr><td>AMZN</td><td>2018</td><td>2</td><td>-0.31</td></tr>",
                            "<tr><td>AMZN</td><td>2018</td><td>3</td><td>18.03</td></tr>",
                            "<tr><td>AMZN</td><td>2018</td><td>4</td><td>-4.68</td></tr>",
                            "<tr><td>AMZN</td><td>2018</td><td>5</td><td>13.8</td></tr>",
                            "<tr><td>AMZN</td><td>2018</td><td>6</td><td>1.68</td></tr>",
                            "<tr><td>AMZN</td><td>2018</td><td>7</td><td>5.05</td></tr>",
                            "<tr><td>AMZN</td><td>2018</td><td>8</td><td>16.47</td></tr>",
                            "<tr><td>AMZN</td><td>2018</td><td>9</td><td>-14.42</td></tr>",
                            "<tr><td>AMZN</td><td>2018</td><td>10</td><td>9.72</td></tr>",
                            "<tr><td>AMZN</td><td>2018</td><td>11</td><td>-16.72</td></tr>",
                            "<tr><td>AMZN</td><td>2018</td><td>12</td><td>-13.2</td></tr>",
                            "<tr><td>AMZN</td><td>2019</td><td>1</td><td>16.24</td></tr>",
                            "<tr><td>AMZN</td><td>2019</td><td>2</td><td>-10.25</td></tr>",
                            "<tr><td>AMZN</td><td>2019</td><td>3</td><td>17.02</td></tr>",
                            "<tr><td>AMZN</td><td>2019</td><td>4</td><td>8.34</td></tr>",
                            "<tr><td>AMZN</td><td>2019</td><td>5</td><td>4.94</td></tr>",
                            "<tr><td>AMZN</td><td>2019</td><td>6</td><td>-9.91</td></tr>",
                            "<tr><td>AMZN</td><td>2019</td><td>7</td><td>16.73</td></tr>",
                            "<tr><td>AMZN</td><td>2019</td><td>8</td><td>-8.76</td></tr>",
                            "<tr><td>AMZN</td><td>2019</td><td>9</td><td>-8.81</td></tr>",
                            "<tr><td>AMZN</td><td>2019</td><td>10</td><td>12.01</td></tr>",
                            "<tr><td>AMZN</td><td>2019</td><td>11</td><td>-11.95</td></tr>",
                            "<tr><td>AMZN</td><td>2019</td><td>12</td><td>5.68</td></tr>",
                            "<tr><td>AMZN</td><td>2020</td><td>1</td><td>5.51</td></tr>",
                            "<tr><td>AMZN</td><td>2020</td><td>2</td><td>-0.79</td></tr>",
                            "<tr><td>AMZN</td><td>2020</td><td>3</td><td>4.93</td></tr>",
                            "<tr><td>AMZN</td><td>2020</td><td>4</td><td>13.62</td></tr>",
                            "<tr><td>AMZN</td><td>2020</td><td>5</td><td>2.31</td></tr>",
                            "<tr><td>AMZN</td><td>2020</td><td>6</td><td>20.08</td></tr>",
                            "<tr><td>AMZN</td><td>2020</td><td>7</td><td>16.85</td></tr>",
                            "<tr><td>AMZN</td><td>2020</td><td>8</td><td>1.56</td></tr>",
                            "<tr><td>AMZN</td><td>2020</td><td>9</td><td>-2.72</td></tr>",
                            "<tr><td>AMZN</td><td>2020</td><td>10</td><td>7.08</td></tr>",
                            "<tr><td>AMZN</td><td>2020</td><td>11</td><td>-11.59</td></tr>",
                            "<tr><td>AMZN</td><td>2020</td><td>12</td><td>11.96</td></tr>",
                            "<tr><td>AMZN</td><td>2021</td><td>1</td><td>-13.57</td></tr>",
                            "<tr><td>AMZN</td><td>2021</td><td>2</td><td>2</td></tr>",
                            "<tr><td>AMZN</td><td>2021</td><td>3</td><td>13.8</td></tr>",
                            "<tr><td>AMZN</td><td>2021</td><td>4</td><td>-0.25</td></tr>",
                            "<tr><td>AMZN</td><td>2021</td><td>5</td><td>-7.77</td></tr>",
                            "<tr><td>AMZN</td><td>2021</td><td>6</td><td>14.12</td></tr>",
                            "<tr><td>AMZN</td><td>2021</td><td>7</td><td>2.49</td></tr>",
                            "<tr><td>AMZN</td><td>2021</td><td>8</td><td>-4.02</td></tr>",
                            "<tr><td>AMZN</td><td>2021</td><td>9</td><td>-1.25</td></tr>",
                            "<tr><td>AMZN</td><td>2021</td><td>10</td><td>-2.71</td></tr>",
                            "<tr><td>AMZN</td><td>2021</td><td>11</td><td>5.5</td></tr>",
                            "<tr><td>AMZN</td><td>2021</td><td>12</td><td>1.77</td></tr>",
                            "<tr><td>AMZN</td><td>2022</td><td>1</td><td>-17.28</td></tr>",
                            "<tr><td>AMZN</td><td>2022</td><td>2</td><td>-6.04</td></tr>",
                            "<tr><td>AMZN</td><td>2022</td><td>3</td><td>21.44</td></tr>",
                            "<tr><td>AMZN</td><td>2022</td><td>4</td><td>-14.72</td></tr>",
                            "<tr><td>AMZN</td><td>2022</td><td>5</td><td>-21.95</td></tr>",
                            "<tr><td>AMZN</td><td>2022</td><td>6</td><td>0.35</td></tr>",
                            "<tr><td>AMZN</td><td>2022</td><td>7</td><td>-1.24</td></tr>",
                            "<tr><td>AMZN</td><td>2022</td><td>8</td><td>35.05</td></tr>",
                            "<tr><td>AMZN</td><td>2022</td><td>9</td><td>-18.15</td></tr>",
                            "<tr><td>AMZN</td><td>2022</td><td>10</td><td>-7.1</td></tr>",
                            "<tr><td>AMZN</td><td>2022</td><td>11</td><td>-17.92</td></tr>",
                            "<tr><td>AMZN</td><td>2022</td><td>12</td><td>-6.4</td></tr>",
                            "<tr><td>AMZN</td><td>2023</td><td>1</td><td>2.05</td></tr>",
                            "<tr><td>AMZN</td><td>2023</td><td>2</td><td>0.03</td></tr>",
                            "<tr><td>AMZN</td><td>2023</td><td>3</td><td>17.8</td></tr>",
                            "<tr><td>AMZN</td><td>2023</td><td>4</td><td>-11.58</td></tr>",
                            "<tr><td>AMZN</td><td>2023</td><td>5</td><td>25.42</td></tr>",
                            "<tr><td>AMZN</td><td>2023</td><td>6</td><td>7.77</td></tr>",
                            "<tr><td>AMZN</td><td>2023</td><td>7</td><td>-50.72</td></tr>",
                            "<tr><td>CSCO</td><td>2013</td><td>7</td><td>NULL</td></tr>",
                            "<tr><td>CSCO</td><td>2013</td><td>8</td><td>114.29</td></tr>",
                            "<tr><td>CSCO</td><td>2013</td><td>9</td><td>-12.26</td></tr>",
                            "<tr><td>CSCO</td><td>2013</td><td>10</td><td>9.11</td></tr>",
                            "<tr><td>CSCO</td><td>2013</td><td>11</td><td>-15.49</td></tr>",
                            "<tr><td>CSCO</td><td>2013</td><td>12</td><td>0.52</td></tr>",
                            "<tr><td>CSCO</td><td>2014</td><td>1</td><td>4.73</td></tr>",
                            "<tr><td>CSCO</td><td>2014</td><td>2</td><td>-9.64</td></tr>",
                            "<tr><td>CSCO</td><td>2014</td><td>3</td><td>8.43</td></tr>",
                            "<tr><td>CSCO</td><td>2014</td><td>4</td><td>5.65</td></tr>",
                            "<tr><td>CSCO</td><td>2014</td><td>5</td><td>3.04</td></tr>",
                            "<tr><td>CSCO</td><td>2014</td><td>6</td><td>4.09</td></tr>",
                            "<tr><td>CSCO</td><td>2014</td><td>7</td><td>8.35</td></tr>",
                            "<tr><td>CSCO</td><td>2014</td><td>8</td><td>-7.15</td></tr>",
                            "<tr><td>CSCO</td><td>2014</td><td>9</td><td>0.6</td></tr>",
                            "<tr><td>CSCO</td><td>2014</td><td>10</td><td>4.66</td></tr>",
                            "<tr><td>CSCO</td><td>2014</td><td>11</td><td>-9.9</td></tr>",
                            "<tr><td>CSCO</td><td>2014</td><td>12</td><td>22.59</td></tr>",
                            "<tr><td>CSCO</td><td>2015</td><td>1</td><td>-9.2</td></tr>",
                            "<tr><td>CSCO</td><td>2015</td><td>2</td><td>-1.8</td></tr>",
                            "<tr><td>CSCO</td><td>2015</td><td>3</td><td>15.3</td></tr>",
                            "<tr><td>CSCO</td><td>2015</td><td>4</td><td>-5.15</td></tr>",
                            "<tr><td>CSCO</td><td>2015</td><td>5</td><td>-1.15</td></tr>",
                            "<tr><td>CSCO</td><td>2015</td><td>6</td><td>7.53</td></tr>",
                            "<tr><td>CSCO</td><td>2015</td><td>7</td><td>-2.73</td></tr>",
                            "<tr><td>CSCO</td><td>2015</td><td>8</td><td>-6.05</td></tr>",
                            "<tr><td>CSCO</td><td>2015</td><td>9</td><td>-5.97</td></tr>",
                            "<tr><td>CSCO</td><td>2015</td><td>10</td><td>14.21</td></tr>",
                            "<tr><td>CSCO</td><td>2015</td><td>11</td><td>-10.49</td></tr>",
                            "<tr><td>CSCO</td><td>2015</td><td>12</td><td>7.68</td></tr>",
                            "<tr><td>CSCO</td><td>2016</td><td>1</td><td>-22.3</td></tr>",
                            "<tr><td>CSCO</td><td>2016</td><td>2</td><td>7.48</td></tr>",
                            "<tr><td>CSCO</td><td>2016</td><td>3</td><td>22.55</td></tr>",
                            "<tr><td>CSCO</td><td>2016</td><td>4</td><td>-3.27</td></tr>",
                            "<tr><td>CSCO</td><td>2016</td><td>5</td><td>-2.46</td></tr>",
                            "<tr><td>CSCO</td><td>2016</td><td>6</td><td>9.96</td></tr>",
                            "<tr><td>CSCO</td><td>2016</td><td>7</td><td>-5.49</td></tr>",
                            "<tr><td>CSCO</td><td>2016</td><td>8</td><td>19.25</td></tr>",
                            "<tr><td>CSCO</td><td>2016</td><td>9</td><td>-7.54</td></tr>",
                            "<tr><td>CSCO</td><td>2016</td><td>10</td><td>-2.09</td></tr>",
                            "<tr><td>CSCO</td><td>2016</td><td>11</td><td>-0.57</td></tr>",
                            "<tr><td>CSCO</td><td>2016</td><td>12</td><td>-1.05</td></tr>",
                            "<tr><td>CSCO</td><td>2017</td><td>1</td><td>-4.36</td></tr>",
                            "<tr><td>CSCO</td><td>2017</td><td>2</td><td>2.09</td></tr>",
                            "<tr><td>CSCO</td><td>2017</td><td>3</td><td>26.62</td></tr>",
                            "<tr><td>CSCO</td><td>2017</td><td>4</td><td>-19.87</td></tr>",
                            "<tr><td>CSCO</td><td>2017</td><td>5</td><td>15.51</td></tr>",
                            "<tr><td>CSCO</td><td>2017</td><td>6</td><td>-3.87</td></tr>",
                            "<tr><td>CSCO</td><td>2017</td><td>7</td><td>-9.9</td></tr>",
                            "<tr><td>CSCO</td><td>2017</td><td>8</td><td>15.24</td></tr>",
                            "<tr><td>CSCO</td><td>2017</td><td>9</td><td>-10.01</td></tr>",
                            "<tr><td>CSCO</td><td>2017</td><td>10</td><td>14.23</td></tr>",
                            "<tr><td>CSCO</td><td>2017</td><td>11</td><td>-0.11</td></tr>",
                            "<tr><td>CSCO</td><td>2017</td><td>12</td><td>2.38</td></tr>",
                            "<tr><td>CSCO</td><td>2018</td><td>1</td><td>12.7</td></tr>",
                            "<tr><td>CSCO</td><td>2018</td><td>2</td><td>-6.57</td></tr>",
                            "<tr><td>CSCO</td><td>2018</td><td>3</td><td>15.54</td></tr>",
                            "<tr><td>CSCO</td><td>2018</td><td>4</td><td>-2.37</td></tr>",
                            "<tr><td>CSCO</td><td>2018</td><td>5</td><td>8.06</td></tr>",
                            "<tr><td>CSCO</td><td>2018</td><td>6</td><td>-6.49</td></tr>",
                            "<tr><td>CSCO</td><td>2018</td><td>7</td><td>-2.22</td></tr>",
                            "<tr><td>CSCO</td><td>2018</td><td>8</td><td>15.73</td></tr>",
                            "<tr><td>CSCO</td><td>2018</td><td>9</td><td>-12.47</td></tr>",
                            "<tr><td>CSCO</td><td>2018</td><td>10</td><td>17.12</td></tr>",
                            "<tr><td>CSCO</td><td>2018</td><td>11</td><td>-8.59</td></tr>",
                            "<tr><td>CSCO</td><td>2018</td><td>12</td><td>-11.99</td></tr>",
                            "<tr><td>CSCO</td><td>2019</td><td>1</td><td>9.24</td></tr>",
                            "<tr><td>CSCO</td><td>2019</td><td>2</td><td>-0.39</td></tr>",
                            "<tr><td>CSCO</td><td>2019</td><td>3</td><td>18.9</td></tr>",
                            "<tr><td>CSCO</td><td>2019</td><td>4</td><td>6.46</td></tr>",
                            "<tr><td>CSCO</td><td>2019</td><td>5</td><td>1.34</td></tr>",
                            "<tr><td>CSCO</td><td>2019</td><td>6</td><td>-6.49</td></tr>",
                            "<tr><td>CSCO</td><td>2019</td><td>7</td><td>12.37</td></tr>",
                            "<tr><td>CSCO</td><td>2019</td><td>8</td><td>-12.6</td></tr>",
                            "<tr><td>CSCO</td><td>2019</td><td>9</td><td>-10.23</td></tr>",
                            "<tr><td>CSCO</td><td>2019</td><td>10</td><td>10.06</td></tr>",
                            "<tr><td>CSCO</td><td>2019</td><td>11</td><td>-13.97</td></tr>",
                            "<tr><td>CSCO</td><td>2019</td><td>12</td><td>3.82</td></tr>",
                            "<tr><td>CSCO</td><td>2020</td><td>1</td><td>4.29</td></tr>",
                            "<tr><td>CSCO</td><td>2020</td><td>2</td><td>-12.92</td></tr>",
                            "<tr><td>CSCO</td><td>2020</td><td>3</td><td>-4.46</td></tr>",
                            "<tr><td>CSCO</td><td>2020</td><td>4</td><td>4.14</td></tr>",
                            "<tr><td>CSCO</td><td>2020</td><td>5</td><td>0.32</td></tr>",
                            "<tr><td>CSCO</td><td>2020</td><td>6</td><td>16.15</td></tr>",
                            "<tr><td>CSCO</td><td>2020</td><td>7</td><td>0.63</td></tr>",
                            "<tr><td>CSCO</td><td>2020</td><td>8</td><td>-9.12</td></tr>",
                            "<tr><td>CSCO</td><td>2020</td><td>9</td><td>-9.83</td></tr>",
                            "<tr><td>CSCO</td><td>2020</td><td>10</td><td>1.5</td></tr>",
                            "<tr><td>CSCO</td><td>2020</td><td>11</td><td>-5.87</td></tr>",
                            "<tr><td>CSCO</td><td>2020</td><td>12</td><td>22.31</td></tr>",
                            "<tr><td>CSCO</td><td>2021</td><td>1</td><td>-12.6</td></tr>",
                            "<tr><td>CSCO</td><td>2021</td><td>2</td><td>3.27</td></tr>",
                            "<tr><td>CSCO</td><td>2021</td><td>3</td><td>27.19</td></tr>",
                            "<tr><td>CSCO</td><td>2021</td><td>4</td><td>-3.23</td></tr>",
                            "<tr><td>CSCO</td><td>2021</td><td>5</td><td>-3.38</td></tr>",
                            "<tr><td>CSCO</td><td>2021</td><td>6</td><td>11.84</td></tr>",
                            "<tr><td>CSCO</td><td>2021</td><td>7</td><td>-3.48</td></tr>",
                            "<tr><td>CSCO</td><td>2021</td><td>8</td><td>10.63</td></tr>",
                            "<tr><td>CSCO</td><td>2021</td><td>9</td><td>-4.27</td></tr>",
                            "<tr><td>CSCO</td><td>2021</td><td>10</td><td>-3.44</td></tr>",
                            "<tr><td>CSCO</td><td>2021</td><td>11</td><td>1.71</td></tr>",
                            "<tr><td>CSCO</td><td>2021</td><td>12</td><td>11.57</td></tr>",
                            "<tr><td>CSCO</td><td>2022</td><td>1</td><td>-10.1</td></tr>",
                            "<tr><td>CSCO</td><td>2022</td><td>2</td><td>-11.33</td></tr>",
                            "<tr><td>CSCO</td><td>2022</td><td>3</td><td>21.52</td></tr>",
                            "<tr><td>CSCO</td><td>2022</td><td>4</td><td>-17.69</td></tr>",
                            "<tr><td>CSCO</td><td>2022</td><td>5</td><td>-5.23</td></tr>",
                            "<tr><td>CSCO</td><td>2022</td><td>6</td><td>-7.15</td></tr>",
                            "<tr><td>CSCO</td><td>2022</td><td>7</td><td>-5.62</td></tr>",
                            "<tr><td>CSCO</td><td>2022</td><td>8</td><td>22.05</td></tr>",
                            "<tr><td>CSCO</td><td>2022</td><td>9</td><td>-15.04</td></tr>",
                            "<tr><td>CSCO</td><td>2022</td><td>10</td><td>-2.23</td></tr>",
                            "<tr><td>CSCO</td><td>2022</td><td>11</td><td>9.7</td></tr>",
                            "<tr><td>CSCO</td><td>2022</td><td>12</td><td>4.64</td></tr>",
                            "<tr><td>CSCO</td><td>2023</td><td>1</td><td>-5.32</td></tr>",
                            "<tr><td>CSCO</td><td>2023</td><td>2</td><td>-3.95</td></tr>",
                            "<tr><td>CSCO</td><td>2023</td><td>3</td><td>24.11</td></tr>",
                            "<tr><td>CSCO</td><td>2023</td><td>4</td><td>-18.1</td></tr>",
                            "<tr><td>CSCO</td><td>2023</td><td>5</td><td>11.77</td></tr>",
                            "<tr><td>CSCO</td><td>2023</td><td>6</td><td>1.51</td></tr>",
                            "<tr><td>CSCO</td><td>2023</td><td>7</td><td>-51.84</td></tr>",
                            "<tr><td>META</td><td>2013</td><td>7</td><td>NULL</td></tr>",
                            "<tr><td>META</td><td>2013</td><td>8</td><td>175.89</td></tr>",
                            "<tr><td>META</td><td>2013</td><td>9</td><td>7.36</td></tr>",
                            "<tr><td>META</td><td>2013</td><td>10</td><td>26.94</td></tr>",
                            "<tr><td>META</td><td>2013</td><td>11</td><td>-18.44</td></tr>",
                            "<tr><td>META</td><td>2013</td><td>12</td><td>16.51</td></tr>",
                            "<tr><td>META</td><td>2014</td><td>1</td><td>8.29</td></tr>",
                            "<tr><td>META</td><td>2014</td><td>2</td><td>5.48</td></tr>",
                            "<tr><td>META</td><td>2014</td><td>3</td><td>11.73</td></tr>",
                            "<tr><td>META</td><td>2014</td><td>4</td><td>-11.16</td></tr>",
                            "<tr><td>META</td><td>2014</td><td>5</td><td>0.81</td></tr>",
                            "<tr><td>META</td><td>2014</td><td>6</td><td>7.92</td></tr>",
                            "<tr><td>META</td><td>2014</td><td>7</td><td>11.52</td></tr>",
                            "<tr><td>META</td><td>2014</td><td>8</td><td>2.28</td></tr>",
                            "<tr><td>META</td><td>2014</td><td>9</td><td>4.47</td></tr>",
                            "<tr><td>META</td><td>2014</td><td>10</td><td>8.48</td></tr>",
                            "<tr><td>META</td><td>2014</td><td>11</td><td>-19.16</td></tr>",
                            "<tr><td>META</td><td>2014</td><td>12</td><td>20.1</td></tr>",
                            "<tr><td>META</td><td>2015</td><td>1</td><td>-10.22</td></tr>",
                            "<tr><td>META</td><td>2015</td><td>2</td><td>-4.72</td></tr>",
                            "<tr><td>META</td><td>2015</td><td>3</td><td>21.9</td></tr>",
                            "<tr><td>META</td><td>2015</td><td>4</td><td>-3.28</td></tr>",
                            "<tr><td>META</td><td>2015</td><td>5</td><td>-7.86</td></tr>",
                            "<tr><td>META</td><td>2015</td><td>6</td><td>15.35</td></tr>",
                            "<tr><td>META</td><td>2015</td><td>7</td><td>10.53</td></tr>",
                            "<tr><td>META</td><td>2015</td><td>8</td><td>-4.83</td></tr>",
                            "<tr><td>META</td><td>2015</td><td>9</td><td>-0.36</td></tr>",
                            "<tr><td>META</td><td>2015</td><td>10</td><td>11.27</td></tr>",
                            "<tr><td>META</td><td>2015</td><td>11</td><td>-0.82</td></tr>",
                            "<tr><td>META</td><td>2015</td><td>12</td><td>9.38</td></tr>",
                            "<tr><td>META</td><td>2016</td><td>1</td><td>-18.88</td></tr>",
                            "<tr><td>META</td><td>2016</td><td>2</td><td>12.64</td></tr>",
                            "<tr><td>META</td><td>2016</td><td>3</td><td>15.05</td></tr>",
                            "<tr><td>META</td><td>2016</td><td>4</td><td>-3.55</td></tr>",
                            "<tr><td>META</td><td>2016</td><td>5</td><td>5.83</td></tr>",
                            "<tr><td>META</td><td>2016</td><td>6</td><td>1.94</td></tr>",
                            "<tr><td>META</td><td>2016</td><td>7</td><td>-6.02</td></tr>",
                            "<tr><td>META</td><td>2016</td><td>8</td><td>20.12</td></tr>",
                            "<tr><td>META</td><td>2016</td><td>9</td><td>-5.73</td></tr>",
                            "<tr><td>META</td><td>2016</td><td>10</td><td>0.93</td></tr>",
                            "<tr><td>META</td><td>2016</td><td>11</td><td>-6.96</td></tr>",
                            "<tr><td>META</td><td>2016</td><td>12</td><td>-2.19</td></tr>",
                            "<tr><td>META</td><td>2017</td><td>1</td><td>2.32</td></tr>",
                            "<tr><td>META</td><td>2017</td><td>2</td><td>0.25</td></tr>",
                            "<tr><td>META</td><td>2017</td><td>3</td><td>26.1</td></tr>",
                            "<tr><td>META</td><td>2017</td><td>4</td><td>-15.28</td></tr>",
                            "<tr><td>META</td><td>2017</td><td>5</td><td>21.68</td></tr>",
                            "<tr><td>META</td><td>2017</td><td>6</td><td>1.23</td></tr>",
                            "<tr><td>META</td><td>2017</td><td>7</td><td>-4.04</td></tr>",
                            "<tr><td>META</td><td>2017</td><td>8</td><td>21.18</td></tr>",
                            "<tr><td>META</td><td>2017</td><td>9</td><td>-12.31</td></tr>",
                            "<tr><td>META</td><td>2017</td><td>10</td><td>11.75</td></tr>",
                            "<tr><td>META</td><td>2017</td><td>11</td><td>-1.03</td></tr>",
                            "<tr><td>META</td><td>2017</td><td>12</td><td>-5.97</td></tr>",
                            "<tr><td>META</td><td>2018</td><td>1</td><td>9.47</td></tr>",
                            "<tr><td>META</td><td>2018</td><td>2</td><td>-11.82</td></tr>",
                            "<tr><td>META</td><td>2018</td><td>3</td><td>6.37</td></tr>",
                            "<tr><td>META</td><td>2018</td><td>4</td><td>-5.58</td></tr>",
                            "<tr><td>META</td><td>2018</td><td>5</td><td>16.99</td></tr>",
                            "<tr><td>META</td><td>2018</td><td>6</td><td>1.89</td></tr>",
                            "<tr><td>META</td><td>2018</td><td>7</td><td>2.41</td></tr>",
                            "<tr><td>META</td><td>2018</td><td>8</td><td>-2.79</td></tr>",
                            "<tr><td>META</td><td>2018</td><td>9</td><td>-23.5</td></tr>",
                            "<tr><td>META</td><td>2018</td><td>10</td><td>13.55</td></tr>",
                            "<tr><td>META</td><td>2018</td><td>11</td><td>-16.13</td></tr>",
                            "<tr><td>META</td><td>2018</td><td>12</td><td>-12.38</td></tr>",
                            "<tr><td>META</td><td>2019</td><td>1</td><td>17.18</td></tr>",
                            "<tr><td>META</td><td>2019</td><td>2</td><td>2.54</td></tr>",
                            "<tr><td>META</td><td>2019</td><td>3</td><td>12.27</td></tr>",
                            "<tr><td>META</td><td>2019</td><td>4</td><td>7.84</td></tr>",
                            "<tr><td>META</td><td>2019</td><td>5</td><td>7.98</td></tr>",
                            "<tr><td>META</td><td>2019</td><td>6</td><td>-11.44</td></tr>",
                            "<tr><td>META</td><td>2019</td><td>7</td><td>21.12</td></tr>",
                            "<tr><td>META</td><td>2019</td><td>8</td><td>-7.56</td></tr>",
                            "<tr><td>META</td><td>2019</td><td>9</td><td>-8.48</td></tr>",
                            "<tr><td>META</td><td>2019</td><td>10</td><td>14.16</td></tr>",
                            "<tr><td>META</td><td>2019</td><td>11</td><td>-7.7</td></tr>",
                            "<tr><td>META</td><td>2019</td><td>12</td><td>8.34</td></tr>",
                            "<tr><td>META</td><td>2020</td><td>1</td><td>7.27</td></tr>",
                            "<tr><td>META</td><td>2020</td><td>2</td><td>-13.34</td></tr>",
                            "<tr><td>META</td><td>2020</td><td>3</td><td>-7.51</td></tr>",
                            "<tr><td>META</td><td>2020</td><td>4</td><td>1.94</td></tr>",
                            "<tr><td>META</td><td>2020</td><td>5</td><td>16.52</td></tr>",
                            "<tr><td>META</td><td>2020</td><td>6</td><td>17.87</td></tr>",
                            "<tr><td>META</td><td>2020</td><td>7</td><td>3.09</td></tr>",
                            "<tr><td>META</td><td>2020</td><td>8</td><td>7.26</td></tr>",
                            "<tr><td>META</td><td>2020</td><td>9</td><td>-0.83</td></tr>",
                            "<tr><td>META</td><td>2020</td><td>10</td><td>6.03</td></tr>",
                            "<tr><td>META</td><td>2020</td><td>11</td><td>-6.89</td></tr>",
                            "<tr><td>META</td><td>2020</td><td>12</td><td>10.09</td></tr>",
                            "<tr><td>META</td><td>2021</td><td>1</td><td>-17.36</td></tr>",
                            "<tr><td>META</td><td>2021</td><td>2</td><td>0.65</td></tr>",
                            "<tr><td>META</td><td>2021</td><td>3</td><td>25.22</td></tr>",
                            "<tr><td>META</td><td>2021</td><td>4</td><td>1.99</td></tr>",
                            "<tr><td>META</td><td>2021</td><td>5</td><td>-1.8</td></tr>",
                            "<tr><td>META</td><td>2021</td><td>6</td><td>16.62</td></tr>",
                            "<tr><td>META</td><td>2021</td><td>7</td><td>0.26</td></tr>",
                            "<tr><td>META</td><td>2021</td><td>8</td><td>7.62</td></tr>",
                            "<tr><td>META</td><td>2021</td><td>9</td><td>-4.3</td></tr>",
                            "<tr><td>META</td><td>2021</td><td>10</td><td>-9.7</td></tr>",
                            "<tr><td>META</td><td>2021</td><td>11</td><td>2.39</td></tr>",
                            "<tr><td>META</td><td>2021</td><td>12</td><td>2.99</td></tr>",
                            "<tr><td>META</td><td>2022</td><td>1</td><td>-12.23</td></tr>",
                            "<tr><td>META</td><td>2022</td><td>2</td><td>-32.06</td></tr>",
                            "<tr><td>META</td><td>2022</td><td>3</td><td>9.83</td></tr>",
                            "<tr><td>META</td><td>2022</td><td>4</td><td>-12.63</td></tr>",
                            "<tr><td>META</td><td>2022</td><td>5</td><td>-0.29</td></tr>",
                            "<tr><td>META</td><td>2022</td><td>6</td><td>-12.26</td></tr>",
                            "<tr><td>META</td><td>2022</td><td>7</td><td>-8.13</td></tr>",
                            "<tr><td>META</td><td>2022</td><td>8</td><td>15.82</td></tr>",
                            "<tr><td>META</td><td>2022</td><td>9</td><td>-18.77</td></tr>",
                            "<tr><td>META</td><td>2022</td><td>10</td><td>-14.7</td></tr>",
                            "<tr><td>META</td><td>2022</td><td>11</td><td>-16.82</td></tr>",
                            "<tr><td>META</td><td>2022</td><td>12</td><td>10.87</td></tr>",
                            "<tr><td>META</td><td>2023</td><td>1</td><td>10.81</td></tr>",
                            "<tr><td>META</td><td>2023</td><td>2</td><td>22.15</td></tr>",
                            "<tr><td>META</td><td>2023</td><td>3</td><td>33.03</td></tr>",
                            "<tr><td>META</td><td>2023</td><td>4</td><td>-7.48</td></tr>",
                            "<tr><td>META</td><td>2023</td><td>5</td><td>29.74</td></tr>",
                            "<tr><td>META</td><td>2023</td><td>6</td><td>8.67</td></tr>",
                            "<tr><td>META</td><td>2023</td><td>7</td><td>-48.48</td></tr>",
                            "<tr><td>MSFT</td><td>2013</td><td>7</td><td>NULL</td></tr>",
                            "<tr><td>MSFT</td><td>2013</td><td>8</td><td>122.73</td></tr>",
                            "<tr><td>MSFT</td><td>2013</td><td>9</td><td>-8.98</td></tr>",
                            "<tr><td>MSFT</td><td>2013</td><td>10</td><td>21.57</td></tr>",
                            "<tr><td>MSFT</td><td>2013</td><td>11</td><td>-5.51</td></tr>",
                            "<tr><td>MSFT</td><td>2013</td><td>12</td><td>5.26</td></tr>",
                            "<tr><td>MSFT</td><td>2014</td><td>1</td><td>-2.95</td></tr>",
                            "<tr><td>MSFT</td><td>2014</td><td>2</td><td>-7.3</td></tr>",
                            "<tr><td>MSFT</td><td>2014</td><td>3</td><td>15.7</td></tr>",
                            "<tr><td>MSFT</td><td>2014</td><td>4</td><td>2.95</td></tr>",
                            "<tr><td>MSFT</td><td>2014</td><td>5</td><td>-0.53</td></tr>",
                            "<tr><td>MSFT</td><td>2014</td><td>6</td><td>3.61</td></tr>",
                            "<tr><td>MSFT</td><td>2014</td><td>7</td><td>9.45</td></tr>",
                            "<tr><td>MSFT</td><td>2014</td><td>8</td><td>-2.24</td></tr>",
                            "<tr><td>MSFT</td><td>2014</td><td>9</td><td>4.86</td></tr>",
                            "<tr><td>MSFT</td><td>2014</td><td>10</td><td>6.65</td></tr>",
                            "<tr><td>MSFT</td><td>2014</td><td>11</td><td>-11.53</td></tr>",
                            "<tr><td>MSFT</td><td>2014</td><td>12</td><td>13.61</td></tr>",
                            "<tr><td>MSFT</td><td>2015</td><td>1</td><td>-12.88</td></tr>",
                            "<tr><td>MSFT</td><td>2015</td><td>2</td><td>-10.08</td></tr>",
                            "<tr><td>MSFT</td><td>2015</td><td>3</td><td>13.25</td></tr>",
                            "<tr><td>MSFT</td><td>2015</td><td>4</td><td>-1.52</td></tr>",
                            "<tr><td>MSFT</td><td>2015</td><td>5</td><td>4.14</td></tr>",
                            "<tr><td>MSFT</td><td>2015</td><td>6</td><td>6.38</td></tr>",
                            "<tr><td>MSFT</td><td>2015</td><td>7</td><td>-0.77</td></tr>",
                            "<tr><td>MSFT</td><td>2015</td><td>8</td><td>-4.77</td></tr>",
                            "<tr><td>MSFT</td><td>2015</td><td>9</td><td>-4.27</td></tr>",
                            "<tr><td>MSFT</td><td>2015</td><td>10</td><td>17.12</td></tr>",
                            "<tr><td>MSFT</td><td>2015</td><td>11</td><td>0.59</td></tr>",
                            "<tr><td>MSFT</td><td>2015</td><td>12</td><td>13.08</td></tr>",
                            "<tr><td>MSFT</td><td>2016</td><td>1</td><td>-18.3</td></tr>",
                            "<tr><td>MSFT</td><td>2016</td><td>2</td><td>3.21</td></tr>",
                            "<tr><td>MSFT</td><td>2016</td><td>3</td><td>14.29</td></tr>",
                            "<tr><td>MSFT</td><td>2016</td><td>4</td><td>-3.35</td></tr>",
                            "<tr><td>MSFT</td><td>2016</td><td>5</td><td>-5.71</td></tr>",
                            "<tr><td>MSFT</td><td>2016</td><td>6</td><td>4.66</td></tr>",
                            "<tr><td>MSFT</td><td>2016</td><td>7</td><td>-3.41</td></tr>",
                            "<tr><td>MSFT</td><td>2016</td><td>8</td><td>22.68</td></tr>",
                            "<tr><td>MSFT</td><td>2016</td><td>9</td><td>-9.37</td></tr>",
                            "<tr><td>MSFT</td><td>2016</td><td>10</td><td>1.93</td></tr>",
                            "<tr><td>MSFT</td><td>2016</td><td>11</td><td>2.62</td></tr>",
                            "<tr><td>MSFT</td><td>2016</td><td>12</td><td>3.66</td></tr>",
                            "<tr><td>MSFT</td><td>2017</td><td>1</td><td>-3.12</td></tr>",
                            "<tr><td>MSFT</td><td>2017</td><td>2</td><td>-3.61</td></tr>",
                            "<tr><td>MSFT</td><td>2017</td><td>3</td><td>22.43</td></tr>",
                            "<tr><td>MSFT</td><td>2017</td><td>4</td><td>-15.7</td></tr>",
                            "<tr><td>MSFT</td><td>2017</td><td>5</td><td>20.59</td></tr>",
                            "<tr><td>MSFT</td><td>2017</td><td>6</td><td>2.32</td></tr>",
                            "<tr><td>MSFT</td><td>2017</td><td>7</td><td>-7.17</td></tr>",
                            "<tr><td>MSFT</td><td>2017</td><td>8</td><td>16.29</td></tr>",
                            "<tr><td>MSFT</td><td>2017</td><td>9</td><td>-11.22</td></tr>",
                            "<tr><td>MSFT</td><td>2017</td><td>10</td><td>15.32</td></tr>",
                            "<tr><td>MSFT</td><td>2017</td><td>11</td><td>2.53</td></tr>",
                            "<tr><td>MSFT</td><td>2017</td><td>12</td><td>-3.58</td></tr>",
                            "<tr><td>MSFT</td><td>2018</td><td>1</td><td>11.59</td></tr>",
                            "<tr><td>MSFT</td><td>2018</td><td>2</td><td>-8.23</td></tr>",
                            "<tr><td>MSFT</td><td>2018</td><td>3</td><td>12.38</td></tr>",
                            "<tr><td>MSFT</td><td>2018</td><td>4</td><td>0.34</td></tr>",
                            "<tr><td>MSFT</td><td>2018</td><td>5</td><td>9</td></tr>",
                            "<tr><td>MSFT</td><td>2018</td><td>6</td><td>-1.02</td></tr>",
                            "<tr><td>MSFT</td><td>2018</td><td>7</td><td>4.05</td></tr>",
                            "<tr><td>MSFT</td><td>2018</td><td>8</td><td>13.76</td></tr>",
                            "<tr><td>MSFT</td><td>2018</td><td>9</td><td>-14.69</td></tr>",
                            "<tr><td>MSFT</td><td>2018</td><td>10</td><td>17.78</td></tr>",
                            "<tr><td>MSFT</td><td>2018</td><td>11</td><td>-10.29</td></tr>",
                            "<tr><td>MSFT</td><td>2018</td><td>12</td><td>-11.97</td></tr>",
                            "<tr><td>MSFT</td><td>2019</td><td>1</td><td>10.25</td></tr>",
                            "<tr><td>MSFT</td><td>2019</td><td>2</td><td>-6.23</td></tr>",
                            "<tr><td>MSFT</td><td>2019</td><td>3</td><td>17.91</td></tr>",
                            "<tr><td>MSFT</td><td>2019</td><td>4</td><td>6.65</td></tr>",
                            "<tr><td>MSFT</td><td>2019</td><td>5</td><td>7.79</td></tr>",
                            "<tr><td>MSFT</td><td>2019</td><td>6</td><td>-5.03</td></tr>",
                            "<tr><td>MSFT</td><td>2019</td><td>7</td><td>15.09</td></tr>",
                            "<tr><td>MSFT</td><td>2019</td><td>8</td><td>-1.25</td></tr>",
                            "<tr><td>MSFT</td><td>2019</td><td>9</td><td>-7.93</td></tr>",
                            "<tr><td>MSFT</td><td>2019</td><td>10</td><td>15.93</td></tr>",
                            "<tr><td>MSFT</td><td>2019</td><td>11</td><td>-7.51</td></tr>",
                            "<tr><td>MSFT</td><td>2019</td><td>12</td><td>9.31</td></tr>",
                            "<tr><td>MSFT</td><td>2020</td><td>1</td><td>6.37</td></tr>",
                            "<tr><td>MSFT</td><td>2020</td><td>2</td><td>-1.4</td></tr>",
                            "<tr><td>MSFT</td><td>2020</td><td>3</td><td>-1.16</td></tr>",
                            "<tr><td>MSFT</td><td>2020</td><td>4</td><td>5.77</td></tr>",
                            "<tr><td>MSFT</td><td>2020</td><td>5</td><td>2.73</td></tr>",
                            "<tr><td>MSFT</td><td>2020</td><td>6</td><td>16.25</td></tr>",
                            "<tr><td>MSFT</td><td>2020</td><td>7</td><td>7.46</td></tr>",
                            "<tr><td>MSFT</td><td>2020</td><td>8</td><td>-1.19</td></tr>",
                            "<tr><td>MSFT</td><td>2020</td><td>9</td><td>-2.59</td></tr>",
                            "<tr><td>MSFT</td><td>2020</td><td>10</td><td>6.81</td></tr>",
                            "<tr><td>MSFT</td><td>2020</td><td>11</td><td>-8.56</td></tr>",
                            "<tr><td>MSFT</td><td>2020</td><td>12</td><td>11.96</td></tr>",
                            "<tr><td>MSFT</td><td>2021</td><td>1</td><td>-12.05</td></tr>",
                            "<tr><td>MSFT</td><td>2021</td><td>2</td><td>8.15</td></tr>",
                            "<tr><td>MSFT</td><td>2021</td><td>3</td><td>17.83</td></tr>",
                            "<tr><td>MSFT</td><td>2021</td><td>4</td><td>-0.14</td></tr>",
                            "<tr><td>MSFT</td><td>2021</td><td>5</td><td>-7.81</td></tr>",
                            "<tr><td>MSFT</td><td>2021</td><td>6</td><td>15.17</td></tr>",
                            "<tr><td>MSFT</td><td>2021</td><td>7</td><td>3.74</td></tr>",
                            "<tr><td>MSFT</td><td>2021</td><td>8</td><td>9.53</td></tr>",
                            "<tr><td>MSFT</td><td>2021</td><td>9</td><td>-3.72</td></tr>",
                            "<tr><td>MSFT</td><td>2021</td><td>10</td><td>2.25</td></tr>",
                            "<tr><td>MSFT</td><td>2021</td><td>11</td><td>10.65</td></tr>",
                            "<tr><td>MSFT</td><td>2021</td><td>12</td><td>3.81</td></tr>",
                            "<tr><td>MSFT</td><td>2022</td><td>1</td><td>-15.66</td></tr>",
                            "<tr><td>MSFT</td><td>2022</td><td>2</td><td>-8.08</td></tr>",
                            "<tr><td>MSFT</td><td>2022</td><td>3</td><td>19.85</td></tr>",
                            "<tr><td>MSFT</td><td>2022</td><td>4</td><td>-15.08</td></tr>",
                            "<tr><td>MSFT</td><td>2022</td><td>5</td><td>-3.03</td></tr>",
                            "<tr><td>MSFT</td><td>2022</td><td>6</td><td>-2.71</td></tr>",
                            "<tr><td>MSFT</td><td>2022</td><td>7</td><td>-3.77</td></tr>",
                            "<tr><td>MSFT</td><td>2022</td><td>8</td><td>23.05</td></tr>",
                            "<tr><td>MSFT</td><td>2022</td><td>9</td><td>-19.39</td></tr>",
                            "<tr><td>MSFT</td><td>2022</td><td>10</td><td>-4.31</td></tr>",
                            "<tr><td>MSFT</td><td>2022</td><td>11</td><td>0.1</td></tr>",
                            "<tr><td>MSFT</td><td>2022</td><td>12</td><td>3.53</td></tr>",
                            "<tr><td>MSFT</td><td>2023</td><td>1</td><td>-8</td></tr>",
                            "<tr><td>MSFT</td><td>2023</td><td>2</td><td>3.97</td></tr>",
                            "<tr><td>MSFT</td><td>2023</td><td>3</td><td>24.34</td></tr>",
                            "<tr><td>MSFT</td><td>2023</td><td>4</td><td>-10.61</td></tr>",
                            "<tr><td>MSFT</td><td>2023</td><td>5</td><td>26.17</td></tr>",
                            "<tr><td>MSFT</td><td>2023</td><td>6</td><td>1.57</td></tr>",
                            "<tr><td>MSFT</td><td>2023</td><td>7</td><td>-51.77</td></tr>",
                            "<tr><td>NFLX</td><td>2013</td><td>7</td><td>NULL</td></tr>",
                            "<tr><td>NFLX</td><td>2013</td><td>8</td><td>131.51</td></tr>",
                            "<tr><td>NFLX</td><td>2013</td><td>9</td><td>4.42</td></tr>",
                            "<tr><td>NFLX</td><td>2013</td><td>10</td><td>21.92</td></tr>",
                            "<tr><td>NFLX</td><td>2013</td><td>11</td><td>-7.38</td></tr>",
                            "<tr><td>NFLX</td><td>2013</td><td>12</td><td>12.78</td></tr>",
                            "<tr><td>NFLX</td><td>2014</td><td>1</td><td>-2.43</td></tr>",
                            "<tr><td>NFLX</td><td>2014</td><td>2</td><td>8.69</td></tr>",
                            "<tr><td>NFLX</td><td>2014</td><td>3</td><td>6.28</td></tr>",
                            "<tr><td>NFLX</td><td>2014</td><td>4</td><td>-17.9</td></tr>",
                            "<tr><td>NFLX</td><td>2014</td><td>5</td><td>6.4</td></tr>",
                            "<tr><td>NFLX</td><td>2014</td><td>6</td><td>19.56</td></tr>",
                            "<tr><td>NFLX</td><td>2014</td><td>7</td><td>6.97</td></tr>",
                            "<tr><td>NFLX</td><td>2014</td><td>8</td><td>-1.35</td></tr>",
                            "<tr><td>NFLX</td><td>2014</td><td>9</td><td>1.22</td></tr>",
                            "<tr><td>NFLX</td><td>2014</td><td>10</td><td>-2.39</td></tr>",
                            "<tr><td>NFLX</td><td>2014</td><td>11</td><td>-25.21</td></tr>",
                            "<tr><td>NFLX</td><td>2014</td><td>12</td><td>5.3</td></tr>",
                            "<tr><td>NFLX</td><td>2015</td><td>1</td><td>0.08</td></tr>",
                            "<tr><td>NFLX</td><td>2015</td><td>2</td><td>17.63</td></tr>",
                            "<tr><td>NFLX</td><td>2015</td><td>3</td><td>9.47</td></tr>",
                            "<tr><td>NFLX</td><td>2015</td><td>4</td><td>10.32</td></tr>",
                            "<tr><td>NFLX</td><td>2015</td><td>5</td><td>12.29</td></tr>",
                            "<tr><td>NFLX</td><td>2015</td><td>6</td><td>20.33</td></tr>",
                            "<tr><td>NFLX</td><td>2015</td><td>7</td><td>11.84</td></tr>",
                            "<tr><td>NFLX</td><td>2015</td><td>8</td><td>7.6</td></tr>",
                            "<tr><td>NFLX</td><td>2015</td><td>9</td><td>-14.41</td></tr>",
                            "<tr><td>NFLX</td><td>2015</td><td>10</td><td>9.99</td></tr>",
                            "<tr><td>NFLX</td><td>2015</td><td>11</td><td>-0.07</td></tr>",
                            "<tr><td>NFLX</td><td>2015</td><td>12</td><td>14.95</td></tr>",
                            "<tr><td>NFLX</td><td>2016</td><td>1</td><td>-24.92</td></tr>",
                            "<tr><td>NFLX</td><td>2016</td><td>2</td><td>-10.19</td></tr>",
                            "<tr><td>NFLX</td><td>2016</td><td>3</td><td>21.43</td></tr>",
                            "<tr><td>NFLX</td><td>2016</td><td>4</td><td>-3.11</td></tr>",
                            "<tr><td>NFLX</td><td>2016</td><td>5</td><td>-7.58</td></tr>",
                            "<tr><td>NFLX</td><td>2016</td><td>6</td><td>6.03</td></tr>",
                            "<tr><td>NFLX</td><td>2016</td><td>7</td><td>-10.19</td></tr>",
                            "<tr><td>NFLX</td><td>2016</td><td>8</td><td>18.04</td></tr>",
                            "<tr><td>NFLX</td><td>2016</td><td>9</td><td>-6.95</td></tr>",
                            "<tr><td>NFLX</td><td>2016</td><td>10</td><td>16.12</td></tr>",
                            "<tr><td>NFLX</td><td>2016</td><td>11</td><td>4.62</td></tr>",
                            "<tr><td>NFLX</td><td>2016</td><td>12</td><td>4.75</td></tr>",
                            "<tr><td>NFLX</td><td>2017</td><td>1</td><td>3.59</td></tr>",
                            "<tr><td>NFLX</td><td>2017</td><td>2</td><td>0.37</td></tr>",
                            "<tr><td>NFLX</td><td>2017</td><td>3</td><td>21.67</td></tr>",
                            "<tr><td>NFLX</td><td>2017</td><td>4</td><td>-16.1</td></tr>",
                            "<tr><td>NFLX</td><td>2017</td><td>5</td><td>26.09</td></tr>",
                            "<tr><td>NFLX</td><td>2017</td><td>6</td><td>-1.19</td></tr>",
                            "<tr><td>NFLX</td><td>2017</td><td>7</td><td>-1.58</td></tr>",
                            "<tr><td>NFLX</td><td>2017</td><td>8</td><td>17</td></tr>",
                            "<tr><td>NFLX</td><td>2017</td><td>9</td><td>-8.36</td></tr>",
                            "<tr><td>NFLX</td><td>2017</td><td>10</td><td>17.64</td></tr>",
                            "<tr><td>NFLX</td><td>2017</td><td>11</td><td>-4.08</td></tr>",
                            "<tr><td>NFLX</td><td>2017</td><td>12</td><td>-8.36</td></tr>",
                            "<tr><td>NFLX</td><td>2018</td><td>1</td><td>30.18</td></tr>",
                            "<tr><td>NFLX</td><td>2018</td><td>2</td><td>5.45</td></tr>",
                            "<tr><td>NFLX</td><td>2018</td><td>3</td><td>27.13</td></tr>",
                            "<tr><td>NFLX</td><td>2018</td><td>4</td><td>-1.53</td></tr>",
                            "<tr><td>NFLX</td><td>2018</td><td>5</td><td>12.96</td></tr>",
                            "<tr><td>NFLX</td><td>2018</td><td>6</td><td>10.6</td></tr>",
                            "<tr><td>NFLX</td><td>2018</td><td>7</td><td>-0.68</td></tr>",
                            "<tr><td>NFLX</td><td>2018</td><td>8</td><td>-0.6</td></tr>",
                            "<tr><td>NFLX</td><td>2018</td><td>9</td><td>-13.48</td></tr>",
                            "<tr><td>NFLX</td><td>2018</td><td>10</td><td>11.97</td></tr>",
                            "<tr><td>NFLX</td><td>2018</td><td>11</td><td>-20.97</td></tr>",
                            "<tr><td>NFLX</td><td>2018</td><td>12</td><td>-17.33</td></tr>",
                            "<tr><td>NFLX</td><td>2019</td><td>1</td><td>35.74</td></tr>",
                            "<tr><td>NFLX</td><td>2019</td><td>2</td><td>-1.25</td></tr>",
                            "<tr><td>NFLX</td><td>2019</td><td>3</td><td>11.72</td></tr>",
                            "<tr><td>NFLX</td><td>2019</td><td>4</td><td>1.87</td></tr>",
                            "<tr><td>NFLX</td><td>2019</td><td>5</td><td>2.84</td></tr>",
                            "<tr><td>NFLX</td><td>2019</td><td>6</td><td>-9.8</td></tr>",
                            "<tr><td>NFLX</td><td>2019</td><td>7</td><td>8.2</td></tr>",
                            "<tr><td>NFLX</td><td>2019</td><td>8</td><td>-13.58</td></tr>",
                            "<tr><td>NFLX</td><td>2019</td><td>9</td><td>-15.44</td></tr>",
                            "<tr><td>NFLX</td><td>2019</td><td>10</td><td>13.24</td></tr>",
                            "<tr><td>NFLX</td><td>2019</td><td>11</td><td>-6.31</td></tr>",
                            "<tr><td>NFLX</td><td>2019</td><td>12</td><td>10.43</td></tr>",
                            "<tr><td>NFLX</td><td>2020</td><td>1</td><td>7.7</td></tr>",
                            "<tr><td>NFLX</td><td>2020</td><td>2</td><td>-0.14</td></tr>",
                            "<tr><td>NFLX</td><td>2020</td><td>3</td><td>8.54</td></tr>",
                            "<tr><td>NFLX</td><td>2020</td><td>4</td><td>10.08</td></tr>",
                            "<tr><td>NFLX</td><td>2020</td><td>5</td><td>2.07</td></tr>",
                            "<tr><td>NFLX</td><td>2020</td><td>6</td><td>11.44</td></tr>",
                            "<tr><td>NFLX</td><td>2020</td><td>7</td><td>13.76</td></tr>",
                            "<tr><td>NFLX</td><td>2020</td><td>8</td><td>-4.8</td></tr>",
                            "<tr><td>NFLX</td><td>2020</td><td>9</td><td>-0.51</td></tr>",
                            "<tr><td>NFLX</td><td>2020</td><td>10</td><td>8.9</td></tr>",
                            "<tr><td>NFLX</td><td>2020</td><td>11</td><td>-13.98</td></tr>",
                            "<tr><td>NFLX</td><td>2020</td><td>12</td><td>16.57</td></tr>",
                            "<tr><td>NFLX</td><td>2021</td><td>1</td><td>-11.92</td></tr>",
                            "<tr><td>NFLX</td><td>2021</td><td>2</td><td>4.2</td></tr>",
                            "<tr><td>NFLX</td><td>2021</td><td>3</td><td>14.25</td></tr>",
                            "<tr><td>NFLX</td><td>2021</td><td>4</td><td>-6.05</td></tr>",
                            "<tr><td>NFLX</td><td>2021</td><td>5</td><td>-11.27</td></tr>",
                            "<tr><td>NFLX</td><td>2021</td><td>6</td><td>11.46</td></tr>",
                            "<tr><td>NFLX</td><td>2021</td><td>7</td><td>0.26</td></tr>",
                            "<tr><td>NFLX</td><td>2021</td><td>8</td><td>5.49</td></tr>",
                            "<tr><td>NFLX</td><td>2021</td><td>9</td><td>5.93</td></tr>",
                            "<tr><td>NFLX</td><td>2021</td><td>10</td><td>8.7</td></tr>",
                            "<tr><td>NFLX</td><td>2021</td><td>11</td><td>3.94</td></tr>",
                            "<tr><td>NFLX</td><td>2021</td><td>12</td><td>-4.5</td></tr>",
                            "<tr><td>NFLX</td><td>2022</td><td>1</td><td>-27.11</td></tr>",
                            "<tr><td>NFLX</td><td>2022</td><td>2</td><td>-21.92</td></tr>",
                            "<tr><td>NFLX</td><td>2022</td><td>3</td><td>10.73</td></tr>",
                            "<tr><td>NFLX</td><td>2022</td><td>4</td><td>-29.49</td></tr>",
                            "<tr><td>NFLX</td><td>2022</td><td>5</td><td>-34.18</td></tr>",
                            "<tr><td>NFLX</td><td>2022</td><td>6</td><td>-0.86</td></tr>",
                            "<tr><td>NFLX</td><td>2022</td><td>7</td><td>2.58</td></tr>",
                            "<tr><td>NFLX</td><td>2022</td><td>8</td><td>34.6</td></tr>",
                            "<tr><td>NFLX</td><td>2022</td><td>9</td><td>-9.05</td></tr>",
                            "<tr><td>NFLX</td><td>2022</td><td>10</td><td>10.41</td></tr>",
                            "<tr><td>NFLX</td><td>2022</td><td>11</td><td>10.5</td></tr>",
                            "<tr><td>NFLX</td><td>2022</td><td>12</td><td>6.66</td></tr>",
                            "<tr><td>NFLX</td><td>2023</td><td>1</td><td>5.55</td></tr>",
                            "<tr><td>NFLX</td><td>2023</td><td>2</td><td>-0.93</td></tr>",
                            "<tr><td>NFLX</td><td>2023</td><td>3</td><td>8.4</td></tr>",
                            "<tr><td>NFLX</td><td>2023</td><td>4</td><td>-11.8</td></tr>",
                            "<tr><td>NFLX</td><td>2023</td><td>5</td><td>20.55</td></tr>",
                            "<tr><td>NFLX</td><td>2023</td><td>6</td><td>15.78</td></tr>",
                            "<tr><td>NFLX</td><td>2023</td><td>7</td><td>-49.92</td></tr>",
                            "<tr><td>QCOM</td><td>2013</td><td>7</td><td>NULL</td></tr>",
                            "<tr><td>QCOM</td><td>2013</td><td>8</td><td>132.23</td></tr>",
                            "<tr><td>QCOM</td><td>2013</td><td>9</td><td>-6.32</td></tr>",
                            "<tr><td>QCOM</td><td>2013</td><td>10</td><td>13.98</td></tr>",
                            "<tr><td>QCOM</td><td>2013</td><td>11</td><td>-9.39</td></tr>",
                            "<tr><td>QCOM</td><td>2013</td><td>12</td><td>8.63</td></tr>",
                            "<tr><td>QCOM</td><td>2014</td><td>1</td><td>0.78</td></tr>",
                            "<tr><td>QCOM</td><td>2014</td><td>2</td><td>-8.07</td></tr>",
                            "<tr><td>QCOM</td><td>2014</td><td>3</td><td>13.8</td></tr>",
                            "<tr><td>QCOM</td><td>2014</td><td>4</td><td>2.76</td></tr>",
                            "<tr><td>QCOM</td><td>2014</td><td>5</td><td>0.59</td></tr>",
                            "<tr><td>QCOM</td><td>2014</td><td>6</td><td>-0.46</td></tr>",
                            "<tr><td>QCOM</td><td>2014</td><td>7</td><td>4.06</td></tr>",
                            "<tr><td>QCOM</td><td>2014</td><td>8</td><td>-9.32</td></tr>",
                            "<tr><td>QCOM</td><td>2014</td><td>9</td><td>0.82</td></tr>",
                            "<tr><td>QCOM</td><td>2014</td><td>10</td><td>7.63</td></tr>",
                            "<tr><td>QCOM</td><td>2014</td><td>11</td><td>-19.91</td></tr>",
                            "<tr><td>QCOM</td><td>2014</td><td>12</td><td>17.7</td></tr>",
                            "<tr><td>QCOM</td><td>2015</td><td>1</td><td>-10.84</td></tr>",
                            "<tr><td>QCOM</td><td>2015</td><td>2</td><td>-7.66</td></tr>",
                            "<tr><td>QCOM</td><td>2015</td><td>3</td><td>16.14</td></tr>",
                            "<tr><td>QCOM</td><td>2015</td><td>4</td><td>-6.61</td></tr>",
                            "<tr><td>QCOM</td><td>2015</td><td>5</td><td>-3.27</td></tr>",
                            "<tr><td>QCOM</td><td>2015</td><td>6</td><td>5.78</td></tr>",
                            "<tr><td>QCOM</td><td>2015</td><td>7</td><td>-5.34</td></tr>",
                            "<tr><td>QCOM</td><td>2015</td><td>8</td><td>-8.82</td></tr>",
                            "<tr><td>QCOM</td><td>2015</td><td>9</td><td>-10.1</td></tr>",
                            "<tr><td>QCOM</td><td>2015</td><td>10</td><td>12.38</td></tr>",
                            "<tr><td>QCOM</td><td>2015</td><td>11</td><td>-18.48</td></tr>",
                            "<tr><td>QCOM</td><td>2015</td><td>12</td><td>3.94</td></tr>",
                            "<tr><td>QCOM</td><td>2016</td><td>1</td><td>-17.92</td></tr>",
                            "<tr><td>QCOM</td><td>2016</td><td>2</td><td>5.69</td></tr>",
                            "<tr><td>QCOM</td><td>2016</td><td>3</td><td>20.84</td></tr>",
                            "<tr><td>QCOM</td><td>2016</td><td>4</td><td>-5.17</td></tr>",
                            "<tr><td>QCOM</td><td>2016</td><td>5</td><td>2.62</td></tr>",
                            "<tr><td>QCOM</td><td>2016</td><td>6</td><td>6.84</td></tr>",
                            "<tr><td>QCOM</td><td>2016</td><td>7</td><td>-4.18</td></tr>",
                            "<tr><td>QCOM</td><td>2016</td><td>8</td><td>26.11</td></tr>",
                            "<tr><td>QCOM</td><td>2016</td><td>9</td><td>-7.29</td></tr>",
                            "<tr><td>QCOM</td><td>2016</td><td>10</td><td>6.34</td></tr>",
                            "<tr><td>QCOM</td><td>2016</td><td>11</td><td>0.21</td></tr>",
                            "<tr><td>QCOM</td><td>2016</td><td>12</td><td>-0.4</td></tr>",
                            "<tr><td>QCOM</td><td>2017</td><td>1</td><td>-12.57</td></tr>",
                            "<tr><td>QCOM</td><td>2017</td><td>2</td><td>-15</td></tr>",
                            "<tr><td>QCOM</td><td>2017</td><td>3</td><td>26.13</td></tr>",
                            "<tr><td>QCOM</td><td>2017</td><td>4</td><td>-21.98</td></tr>",
                            "<tr><td>QCOM</td><td>2017</td><td>5</td><td>19.9</td></tr>",
                            "<tr><td>QCOM</td><td>2017</td><td>6</td><td>1.68</td></tr>",
                            "<tr><td>QCOM</td><td>2017</td><td>7</td><td>-12.67</td></tr>",
                            "<tr><td>QCOM</td><td>2017</td><td>8</td><td>10.28</td></tr>",
                            "<tr><td>QCOM</td><td>2017</td><td>9</td><td>-15.03</td></tr>",
                            "<tr><td>QCOM</td><td>2017</td><td>10</td><td>13.33</td></tr>",
                            "<tr><td>QCOM</td><td>2017</td><td>11</td><td>16.98</td></tr>",
                            "<tr><td>QCOM</td><td>2017</td><td>12</td><td>-4.95</td></tr>",
                            "<tr><td>QCOM</td><td>2018</td><td>1</td><td>8.7</td></tr>",
                            "<tr><td>QCOM</td><td>2018</td><td>2</td><td>-12.61</td></tr>",
                            "<tr><td>QCOM</td><td>2018</td><td>3</td><td>1.65</td></tr>",
                            "<tr><td>QCOM</td><td>2018</td><td>4</td><td>-10.56</td></tr>",
                            "<tr><td>QCOM</td><td>2018</td><td>5</td><td>9.51</td></tr>",
                            "<tr><td>QCOM</td><td>2018</td><td>6</td><td>0.45</td></tr>",
                            "<tr><td>QCOM</td><td>2018</td><td>7</td><td>0.89</td></tr>",
                            "<tr><td>QCOM</td><td>2018</td><td>8</td><td>22.92</td></tr>",
                            "<tr><td>QCOM</td><td>2018</td><td>9</td><td>-9.52</td></tr>",
                            "<tr><td>QCOM</td><td>2018</td><td>10</td><td>11.19</td></tr>",
                            "<tr><td>QCOM</td><td>2018</td><td>11</td><td>-21.1</td></tr>",
                            "<tr><td>QCOM</td><td>2018</td><td>12</td><td>-10.78</td></tr>",
                            "<tr><td>QCOM</td><td>2019</td><td>1</td><td>5.48</td></tr>",
                            "<tr><td>QCOM</td><td>2019</td><td>2</td><td>-13.8</td></tr>",
                            "<tr><td>QCOM</td><td>2019</td><td>3</td><td>19.3</td></tr>",
                            "<tr><td>QCOM</td><td>2019</td><td>4</td><td>24.71</td></tr>",
                            "<tr><td>QCOM</td><td>2019</td><td>5</td><td>18.66</td></tr>",
                            "<tr><td>QCOM</td><td>2019</td><td>6</td><td>-18.16</td></tr>",
                            "<tr><td>QCOM</td><td>2019</td><td>7</td><td>16.97</td></tr>",
                            "<tr><td>QCOM</td><td>2019</td><td>8</td><td>-3.44</td></tr>",
                            "<tr><td>QCOM</td><td>2019</td><td>9</td><td>-2.99</td></tr>",
                            "<tr><td>QCOM</td><td>2019</td><td>10</td><td>14.97</td></tr>",
                            "<tr><td>QCOM</td><td>2019</td><td>11</td><td>-2.11</td></tr>",
                            "<tr><td>QCOM</td><td>2019</td><td>12</td><td>3.88</td></tr>",
                            "<tr><td>QCOM</td><td>2020</td><td>1</td><td>3.75</td></tr>",
                            "<tr><td>QCOM</td><td>2020</td><td>2</td><td>-12.67</td></tr>",
                            "<tr><td>QCOM</td><td>2020</td><td>3</td><td>-5.86</td></tr>",
                            "<tr><td>QCOM</td><td>2020</td><td>4</td><td>-0.2</td></tr>",
                            "<tr><td>QCOM</td><td>2020</td><td>5</td><td>1.57</td></tr>",
                            "<tr><td>QCOM</td><td>2020</td><td>6</td><td>23.06</td></tr>",
                            "<tr><td>QCOM</td><td>2020</td><td>7</td><td>6.13</td></tr>",
                            "<tr><td>QCOM</td><td>2020</td><td>8</td><td>15.46</td></tr>",
                            "<tr><td>QCOM</td><td>2020</td><td>9</td><td>1.88</td></tr>",
                            "<tr><td>QCOM</td><td>2020</td><td>10</td><td>14.04</td></tr>",
                            "<tr><td>QCOM</td><td>2020</td><td>11</td><td>3.55</td></tr>",
                            "<tr><td>QCOM</td><td>2020</td><td>12</td><td>16.13</td></tr>",
                            "<tr><td>QCOM</td><td>2021</td><td>1</td><td>-9.43</td></tr>",
                            "<tr><td>QCOM</td><td>2021</td><td>2</td><td>-7.11</td></tr>",
                            "<tr><td>QCOM</td><td>2021</td><td>3</td><td>8.28</td></tr>",
                            "<tr><td>QCOM</td><td>2021</td><td>4</td><td>-4.16</td></tr>",
                            "<tr><td>QCOM</td><td>2021</td><td>5</td><td>-8.64</td></tr>",
                            "<tr><td>QCOM</td><td>2021</td><td>6</td><td>13.03</td></tr>",
                            "<tr><td>QCOM</td><td>2021</td><td>7</td><td>0.12</td></tr>",
                            "<tr><td>QCOM</td><td>2021</td><td>8</td><td>7.19</td></tr>",
                            "<tr><td>QCOM</td><td>2021</td><td>9</td><td>-9.82</td></tr>",
                            "<tr><td>QCOM</td><td>2021</td><td>10</td><td>-5.89</td></tr>",
                            "<tr><td>QCOM</td><td>2021</td><td>11</td><td>30.14</td></tr>",
                            "<tr><td>QCOM</td><td>2021</td><td>12</td><td>12.78</td></tr>",
                            "<tr><td>QCOM</td><td>2022</td><td>1</td><td>-11.29</td></tr>",
                            "<tr><td>QCOM</td><td>2022</td><td>2</td><td>-7.22</td></tr>",
                            "<tr><td>QCOM</td><td>2022</td><td>3</td><td>8.89</td></tr>",
                            "<tr><td>QCOM</td><td>2022</td><td>4</td><td>-21.89</td></tr>",
                            "<tr><td>QCOM</td><td>2022</td><td>5</td><td>2.67</td></tr>",
                            "<tr><td>QCOM</td><td>2022</td><td>6</td><td>-3.79</td></tr>",
                            "<tr><td>QCOM</td><td>2022</td><td>7</td><td>2.66</td></tr>",
                            "<tr><td>QCOM</td><td>2022</td><td>8</td><td>18.03</td></tr>",
                            "<tr><td>QCOM</td><td>2022</td><td>9</td><td>-21.7</td></tr>",
                            "<tr><td>QCOM</td><td>2022</td><td>10</td><td>-6.97</td></tr>",
                            "<tr><td>QCOM</td><td>2022</td><td>11</td><td>2.11</td></tr>",
                            "<tr><td>QCOM</td><td>2022</td><td>12</td><td>-1.51</td></tr>",
                            "<tr><td>QCOM</td><td>2023</td><td>1</td><td>-0.25</td></tr>",
                            "<tr><td>QCOM</td><td>2023</td><td>2</td><td>1.09</td></tr>",
                            "<tr><td>QCOM</td><td>2023</td><td>3</td><td>13.18</td></tr>",
                            "<tr><td>QCOM</td><td>2023</td><td>4</td><td>-18.75</td></tr>",
                            "<tr><td>QCOM</td><td>2023</td><td>5</td><td>4.41</td></tr>",
                            "<tr><td>QCOM</td><td>2023</td><td>6</td><td>4.73</td></tr>",
                            "<tr><td>QCOM</td><td>2023</td><td>7</td><td>-52.09</td></tr>",
                            "<tr><td>SBUX</td><td>2013</td><td>7</td><td>NULL</td></tr>",
                            "<tr><td>SBUX</td><td>2013</td><td>8</td><td>126.66</td></tr>",
                            "<tr><td>SBUX</td><td>2013</td><td>9</td><td>-5.06</td></tr>",
                            "<tr><td>SBUX</td><td>2013</td><td>10</td><td>20</td></tr>",
                            "<tr><td>SBUX</td><td>2013</td><td>11</td><td>-10.2</td></tr>",
                            "<tr><td>SBUX</td><td>2013</td><td>12</td><td>1.58</td></tr>",
                            "<tr><td>SBUX</td><td>2014</td><td>1</td><td>-4.1</td></tr>",
                            "<tr><td>SBUX</td><td>2014</td><td>2</td><td>-12.39</td></tr>",
                            "<tr><td>SBUX</td><td>2014</td><td>3</td><td>12.6</td></tr>",
                            "<tr><td>SBUX</td><td>2014</td><td>4</td><td>-4.07</td></tr>",
                            "<tr><td>SBUX</td><td>2014</td><td>5</td><td>0.12</td></tr>",
                            "<tr><td>SBUX</td><td>2014</td><td>6</td><td>6.56</td></tr>",
                            "<tr><td>SBUX</td><td>2014</td><td>7</td><td>8.65</td></tr>",
                            "<tr><td>SBUX</td><td>2014</td><td>8</td><td>-5.9</td></tr>",
                            "<tr><td>SBUX</td><td>2014</td><td>9</td><td>-2.03</td></tr>",
                            "<tr><td>SBUX</td><td>2014</td><td>10</td><td>7.81</td></tr>",
                            "<tr><td>SBUX</td><td>2014</td><td>11</td><td>-13.49</td></tr>",
                            "<tr><td>SBUX</td><td>2014</td><td>12</td><td>20.64</td></tr>",
                            "<tr><td>SBUX</td><td>2015</td><td>1</td><td>-7.47</td></tr>",
                            "<tr><td>SBUX</td><td>2015</td><td>2</td><td>4.77</td></tr>",
                            "<tr><td>SBUX</td><td>2015</td><td>3</td><td>19.71</td></tr>",
                            "<tr><td>SBUX</td><td>2015</td><td>4</td><td>-1.99</td></tr>",
                            "<tr><td>SBUX</td><td>2015</td><td>5</td><td>-0.9</td></tr>",
                            "<tr><td>SBUX</td><td>2015</td><td>6</td><td>15.23</td></tr>",
                            "<tr><td>SBUX</td><td>2015</td><td>7</td><td>5.38</td></tr>",
                            "<tr><td>SBUX</td><td>2015</td><td>8</td><td>-4.14</td></tr>",
                            "<tr><td>SBUX</td><td>2015</td><td>9</td><td>0.38</td></tr>",
                            "<tr><td>SBUX</td><td>2015</td><td>10</td><td>12.76</td></tr>",
                            "<tr><td>SBUX</td><td>2015</td><td>11</td><td>-7.33</td></tr>",
                            "<tr><td>SBUX</td><td>2015</td><td>12</td><td>7.88</td></tr>",
                            "<tr><td>SBUX</td><td>2016</td><td>1</td><td>-16.78</td></tr>",
                            "<tr><td>SBUX</td><td>2016</td><td>2</td><td>3.62</td></tr>",
                            "<tr><td>SBUX</td><td>2016</td><td>3</td><td>12.83</td></tr>",
                            "<tr><td>SBUX</td><td>2016</td><td>4</td><td>-3.4</td></tr>",
                            "<tr><td>SBUX</td><td>2016</td><td>5</td><td>-6.53</td></tr>",
                            "<tr><td>SBUX</td><td>2016</td><td>6</td><td>4.06</td></tr>",
                            "<tr><td>SBUX</td><td>2016</td><td>7</td><td>-5.84</td></tr>",
                            "<tr><td>SBUX</td><td>2016</td><td>8</td><td>12.45</td></tr>",
                            "<tr><td>SBUX</td><td>2016</td><td>9</td><td>-11.26</td></tr>",
                            "<tr><td>SBUX</td><td>2016</td><td>10</td><td>-2.07</td></tr>",
                            "<tr><td>SBUX</td><td>2016</td><td>11</td><td>3.47</td></tr>",
                            "<tr><td>SBUX</td><td>2016</td><td>12</td><td>4.48</td></tr>",
                            "<tr><td>SBUX</td><td>2017</td><td>1</td><td>-5.23</td></tr>",
                            "<tr><td>SBUX</td><td>2017</td><td>2</td><td>-6.89</td></tr>",
                            "<tr><td>SBUX</td><td>2017</td><td>3</td><td>20.94</td></tr>",
                            "<tr><td>SBUX</td><td>2017</td><td>4</td><td>-13.1</td></tr>",
                            "<tr><td>SBUX</td><td>2017</td><td>5</td><td>19.73</td></tr>",
                            "<tr><td>SBUX</td><td>2017</td><td>6</td><td>-0.2</td></tr>",
                            "<tr><td>SBUX</td><td>2017</td><td>7</td><td>-13.86</td></tr>",
                            "<tr><td>SBUX</td><td>2017</td><td>8</td><td>7.7</td></tr>",
                            "<tr><td>SBUX</td><td>2017</td><td>9</td><td>-12.42</td></tr>",
                            "<tr><td>SBUX</td><td>2017</td><td>10</td><td>10.65</td></tr>",
                            "<tr><td>SBUX</td><td>2017</td><td>11</td><td>-1.15</td></tr>",
                            "<tr><td>SBUX</td><td>2017</td><td>12</td><td>-2.17</td></tr>",
                            "<tr><td>SBUX</td><td>2018</td><td>1</td><td>7.21</td></tr>",
                            "<tr><td>SBUX</td><td>2018</td><td>2</td><td>-15.29</td></tr>",
                            "<tr><td>SBUX</td><td>2018</td><td>3</td><td>14.81</td></tr>",
                            "<tr><td>SBUX</td><td>2018</td><td>4</td><td>1.27</td></tr>",
                            "<tr><td>SBUX</td><td>2018</td><td>5</td><td>2.28</td></tr>",
                            "<tr><td>SBUX</td><td>2018</td><td>6</td><td>-9.44</td></tr>",
                            "<tr><td>SBUX</td><td>2018</td><td>7</td><td>-6.63</td></tr>",
                            "<tr><td>SBUX</td><td>2018</td><td>8</td><td>13.65</td></tr>",
                            "<tr><td>SBUX</td><td>2018</td><td>9</td><td>-12.85</td></tr>",
                            "<tr><td>SBUX</td><td>2018</td><td>10</td><td>25</td></tr>",
                            "<tr><td>SBUX</td><td>2018</td><td>11</td><td>5.91</td></tr>",
                            "<tr><td>SBUX</td><td>2018</td><td>12</td><td>-12.12</td></tr>",
                            "<tr><td>SBUX</td><td>2019</td><td>1</td><td>10.99</td></tr>",
                            "<tr><td>SBUX</td><td>2019</td><td>2</td><td>-2.4</td></tr>",
                            "<tr><td>SBUX</td><td>2019</td><td>3</td><td>12.82</td></tr>",
                            "<tr><td>SBUX</td><td>2019</td><td>4</td><td>6</td></tr>",
                            "<tr><td>SBUX</td><td>2019</td><td>5</td><td>6.9</td></tr>",
                            "<tr><td>SBUX</td><td>2019</td><td>6</td><td>-2.92</td></tr>",
                            "<tr><td>SBUX</td><td>2019</td><td>7</td><td>20.64</td></tr>",
                            "<tr><td>SBUX</td><td>2019</td><td>8</td><td>5.98</td></tr>",
                            "<tr><td>SBUX</td><td>2019</td><td>9</td><td>-13.14</td></tr>",
                            "<tr><td>SBUX</td><td>2019</td><td>10</td><td>6.79</td></tr>",
                            "<tr><td>SBUX</td><td>2019</td><td>11</td><td>-14.74</td></tr>",
                            "<tr><td>SBUX</td><td>2019</td><td>12</td><td>9.77</td></tr>",
                            "<tr><td>SBUX</td><td>2020</td><td>1</td><td>3.14</td></tr>",
                            "<tr><td>SBUX</td><td>2020</td><td>2</td><td>-13.36</td></tr>",
                            "<tr><td>SBUX</td><td>2020</td><td>3</td><td>-9.05</td></tr>",
                            "<tr><td>SBUX</td><td>2020</td><td>4</td><td>2.61</td></tr>",
                            "<tr><td>SBUX</td><td>2020</td><td>5</td><td>-0.75</td></tr>",
                            "<tr><td>SBUX</td><td>2020</td><td>6</td><td>11.55</td></tr>",
                            "<tr><td>SBUX</td><td>2020</td><td>7</td><td>-2.46</td></tr>",
                            "<tr><td>SBUX</td><td>2020</td><td>8</td><td>0.48</td></tr>",
                            "<tr><td>SBUX</td><td>2020</td><td>9</td><td>8.48</td></tr>",
                            "<tr><td>SBUX</td><td>2020</td><td>10</td><td>8.52</td></tr>",
                            "<tr><td>SBUX</td><td>2020</td><td>11</td><td>-2.7</td></tr>",
                            "<tr><td>SBUX</td><td>2020</td><td>12</td><td>19.1</td></tr>",
                            "<tr><td>SBUX</td><td>2021</td><td>1</td><td>-13.69</td></tr>",
                            "<tr><td>SBUX</td><td>2021</td><td>2</td><td>1.39</td></tr>",
                            "<tr><td>SBUX</td><td>2021</td><td>3</td><td>25.03</td></tr>",
                            "<tr><td>SBUX</td><td>2021</td><td>4</td><td>-2.6</td></tr>",
                            "<tr><td>SBUX</td><td>2021</td><td>5</td><td>-6.59</td></tr>",
                            "<tr><td>SBUX</td><td>2021</td><td>6</td><td>9.32</td></tr>",
                            "<tr><td>SBUX</td><td>2021</td><td>7</td><td>1.96</td></tr>",
                            "<tr><td>SBUX</td><td>2021</td><td>8</td><td>2.28</td></tr>",
                            "<tr><td>SBUX</td><td>2021</td><td>9</td><td>-5.78</td></tr>",
                            "<tr><td>SBUX</td><td>2021</td><td>10</td><td>-2.46</td></tr>",
                            "<tr><td>SBUX</td><td>2021</td><td>11</td><td>0.02</td></tr>",
                            "<tr><td>SBUX</td><td>2021</td><td>12</td><td>5.91</td></tr>",
                            "<tr><td>SBUX</td><td>2022</td><td>1</td><td>-18.16</td></tr>",
                            "<tr><td>SBUX</td><td>2022</td><td>2</td><td>-12.38</td></tr>",
                            "<tr><td>SBUX</td><td>2022</td><td>3</td><td>12.45</td></tr>",
                            "<tr><td>SBUX</td><td>2022</td><td>4</td><td>-20.08</td></tr>",
                            "<tr><td>SBUX</td><td>2022</td><td>5</td><td>-3.27</td></tr>",
                            "<tr><td>SBUX</td><td>2022</td><td>6</td><td>2.38</td></tr>",
                            "<tr><td>SBUX</td><td>2022</td><td>7</td><td>1.29</td></tr>",
                            "<tr><td>SBUX</td><td>2022</td><td>8</td><td>22.74</td></tr>",
                            "<tr><td>SBUX</td><td>2022</td><td>9</td><td>-7.18</td></tr>",
                            "<tr><td>SBUX</td><td>2022</td><td>10</td><td>-0.48</td></tr>",
                            "<tr><td>SBUX</td><td>2022</td><td>11</td><td>9.18</td></tr>",
                            "<tr><td>SBUX</td><td>2022</td><td>12</td><td>5.79</td></tr>",
                            "<tr><td>SBUX</td><td>2023</td><td>1</td><td>0.36</td></tr>",
                            "<tr><td>SBUX</td><td>2023</td><td>2</td><td>-5.12</td></tr>",
                            "<tr><td>SBUX</td><td>2023</td><td>3</td><td>15</td></tr>",
                            "<tr><td>SBUX</td><td>2023</td><td>4</td><td>-11.72</td></tr>",
                            "<tr><td>SBUX</td><td>2023</td><td>5</td><td>12.63</td></tr>",
                            "<tr><td>SBUX</td><td>2023</td><td>6</td><td>-9.36</td></tr>",
                            "<tr><td>SBUX</td><td>2023</td><td>7</td><td>-52.37</td></tr>",
                            "<tr><td>TSLA</td><td>2013</td><td>7</td><td>NULL</td></tr>",
                            "<tr><td>TSLA</td><td>2013</td><td>8</td><td>162.74</td></tr>",
                            "<tr><td>TSLA</td><td>2013</td><td>9</td><td>5.14</td></tr>",
                            "<tr><td>TSLA</td><td>2013</td><td>10</td><td>15.47</td></tr>",
                            "<tr><td>TSLA</td><td>2013</td><td>11</td><td>-31.67</td></tr>",
                            "<tr><td>TSLA</td><td>2013</td><td>12</td><td>10.76</td></tr>",
                            "<tr><td>TSLA</td><td>2014</td><td>1</td><td>13.29</td></tr>",
                            "<tr><td>TSLA</td><td>2014</td><td>2</td><td>13.63</td></tr>",
                            "<tr><td>TSLA</td><td>2014</td><td>3</td><td>25.07</td></tr>",
                            "<tr><td>TSLA</td><td>2014</td><td>4</td><td>-10.66</td></tr>",
                            "<tr><td>TSLA</td><td>2014</td><td>5</td><td>-4.13</td></tr>",
                            "<tr><td>TSLA</td><td>2014</td><td>6</td><td>10.01</td></tr>",
                            "<tr><td>TSLA</td><td>2014</td><td>7</td><td>6.47</td></tr>",
                            "<tr><td>TSLA</td><td>2014</td><td>8</td><td>9.29</td></tr>",
                            "<tr><td>TSLA</td><td>2014</td><td>9</td><td>3.64</td></tr>",
                            "<tr><td>TSLA</td><td>2014</td><td>10</td><td>-1.04</td></tr>",
                            "<tr><td>TSLA</td><td>2014</td><td>11</td><td>-14.9</td></tr>",
                            "<tr><td>TSLA</td><td>2014</td><td>12</td><td>2.68</td></tr>",
                            "<tr><td>TSLA</td><td>2015</td><td>1</td><td>-15.5</td></tr>",
                            "<tr><td>TSLA</td><td>2015</td><td>2</td><td>-1.54</td></tr>",
                            "<tr><td>TSLA</td><td>2015</td><td>3</td><td>7.03</td></tr>",
                            "<tr><td>TSLA</td><td>2015</td><td>4</td><td>3.74</td></tr>",
                            "<tr><td>TSLA</td><td>2015</td><td>5</td><td>9.01</td></tr>",
                            "<tr><td>TSLA</td><td>2015</td><td>6</td><td>16.71</td></tr>",
                            "<tr><td>TSLA</td><td>2015</td><td>7</td><td>3.74</td></tr>",
                            "<tr><td>TSLA</td><td>2015</td><td>8</td><td>-12.44</td></tr>",
                            "<tr><td>TSLA</td><td>2015</td><td>9</td><td>3.41</td></tr>",
                            "<tr><td>TSLA</td><td>2015</td><td>10</td><td>-8.04</td></tr>",
                            "<tr><td>TSLA</td><td>2015</td><td>11</td><td>-9.53</td></tr>",
                            "<tr><td>TSLA</td><td>2015</td><td>12</td><td>14.61</td></tr>",
                            "<tr><td>TSLA</td><td>2016</td><td>1</td><td>-23.23</td></tr>",
                            "<tr><td>TSLA</td><td>2016</td><td>2</td><td>-12.69</td></tr>",
                            "<tr><td>TSLA</td><td>2016</td><td>3</td><td>40.12</td></tr>",
                            "<tr><td>TSLA</td><td>2016</td><td>4</td><td>10.82</td></tr>",
                            "<tr><td>TSLA</td><td>2016</td><td>5</td><td>-13.67</td></tr>",
                            "<tr><td>TSLA</td><td>2016</td><td>6</td><td>3.89</td></tr>",
                            "<tr><td>TSLA</td><td>2016</td><td>7</td><td>-5.47</td></tr>",
                            "<tr><td>TSLA</td><td>2016</td><td>8</td><td>15.18</td></tr>",
                            "<tr><td>TSLA</td><td>2016</td><td>9</td><td>-17.46</td></tr>",
                            "<tr><td>TSLA</td><td>2016</td><td>10</td><td>-0.28</td></tr>",
                            "<tr><td>TSLA</td><td>2016</td><td>11</td><td>-6.21</td></tr>",
                            "<tr><td>TSLA</td><td>2016</td><td>12</td><td>6.04</td></tr>",
                            "<tr><td>TSLA</td><td>2017</td><td>1</td><td>13.64</td></tr>",
                            "<tr><td>TSLA</td><td>2017</td><td>2</td><td>4.69</td></tr>",
                            "<tr><td>TSLA</td><td>2017</td><td>3</td><td>18.5</td></tr>",
                            "<tr><td>TSLA</td><td>2017</td><td>4</td><td>-2.47</td></tr>",
                            "<tr><td>TSLA</td><td>2017</td><td>5</td><td>20.25</td></tr>",
                            "<tr><td>TSLA</td><td>2017</td><td>6</td><td>15.57</td></tr>",
                            "<tr><td>TSLA</td><td>2017</td><td>7</td><td>-18.29</td></tr>",
                            "<tr><td>TSLA</td><td>2017</td><td>8</td><td>22.73</td></tr>",
                            "<tr><td>TSLA</td><td>2017</td><td>9</td><td>-11.31</td></tr>",
                            "<tr><td>TSLA</td><td>2017</td><td>10</td><td>5.95</td></tr>",
                            "<tr><td>TSLA</td><td>2017</td><td>11</td><td>-14.1</td></tr>",
                            "<tr><td>TSLA</td><td>2017</td><td>12</td><td>-0.88</td></tr>",
                            "<tr><td>TSLA</td><td>2018</td><td>1</td><td>10.11</td></tr>",
                            "<tr><td>TSLA</td><td>2018</td><td>2</td><td>-10.27</td></tr>",
                            "<tr><td>TSLA</td><td>2018</td><td>3</td><td>4</td></tr>",
                            "<tr><td>TSLA</td><td>2018</td><td>4</td><td>-8.29</td></tr>",
                            "<tr><td>TSLA</td><td>2018</td><td>5</td><td>4.79</td></tr>",
                            "<tr><td>TSLA</td><td>2018</td><td>6</td><td>10.52</td></tr>",
                            "<tr><td>TSLA</td><td>2018</td><td>7</td><td>-7.04</td></tr>",
                            "<tr><td>TSLA</td><td>2018</td><td>8</td><td>16.28</td></tr>",
                            "<tr><td>TSLA</td><td>2018</td><td>9</td><td>-27.63</td></tr>",
                            "<tr><td>TSLA</td><td>2018</td><td>10</td><td>18.9</td></tr>",
                            "<tr><td>TSLA</td><td>2018</td><td>11</td><td>10.37</td></tr>",
                            "<tr><td>TSLA</td><td>2018</td><td>12</td><td>-9.62</td></tr>",
                            "<tr><td>TSLA</td><td>2019</td><td>1</td><td>2.29</td></tr>",
                            "<tr><td>TSLA</td><td>2019</td><td>2</td><td>-12.57</td></tr>",
                            "<tr><td>TSLA</td><td>2019</td><td>3</td><td>-0.25</td></tr>",
                            "<tr><td>TSLA</td><td>2019</td><td>4</td><td>-4</td></tr>",
                            "<tr><td>TSLA</td><td>2019</td><td>5</td><td>-13.68</td></tr>",
                            "<tr><td>TSLA</td><td>2019</td><td>6</td><td>-11.57</td></tr>",
                            "<tr><td>TSLA</td><td>2019</td><td>7</td><td>24.75</td></tr>",
                            "<tr><td>TSLA</td><td>2019</td><td>8</td><td>-7.13</td></tr>",
                            "<tr><td>TSLA</td><td>2019</td><td>9</td><td>-4.18</td></tr>",
                            "<tr><td>TSLA</td><td>2019</td><td>10</td><td>29.11</td></tr>",
                            "<tr><td>TSLA</td><td>2019</td><td>11</td><td>10.45</td></tr>",
                            "<tr><td>TSLA</td><td>2019</td><td>12</td><td>17.22</td></tr>",
                            "<tr><td>TSLA</td><td>2020</td><td>1</td><td>39.97</td></tr>",
                            "<tr><td>TSLA</td><td>2020</td><td>2</td><td>36.48</td></tr>",
                            "<tr><td>TSLA</td><td>2020</td><td>3</td><td>-18.82</td></tr>",
                            "<tr><td>TSLA</td><td>2020</td><td>4</td><td>13.3</td></tr>",
                            "<tr><td>TSLA</td><td>2020</td><td>5</td><td>14.73</td></tr>",
                            "<tr><td>TSLA</td><td>2020</td><td>6</td><td>32.58</td></tr>",
                            "<tr><td>TSLA</td><td>2020</td><td>7</td><td>51.54</td></tr>",
                            "<tr><td>TSLA</td><td>2020</td><td>8</td><td>17.69</td></tr>",
                            "<tr><td>TSLA</td><td>2020</td><td>9</td><td>14.84</td></tr>",
                            "<tr><td>TSLA</td><td>2020</td><td>10</td><td>8.24</td></tr>",
                            "<tr><td>TSLA</td><td>2020</td><td>11</td><td>-0.92</td></tr>",
                            "<tr><td>TSLA</td><td>2020</td><td>12</td><td>50.92</td></tr>",
                            "<tr><td>TSLA</td><td>2021</td><td>1</td><td>12.04</td></tr>",
                            "<tr><td>TSLA</td><td>2021</td><td>2</td><td>-4.16</td></tr>",
                            "<tr><td>TSLA</td><td>2021</td><td>3</td><td>0.1</td></tr>",
                            "<tr><td>TSLA</td><td>2021</td><td>4</td><td>-1.35</td></tr>",
                            "<tr><td>TSLA</td><td>2021</td><td>5</td><td>-17.23</td></tr>",
                            "<tr><td>TSLA</td><td>2021</td><td>6</td><td>11.81</td></tr>",
                            "<tr><td>TSLA</td><td>2021</td><td>7</td><td>0.36</td></tr>",
                            "<tr><td>TSLA</td><td>2021</td><td>8</td><td>12.09</td></tr>",
                            "<tr><td>TSLA</td><td>2021</td><td>9</td><td>2.05</td></tr>",
                            "<tr><td>TSLA</td><td>2021</td><td>10</td><td>16.5</td></tr>",
                            "<tr><td>TSLA</td><td>2021</td><td>11</td><td>27.59</td></tr>",
                            "<tr><td>TSLA</td><td>2021</td><td>12</td><td>-4.75</td></tr>",
                            "<tr><td>TSLA</td><td>2022</td><td>1</td><td>-9.87</td></tr>",
                            "<tr><td>TSLA</td><td>2022</td><td>2</td><td>-17.35</td></tr>",
                            "<tr><td>TSLA</td><td>2022</td><td>3</td><td>25.94</td></tr>",
                            "<tr><td>TSLA</td><td>2022</td><td>4</td><td>-5.15</td></tr>",
                            "<tr><td>TSLA</td><td>2022</td><td>5</td><td>-19.39</td></tr>",
                            "<tr><td>TSLA</td><td>2022</td><td>6</td><td>-8.31</td></tr>",
                            "<tr><td>TSLA</td><td>2022</td><td>7</td><td>2.31</td></tr>",
                            "<tr><td>TSLA</td><td>2022</td><td>8</td><td>34.89</td></tr>",
                            "<tr><td>TSLA</td><td>2022</td><td>9</td><td>-10.6</td></tr>",
                            "<tr><td>TSLA</td><td>2022</td><td>10</td><td>-22.49</td></tr>",
                            "<tr><td>TSLA</td><td>2022</td><td>11</td><td>-14.55</td></tr>",
                            "<tr><td>TSLA</td><td>2022</td><td>12</td><td>-20.01</td></tr>",
                            "<tr><td>TSLA</td><td>2023</td><td>1</td><td>-16.45</td></tr>",
                            "<tr><td>TSLA</td><td>2023</td><td>2</td><td>41.42</td></tr>",
                            "<tr><td>TSLA</td><td>2023</td><td>3</td><td>14.23</td></tr>",
                            "<tr><td>TSLA</td><td>2023</td><td>4</td><td>-22.46</td></tr>",
                            "<tr><td>TSLA</td><td>2023</td><td>5</td><td>15.03</td></tr>",
                            "<tr><td>TSLA</td><td>2023</td><td>6</td><td>33.62</td></tr>",
                            "<tr><td>TSLA</td><td>2023</td><td>7</td><td>-46.32</td></tr>",
                            "</table>"
                        ]
                    }
                }
            ],
            "execution_count": 12
        },
        {
            "cell_type": "code",
            "source": [
                "-- Create table for monthly computations\n",
                "\n",
                "CREATE TABLE monthly_changes (\n",
                "    company VARCHAR(50),\n",
                "    year INT,\n",
                "    month INT,\n",
                "    monthly_pct_change DECIMAL(10, 2)\n",
                ");"
            ],
            "metadata": {
                "azdata_cell_guid": "ef0d0f41-2ff3-40bd-9c59-fd079e22eec8",
                "language": "sql"
            },
            "outputs": [
                {
                    "output_type": "error",
                    "evalue": "Msg 2714, Level 16, State 6, Line 3\nThere is already an object named 'monthly_changes' in the database.",
                    "ename": "",
                    "traceback": []
                },
                {
                    "output_type": "display_data",
                    "data": {
                        "text/html": "Total execution time: 00:00:00.137"
                    },
                    "metadata": {}
                }
            ],
            "execution_count": 13
        },
        {
            "cell_type": "code",
            "source": [
                "-- Insert monthly percentage change computations\n",
                "\n",
                "WITH MonthlyChanges AS (\n",
                "    SELECT \n",
                "        company, \n",
                "        YEAR([date]) AS year,\n",
                "        MONTH([date]) AS month,\n",
                "        SUM([close]) AS month_end_close,\n",
                "        LAG(SUM([close])) OVER (PARTITION BY company ORDER BY YEAR([date]), MONTH([date])) AS prev_month_close\n",
                "    FROM stock_data\n",
                "    GROUP BY company, YEAR([date]), MONTH([date])\n",
                ")\n",
                "INSERT INTO monthly_changes (company, year, month, monthly_pct_change)\n",
                "SELECT \n",
                "    company, \n",
                "    year, \n",
                "    month,\n",
                "    ROUND(((month_end_close - prev_month_close) / prev_month_close) * 100, 2) AS monthly_pct_change\n",
                "FROM MonthlyChanges;"
            ],
            "metadata": {
                "azdata_cell_guid": "94f86439-94e1-44df-b08d-d5051ee9b026",
                "language": "sql"
            },
            "outputs": [
                {
                    "output_type": "display_data",
                    "data": {
                        "text/html": "(1210 rows affected)"
                    },
                    "metadata": {}
                },
                {
                    "output_type": "display_data",
                    "data": {
                        "text/html": "Total execution time: 00:00:00.257"
                    },
                    "metadata": {}
                }
            ],
            "execution_count": 16
        },
        {
            "cell_type": "markdown",
            "source": [
                "### b. Compute quarterly percentage change"
            ],
            "metadata": {
                "azdata_cell_guid": "82072580-8ff1-496e-814c-9604a1958fc6"
            },
            "attachments": {}
        },
        {
            "cell_type": "code",
            "source": [
                "WITH QuarterlyChanges AS (\n",
                "    SELECT \n",
                "        company, \n",
                "        YEAR([date]) AS year,\n",
                "        -- Determine quarter based on the month\n",
                "        CASE \n",
                "            WHEN MONTH([date]) BETWEEN 1 AND 3 THEN 1\n",
                "            WHEN MONTH([date]) BETWEEN 4 AND 6 THEN 2\n",
                "            WHEN MONTH([date]) BETWEEN 7 AND 9 THEN 3\n",
                "            WHEN MONTH([date]) BETWEEN 10 AND 12 THEN 4\n",
                "        END AS quarter,\n",
                "        SUM([close]) AS quarter_end_close,\n",
                "        LAG(SUM([close])) OVER (PARTITION BY company ORDER BY YEAR([date]), \n",
                "                                                        CASE \n",
                "                                                            WHEN MONTH([date]) BETWEEN 1 AND 3 THEN 1\n",
                "                                                            WHEN MONTH([date]) BETWEEN 4 AND 6 THEN 2\n",
                "                                                            WHEN MONTH([date]) BETWEEN 7 AND 9 THEN 3\n",
                "                                                            WHEN MONTH([date]) BETWEEN 10 AND 12 THEN 4\n",
                "                                                        END) AS prev_quarter_close\n",
                "    FROM stock_data\n",
                "    GROUP BY company, YEAR([date]), \n",
                "             CASE \n",
                "                 WHEN MONTH([date]) BETWEEN 1 AND 3 THEN 1\n",
                "                 WHEN MONTH([date]) BETWEEN 4 AND 6 THEN 2\n",
                "                 WHEN MONTH([date]) BETWEEN 7 AND 9 THEN 3\n",
                "                 WHEN MONTH([date]) BETWEEN 10 AND 12 THEN 4\n",
                "             END\n",
                ")\n",
                "\n",
                "SELECT \n",
                "    company, \n",
                "    year, \n",
                "    quarter,\n",
                "    ROUND(((quarter_end_close - prev_quarter_close) / prev_quarter_close) * 100, 2) AS quarterly_pct_change\n",
                "FROM QuarterlyChanges;"
            ],
            "metadata": {
                "azdata_cell_guid": "1d72b6f2-bd27-4069-8061-7d8431f458ef",
                "language": "sql"
            },
            "outputs": [
                {
                    "output_type": "display_data",
                    "data": {
                        "text/html": "(410 rows affected)"
                    },
                    "metadata": {}
                },
                {
                    "output_type": "display_data",
                    "data": {
                        "text/html": "Total execution time: 00:00:00.065"
                    },
                    "metadata": {}
                },
                {
                    "output_type": "execute_result",
                    "metadata": {},
                    "execution_count": 9,
                    "data": {
                        "application/vnd.dataresource+json": {
                            "schema": {
                                "fields": [
                                    {
                                        "name": "company"
                                    },
                                    {
                                        "name": "year"
                                    },
                                    {
                                        "name": "quarter"
                                    },
                                    {
                                        "name": "quarterly_pct_change"
                                    }
                                ]
                            },
                            "data": [
                                {
                                    "company": "AAPL",
                                    "year": "2013",
                                    "quarter": "3",
                                    "quarterly_pct_change": "NULL"
                                },
                                {
                                    "company": "AAPL",
                                    "year": "2013",
                                    "quarter": "4",
                                    "quarterly_pct_change": "37.36"
                                },
                                {
                                    "company": "AAPL",
                                    "year": "2014",
                                    "quarter": "1",
                                    "quarterly_pct_change": "-4.04"
                                },
                                {
                                    "company": "AAPL",
                                    "year": "2014",
                                    "quarter": "2",
                                    "quarterly_pct_change": "15.54"
                                },
                                {
                                    "company": "AAPL",
                                    "year": "2014",
                                    "quarter": "3",
                                    "quarterly_pct_change": "17.16"
                                },
                                {
                                    "company": "AAPL",
                                    "year": "2014",
                                    "quarter": "4",
                                    "quarterly_pct_change": "10.86"
                                },
                                {
                                    "company": "AAPL",
                                    "year": "2015",
                                    "quarter": "1",
                                    "quarterly_pct_change": "5.78"
                                },
                                {
                                    "company": "AAPL",
                                    "year": "2015",
                                    "quarter": "2",
                                    "quarterly_pct_change": "9.4"
                                },
                                {
                                    "company": "AAPL",
                                    "year": "2015",
                                    "quarter": "3",
                                    "quarterly_pct_change": "-6.86"
                                },
                                {
                                    "company": "AAPL",
                                    "year": "2015",
                                    "quarter": "4",
                                    "quarterly_pct_change": "-2.56"
                                },
                                {
                                    "company": "AAPL",
                                    "year": "2016",
                                    "quarter": "1",
                                    "quarterly_pct_change": "-16.9"
                                },
                                {
                                    "company": "AAPL",
                                    "year": "2016",
                                    "quarter": "2",
                                    "quarterly_pct_change": "4.65"
                                },
                                {
                                    "company": "AAPL",
                                    "year": "2016",
                                    "quarter": "3",
                                    "quarterly_pct_change": "6.5"
                                },
                                {
                                    "company": "AAPL",
                                    "year": "2016",
                                    "quarter": "4",
                                    "quarterly_pct_change": "5.44"
                                },
                                {
                                    "company": "AAPL",
                                    "year": "2017",
                                    "quarter": "1",
                                    "quarterly_pct_change": "14.3"
                                },
                                {
                                    "company": "AAPL",
                                    "year": "2017",
                                    "quarter": "2",
                                    "quarterly_pct_change": "14.08"
                                },
                                {
                                    "company": "AAPL",
                                    "year": "2017",
                                    "quarter": "3",
                                    "quarterly_pct_change": "4.93"
                                },
                                {
                                    "company": "AAPL",
                                    "year": "2017",
                                    "quarter": "4",
                                    "quarterly_pct_change": "7.72"
                                },
                                {
                                    "company": "AAPL",
                                    "year": "2018",
                                    "quarter": "1",
                                    "quarterly_pct_change": "-0.25"
                                },
                                {
                                    "company": "AAPL",
                                    "year": "2018",
                                    "quarter": "2",
                                    "quarterly_pct_change": "10.53"
                                },
                                {
                                    "company": "AAPL",
                                    "year": "2018",
                                    "quarter": "3",
                                    "quarterly_pct_change": "13.04"
                                },
                                {
                                    "company": "AAPL",
                                    "year": "2018",
                                    "quarter": "4",
                                    "quarterly_pct_change": "-6.91"
                                },
                                {
                                    "company": "AAPL",
                                    "year": "2019",
                                    "quarter": "1",
                                    "quarterly_pct_change": "-15.28"
                                },
                                {
                                    "company": "AAPL",
                                    "year": "2019",
                                    "quarter": "2",
                                    "quarterly_pct_change": "18.64"
                                },
                                {
                                    "company": "AAPL",
                                    "year": "2019",
                                    "quarter": "3",
                                    "quarterly_pct_change": "9"
                                },
                                {
                                    "company": "AAPL",
                                    "year": "2019",
                                    "quarter": "4",
                                    "quarterly_pct_change": "23.05"
                                },
                                {
                                    "company": "AAPL",
                                    "year": "2020",
                                    "quarter": "1",
                                    "quarterly_pct_change": "10.74"
                                },
                                {
                                    "company": "AAPL",
                                    "year": "2020",
                                    "quarter": "2",
                                    "quarterly_pct_change": "7.07"
                                },
                                {
                                    "company": "AAPL",
                                    "year": "2020",
                                    "quarter": "3",
                                    "quarterly_pct_change": "43.04"
                                },
                                {
                                    "company": "AAPL",
                                    "year": "2020",
                                    "quarter": "4",
                                    "quarterly_pct_change": "10.23"
                                },
                                {
                                    "company": "AAPL",
                                    "year": "2021",
                                    "quarter": "1",
                                    "quarterly_pct_change": "1.71"
                                },
                                {
                                    "company": "AAPL",
                                    "year": "2021",
                                    "quarter": "2",
                                    "quarterly_pct_change": "4.25"
                                },
                                {
                                    "company": "AAPL",
                                    "year": "2021",
                                    "quarter": "3",
                                    "quarterly_pct_change": "15.43"
                                },
                                {
                                    "company": "AAPL",
                                    "year": "2021",
                                    "quarter": "4",
                                    "quarterly_pct_change": "7.35"
                                },
                                {
                                    "company": "AAPL",
                                    "year": "2022",
                                    "quarter": "1",
                                    "quarterly_pct_change": "3.08"
                                },
                                {
                                    "company": "AAPL",
                                    "year": "2022",
                                    "quarter": "2",
                                    "quarterly_pct_change": "-9.95"
                                },
                                {
                                    "company": "AAPL",
                                    "year": "2022",
                                    "quarter": "3",
                                    "quarterly_pct_change": "6.98"
                                },
                                {
                                    "company": "AAPL",
                                    "year": "2022",
                                    "quarter": "4",
                                    "quarterly_pct_change": "-10.37"
                                },
                                {
                                    "company": "AAPL",
                                    "year": "2023",
                                    "quarter": "1",
                                    "quarterly_pct_change": "1.61"
                                },
                                {
                                    "company": "AAPL",
                                    "year": "2023",
                                    "quarter": "2",
                                    "quarterly_pct_change": "18.09"
                                },
                                {
                                    "company": "AAPL",
                                    "year": "2023",
                                    "quarter": "3",
                                    "quarterly_pct_change": "-82.34"
                                },
                                {
                                    "company": "AMD",
                                    "year": "2013",
                                    "quarter": "3",
                                    "quarterly_pct_change": "NULL"
                                },
                                {
                                    "company": "AMD",
                                    "year": "2013",
                                    "quarter": "4",
                                    "quarterly_pct_change": "18.58"
                                },
                                {
                                    "company": "AMD",
                                    "year": "2014",
                                    "quarter": "1",
                                    "quarterly_pct_change": "1.43"
                                },
                                {
                                    "company": "AMD",
                                    "year": "2014",
                                    "quarter": "2",
                                    "quarterly_pct_change": "9.64"
                                },
                                {
                                    "company": "AMD",
                                    "year": "2014",
                                    "quarter": "3",
                                    "quarterly_pct_change": "1.49"
                                },
                                {
                                    "company": "AMD",
                                    "year": "2014",
                                    "quarter": "4",
                                    "quarterly_pct_change": "-32.16"
                                },
                                {
                                    "company": "AMD",
                                    "year": "2015",
                                    "quarter": "1",
                                    "quarterly_pct_change": "-2.42"
                                },
                                {
                                    "company": "AMD",
                                    "year": "2015",
                                    "quarter": "2",
                                    "quarterly_pct_change": "-11.08"
                                },
                                {
                                    "company": "AMD",
                                    "year": "2015",
                                    "quarter": "3",
                                    "quarterly_pct_change": "-21.09"
                                },
                                {
                                    "company": "AMD",
                                    "year": "2015",
                                    "quarter": "4",
                                    "quarterly_pct_change": "19.06"
                                },
                                {
                                    "company": "AMD",
                                    "year": "2016",
                                    "quarter": "1",
                                    "quarterly_pct_change": "-3.22"
                                },
                                {
                                    "company": "AMD",
                                    "year": "2016",
                                    "quarter": "2",
                                    "quarterly_pct_change": "79.32"
                                },
                                {
                                    "company": "AMD",
                                    "year": "2016",
                                    "quarter": "3",
                                    "quarterly_pct_change": "64.32"
                                },
                                {
                                    "company": "AMD",
                                    "year": "2016",
                                    "quarter": "4",
                                    "quarterly_pct_change": "29.3"
                                },
                                {
                                    "company": "AMD",
                                    "year": "2017",
                                    "quarter": "1",
                                    "quarterly_pct_change": "48.97"
                                },
                                {
                                    "company": "AMD",
                                    "year": "2017",
                                    "quarter": "2",
                                    "quarterly_pct_change": "-2.15"
                                },
                                {
                                    "company": "AMD",
                                    "year": "2017",
                                    "quarter": "3",
                                    "quarterly_pct_change": "6.74"
                                },
                                {
                                    "company": "AMD",
                                    "year": "2017",
                                    "quarter": "4",
                                    "quarterly_pct_change": "-10.43"
                                },
                                {
                                    "company": "AMD",
                                    "year": "2018",
                                    "quarter": "1",
                                    "quarterly_pct_change": "-1.75"
                                },
                                {
                                    "company": "AMD",
                                    "year": "2018",
                                    "quarter": "2",
                                    "quarterly_pct_change": "12.48"
                                },
                                {
                                    "company": "AMD",
                                    "year": "2018",
                                    "quarter": "3",
                                    "quarterly_pct_change": "74.74"
                                },
                                {
                                    "company": "AMD",
                                    "year": "2018",
                                    "quarter": "4",
                                    "quarterly_pct_change": "-4.18"
                                },
                                {
                                    "company": "AMD",
                                    "year": "2019",
                                    "quarter": "1",
                                    "quarterly_pct_change": "1.66"
                                },
                                {
                                    "company": "AMD",
                                    "year": "2019",
                                    "quarter": "2",
                                    "quarterly_pct_change": "29.78"
                                },
                                {
                                    "company": "AMD",
                                    "year": "2019",
                                    "quarter": "3",
                                    "quarterly_pct_change": "11.67"
                                },
                                {
                                    "company": "AMD",
                                    "year": "2019",
                                    "quarter": "4",
                                    "quarterly_pct_change": "17.39"
                                },
                                {
                                    "company": "AMD",
                                    "year": "2020",
                                    "quarter": "1",
                                    "quarterly_pct_change": "26.77"
                                },
                                {
                                    "company": "AMD",
                                    "year": "2020",
                                    "quarter": "2",
                                    "quarterly_pct_change": "11.84"
                                },
                                {
                                    "company": "AMD",
                                    "year": "2020",
                                    "quarter": "3",
                                    "quarterly_pct_change": "42.27"
                                },
                                {
                                    "company": "AMD",
                                    "year": "2020",
                                    "quarter": "4",
                                    "quarterly_pct_change": "16.22"
                                },
                                {
                                    "company": "AMD",
                                    "year": "2021",
                                    "quarter": "1",
                                    "quarterly_pct_change": "-4.9"
                                },
                                {
                                    "company": "AMD",
                                    "year": "2021",
                                    "quarter": "2",
                                    "quarterly_pct_change": "-3.06"
                                },
                                {
                                    "company": "AMD",
                                    "year": "2021",
                                    "quarter": "3",
                                    "quarterly_pct_change": "28.49"
                                },
                                {
                                    "company": "AMD",
                                    "year": "2021",
                                    "quarter": "4",
                                    "quarterly_pct_change": "31.5"
                                },
                                {
                                    "company": "AMD",
                                    "year": "2022",
                                    "quarter": "1",
                                    "quarterly_pct_change": "-13.97"
                                },
                                {
                                    "company": "AMD",
                                    "year": "2022",
                                    "quarter": "2",
                                    "quarterly_pct_change": "-21.59"
                                },
                                {
                                    "company": "AMD",
                                    "year": "2022",
                                    "quarter": "3",
                                    "quarterly_pct_change": "-6.1"
                                },
                                {
                                    "company": "AMD",
                                    "year": "2022",
                                    "quarter": "4",
                                    "quarterly_pct_change": "-23.69"
                                },
                                {
                                    "company": "AMD",
                                    "year": "2023",
                                    "quarter": "1",
                                    "quarterly_pct_change": "21.34"
                                },
                                {
                                    "company": "AMD",
                                    "year": "2023",
                                    "quarter": "2",
                                    "quarterly_pct_change": "27.79"
                                },
                                {
                                    "company": "AMD",
                                    "year": "2023",
                                    "quarter": "3",
                                    "quarterly_pct_change": "-82.23"
                                },
                                {
                                    "company": "AMZN",
                                    "year": "2013",
                                    "quarter": "3",
                                    "quarterly_pct_change": "NULL"
                                },
                                {
                                    "company": "AMZN",
                                    "year": "2013",
                                    "quarter": "4",
                                    "quarterly_pct_change": "48.13"
                                },
                                {
                                    "company": "AMZN",
                                    "year": "2014",
                                    "quarter": "1",
                                    "quarterly_pct_change": "-1.64"
                                },
                                {
                                    "company": "AMZN",
                                    "year": "2014",
                                    "quarter": "2",
                                    "quarterly_pct_change": "-11.96"
                                },
                                {
                                    "company": "AMZN",
                                    "year": "2014",
                                    "quarter": "3",
                                    "quarterly_pct_change": "6.8"
                                },
                                {
                                    "company": "AMZN",
                                    "year": "2014",
                                    "quarter": "4",
                                    "quarterly_pct_change": "-6.33"
                                },
                                {
                                    "company": "AMZN",
                                    "year": "2015",
                                    "quarter": "1",
                                    "quarterly_pct_change": "7.57"
                                },
                                {
                                    "company": "AMZN",
                                    "year": "2015",
                                    "quarter": "2",
                                    "quarterly_pct_change": "22.76"
                                },
                                {
                                    "company": "AMZN",
                                    "year": "2015",
                                    "quarter": "3",
                                    "quarterly_pct_change": "22.88"
                                },
                                {
                                    "company": "AMZN",
                                    "year": "2015",
                                    "quarter": "4",
                                    "quarterly_pct_change": "24.68"
                                },
                                {
                                    "company": "AMZN",
                                    "year": "2016",
                                    "quarter": "1",
                                    "quarterly_pct_change": "-14.18"
                                },
                                {
                                    "company": "AMZN",
                                    "year": "2016",
                                    "quarter": "2",
                                    "quarterly_pct_change": "25.04"
                                },
                                {
                                    "company": "AMZN",
                                    "year": "2016",
                                    "quarter": "3",
                                    "quarterly_pct_change": "13.15"
                                },
                                {
                                    "company": "AMZN",
                                    "year": "2016",
                                    "quarter": "4",
                                    "quarterly_pct_change": "0.79"
                                },
                                {
                                    "company": "AMZN",
                                    "year": "2017",
                                    "quarter": "1",
                                    "quarterly_pct_change": "4.67"
                                },
                                {
                                    "company": "AMZN",
                                    "year": "2017",
                                    "quarter": "2",
                                    "quarterly_pct_change": "16.32"
                                },
                                {
                                    "company": "AMZN",
                                    "year": "2017",
                                    "quarter": "3",
                                    "quarterly_pct_change": "2.96"
                                },
                                {
                                    "company": "AMZN",
                                    "year": "2017",
                                    "quarter": "4",
                                    "quarterly_pct_change": "12.02"
                                },
                                {
                                    "company": "AMZN",
                                    "year": "2018",
                                    "quarter": "1",
                                    "quarterly_pct_change": "25.84"
                                },
                                {
                                    "company": "AMZN",
                                    "year": "2018",
                                    "quarter": "2",
                                    "quarterly_pct_change": "16.45"
                                },
                                {
                                    "company": "AMZN",
                                    "year": "2018",
                                    "quarter": "3",
                                    "quarterly_pct_change": "16.62"
                                },
                                {
                                    "company": "AMZN",
                                    "year": "2018",
                                    "quarter": "4",
                                    "quarterly_pct_change": "-11.59"
                                },
                                {
                                    "company": "AMZN",
                                    "year": "2019",
                                    "quarter": "1",
                                    "quarterly_pct_change": "-3.08"
                                },
                                {
                                    "company": "AMZN",
                                    "year": "2019",
                                    "quarter": "2",
                                    "quarterly_pct_change": "15.61"
                                },
                                {
                                    "company": "AMZN",
                                    "year": "2019",
                                    "quarter": "3",
                                    "quarterly_pct_change": "1.13"
                                },
                                {
                                    "company": "AMZN",
                                    "year": "2019",
                                    "quarter": "4",
                                    "quarterly_pct_change": "-4.55"
                                },
                                {
                                    "company": "AMZN",
                                    "year": "2020",
                                    "quarter": "1",
                                    "quarterly_pct_change": "5.94"
                                },
                                {
                                    "company": "AMZN",
                                    "year": "2020",
                                    "quarter": "2",
                                    "quarterly_pct_change": "26.8"
                                },
                                {
                                    "company": "AMZN",
                                    "year": "2020",
                                    "quarter": "3",
                                    "quarterly_pct_change": "32.6"
                                },
                                {
                                    "company": "AMZN",
                                    "year": "2020",
                                    "quarter": "4",
                                    "quarterly_pct_change": "1.22"
                                },
                                {
                                    "company": "AMZN",
                                    "year": "2021",
                                    "quarter": "1",
                                    "quarterly_pct_change": "-5.32"
                                },
                                {
                                    "company": "AMZN",
                                    "year": "2021",
                                    "quarter": "2",
                                    "quarterly_pct_change": "8.29"
                                },
                                {
                                    "company": "AMZN",
                                    "year": "2021",
                                    "quarter": "3",
                                    "quarterly_pct_change": "5.44"
                                },
                                {
                                    "company": "AMZN",
                                    "year": "2021",
                                    "quarter": "4",
                                    "quarterly_pct_change": "-0.78"
                                },
                                {
                                    "company": "AMZN",
                                    "year": "2022",
                                    "quarter": "1",
                                    "quarterly_pct_change": "-12.54"
                                },
                                {
                                    "company": "AMZN",
                                    "year": "2022",
                                    "quarter": "2",
                                    "quarterly_pct_change": "-19.02"
                                },
                                {
                                    "company": "AMZN",
                                    "year": "2022",
                                    "quarter": "3",
                                    "quarterly_pct_change": "4.27"
                                },
                                {
                                    "company": "AMZN",
                                    "year": "2022",
                                    "quarter": "4",
                                    "quarterly_pct_change": "-23.07"
                                },
                                {
                                    "company": "AMZN",
                                    "year": "2023",
                                    "quarter": "1",
                                    "quarterly_pct_change": "-3.75"
                                },
                                {
                                    "company": "AMZN",
                                    "year": "2023",
                                    "quarter": "2",
                                    "quarterly_pct_change": "18.2"
                                },
                                {
                                    "company": "AMZN",
                                    "year": "2023",
                                    "quarter": "3",
                                    "quarterly_pct_change": "-81.53"
                                },
                                {
                                    "company": "CSCO",
                                    "year": "2013",
                                    "quarter": "3",
                                    "quarterly_pct_change": "NULL"
                                },
                                {
                                    "company": "CSCO",
                                    "year": "2013",
                                    "quarter": "4",
                                    "quarterly_pct_change": "10.05"
                                },
                                {
                                    "company": "CSCO",
                                    "year": "2014",
                                    "quarter": "1",
                                    "quarterly_pct_change": "-4.8"
                                },
                                {
                                    "company": "CSCO",
                                    "year": "2014",
                                    "quarter": "2",
                                    "quarterly_pct_change": "11.39"
                                },
                                {
                                    "company": "CSCO",
                                    "year": "2014",
                                    "quarter": "3",
                                    "quarterly_pct_change": "7.21"
                                },
                                {
                                    "company": "CSCO",
                                    "year": "2014",
                                    "quarter": "4",
                                    "quarterly_pct_change": "2.64"
                                },
                                {
                                    "company": "CSCO",
                                    "year": "2015",
                                    "quarter": "1",
                                    "quarterly_pct_change": "3.92"
                                },
                                {
                                    "company": "CSCO",
                                    "year": "2015",
                                    "quarter": "2",
                                    "quarterly_pct_change": "5.22"
                                },
                                {
                                    "company": "CSCO",
                                    "year": "2015",
                                    "quarter": "3",
                                    "quarterly_pct_change": "-4.35"
                                },
                                {
                                    "company": "CSCO",
                                    "year": "2015",
                                    "quarter": "4",
                                    "quarterly_pct_change": "2.19"
                                },
                                {
                                    "company": "CSCO",
                                    "year": "2016",
                                    "quarter": "1",
                                    "quarterly_pct_change": "-11.14"
                                },
                                {
                                    "company": "CSCO",
                                    "year": "2016",
                                    "quarter": "2",
                                    "quarterly_pct_change": "14.48"
                                },
                                {
                                    "company": "CSCO",
                                    "year": "2016",
                                    "quarter": "3",
                                    "quarterly_pct_change": "9.57"
                                },
                                {
                                    "company": "CSCO",
                                    "year": "2016",
                                    "quarter": "4",
                                    "quarterly_pct_change": "-2.44"
                                },
                                {
                                    "company": "CSCO",
                                    "year": "2017",
                                    "quarter": "1",
                                    "quarterly_pct_change": "4.69"
                                },
                                {
                                    "company": "CSCO",
                                    "year": "2017",
                                    "quarter": "2",
                                    "quarterly_pct_change": "2.07"
                                },
                                {
                                    "company": "CSCO",
                                    "year": "2017",
                                    "quarter": "3",
                                    "quarterly_pct_change": "-2.29"
                                },
                                {
                                    "company": "CSCO",
                                    "year": "2017",
                                    "quarter": "4",
                                    "quarterly_pct_change": "12.22"
                                },
                                {
                                    "company": "CSCO",
                                    "year": "2018",
                                    "quarter": "1",
                                    "quarterly_pct_change": "14.96"
                                },
                                {
                                    "company": "CSCO",
                                    "year": "2018",
                                    "quarter": "2",
                                    "quarterly_pct_change": "8.09"
                                },
                                {
                                    "company": "CSCO",
                                    "year": "2018",
                                    "quarter": "3",
                                    "quarterly_pct_change": "1.33"
                                },
                                {
                                    "company": "CSCO",
                                    "year": "2018",
                                    "quarter": "4",
                                    "quarterly_pct_change": "1.73"
                                },
                                {
                                    "company": "CSCO",
                                    "year": "2019",
                                    "quarter": "1",
                                    "quarterly_pct_change": "2.81"
                                },
                                {
                                    "company": "CSCO",
                                    "year": "2019",
                                    "quarter": "2",
                                    "quarterly_pct_change": "17.39"
                                },
                                {
                                    "company": "CSCO",
                                    "year": "2019",
                                    "quarter": "3",
                                    "quarterly_pct_change": "-4.4"
                                },
                                {
                                    "company": "CSCO",
                                    "year": "2019",
                                    "quarter": "4",
                                    "quarterly_pct_change": "-10.57"
                                },
                                {
                                    "company": "CSCO",
                                    "year": "2020",
                                    "quarter": "1",
                                    "quarterly_pct_change": "-8.56"
                                },
                                {
                                    "company": "CSCO",
                                    "year": "2020",
                                    "quarter": "2",
                                    "quarterly_pct_change": "1.57"
                                },
                                {
                                    "company": "CSCO",
                                    "year": "2020",
                                    "quarter": "3",
                                    "quarterly_pct_change": "0.97"
                                },
                                {
                                    "company": "CSCO",
                                    "year": "2020",
                                    "quarter": "4",
                                    "quarterly_pct_change": "-5.71"
                                },
                                {
                                    "company": "CSCO",
                                    "year": "2021",
                                    "quarter": "1",
                                    "quarterly_pct_change": "8.87"
                                },
                                {
                                    "company": "CSCO",
                                    "year": "2021",
                                    "quarter": "2",
                                    "quarterly_pct_change": "15.73"
                                },
                                {
                                    "company": "CSCO",
                                    "year": "2021",
                                    "quarter": "3",
                                    "quarterly_pct_change": "8.36"
                                },
                                {
                                    "company": "CSCO",
                                    "year": "2021",
                                    "quarter": "4",
                                    "quarterly_pct_change": "1.82"
                                },
                                {
                                    "company": "CSCO",
                                    "year": "2022",
                                    "quarter": "1",
                                    "quarterly_pct_change": "-4.06"
                                },
                                {
                                    "company": "CSCO",
                                    "year": "2022",
                                    "quarter": "2",
                                    "quarterly_pct_change": "-15.4"
                                },
                                {
                                    "company": "CSCO",
                                    "year": "2022",
                                    "quarter": "3",
                                    "quarterly_pct_change": "-4.33"
                                },
                                {
                                    "company": "CSCO",
                                    "year": "2022",
                                    "quarter": "4",
                                    "quarterly_pct_change": "0.99"
                                },
                                {
                                    "company": "CSCO",
                                    "year": "2023",
                                    "quarter": "1",
                                    "quarterly_pct_change": "5.59"
                                },
                                {
                                    "company": "CSCO",
                                    "year": "2023",
                                    "quarter": "2",
                                    "quarterly_pct_change": "0.72"
                                },
                                {
                                    "company": "CSCO",
                                    "year": "2023",
                                    "quarter": "3",
                                    "quarterly_pct_change": "-83.2"
                                },
                                {
                                    "company": "META",
                                    "year": "2013",
                                    "quarter": "3",
                                    "quarterly_pct_change": "NULL"
                                },
                                {
                                    "company": "META",
                                    "year": "2013",
                                    "quarter": "4",
                                    "quarterly_pct_change": "54.73"
                                },
                                {
                                    "company": "META",
                                    "year": "2014",
                                    "quarter": "1",
                                    "quarterly_pct_change": "20.3"
                                },
                                {
                                    "company": "META",
                                    "year": "2014",
                                    "quarter": "2",
                                    "quarterly_pct_change": "0.26"
                                },
                                {
                                    "company": "META",
                                    "year": "2014",
                                    "quarter": "3",
                                    "quarterly_pct_change": "21.15"
                                },
                                {
                                    "company": "META",
                                    "year": "2014",
                                    "quarter": "4",
                                    "quarterly_pct_change": "4.21"
                                },
                                {
                                    "company": "META",
                                    "year": "2015",
                                    "quarter": "1",
                                    "quarterly_pct_change": "-2.32"
                                },
                                {
                                    "company": "META",
                                    "year": "2015",
                                    "quarter": "2",
                                    "quarterly_pct_change": "7.65"
                                },
                                {
                                    "company": "META",
                                    "year": "2015",
                                    "quarter": "3",
                                    "quarterly_pct_change": "14.16"
                                },
                                {
                                    "company": "META",
                                    "year": "2015",
                                    "quarter": "4",
                                    "quarterly_pct_change": "11.95"
                                },
                                {
                                    "company": "META",
                                    "year": "2016",
                                    "quarter": "1",
                                    "quarterly_pct_change": "-2.1"
                                },
                                {
                                    "company": "META",
                                    "year": "2016",
                                    "quarter": "2",
                                    "quarterly_pct_change": "14.58"
                                },
                                {
                                    "company": "META",
                                    "year": "2016",
                                    "quarter": "3",
                                    "quarterly_pct_change": "7.73"
                                },
                                {
                                    "company": "META",
                                    "year": "2016",
                                    "quarter": "4",
                                    "quarterly_pct_change": "-2.62"
                                },
                                {
                                    "company": "META",
                                    "year": "2017",
                                    "quarter": "1",
                                    "quarterly_pct_change": "7.09"
                                },
                                {
                                    "company": "META",
                                    "year": "2017",
                                    "quarter": "2",
                                    "quarterly_pct_change": "13.06"
                                },
                                {
                                    "company": "META",
                                    "year": "2017",
                                    "quarter": "3",
                                    "quarterly_pct_change": "12.23"
                                },
                                {
                                    "company": "META",
                                    "year": "2017",
                                    "quarter": "4",
                                    "quarterly_pct_change": "5.91"
                                },
                                {
                                    "company": "META",
                                    "year": "2018",
                                    "quarter": "1",
                                    "quarterly_pct_change": "-1.64"
                                },
                                {
                                    "company": "META",
                                    "year": "2018",
                                    "quarter": "2",
                                    "quarterly_pct_change": "5.59"
                                },
                                {
                                    "company": "META",
                                    "year": "2018",
                                    "quarter": "3",
                                    "quarterly_pct_change": "-1.39"
                                },
                                {
                                    "company": "META",
                                    "year": "2018",
                                    "quarter": "4",
                                    "quarterly_pct_change": "-19.97"
                                },
                                {
                                    "company": "META",
                                    "year": "2019",
                                    "quarter": "1",
                                    "quarterly_pct_change": "6.29"
                                },
                                {
                                    "company": "META",
                                    "year": "2019",
                                    "quarter": "2",
                                    "quarterly_pct_change": "18.66"
                                },
                                {
                                    "company": "META",
                                    "year": "2019",
                                    "quarter": "3",
                                    "quarterly_pct_change": "5.68"
                                },
                                {
                                    "company": "META",
                                    "year": "2019",
                                    "quarter": "4",
                                    "quarterly_pct_change": "1.9"
                                },
                                {
                                    "company": "META",
                                    "year": "2020",
                                    "quarter": "1",
                                    "quarterly_pct_change": "-2.08"
                                },
                                {
                                    "company": "META",
                                    "year": "2020",
                                    "quarter": "2",
                                    "quarterly_pct_change": "8.36"
                                },
                                {
                                    "company": "META",
                                    "year": "2020",
                                    "quarter": "3",
                                    "quarterly_pct_change": "25.48"
                                },
                                {
                                    "company": "META",
                                    "year": "2020",
                                    "quarter": "4",
                                    "quarterly_pct_change": "6.3"
                                },
                                {
                                    "company": "META",
                                    "year": "2021",
                                    "quarter": "1",
                                    "quarterly_pct_change": "-6.39"
                                },
                                {
                                    "company": "META",
                                    "year": "2021",
                                    "quarter": "2",
                                    "quarterly_pct_change": "23.05"
                                },
                                {
                                    "company": "META",
                                    "year": "2021",
                                    "quarter": "3",
                                    "quarterly_pct_change": "14.05"
                                },
                                {
                                    "company": "META",
                                    "year": "2021",
                                    "quarter": "4",
                                    "quarterly_pct_change": "-7.82"
                                },
                                {
                                    "company": "META",
                                    "year": "2022",
                                    "quarter": "1",
                                    "quarterly_pct_change": "-27.07"
                                },
                                {
                                    "company": "META",
                                    "year": "2022",
                                    "quarter": "2",
                                    "quarterly_pct_change": "-22.81"
                                },
                                {
                                    "company": "META",
                                    "year": "2022",
                                    "quarter": "3",
                                    "quarterly_pct_change": "-13.27"
                                },
                                {
                                    "company": "META",
                                    "year": "2022",
                                    "quarter": "4",
                                    "quarterly_pct_change": "-28.68"
                                },
                                {
                                    "company": "META",
                                    "year": "2023",
                                    "quarter": "1",
                                    "quarterly_pct_change": "42.73"
                                },
                                {
                                    "company": "META",
                                    "year": "2023",
                                    "quarter": "2",
                                    "quarterly_pct_change": "44.89"
                                },
                                {
                                    "company": "META",
                                    "year": "2023",
                                    "quarter": "3",
                                    "quarterly_pct_change": "-80.41"
                                },
                                {
                                    "company": "MSFT",
                                    "year": "2013",
                                    "quarter": "3",
                                    "quarterly_pct_change": "NULL"
                                },
                                {
                                    "company": "MSFT",
                                    "year": "2013",
                                    "quarter": "4",
                                    "quarterly_pct_change": "37.87"
                                },
                                {
                                    "company": "MSFT",
                                    "year": "2014",
                                    "quarter": "1",
                                    "quarterly_pct_change": "-1.5"
                                },
                                {
                                    "company": "MSFT",
                                    "year": "2014",
                                    "quarter": "2",
                                    "quarterly_pct_change": "11.36"
                                },
                                {
                                    "company": "MSFT",
                                    "year": "2014",
                                    "quarter": "3",
                                    "quarterly_pct_change": "11.97"
                                },
                                {
                                    "company": "MSFT",
                                    "year": "2014",
                                    "quarter": "4",
                                    "quarterly_pct_change": "5.23"
                                },
                                {
                                    "company": "MSFT",
                                    "year": "2015",
                                    "quarter": "1",
                                    "quarterly_pct_change": "-11.6"
                                },
                                {
                                    "company": "MSFT",
                                    "year": "2015",
                                    "quarter": "2",
                                    "quarterly_pct_change": "8.24"
                                },
                                {
                                    "company": "MSFT",
                                    "year": "2015",
                                    "quarter": "3",
                                    "quarterly_pct_change": "-0.03"
                                },
                                {
                                    "company": "MSFT",
                                    "year": "2015",
                                    "quarter": "4",
                                    "quarterly_pct_change": "17.19"
                                },
                                {
                                    "company": "MSFT",
                                    "year": "2016",
                                    "quarter": "1",
                                    "quarterly_pct_change": "-5.05"
                                },
                                {
                                    "company": "MSFT",
                                    "year": "2016",
                                    "quarter": "2",
                                    "quarterly_pct_change": "4"
                                },
                                {
                                    "company": "MSFT",
                                    "year": "2016",
                                    "quarter": "3",
                                    "quarterly_pct_change": "8.63"
                                },
                                {
                                    "company": "MSFT",
                                    "year": "2016",
                                    "quarter": "4",
                                    "quarterly_pct_change": "4.89"
                                },
                                {
                                    "company": "MSFT",
                                    "year": "2017",
                                    "quarter": "1",
                                    "quarterly_pct_change": "4.86"
                                },
                                {
                                    "company": "MSFT",
                                    "year": "2017",
                                    "quarter": "2",
                                    "quarterly_pct_change": "8.85"
                                },
                                {
                                    "company": "MSFT",
                                    "year": "2017",
                                    "quarter": "3",
                                    "quarterly_pct_change": "6.41"
                                },
                                {
                                    "company": "MSFT",
                                    "year": "2017",
                                    "quarter": "4",
                                    "quarterly_pct_change": "12.3"
                                },
                                {
                                    "company": "MSFT",
                                    "year": "2018",
                                    "quarter": "1",
                                    "quarterly_pct_change": "7.94"
                                },
                                {
                                    "company": "MSFT",
                                    "year": "2018",
                                    "quarter": "2",
                                    "quarterly_pct_change": "11.19"
                                },
                                {
                                    "company": "MSFT",
                                    "year": "2018",
                                    "quarter": "3",
                                    "quarterly_pct_change": "10.1"
                                },
                                {
                                    "company": "MSFT",
                                    "year": "2018",
                                    "quarter": "4",
                                    "quarterly_pct_change": "-1.19"
                                },
                                {
                                    "company": "MSFT",
                                    "year": "2019",
                                    "quarter": "1",
                                    "quarterly_pct_change": "-1.38"
                                },
                                {
                                    "company": "MSFT",
                                    "year": "2019",
                                    "quarter": "2",
                                    "quarterly_pct_change": "20.18"
                                },
                                {
                                    "company": "MSFT",
                                    "year": "2019",
                                    "quarter": "3",
                                    "quarterly_pct_change": "10.04"
                                },
                                {
                                    "company": "MSFT",
                                    "year": "2019",
                                    "quarter": "4",
                                    "quarterly_pct_change": "6.83"
                                },
                                {
                                    "company": "MSFT",
                                    "year": "2020",
                                    "quarter": "1",
                                    "quarterly_pct_change": "8.44"
                                },
                                {
                                    "company": "MSFT",
                                    "year": "2020",
                                    "quarter": "2",
                                    "quarterly_pct_change": "12.16"
                                },
                                {
                                    "company": "MSFT",
                                    "year": "2020",
                                    "quarter": "3",
                                    "quarterly_pct_change": "17.54"
                                },
                                {
                                    "company": "MSFT",
                                    "year": "2020",
                                    "quarter": "4",
                                    "quarterly_pct_change": "2.38"
                                },
                                {
                                    "company": "MSFT",
                                    "year": "2021",
                                    "quarter": "1",
                                    "quarterly_pct_change": "2.85"
                                },
                                {
                                    "company": "MSFT",
                                    "year": "2021",
                                    "quarter": "2",
                                    "quarterly_pct_change": "13.14"
                                },
                                {
                                    "company": "MSFT",
                                    "year": "2021",
                                    "quarter": "3",
                                    "quarterly_pct_change": "16.28"
                                },
                                {
                                    "company": "MSFT",
                                    "year": "2021",
                                    "quarter": "4",
                                    "quarterly_pct_change": "11.43"
                                },
                                {
                                    "company": "MSFT",
                                    "year": "2022",
                                    "quarter": "1",
                                    "quarterly_pct_change": "-10.1"
                                },
                                {
                                    "company": "MSFT",
                                    "year": "2022",
                                    "quarter": "2",
                                    "quarterly_pct_change": "-9.79"
                                },
                                {
                                    "company": "MSFT",
                                    "year": "2022",
                                    "quarter": "3",
                                    "quarterly_pct_change": "0.43"
                                },
                                {
                                    "company": "MSFT",
                                    "year": "2022",
                                    "quarter": "4",
                                    "quarterly_pct_change": "-10.53"
                                },
                                {
                                    "company": "MSFT",
                                    "year": "2023",
                                    "quarter": "1",
                                    "quarterly_pct_change": "4.6"
                                },
                                {
                                    "company": "MSFT",
                                    "year": "2023",
                                    "quarter": "2",
                                    "quarterly_pct_change": "22.87"
                                },
                                {
                                    "company": "MSFT",
                                    "year": "2023",
                                    "quarter": "3",
                                    "quarterly_pct_change": "-82.56"
                                },
                                {
                                    "company": "NFLX",
                                    "year": "2013",
                                    "quarter": "3",
                                    "quarterly_pct_change": "NULL"
                                },
                                {
                                    "company": "NFLX",
                                    "year": "2013",
                                    "quarter": "4",
                                    "quarterly_pct_change": "52.73"
                                },
                                {
                                    "company": "NFLX",
                                    "year": "2014",
                                    "quarter": "1",
                                    "quarterly_pct_change": "11.23"
                                },
                                {
                                    "company": "NFLX",
                                    "year": "2014",
                                    "quarter": "2",
                                    "quarterly_pct_change": "-2.4"
                                },
                                {
                                    "company": "NFLX",
                                    "year": "2014",
                                    "quarter": "3",
                                    "quarterly_pct_change": "21.75"
                                },
                                {
                                    "company": "NFLX",
                                    "year": "2014",
                                    "quarter": "4",
                                    "quarterly_pct_change": "-17.21"
                                },
                                {
                                    "company": "NFLX",
                                    "year": "2015",
                                    "quarter": "1",
                                    "quarterly_pct_change": "7.68"
                                },
                                {
                                    "company": "NFLX",
                                    "year": "2015",
                                    "quarter": "2",
                                    "quarterly_pct_change": "42.48"
                                },
                                {
                                    "company": "NFLX",
                                    "year": "2015",
                                    "quarter": "3",
                                    "quarterly_pct_change": "30.36"
                                },
                                {
                                    "company": "NFLX",
                                    "year": "2015",
                                    "quarter": "4",
                                    "quarterly_pct_change": "6.4"
                                },
                                {
                                    "company": "NFLX",
                                    "year": "2016",
                                    "quarter": "1",
                                    "quarterly_pct_change": "-18.12"
                                },
                                {
                                    "company": "NFLX",
                                    "year": "2016",
                                    "quarter": "2",
                                    "quarterly_pct_change": "2.68"
                                },
                                {
                                    "company": "NFLX",
                                    "year": "2016",
                                    "quarter": "3",
                                    "quarterly_pct_change": "-0.64"
                                },
                                {
                                    "company": "NFLX",
                                    "year": "2016",
                                    "quarter": "4",
                                    "quarterly_pct_change": "22.22"
                                },
                                {
                                    "company": "NFLX",
                                    "year": "2017",
                                    "quarter": "1",
                                    "quarterly_pct_change": "16.51"
                                },
                                {
                                    "company": "NFLX",
                                    "year": "2017",
                                    "quarter": "2",
                                    "quarterly_pct_change": "11.41"
                                },
                                {
                                    "company": "NFLX",
                                    "year": "2017",
                                    "quarter": "3",
                                    "quarterly_pct_change": "13.37"
                                },
                                {
                                    "company": "NFLX",
                                    "year": "2017",
                                    "quarter": "4",
                                    "quarterly_pct_change": "10.41"
                                },
                                {
                                    "company": "NFLX",
                                    "year": "2018",
                                    "quarter": "1",
                                    "quarterly_pct_change": "36.88"
                                },
                                {
                                    "company": "NFLX",
                                    "year": "2018",
                                    "quarter": "2",
                                    "quarterly_pct_change": "31.39"
                                },
                                {
                                    "company": "NFLX",
                                    "year": "2018",
                                    "quarter": "3",
                                    "quarterly_pct_change": "4.81"
                                },
                                {
                                    "company": "NFLX",
                                    "year": "2018",
                                    "quarter": "4",
                                    "quarterly_pct_change": "-17.55"
                                },
                                {
                                    "company": "NFLX",
                                    "year": "2019",
                                    "quarter": "1",
                                    "quarterly_pct_change": "12.17"
                                },
                                {
                                    "company": "NFLX",
                                    "year": "2019",
                                    "quarter": "2",
                                    "quarterly_pct_change": "7.48"
                                },
                                {
                                    "company": "NFLX",
                                    "year": "2019",
                                    "quarter": "3",
                                    "quarterly_pct_change": "-11.9"
                                },
                                {
                                    "company": "NFLX",
                                    "year": "2019",
                                    "quarter": "4",
                                    "quarterly_pct_change": "-5.24"
                                },
                                {
                                    "company": "NFLX",
                                    "year": "2020",
                                    "quarter": "1",
                                    "quarterly_pct_change": "15.6"
                                },
                                {
                                    "company": "NFLX",
                                    "year": "2020",
                                    "quarter": "2",
                                    "quarterly_pct_change": "22.25"
                                },
                                {
                                    "company": "NFLX",
                                    "year": "2020",
                                    "quarter": "3",
                                    "quarterly_pct_change": "18.79"
                                },
                                {
                                    "company": "NFLX",
                                    "year": "2020",
                                    "quarter": "4",
                                    "quarterly_pct_change": "1.86"
                                },
                                {
                                    "company": "NFLX",
                                    "year": "2021",
                                    "quarter": "1",
                                    "quarterly_pct_change": "-0.28"
                                },
                                {
                                    "company": "NFLX",
                                    "year": "2021",
                                    "quarter": "2",
                                    "quarterly_pct_change": "-0.47"
                                },
                                {
                                    "company": "NFLX",
                                    "year": "2021",
                                    "quarter": "3",
                                    "quarterly_pct_change": "9.37"
                                },
                                {
                                    "company": "NFLX",
                                    "year": "2021",
                                    "quarter": "4",
                                    "quarterly_pct_change": "16.1"
                                },
                                {
                                    "company": "NFLX",
                                    "year": "2022",
                                    "quarter": "1",
                                    "quarterly_pct_change": "-36.88"
                                },
                                {
                                    "company": "NFLX",
                                    "year": "2022",
                                    "quarter": "2",
                                    "quarterly_pct_change": "-46.75"
                                },
                                {
                                    "company": "NFLX",
                                    "year": "2022",
                                    "quarter": "3",
                                    "quarterly_pct_change": "3.42"
                                },
                                {
                                    "company": "NFLX",
                                    "year": "2022",
                                    "quarter": "4",
                                    "quarterly_pct_change": "24.31"
                                },
                                {
                                    "company": "NFLX",
                                    "year": "2023",
                                    "quarter": "1",
                                    "quarterly_pct_change": "16.11"
                                },
                                {
                                    "company": "NFLX",
                                    "year": "2023",
                                    "quarter": "2",
                                    "quarterly_pct_change": "11.3"
                                },
                                {
                                    "company": "NFLX",
                                    "year": "2023",
                                    "quarter": "3",
                                    "quarterly_pct_change": "-80.59"
                                },
                                {
                                    "company": "QCOM",
                                    "year": "2013",
                                    "quarter": "3",
                                    "quarterly_pct_change": "NULL"
                                },
                                {
                                    "company": "QCOM",
                                    "year": "2013",
                                    "quarter": "4",
                                    "quarterly_pct_change": "30.36"
                                },
                                {
                                    "company": "QCOM",
                                    "year": "2014",
                                    "quarter": "1",
                                    "quarterly_pct_change": "1.77"
                                },
                                {
                                    "company": "QCOM",
                                    "year": "2014",
                                    "quarter": "2",
                                    "quarterly_pct_change": "9.02"
                                },
                                {
                                    "company": "QCOM",
                                    "year": "2014",
                                    "quarter": "3",
                                    "quarterly_pct_change": "-2.26"
                                },
                                {
                                    "company": "QCOM",
                                    "year": "2014",
                                    "quarter": "4",
                                    "quarterly_pct_change": "-4.31"
                                },
                                {
                                    "company": "QCOM",
                                    "year": "2015",
                                    "quarter": "1",
                                    "quarterly_pct_change": "-8.23"
                                },
                                {
                                    "company": "QCOM",
                                    "year": "2015",
                                    "quarter": "2",
                                    "quarterly_pct_change": "-0.01"
                                },
                                {
                                    "company": "QCOM",
                                    "year": "2015",
                                    "quarter": "3",
                                    "quarterly_pct_change": "-11.53"
                                },
                                {
                                    "company": "QCOM",
                                    "year": "2015",
                                    "quarter": "4",
                                    "quarterly_pct_change": "-10.21"
                                },
                                {
                                    "company": "QCOM",
                                    "year": "2016",
                                    "quarter": "1",
                                    "quarterly_pct_change": "-12.91"
                                },
                                {
                                    "company": "QCOM",
                                    "year": "2016",
                                    "quarter": "2",
                                    "quarterly_pct_change": "13.42"
                                },
                                {
                                    "company": "QCOM",
                                    "year": "2016",
                                    "quarter": "3",
                                    "quarterly_pct_change": "15.41"
                                },
                                {
                                    "company": "QCOM",
                                    "year": "2016",
                                    "quarter": "4",
                                    "quarterly_pct_change": "8.74"
                                },
                                {
                                    "company": "QCOM",
                                    "year": "2017",
                                    "quarter": "1",
                                    "quarterly_pct_change": "-15.01"
                                },
                                {
                                    "company": "QCOM",
                                    "year": "2017",
                                    "quarter": "2",
                                    "quarterly_pct_change": "-2.16"
                                },
                                {
                                    "company": "QCOM",
                                    "year": "2017",
                                    "quarter": "3",
                                    "quarterly_pct_change": "-5.31"
                                },
                                {
                                    "company": "QCOM",
                                    "year": "2017",
                                    "quarter": "4",
                                    "quarterly_pct_change": "14.64"
                                },
                                {
                                    "company": "QCOM",
                                    "year": "2018",
                                    "quarter": "1",
                                    "quarterly_pct_change": "1.74"
                                },
                                {
                                    "company": "QCOM",
                                    "year": "2018",
                                    "quarter": "2",
                                    "quarterly_pct_change": "-8.09"
                                },
                                {
                                    "company": "QCOM",
                                    "year": "2018",
                                    "quarter": "3",
                                    "quarterly_pct_change": "16.06"
                                },
                                {
                                    "company": "QCOM",
                                    "year": "2018",
                                    "quarter": "4",
                                    "quarterly_pct_change": "-7.74"
                                },
                                {
                                    "company": "QCOM",
                                    "year": "2019",
                                    "quarter": "1",
                                    "quarterly_pct_change": "-13.92"
                                },
                                {
                                    "company": "QCOM",
                                    "year": "2019",
                                    "quarter": "2",
                                    "quarterly_pct_change": "40.11"
                                },
                                {
                                    "company": "QCOM",
                                    "year": "2019",
                                    "quarter": "3",
                                    "quarterly_pct_change": "4.4"
                                },
                                {
                                    "company": "QCOM",
                                    "year": "2019",
                                    "quarter": "4",
                                    "quarterly_pct_change": "11.16"
                                },
                                {
                                    "company": "QCOM",
                                    "year": "2020",
                                    "quarter": "1",
                                    "quarterly_pct_change": "-5.08"
                                },
                                {
                                    "company": "QCOM",
                                    "year": "2020",
                                    "quarter": "2",
                                    "quarterly_pct_change": "-0.6"
                                },
                                {
                                    "company": "QCOM",
                                    "year": "2020",
                                    "quarter": "3",
                                    "quarterly_pct_change": "35.3"
                                },
                                {
                                    "company": "QCOM",
                                    "year": "2020",
                                    "quarter": "4",
                                    "quarterly_pct_change": "30.4"
                                },
                                {
                                    "company": "QCOM",
                                    "year": "2021",
                                    "quarter": "1",
                                    "quarterly_pct_change": "-1.29"
                                },
                                {
                                    "company": "QCOM",
                                    "year": "2021",
                                    "quarter": "2",
                                    "quarterly_pct_change": "-3.22"
                                },
                                {
                                    "company": "QCOM",
                                    "year": "2021",
                                    "quarter": "3",
                                    "quarterly_pct_change": "6.63"
                                },
                                {
                                    "company": "QCOM",
                                    "year": "2021",
                                    "quarter": "4",
                                    "quarterly_pct_change": "12.84"
                                },
                                {
                                    "company": "QCOM",
                                    "year": "2022",
                                    "quarter": "1",
                                    "quarterly_pct_change": "1.49"
                                },
                                {
                                    "company": "QCOM",
                                    "year": "2022",
                                    "quarter": "2",
                                    "quarterly_pct_change": "-19.04"
                                },
                                {
                                    "company": "QCOM",
                                    "year": "2022",
                                    "quarter": "3",
                                    "quarterly_pct_change": "4.44"
                                },
                                {
                                    "company": "QCOM",
                                    "year": "2022",
                                    "quarter": "4",
                                    "quarterly_pct_change": "-16.17"
                                },
                                {
                                    "company": "QCOM",
                                    "year": "2023",
                                    "quarter": "1",
                                    "quarterly_pct_change": "4.58"
                                },
                                {
                                    "company": "QCOM",
                                    "year": "2023",
                                    "quarter": "2",
                                    "quarterly_pct_change": "-7.54"
                                },
                                {
                                    "company": "QCOM",
                                    "year": "2023",
                                    "quarter": "3",
                                    "quarterly_pct_change": "-83.3"
                                },
                                {
                                    "company": "SBUX",
                                    "year": "2013",
                                    "quarter": "3",
                                    "quarterly_pct_change": "NULL"
                                },
                                {
                                    "company": "SBUX",
                                    "year": "2013",
                                    "quarter": "4",
                                    "quarterly_pct_change": "33.92"
                                },
                                {
                                    "company": "SBUX",
                                    "year": "2014",
                                    "quarter": "1",
                                    "quarterly_pct_change": "-10.89"
                                },
                                {
                                    "company": "SBUX",
                                    "year": "2014",
                                    "quarter": "2",
                                    "quarterly_pct_change": "1.43"
                                },
                                {
                                    "company": "SBUX",
                                    "year": "2014",
                                    "quarter": "3",
                                    "quarterly_pct_change": "8.17"
                                },
                                {
                                    "company": "SBUX",
                                    "year": "2014",
                                    "quarter": "4",
                                    "quarterly_pct_change": "0.99"
                                },
                                {
                                    "company": "SBUX",
                                    "year": "2015",
                                    "quarter": "1",
                                    "quarterly_pct_change": "9.63"
                                },
                                {
                                    "company": "SBUX",
                                    "year": "2015",
                                    "quarter": "2",
                                    "quarterly_pct_change": "16.63"
                                },
                                {
                                    "company": "SBUX",
                                    "year": "2015",
                                    "quarter": "3",
                                    "quarterly_pct_change": "12.18"
                                },
                                {
                                    "company": "SBUX",
                                    "year": "2015",
                                    "quarter": "4",
                                    "quarterly_pct_change": "8.71"
                                },
                                {
                                    "company": "SBUX",
                                    "year": "2016",
                                    "quarter": "1",
                                    "quarterly_pct_change": "-8.87"
                                },
                                {
                                    "company": "SBUX",
                                    "year": "2016",
                                    "quarter": "2",
                                    "quarterly_pct_change": "2.45"
                                },
                                {
                                    "company": "SBUX",
                                    "year": "2016",
                                    "quarter": "3",
                                    "quarterly_pct_change": "-1.65"
                                },
                                {
                                    "company": "SBUX",
                                    "year": "2016",
                                    "quarter": "4",
                                    "quarterly_pct_change": "-2.49"
                                },
                                {
                                    "company": "SBUX",
                                    "year": "2017",
                                    "quarter": "1",
                                    "quarterly_pct_change": "0.52"
                                },
                                {
                                    "company": "SBUX",
                                    "year": "2017",
                                    "quarter": "2",
                                    "quarterly_pct_change": "8.58"
                                },
                                {
                                    "company": "SBUX",
                                    "year": "2017",
                                    "quarter": "3",
                                    "quarterly_pct_change": "-8.36"
                                },
                                {
                                    "company": "SBUX",
                                    "year": "2017",
                                    "quarter": "4",
                                    "quarterly_pct_change": "2.13"
                                },
                                {
                                    "company": "SBUX",
                                    "year": "2018",
                                    "quarter": "1",
                                    "quarterly_pct_change": "-1.1"
                                },
                                {
                                    "company": "SBUX",
                                    "year": "2018",
                                    "quarter": "2",
                                    "quarterly_pct_change": "3.01"
                                },
                                {
                                    "company": "SBUX",
                                    "year": "2018",
                                    "quarter": "3",
                                    "quarterly_pct_change": "-8.3"
                                },
                                {
                                    "company": "SBUX",
                                    "year": "2018",
                                    "quarter": "4",
                                    "quarterly_pct_change": "18.38"
                                },
                                {
                                    "company": "SBUX",
                                    "year": "2019",
                                    "quarter": "1",
                                    "quarterly_pct_change": "6.32"
                                },
                                {
                                    "company": "SBUX",
                                    "year": "2019",
                                    "quarter": "2",
                                    "quarterly_pct_change": "17.84"
                                },
                                {
                                    "company": "SBUX",
                                    "year": "2019",
                                    "quarter": "3",
                                    "quarterly_pct_change": "20.1"
                                },
                                {
                                    "company": "SBUX",
                                    "year": "2019",
                                    "quarter": "4",
                                    "quarterly_pct_change": "-8.03"
                                },
                                {
                                    "company": "SBUX",
                                    "year": "2020",
                                    "quarter": "1",
                                    "quarterly_pct_change": "-8.11"
                                },
                                {
                                    "company": "SBUX",
                                    "year": "2020",
                                    "quarter": "2",
                                    "quarterly_pct_change": "-5.58"
                                },
                                {
                                    "company": "SBUX",
                                    "year": "2020",
                                    "quarter": "3",
                                    "quarterly_pct_change": "7.82"
                                },
                                {
                                    "company": "SBUX",
                                    "year": "2020",
                                    "quarter": "4",
                                    "quarterly_pct_change": "19.7"
                                },
                                {
                                    "company": "SBUX",
                                    "year": "2021",
                                    "quarter": "1",
                                    "quarterly_pct_change": "4.81"
                                },
                                {
                                    "company": "SBUX",
                                    "year": "2021",
                                    "quarter": "2",
                                    "quarterly_pct_change": "11.2"
                                },
                                {
                                    "company": "SBUX",
                                    "year": "2021",
                                    "quarter": "3",
                                    "quarterly_pct_change": "5.21"
                                },
                                {
                                    "company": "SBUX",
                                    "year": "2021",
                                    "quarter": "4",
                                    "quarterly_pct_change": "-3.7"
                                },
                                {
                                    "company": "SBUX",
                                    "year": "2022",
                                    "quarter": "1",
                                    "quarterly_pct_change": "-18.91"
                                },
                                {
                                    "company": "SBUX",
                                    "year": "2022",
                                    "quarter": "2",
                                    "quarterly_pct_change": "-18.62"
                                },
                                {
                                    "company": "SBUX",
                                    "year": "2022",
                                    "quarter": "3",
                                    "quarterly_pct_change": "14.18"
                                },
                                {
                                    "company": "SBUX",
                                    "year": "2022",
                                    "quarter": "4",
                                    "quarterly_pct_change": "9.35"
                                },
                                {
                                    "company": "SBUX",
                                    "year": "2023",
                                    "quarter": "1",
                                    "quarterly_pct_change": "8.54"
                                },
                                {
                                    "company": "SBUX",
                                    "year": "2023",
                                    "quarter": "2",
                                    "quarterly_pct_change": "-0.28"
                                },
                                {
                                    "company": "SBUX",
                                    "year": "2023",
                                    "quarter": "3",
                                    "quarterly_pct_change": "-84.55"
                                },
                                {
                                    "company": "TSLA",
                                    "year": "2013",
                                    "quarter": "3",
                                    "quarterly_pct_change": "NULL"
                                },
                                {
                                    "company": "TSLA",
                                    "year": "2013",
                                    "quarter": "4",
                                    "quarterly_pct_change": "21.81"
                                },
                                {
                                    "company": "TSLA",
                                    "year": "2014",
                                    "quarter": "1",
                                    "quarterly_pct_change": "25.01"
                                },
                                {
                                    "company": "TSLA",
                                    "year": "2014",
                                    "quarter": "2",
                                    "quarterly_pct_change": "7.54"
                                },
                                {
                                    "company": "TSLA",
                                    "year": "2014",
                                    "quarter": "3",
                                    "quarterly_pct_change": "20.2"
                                },
                                {
                                    "company": "TSLA",
                                    "year": "2014",
                                    "quarter": "4",
                                    "quarterly_pct_change": "-5.31"
                                },
                                {
                                    "company": "TSLA",
                                    "year": "2015",
                                    "quarter": "1",
                                    "quarterly_pct_change": "-17.66"
                                },
                                {
                                    "company": "TSLA",
                                    "year": "2015",
                                    "quarter": "2",
                                    "quarterly_pct_change": "20.98"
                                },
                                {
                                    "company": "TSLA",
                                    "year": "2015",
                                    "quarter": "3",
                                    "quarterly_pct_change": "9.16"
                                },
                                {
                                    "company": "TSLA",
                                    "year": "2015",
                                    "quarter": "4",
                                    "quarterly_pct_change": "-11.94"
                                },
                                {
                                    "company": "TSLA",
                                    "year": "2016",
                                    "quarter": "1",
                                    "quarterly_pct_change": "-16.21"
                                },
                                {
                                    "company": "TSLA",
                                    "year": "2016",
                                    "quarter": "2",
                                    "quarterly_pct_change": "20.85"
                                },
                                {
                                    "company": "TSLA",
                                    "year": "2016",
                                    "quarter": "3",
                                    "quarterly_pct_change": "-4.71"
                                },
                                {
                                    "company": "TSLA",
                                    "year": "2016",
                                    "quarter": "4",
                                    "quarterly_pct_change": "-10.4"
                                },
                                {
                                    "company": "TSLA",
                                    "year": "2017",
                                    "quarter": "1",
                                    "quarterly_pct_change": "26.7"
                                },
                                {
                                    "company": "TSLA",
                                    "year": "2017",
                                    "quarter": "2",
                                    "quarterly_pct_change": "32.2"
                                },
                                {
                                    "company": "TSLA",
                                    "year": "2017",
                                    "quarter": "3",
                                    "quarterly_pct_change": "4.81"
                                },
                                {
                                    "company": "TSLA",
                                    "year": "2017",
                                    "quarter": "4",
                                    "quarterly_pct_change": "-5.73"
                                },
                                {
                                    "company": "TSLA",
                                    "year": "2018",
                                    "quarter": "1",
                                    "quarterly_pct_change": "-2.08"
                                },
                                {
                                    "company": "TSLA",
                                    "year": "2018",
                                    "quarter": "2",
                                    "quarterly_pct_change": "-3.06"
                                },
                                {
                                    "company": "TSLA",
                                    "year": "2018",
                                    "quarter": "3",
                                    "quarterly_pct_change": "0.88"
                                },
                                {
                                    "company": "TSLA",
                                    "year": "2018",
                                    "quarter": "4",
                                    "quarterly_pct_change": "3.28"
                                },
                                {
                                    "company": "TSLA",
                                    "year": "2019",
                                    "quarter": "1",
                                    "quarterly_pct_change": "-9.64"
                                },
                                {
                                    "company": "TSLA",
                                    "year": "2019",
                                    "quarter": "2",
                                    "quarterly_pct_change": "-19.93"
                                },
                                {
                                    "company": "TSLA",
                                    "year": "2019",
                                    "quarter": "3",
                                    "quarterly_pct_change": "2.19"
                                },
                                {
                                    "company": "TSLA",
                                    "year": "2019",
                                    "quarter": "4",
                                    "quarterly_pct_change": "38.55"
                                },
                                {
                                    "company": "TSLA",
                                    "year": "2020",
                                    "quarter": "1",
                                    "quarterly_pct_change": "85.14"
                                },
                                {
                                    "company": "TSLA",
                                    "year": "2020",
                                    "quarter": "2",
                                    "quarterly_pct_change": "32.6"
                                },
                                {
                                    "company": "TSLA",
                                    "year": "2020",
                                    "quarter": "3",
                                    "quarterly_pct_change": "121.72"
                                },
                                {
                                    "company": "TSLA",
                                    "year": "2020",
                                    "quarter": "4",
                                    "quarterly_pct_change": "44.53"
                                },
                                {
                                    "company": "TSLA",
                                    "year": "2021",
                                    "quarter": "1",
                                    "quarterly_pct_change": "40.22"
                                },
                                {
                                    "company": "TSLA",
                                    "year": "2021",
                                    "quarter": "2",
                                    "quarterly_pct_change": "-10.7"
                                },
                                {
                                    "company": "TSLA",
                                    "year": "2021",
                                    "quarter": "3",
                                    "quarterly_pct_change": "10.14"
                                },
                                {
                                    "company": "TSLA",
                                    "year": "2021",
                                    "quarter": "4",
                                    "quarterly_pct_change": "42.5"
                                },
                                {
                                    "company": "TSLA",
                                    "year": "2022",
                                    "quarter": "1",
                                    "quarterly_pct_change": "-10.03"
                                },
                                {
                                    "company": "TSLA",
                                    "year": "2022",
                                    "quarter": "2",
                                    "quarterly_pct_change": "-12.36"
                                },
                                {
                                    "company": "TSLA",
                                    "year": "2022",
                                    "quarter": "3",
                                    "quarterly_pct_change": "5.61"
                                },
                                {
                                    "company": "TSLA",
                                    "year": "2022",
                                    "quarter": "4",
                                    "quarterly_pct_change": "-33.26"
                                },
                                {
                                    "company": "TSLA",
                                    "year": "2023",
                                    "quarter": "1",
                                    "quarterly_pct_change": "-9.33"
                                },
                                {
                                    "company": "TSLA",
                                    "year": "2023",
                                    "quarter": "2",
                                    "quarterly_pct_change": "14.63"
                                },
                                {
                                    "company": "TSLA",
                                    "year": "2023",
                                    "quarter": "3",
                                    "quarterly_pct_change": "-77.62"
                                }
                            ]
                        },
                        "text/html": [
                            "<table>",
                            "<tr><th>company</th><th>year</th><th>quarter</th><th>quarterly_pct_change</th></tr>",
                            "<tr><td>AAPL</td><td>2013</td><td>3</td><td>NULL</td></tr>",
                            "<tr><td>AAPL</td><td>2013</td><td>4</td><td>37.36</td></tr>",
                            "<tr><td>AAPL</td><td>2014</td><td>1</td><td>-4.04</td></tr>",
                            "<tr><td>AAPL</td><td>2014</td><td>2</td><td>15.54</td></tr>",
                            "<tr><td>AAPL</td><td>2014</td><td>3</td><td>17.16</td></tr>",
                            "<tr><td>AAPL</td><td>2014</td><td>4</td><td>10.86</td></tr>",
                            "<tr><td>AAPL</td><td>2015</td><td>1</td><td>5.78</td></tr>",
                            "<tr><td>AAPL</td><td>2015</td><td>2</td><td>9.4</td></tr>",
                            "<tr><td>AAPL</td><td>2015</td><td>3</td><td>-6.86</td></tr>",
                            "<tr><td>AAPL</td><td>2015</td><td>4</td><td>-2.56</td></tr>",
                            "<tr><td>AAPL</td><td>2016</td><td>1</td><td>-16.9</td></tr>",
                            "<tr><td>AAPL</td><td>2016</td><td>2</td><td>4.65</td></tr>",
                            "<tr><td>AAPL</td><td>2016</td><td>3</td><td>6.5</td></tr>",
                            "<tr><td>AAPL</td><td>2016</td><td>4</td><td>5.44</td></tr>",
                            "<tr><td>AAPL</td><td>2017</td><td>1</td><td>14.3</td></tr>",
                            "<tr><td>AAPL</td><td>2017</td><td>2</td><td>14.08</td></tr>",
                            "<tr><td>AAPL</td><td>2017</td><td>3</td><td>4.93</td></tr>",
                            "<tr><td>AAPL</td><td>2017</td><td>4</td><td>7.72</td></tr>",
                            "<tr><td>AAPL</td><td>2018</td><td>1</td><td>-0.25</td></tr>",
                            "<tr><td>AAPL</td><td>2018</td><td>2</td><td>10.53</td></tr>",
                            "<tr><td>AAPL</td><td>2018</td><td>3</td><td>13.04</td></tr>",
                            "<tr><td>AAPL</td><td>2018</td><td>4</td><td>-6.91</td></tr>",
                            "<tr><td>AAPL</td><td>2019</td><td>1</td><td>-15.28</td></tr>",
                            "<tr><td>AAPL</td><td>2019</td><td>2</td><td>18.64</td></tr>",
                            "<tr><td>AAPL</td><td>2019</td><td>3</td><td>9</td></tr>",
                            "<tr><td>AAPL</td><td>2019</td><td>4</td><td>23.05</td></tr>",
                            "<tr><td>AAPL</td><td>2020</td><td>1</td><td>10.74</td></tr>",
                            "<tr><td>AAPL</td><td>2020</td><td>2</td><td>7.07</td></tr>",
                            "<tr><td>AAPL</td><td>2020</td><td>3</td><td>43.04</td></tr>",
                            "<tr><td>AAPL</td><td>2020</td><td>4</td><td>10.23</td></tr>",
                            "<tr><td>AAPL</td><td>2021</td><td>1</td><td>1.71</td></tr>",
                            "<tr><td>AAPL</td><td>2021</td><td>2</td><td>4.25</td></tr>",
                            "<tr><td>AAPL</td><td>2021</td><td>3</td><td>15.43</td></tr>",
                            "<tr><td>AAPL</td><td>2021</td><td>4</td><td>7.35</td></tr>",
                            "<tr><td>AAPL</td><td>2022</td><td>1</td><td>3.08</td></tr>",
                            "<tr><td>AAPL</td><td>2022</td><td>2</td><td>-9.95</td></tr>",
                            "<tr><td>AAPL</td><td>2022</td><td>3</td><td>6.98</td></tr>",
                            "<tr><td>AAPL</td><td>2022</td><td>4</td><td>-10.37</td></tr>",
                            "<tr><td>AAPL</td><td>2023</td><td>1</td><td>1.61</td></tr>",
                            "<tr><td>AAPL</td><td>2023</td><td>2</td><td>18.09</td></tr>",
                            "<tr><td>AAPL</td><td>2023</td><td>3</td><td>-82.34</td></tr>",
                            "<tr><td>AMD</td><td>2013</td><td>3</td><td>NULL</td></tr>",
                            "<tr><td>AMD</td><td>2013</td><td>4</td><td>18.58</td></tr>",
                            "<tr><td>AMD</td><td>2014</td><td>1</td><td>1.43</td></tr>",
                            "<tr><td>AMD</td><td>2014</td><td>2</td><td>9.64</td></tr>",
                            "<tr><td>AMD</td><td>2014</td><td>3</td><td>1.49</td></tr>",
                            "<tr><td>AMD</td><td>2014</td><td>4</td><td>-32.16</td></tr>",
                            "<tr><td>AMD</td><td>2015</td><td>1</td><td>-2.42</td></tr>",
                            "<tr><td>AMD</td><td>2015</td><td>2</td><td>-11.08</td></tr>",
                            "<tr><td>AMD</td><td>2015</td><td>3</td><td>-21.09</td></tr>",
                            "<tr><td>AMD</td><td>2015</td><td>4</td><td>19.06</td></tr>",
                            "<tr><td>AMD</td><td>2016</td><td>1</td><td>-3.22</td></tr>",
                            "<tr><td>AMD</td><td>2016</td><td>2</td><td>79.32</td></tr>",
                            "<tr><td>AMD</td><td>2016</td><td>3</td><td>64.32</td></tr>",
                            "<tr><td>AMD</td><td>2016</td><td>4</td><td>29.3</td></tr>",
                            "<tr><td>AMD</td><td>2017</td><td>1</td><td>48.97</td></tr>",
                            "<tr><td>AMD</td><td>2017</td><td>2</td><td>-2.15</td></tr>",
                            "<tr><td>AMD</td><td>2017</td><td>3</td><td>6.74</td></tr>",
                            "<tr><td>AMD</td><td>2017</td><td>4</td><td>-10.43</td></tr>",
                            "<tr><td>AMD</td><td>2018</td><td>1</td><td>-1.75</td></tr>",
                            "<tr><td>AMD</td><td>2018</td><td>2</td><td>12.48</td></tr>",
                            "<tr><td>AMD</td><td>2018</td><td>3</td><td>74.74</td></tr>",
                            "<tr><td>AMD</td><td>2018</td><td>4</td><td>-4.18</td></tr>",
                            "<tr><td>AMD</td><td>2019</td><td>1</td><td>1.66</td></tr>",
                            "<tr><td>AMD</td><td>2019</td><td>2</td><td>29.78</td></tr>",
                            "<tr><td>AMD</td><td>2019</td><td>3</td><td>11.67</td></tr>",
                            "<tr><td>AMD</td><td>2019</td><td>4</td><td>17.39</td></tr>",
                            "<tr><td>AMD</td><td>2020</td><td>1</td><td>26.77</td></tr>",
                            "<tr><td>AMD</td><td>2020</td><td>2</td><td>11.84</td></tr>",
                            "<tr><td>AMD</td><td>2020</td><td>3</td><td>42.27</td></tr>",
                            "<tr><td>AMD</td><td>2020</td><td>4</td><td>16.22</td></tr>",
                            "<tr><td>AMD</td><td>2021</td><td>1</td><td>-4.9</td></tr>",
                            "<tr><td>AMD</td><td>2021</td><td>2</td><td>-3.06</td></tr>",
                            "<tr><td>AMD</td><td>2021</td><td>3</td><td>28.49</td></tr>",
                            "<tr><td>AMD</td><td>2021</td><td>4</td><td>31.5</td></tr>",
                            "<tr><td>AMD</td><td>2022</td><td>1</td><td>-13.97</td></tr>",
                            "<tr><td>AMD</td><td>2022</td><td>2</td><td>-21.59</td></tr>",
                            "<tr><td>AMD</td><td>2022</td><td>3</td><td>-6.1</td></tr>",
                            "<tr><td>AMD</td><td>2022</td><td>4</td><td>-23.69</td></tr>",
                            "<tr><td>AMD</td><td>2023</td><td>1</td><td>21.34</td></tr>",
                            "<tr><td>AMD</td><td>2023</td><td>2</td><td>27.79</td></tr>",
                            "<tr><td>AMD</td><td>2023</td><td>3</td><td>-82.23</td></tr>",
                            "<tr><td>AMZN</td><td>2013</td><td>3</td><td>NULL</td></tr>",
                            "<tr><td>AMZN</td><td>2013</td><td>4</td><td>48.13</td></tr>",
                            "<tr><td>AMZN</td><td>2014</td><td>1</td><td>-1.64</td></tr>",
                            "<tr><td>AMZN</td><td>2014</td><td>2</td><td>-11.96</td></tr>",
                            "<tr><td>AMZN</td><td>2014</td><td>3</td><td>6.8</td></tr>",
                            "<tr><td>AMZN</td><td>2014</td><td>4</td><td>-6.33</td></tr>",
                            "<tr><td>AMZN</td><td>2015</td><td>1</td><td>7.57</td></tr>",
                            "<tr><td>AMZN</td><td>2015</td><td>2</td><td>22.76</td></tr>",
                            "<tr><td>AMZN</td><td>2015</td><td>3</td><td>22.88</td></tr>",
                            "<tr><td>AMZN</td><td>2015</td><td>4</td><td>24.68</td></tr>",
                            "<tr><td>AMZN</td><td>2016</td><td>1</td><td>-14.18</td></tr>",
                            "<tr><td>AMZN</td><td>2016</td><td>2</td><td>25.04</td></tr>",
                            "<tr><td>AMZN</td><td>2016</td><td>3</td><td>13.15</td></tr>",
                            "<tr><td>AMZN</td><td>2016</td><td>4</td><td>0.79</td></tr>",
                            "<tr><td>AMZN</td><td>2017</td><td>1</td><td>4.67</td></tr>",
                            "<tr><td>AMZN</td><td>2017</td><td>2</td><td>16.32</td></tr>",
                            "<tr><td>AMZN</td><td>2017</td><td>3</td><td>2.96</td></tr>",
                            "<tr><td>AMZN</td><td>2017</td><td>4</td><td>12.02</td></tr>",
                            "<tr><td>AMZN</td><td>2018</td><td>1</td><td>25.84</td></tr>",
                            "<tr><td>AMZN</td><td>2018</td><td>2</td><td>16.45</td></tr>",
                            "<tr><td>AMZN</td><td>2018</td><td>3</td><td>16.62</td></tr>",
                            "<tr><td>AMZN</td><td>2018</td><td>4</td><td>-11.59</td></tr>",
                            "<tr><td>AMZN</td><td>2019</td><td>1</td><td>-3.08</td></tr>",
                            "<tr><td>AMZN</td><td>2019</td><td>2</td><td>15.61</td></tr>",
                            "<tr><td>AMZN</td><td>2019</td><td>3</td><td>1.13</td></tr>",
                            "<tr><td>AMZN</td><td>2019</td><td>4</td><td>-4.55</td></tr>",
                            "<tr><td>AMZN</td><td>2020</td><td>1</td><td>5.94</td></tr>",
                            "<tr><td>AMZN</td><td>2020</td><td>2</td><td>26.8</td></tr>",
                            "<tr><td>AMZN</td><td>2020</td><td>3</td><td>32.6</td></tr>",
                            "<tr><td>AMZN</td><td>2020</td><td>4</td><td>1.22</td></tr>",
                            "<tr><td>AMZN</td><td>2021</td><td>1</td><td>-5.32</td></tr>",
                            "<tr><td>AMZN</td><td>2021</td><td>2</td><td>8.29</td></tr>",
                            "<tr><td>AMZN</td><td>2021</td><td>3</td><td>5.44</td></tr>",
                            "<tr><td>AMZN</td><td>2021</td><td>4</td><td>-0.78</td></tr>",
                            "<tr><td>AMZN</td><td>2022</td><td>1</td><td>-12.54</td></tr>",
                            "<tr><td>AMZN</td><td>2022</td><td>2</td><td>-19.02</td></tr>",
                            "<tr><td>AMZN</td><td>2022</td><td>3</td><td>4.27</td></tr>",
                            "<tr><td>AMZN</td><td>2022</td><td>4</td><td>-23.07</td></tr>",
                            "<tr><td>AMZN</td><td>2023</td><td>1</td><td>-3.75</td></tr>",
                            "<tr><td>AMZN</td><td>2023</td><td>2</td><td>18.2</td></tr>",
                            "<tr><td>AMZN</td><td>2023</td><td>3</td><td>-81.53</td></tr>",
                            "<tr><td>CSCO</td><td>2013</td><td>3</td><td>NULL</td></tr>",
                            "<tr><td>CSCO</td><td>2013</td><td>4</td><td>10.05</td></tr>",
                            "<tr><td>CSCO</td><td>2014</td><td>1</td><td>-4.8</td></tr>",
                            "<tr><td>CSCO</td><td>2014</td><td>2</td><td>11.39</td></tr>",
                            "<tr><td>CSCO</td><td>2014</td><td>3</td><td>7.21</td></tr>",
                            "<tr><td>CSCO</td><td>2014</td><td>4</td><td>2.64</td></tr>",
                            "<tr><td>CSCO</td><td>2015</td><td>1</td><td>3.92</td></tr>",
                            "<tr><td>CSCO</td><td>2015</td><td>2</td><td>5.22</td></tr>",
                            "<tr><td>CSCO</td><td>2015</td><td>3</td><td>-4.35</td></tr>",
                            "<tr><td>CSCO</td><td>2015</td><td>4</td><td>2.19</td></tr>",
                            "<tr><td>CSCO</td><td>2016</td><td>1</td><td>-11.14</td></tr>",
                            "<tr><td>CSCO</td><td>2016</td><td>2</td><td>14.48</td></tr>",
                            "<tr><td>CSCO</td><td>2016</td><td>3</td><td>9.57</td></tr>",
                            "<tr><td>CSCO</td><td>2016</td><td>4</td><td>-2.44</td></tr>",
                            "<tr><td>CSCO</td><td>2017</td><td>1</td><td>4.69</td></tr>",
                            "<tr><td>CSCO</td><td>2017</td><td>2</td><td>2.07</td></tr>",
                            "<tr><td>CSCO</td><td>2017</td><td>3</td><td>-2.29</td></tr>",
                            "<tr><td>CSCO</td><td>2017</td><td>4</td><td>12.22</td></tr>",
                            "<tr><td>CSCO</td><td>2018</td><td>1</td><td>14.96</td></tr>",
                            "<tr><td>CSCO</td><td>2018</td><td>2</td><td>8.09</td></tr>",
                            "<tr><td>CSCO</td><td>2018</td><td>3</td><td>1.33</td></tr>",
                            "<tr><td>CSCO</td><td>2018</td><td>4</td><td>1.73</td></tr>",
                            "<tr><td>CSCO</td><td>2019</td><td>1</td><td>2.81</td></tr>",
                            "<tr><td>CSCO</td><td>2019</td><td>2</td><td>17.39</td></tr>",
                            "<tr><td>CSCO</td><td>2019</td><td>3</td><td>-4.4</td></tr>",
                            "<tr><td>CSCO</td><td>2019</td><td>4</td><td>-10.57</td></tr>",
                            "<tr><td>CSCO</td><td>2020</td><td>1</td><td>-8.56</td></tr>",
                            "<tr><td>CSCO</td><td>2020</td><td>2</td><td>1.57</td></tr>",
                            "<tr><td>CSCO</td><td>2020</td><td>3</td><td>0.97</td></tr>",
                            "<tr><td>CSCO</td><td>2020</td><td>4</td><td>-5.71</td></tr>",
                            "<tr><td>CSCO</td><td>2021</td><td>1</td><td>8.87</td></tr>",
                            "<tr><td>CSCO</td><td>2021</td><td>2</td><td>15.73</td></tr>",
                            "<tr><td>CSCO</td><td>2021</td><td>3</td><td>8.36</td></tr>",
                            "<tr><td>CSCO</td><td>2021</td><td>4</td><td>1.82</td></tr>",
                            "<tr><td>CSCO</td><td>2022</td><td>1</td><td>-4.06</td></tr>",
                            "<tr><td>CSCO</td><td>2022</td><td>2</td><td>-15.4</td></tr>",
                            "<tr><td>CSCO</td><td>2022</td><td>3</td><td>-4.33</td></tr>",
                            "<tr><td>CSCO</td><td>2022</td><td>4</td><td>0.99</td></tr>",
                            "<tr><td>CSCO</td><td>2023</td><td>1</td><td>5.59</td></tr>",
                            "<tr><td>CSCO</td><td>2023</td><td>2</td><td>0.72</td></tr>",
                            "<tr><td>CSCO</td><td>2023</td><td>3</td><td>-83.2</td></tr>",
                            "<tr><td>META</td><td>2013</td><td>3</td><td>NULL</td></tr>",
                            "<tr><td>META</td><td>2013</td><td>4</td><td>54.73</td></tr>",
                            "<tr><td>META</td><td>2014</td><td>1</td><td>20.3</td></tr>",
                            "<tr><td>META</td><td>2014</td><td>2</td><td>0.26</td></tr>",
                            "<tr><td>META</td><td>2014</td><td>3</td><td>21.15</td></tr>",
                            "<tr><td>META</td><td>2014</td><td>4</td><td>4.21</td></tr>",
                            "<tr><td>META</td><td>2015</td><td>1</td><td>-2.32</td></tr>",
                            "<tr><td>META</td><td>2015</td><td>2</td><td>7.65</td></tr>",
                            "<tr><td>META</td><td>2015</td><td>3</td><td>14.16</td></tr>",
                            "<tr><td>META</td><td>2015</td><td>4</td><td>11.95</td></tr>",
                            "<tr><td>META</td><td>2016</td><td>1</td><td>-2.1</td></tr>",
                            "<tr><td>META</td><td>2016</td><td>2</td><td>14.58</td></tr>",
                            "<tr><td>META</td><td>2016</td><td>3</td><td>7.73</td></tr>",
                            "<tr><td>META</td><td>2016</td><td>4</td><td>-2.62</td></tr>",
                            "<tr><td>META</td><td>2017</td><td>1</td><td>7.09</td></tr>",
                            "<tr><td>META</td><td>2017</td><td>2</td><td>13.06</td></tr>",
                            "<tr><td>META</td><td>2017</td><td>3</td><td>12.23</td></tr>",
                            "<tr><td>META</td><td>2017</td><td>4</td><td>5.91</td></tr>",
                            "<tr><td>META</td><td>2018</td><td>1</td><td>-1.64</td></tr>",
                            "<tr><td>META</td><td>2018</td><td>2</td><td>5.59</td></tr>",
                            "<tr><td>META</td><td>2018</td><td>3</td><td>-1.39</td></tr>",
                            "<tr><td>META</td><td>2018</td><td>4</td><td>-19.97</td></tr>",
                            "<tr><td>META</td><td>2019</td><td>1</td><td>6.29</td></tr>",
                            "<tr><td>META</td><td>2019</td><td>2</td><td>18.66</td></tr>",
                            "<tr><td>META</td><td>2019</td><td>3</td><td>5.68</td></tr>",
                            "<tr><td>META</td><td>2019</td><td>4</td><td>1.9</td></tr>",
                            "<tr><td>META</td><td>2020</td><td>1</td><td>-2.08</td></tr>",
                            "<tr><td>META</td><td>2020</td><td>2</td><td>8.36</td></tr>",
                            "<tr><td>META</td><td>2020</td><td>3</td><td>25.48</td></tr>",
                            "<tr><td>META</td><td>2020</td><td>4</td><td>6.3</td></tr>",
                            "<tr><td>META</td><td>2021</td><td>1</td><td>-6.39</td></tr>",
                            "<tr><td>META</td><td>2021</td><td>2</td><td>23.05</td></tr>",
                            "<tr><td>META</td><td>2021</td><td>3</td><td>14.05</td></tr>",
                            "<tr><td>META</td><td>2021</td><td>4</td><td>-7.82</td></tr>",
                            "<tr><td>META</td><td>2022</td><td>1</td><td>-27.07</td></tr>",
                            "<tr><td>META</td><td>2022</td><td>2</td><td>-22.81</td></tr>",
                            "<tr><td>META</td><td>2022</td><td>3</td><td>-13.27</td></tr>",
                            "<tr><td>META</td><td>2022</td><td>4</td><td>-28.68</td></tr>",
                            "<tr><td>META</td><td>2023</td><td>1</td><td>42.73</td></tr>",
                            "<tr><td>META</td><td>2023</td><td>2</td><td>44.89</td></tr>",
                            "<tr><td>META</td><td>2023</td><td>3</td><td>-80.41</td></tr>",
                            "<tr><td>MSFT</td><td>2013</td><td>3</td><td>NULL</td></tr>",
                            "<tr><td>MSFT</td><td>2013</td><td>4</td><td>37.87</td></tr>",
                            "<tr><td>MSFT</td><td>2014</td><td>1</td><td>-1.5</td></tr>",
                            "<tr><td>MSFT</td><td>2014</td><td>2</td><td>11.36</td></tr>",
                            "<tr><td>MSFT</td><td>2014</td><td>3</td><td>11.97</td></tr>",
                            "<tr><td>MSFT</td><td>2014</td><td>4</td><td>5.23</td></tr>",
                            "<tr><td>MSFT</td><td>2015</td><td>1</td><td>-11.6</td></tr>",
                            "<tr><td>MSFT</td><td>2015</td><td>2</td><td>8.24</td></tr>",
                            "<tr><td>MSFT</td><td>2015</td><td>3</td><td>-0.03</td></tr>",
                            "<tr><td>MSFT</td><td>2015</td><td>4</td><td>17.19</td></tr>",
                            "<tr><td>MSFT</td><td>2016</td><td>1</td><td>-5.05</td></tr>",
                            "<tr><td>MSFT</td><td>2016</td><td>2</td><td>4</td></tr>",
                            "<tr><td>MSFT</td><td>2016</td><td>3</td><td>8.63</td></tr>",
                            "<tr><td>MSFT</td><td>2016</td><td>4</td><td>4.89</td></tr>",
                            "<tr><td>MSFT</td><td>2017</td><td>1</td><td>4.86</td></tr>",
                            "<tr><td>MSFT</td><td>2017</td><td>2</td><td>8.85</td></tr>",
                            "<tr><td>MSFT</td><td>2017</td><td>3</td><td>6.41</td></tr>",
                            "<tr><td>MSFT</td><td>2017</td><td>4</td><td>12.3</td></tr>",
                            "<tr><td>MSFT</td><td>2018</td><td>1</td><td>7.94</td></tr>",
                            "<tr><td>MSFT</td><td>2018</td><td>2</td><td>11.19</td></tr>",
                            "<tr><td>MSFT</td><td>2018</td><td>3</td><td>10.1</td></tr>",
                            "<tr><td>MSFT</td><td>2018</td><td>4</td><td>-1.19</td></tr>",
                            "<tr><td>MSFT</td><td>2019</td><td>1</td><td>-1.38</td></tr>",
                            "<tr><td>MSFT</td><td>2019</td><td>2</td><td>20.18</td></tr>",
                            "<tr><td>MSFT</td><td>2019</td><td>3</td><td>10.04</td></tr>",
                            "<tr><td>MSFT</td><td>2019</td><td>4</td><td>6.83</td></tr>",
                            "<tr><td>MSFT</td><td>2020</td><td>1</td><td>8.44</td></tr>",
                            "<tr><td>MSFT</td><td>2020</td><td>2</td><td>12.16</td></tr>",
                            "<tr><td>MSFT</td><td>2020</td><td>3</td><td>17.54</td></tr>",
                            "<tr><td>MSFT</td><td>2020</td><td>4</td><td>2.38</td></tr>",
                            "<tr><td>MSFT</td><td>2021</td><td>1</td><td>2.85</td></tr>",
                            "<tr><td>MSFT</td><td>2021</td><td>2</td><td>13.14</td></tr>",
                            "<tr><td>MSFT</td><td>2021</td><td>3</td><td>16.28</td></tr>",
                            "<tr><td>MSFT</td><td>2021</td><td>4</td><td>11.43</td></tr>",
                            "<tr><td>MSFT</td><td>2022</td><td>1</td><td>-10.1</td></tr>",
                            "<tr><td>MSFT</td><td>2022</td><td>2</td><td>-9.79</td></tr>",
                            "<tr><td>MSFT</td><td>2022</td><td>3</td><td>0.43</td></tr>",
                            "<tr><td>MSFT</td><td>2022</td><td>4</td><td>-10.53</td></tr>",
                            "<tr><td>MSFT</td><td>2023</td><td>1</td><td>4.6</td></tr>",
                            "<tr><td>MSFT</td><td>2023</td><td>2</td><td>22.87</td></tr>",
                            "<tr><td>MSFT</td><td>2023</td><td>3</td><td>-82.56</td></tr>",
                            "<tr><td>NFLX</td><td>2013</td><td>3</td><td>NULL</td></tr>",
                            "<tr><td>NFLX</td><td>2013</td><td>4</td><td>52.73</td></tr>",
                            "<tr><td>NFLX</td><td>2014</td><td>1</td><td>11.23</td></tr>",
                            "<tr><td>NFLX</td><td>2014</td><td>2</td><td>-2.4</td></tr>",
                            "<tr><td>NFLX</td><td>2014</td><td>3</td><td>21.75</td></tr>",
                            "<tr><td>NFLX</td><td>2014</td><td>4</td><td>-17.21</td></tr>",
                            "<tr><td>NFLX</td><td>2015</td><td>1</td><td>7.68</td></tr>",
                            "<tr><td>NFLX</td><td>2015</td><td>2</td><td>42.48</td></tr>",
                            "<tr><td>NFLX</td><td>2015</td><td>3</td><td>30.36</td></tr>",
                            "<tr><td>NFLX</td><td>2015</td><td>4</td><td>6.4</td></tr>",
                            "<tr><td>NFLX</td><td>2016</td><td>1</td><td>-18.12</td></tr>",
                            "<tr><td>NFLX</td><td>2016</td><td>2</td><td>2.68</td></tr>",
                            "<tr><td>NFLX</td><td>2016</td><td>3</td><td>-0.64</td></tr>",
                            "<tr><td>NFLX</td><td>2016</td><td>4</td><td>22.22</td></tr>",
                            "<tr><td>NFLX</td><td>2017</td><td>1</td><td>16.51</td></tr>",
                            "<tr><td>NFLX</td><td>2017</td><td>2</td><td>11.41</td></tr>",
                            "<tr><td>NFLX</td><td>2017</td><td>3</td><td>13.37</td></tr>",
                            "<tr><td>NFLX</td><td>2017</td><td>4</td><td>10.41</td></tr>",
                            "<tr><td>NFLX</td><td>2018</td><td>1</td><td>36.88</td></tr>",
                            "<tr><td>NFLX</td><td>2018</td><td>2</td><td>31.39</td></tr>",
                            "<tr><td>NFLX</td><td>2018</td><td>3</td><td>4.81</td></tr>",
                            "<tr><td>NFLX</td><td>2018</td><td>4</td><td>-17.55</td></tr>",
                            "<tr><td>NFLX</td><td>2019</td><td>1</td><td>12.17</td></tr>",
                            "<tr><td>NFLX</td><td>2019</td><td>2</td><td>7.48</td></tr>",
                            "<tr><td>NFLX</td><td>2019</td><td>3</td><td>-11.9</td></tr>",
                            "<tr><td>NFLX</td><td>2019</td><td>4</td><td>-5.24</td></tr>",
                            "<tr><td>NFLX</td><td>2020</td><td>1</td><td>15.6</td></tr>",
                            "<tr><td>NFLX</td><td>2020</td><td>2</td><td>22.25</td></tr>",
                            "<tr><td>NFLX</td><td>2020</td><td>3</td><td>18.79</td></tr>",
                            "<tr><td>NFLX</td><td>2020</td><td>4</td><td>1.86</td></tr>",
                            "<tr><td>NFLX</td><td>2021</td><td>1</td><td>-0.28</td></tr>",
                            "<tr><td>NFLX</td><td>2021</td><td>2</td><td>-0.47</td></tr>",
                            "<tr><td>NFLX</td><td>2021</td><td>3</td><td>9.37</td></tr>",
                            "<tr><td>NFLX</td><td>2021</td><td>4</td><td>16.1</td></tr>",
                            "<tr><td>NFLX</td><td>2022</td><td>1</td><td>-36.88</td></tr>",
                            "<tr><td>NFLX</td><td>2022</td><td>2</td><td>-46.75</td></tr>",
                            "<tr><td>NFLX</td><td>2022</td><td>3</td><td>3.42</td></tr>",
                            "<tr><td>NFLX</td><td>2022</td><td>4</td><td>24.31</td></tr>",
                            "<tr><td>NFLX</td><td>2023</td><td>1</td><td>16.11</td></tr>",
                            "<tr><td>NFLX</td><td>2023</td><td>2</td><td>11.3</td></tr>",
                            "<tr><td>NFLX</td><td>2023</td><td>3</td><td>-80.59</td></tr>",
                            "<tr><td>QCOM</td><td>2013</td><td>3</td><td>NULL</td></tr>",
                            "<tr><td>QCOM</td><td>2013</td><td>4</td><td>30.36</td></tr>",
                            "<tr><td>QCOM</td><td>2014</td><td>1</td><td>1.77</td></tr>",
                            "<tr><td>QCOM</td><td>2014</td><td>2</td><td>9.02</td></tr>",
                            "<tr><td>QCOM</td><td>2014</td><td>3</td><td>-2.26</td></tr>",
                            "<tr><td>QCOM</td><td>2014</td><td>4</td><td>-4.31</td></tr>",
                            "<tr><td>QCOM</td><td>2015</td><td>1</td><td>-8.23</td></tr>",
                            "<tr><td>QCOM</td><td>2015</td><td>2</td><td>-0.01</td></tr>",
                            "<tr><td>QCOM</td><td>2015</td><td>3</td><td>-11.53</td></tr>",
                            "<tr><td>QCOM</td><td>2015</td><td>4</td><td>-10.21</td></tr>",
                            "<tr><td>QCOM</td><td>2016</td><td>1</td><td>-12.91</td></tr>",
                            "<tr><td>QCOM</td><td>2016</td><td>2</td><td>13.42</td></tr>",
                            "<tr><td>QCOM</td><td>2016</td><td>3</td><td>15.41</td></tr>",
                            "<tr><td>QCOM</td><td>2016</td><td>4</td><td>8.74</td></tr>",
                            "<tr><td>QCOM</td><td>2017</td><td>1</td><td>-15.01</td></tr>",
                            "<tr><td>QCOM</td><td>2017</td><td>2</td><td>-2.16</td></tr>",
                            "<tr><td>QCOM</td><td>2017</td><td>3</td><td>-5.31</td></tr>",
                            "<tr><td>QCOM</td><td>2017</td><td>4</td><td>14.64</td></tr>",
                            "<tr><td>QCOM</td><td>2018</td><td>1</td><td>1.74</td></tr>",
                            "<tr><td>QCOM</td><td>2018</td><td>2</td><td>-8.09</td></tr>",
                            "<tr><td>QCOM</td><td>2018</td><td>3</td><td>16.06</td></tr>",
                            "<tr><td>QCOM</td><td>2018</td><td>4</td><td>-7.74</td></tr>",
                            "<tr><td>QCOM</td><td>2019</td><td>1</td><td>-13.92</td></tr>",
                            "<tr><td>QCOM</td><td>2019</td><td>2</td><td>40.11</td></tr>",
                            "<tr><td>QCOM</td><td>2019</td><td>3</td><td>4.4</td></tr>",
                            "<tr><td>QCOM</td><td>2019</td><td>4</td><td>11.16</td></tr>",
                            "<tr><td>QCOM</td><td>2020</td><td>1</td><td>-5.08</td></tr>",
                            "<tr><td>QCOM</td><td>2020</td><td>2</td><td>-0.6</td></tr>",
                            "<tr><td>QCOM</td><td>2020</td><td>3</td><td>35.3</td></tr>",
                            "<tr><td>QCOM</td><td>2020</td><td>4</td><td>30.4</td></tr>",
                            "<tr><td>QCOM</td><td>2021</td><td>1</td><td>-1.29</td></tr>",
                            "<tr><td>QCOM</td><td>2021</td><td>2</td><td>-3.22</td></tr>",
                            "<tr><td>QCOM</td><td>2021</td><td>3</td><td>6.63</td></tr>",
                            "<tr><td>QCOM</td><td>2021</td><td>4</td><td>12.84</td></tr>",
                            "<tr><td>QCOM</td><td>2022</td><td>1</td><td>1.49</td></tr>",
                            "<tr><td>QCOM</td><td>2022</td><td>2</td><td>-19.04</td></tr>",
                            "<tr><td>QCOM</td><td>2022</td><td>3</td><td>4.44</td></tr>",
                            "<tr><td>QCOM</td><td>2022</td><td>4</td><td>-16.17</td></tr>",
                            "<tr><td>QCOM</td><td>2023</td><td>1</td><td>4.58</td></tr>",
                            "<tr><td>QCOM</td><td>2023</td><td>2</td><td>-7.54</td></tr>",
                            "<tr><td>QCOM</td><td>2023</td><td>3</td><td>-83.3</td></tr>",
                            "<tr><td>SBUX</td><td>2013</td><td>3</td><td>NULL</td></tr>",
                            "<tr><td>SBUX</td><td>2013</td><td>4</td><td>33.92</td></tr>",
                            "<tr><td>SBUX</td><td>2014</td><td>1</td><td>-10.89</td></tr>",
                            "<tr><td>SBUX</td><td>2014</td><td>2</td><td>1.43</td></tr>",
                            "<tr><td>SBUX</td><td>2014</td><td>3</td><td>8.17</td></tr>",
                            "<tr><td>SBUX</td><td>2014</td><td>4</td><td>0.99</td></tr>",
                            "<tr><td>SBUX</td><td>2015</td><td>1</td><td>9.63</td></tr>",
                            "<tr><td>SBUX</td><td>2015</td><td>2</td><td>16.63</td></tr>",
                            "<tr><td>SBUX</td><td>2015</td><td>3</td><td>12.18</td></tr>",
                            "<tr><td>SBUX</td><td>2015</td><td>4</td><td>8.71</td></tr>",
                            "<tr><td>SBUX</td><td>2016</td><td>1</td><td>-8.87</td></tr>",
                            "<tr><td>SBUX</td><td>2016</td><td>2</td><td>2.45</td></tr>",
                            "<tr><td>SBUX</td><td>2016</td><td>3</td><td>-1.65</td></tr>",
                            "<tr><td>SBUX</td><td>2016</td><td>4</td><td>-2.49</td></tr>",
                            "<tr><td>SBUX</td><td>2017</td><td>1</td><td>0.52</td></tr>",
                            "<tr><td>SBUX</td><td>2017</td><td>2</td><td>8.58</td></tr>",
                            "<tr><td>SBUX</td><td>2017</td><td>3</td><td>-8.36</td></tr>",
                            "<tr><td>SBUX</td><td>2017</td><td>4</td><td>2.13</td></tr>",
                            "<tr><td>SBUX</td><td>2018</td><td>1</td><td>-1.1</td></tr>",
                            "<tr><td>SBUX</td><td>2018</td><td>2</td><td>3.01</td></tr>",
                            "<tr><td>SBUX</td><td>2018</td><td>3</td><td>-8.3</td></tr>",
                            "<tr><td>SBUX</td><td>2018</td><td>4</td><td>18.38</td></tr>",
                            "<tr><td>SBUX</td><td>2019</td><td>1</td><td>6.32</td></tr>",
                            "<tr><td>SBUX</td><td>2019</td><td>2</td><td>17.84</td></tr>",
                            "<tr><td>SBUX</td><td>2019</td><td>3</td><td>20.1</td></tr>",
                            "<tr><td>SBUX</td><td>2019</td><td>4</td><td>-8.03</td></tr>",
                            "<tr><td>SBUX</td><td>2020</td><td>1</td><td>-8.11</td></tr>",
                            "<tr><td>SBUX</td><td>2020</td><td>2</td><td>-5.58</td></tr>",
                            "<tr><td>SBUX</td><td>2020</td><td>3</td><td>7.82</td></tr>",
                            "<tr><td>SBUX</td><td>2020</td><td>4</td><td>19.7</td></tr>",
                            "<tr><td>SBUX</td><td>2021</td><td>1</td><td>4.81</td></tr>",
                            "<tr><td>SBUX</td><td>2021</td><td>2</td><td>11.2</td></tr>",
                            "<tr><td>SBUX</td><td>2021</td><td>3</td><td>5.21</td></tr>",
                            "<tr><td>SBUX</td><td>2021</td><td>4</td><td>-3.7</td></tr>",
                            "<tr><td>SBUX</td><td>2022</td><td>1</td><td>-18.91</td></tr>",
                            "<tr><td>SBUX</td><td>2022</td><td>2</td><td>-18.62</td></tr>",
                            "<tr><td>SBUX</td><td>2022</td><td>3</td><td>14.18</td></tr>",
                            "<tr><td>SBUX</td><td>2022</td><td>4</td><td>9.35</td></tr>",
                            "<tr><td>SBUX</td><td>2023</td><td>1</td><td>8.54</td></tr>",
                            "<tr><td>SBUX</td><td>2023</td><td>2</td><td>-0.28</td></tr>",
                            "<tr><td>SBUX</td><td>2023</td><td>3</td><td>-84.55</td></tr>",
                            "<tr><td>TSLA</td><td>2013</td><td>3</td><td>NULL</td></tr>",
                            "<tr><td>TSLA</td><td>2013</td><td>4</td><td>21.81</td></tr>",
                            "<tr><td>TSLA</td><td>2014</td><td>1</td><td>25.01</td></tr>",
                            "<tr><td>TSLA</td><td>2014</td><td>2</td><td>7.54</td></tr>",
                            "<tr><td>TSLA</td><td>2014</td><td>3</td><td>20.2</td></tr>",
                            "<tr><td>TSLA</td><td>2014</td><td>4</td><td>-5.31</td></tr>",
                            "<tr><td>TSLA</td><td>2015</td><td>1</td><td>-17.66</td></tr>",
                            "<tr><td>TSLA</td><td>2015</td><td>2</td><td>20.98</td></tr>",
                            "<tr><td>TSLA</td><td>2015</td><td>3</td><td>9.16</td></tr>",
                            "<tr><td>TSLA</td><td>2015</td><td>4</td><td>-11.94</td></tr>",
                            "<tr><td>TSLA</td><td>2016</td><td>1</td><td>-16.21</td></tr>",
                            "<tr><td>TSLA</td><td>2016</td><td>2</td><td>20.85</td></tr>",
                            "<tr><td>TSLA</td><td>2016</td><td>3</td><td>-4.71</td></tr>",
                            "<tr><td>TSLA</td><td>2016</td><td>4</td><td>-10.4</td></tr>",
                            "<tr><td>TSLA</td><td>2017</td><td>1</td><td>26.7</td></tr>",
                            "<tr><td>TSLA</td><td>2017</td><td>2</td><td>32.2</td></tr>",
                            "<tr><td>TSLA</td><td>2017</td><td>3</td><td>4.81</td></tr>",
                            "<tr><td>TSLA</td><td>2017</td><td>4</td><td>-5.73</td></tr>",
                            "<tr><td>TSLA</td><td>2018</td><td>1</td><td>-2.08</td></tr>",
                            "<tr><td>TSLA</td><td>2018</td><td>2</td><td>-3.06</td></tr>",
                            "<tr><td>TSLA</td><td>2018</td><td>3</td><td>0.88</td></tr>",
                            "<tr><td>TSLA</td><td>2018</td><td>4</td><td>3.28</td></tr>",
                            "<tr><td>TSLA</td><td>2019</td><td>1</td><td>-9.64</td></tr>",
                            "<tr><td>TSLA</td><td>2019</td><td>2</td><td>-19.93</td></tr>",
                            "<tr><td>TSLA</td><td>2019</td><td>3</td><td>2.19</td></tr>",
                            "<tr><td>TSLA</td><td>2019</td><td>4</td><td>38.55</td></tr>",
                            "<tr><td>TSLA</td><td>2020</td><td>1</td><td>85.14</td></tr>",
                            "<tr><td>TSLA</td><td>2020</td><td>2</td><td>32.6</td></tr>",
                            "<tr><td>TSLA</td><td>2020</td><td>3</td><td>121.72</td></tr>",
                            "<tr><td>TSLA</td><td>2020</td><td>4</td><td>44.53</td></tr>",
                            "<tr><td>TSLA</td><td>2021</td><td>1</td><td>40.22</td></tr>",
                            "<tr><td>TSLA</td><td>2021</td><td>2</td><td>-10.7</td></tr>",
                            "<tr><td>TSLA</td><td>2021</td><td>3</td><td>10.14</td></tr>",
                            "<tr><td>TSLA</td><td>2021</td><td>4</td><td>42.5</td></tr>",
                            "<tr><td>TSLA</td><td>2022</td><td>1</td><td>-10.03</td></tr>",
                            "<tr><td>TSLA</td><td>2022</td><td>2</td><td>-12.36</td></tr>",
                            "<tr><td>TSLA</td><td>2022</td><td>3</td><td>5.61</td></tr>",
                            "<tr><td>TSLA</td><td>2022</td><td>4</td><td>-33.26</td></tr>",
                            "<tr><td>TSLA</td><td>2023</td><td>1</td><td>-9.33</td></tr>",
                            "<tr><td>TSLA</td><td>2023</td><td>2</td><td>14.63</td></tr>",
                            "<tr><td>TSLA</td><td>2023</td><td>3</td><td>-77.62</td></tr>",
                            "</table>"
                        ]
                    }
                }
            ],
            "execution_count": 9
        },
        {
            "cell_type": "code",
            "source": [
                "-- Create table for quarterly computations\n",
                "\n",
                "CREATE TABLE quarterly_changes (\n",
                "    company VARCHAR(50),\n",
                "    year INT,\n",
                "    quarter INT,\n",
                "    quarterly_pct_change DECIMAL(10, 2)\n",
                ");"
            ],
            "metadata": {
                "azdata_cell_guid": "ca68fba9-726d-420c-9245-7a7772d580f2",
                "language": "sql"
            },
            "outputs": [
                {
                    "output_type": "display_data",
                    "data": {
                        "text/html": "Commands completed successfully."
                    },
                    "metadata": {}
                },
                {
                    "output_type": "display_data",
                    "data": {
                        "text/html": "Total execution time: 00:00:00.012"
                    },
                    "metadata": {}
                }
            ],
            "execution_count": 14
        },
        {
            "cell_type": "code",
            "source": [
                "-- Insert quarterly percentage change computations\n",
                "\n",
                "WITH QuarterlyChanges AS (\n",
                "    SELECT \n",
                "        company, \n",
                "        YEAR([date]) AS year,\n",
                "        DATEPART(QUARTER, [date]) AS quarter,\n",
                "        SUM([close]) AS quarter_end_close,\n",
                "        LAG(SUM([close])) OVER (PARTITION BY company ORDER BY YEAR([date]), DATEPART(QUARTER, [date])) AS prev_quarter_close\n",
                "    FROM stock_data\n",
                "    GROUP BY company, YEAR([date]), DATEPART(QUARTER, [date])\n",
                ")\n",
                "\n",
                "INSERT INTO quarterly_changes (company, year, quarter, quarterly_pct_change)\n",
                "SELECT \n",
                "    company, \n",
                "    year, \n",
                "    quarter,\n",
                "    ROUND(((quarter_end_close - prev_quarter_close) / prev_quarter_close) * 100, 2) AS quarterly_pct_change\n",
                "FROM QuarterlyChanges;"
            ],
            "metadata": {
                "azdata_cell_guid": "476a584e-377c-4a73-b3e0-dfd0d9a07af3",
                "language": "sql"
            },
            "outputs": [
                {
                    "output_type": "display_data",
                    "data": {
                        "text/html": "(410 rows affected)"
                    },
                    "metadata": {}
                },
                {
                    "output_type": "display_data",
                    "data": {
                        "text/html": "Total execution time: 00:00:00.034"
                    },
                    "metadata": {}
                }
            ],
            "execution_count": 17
        },
        {
            "cell_type": "markdown",
            "source": [
                "### c. Compute annual percentage change"
            ],
            "metadata": {
                "azdata_cell_guid": "b98b7bd8-8088-4590-ace9-14d45e883054"
            },
            "attachments": {}
        },
        {
            "cell_type": "code",
            "source": [
                "WITH YearlyChanges AS (\n",
                "    SELECT \n",
                "        company, \n",
                "        YEAR([date]) AS year,\n",
                "        SUM([close]) AS year_end_close,\n",
                "        LAG(SUM([close])) OVER (PARTITION BY company ORDER BY YEAR([date])) AS prev_year_close\n",
                "    FROM stock_data\n",
                "    GROUP BY company, YEAR([date])\n",
                ")\n",
                "\n",
                "SELECT \n",
                "    company, \n",
                "    year,\n",
                "    ROUND(((year_end_close - prev_year_close) / prev_year_close) * 100, 2) AS yearly_pct_change\n",
                "FROM YearlyChanges;"
            ],
            "metadata": {
                "azdata_cell_guid": "bb941a20-a2bc-492b-9d2f-a0f0b83cb51d",
                "language": "sql",
                "tags": []
            },
            "outputs": [
                {
                    "output_type": "display_data",
                    "data": {
                        "text/html": "(110 rows affected)"
                    },
                    "metadata": {}
                },
                {
                    "output_type": "display_data",
                    "data": {
                        "text/html": "Total execution time: 00:00:00.054"
                    },
                    "metadata": {}
                },
                {
                    "output_type": "execute_result",
                    "metadata": {},
                    "execution_count": 8,
                    "data": {
                        "application/vnd.dataresource+json": {
                            "schema": {
                                "fields": [
                                    {
                                        "name": "company"
                                    },
                                    {
                                        "name": "year"
                                    },
                                    {
                                        "name": "yearly_pct_change"
                                    }
                                ]
                            },
                            "data": [
                                {
                                    "company": "AAPL",
                                    "year": "2013",
                                    "yearly_pct_change": "NULL"
                                },
                                {
                                    "company": "AAPL",
                                    "year": "2014",
                                    "yearly_pct_change": "178.22"
                                },
                                {
                                    "company": "AAPL",
                                    "year": "2015",
                                    "yearly_pct_change": "30.1"
                                },
                                {
                                    "company": "AAPL",
                                    "year": "2016",
                                    "yearly_pct_change": "-12.86"
                                },
                                {
                                    "company": "AAPL",
                                    "year": "2017",
                                    "yearly_pct_change": "43.35"
                                },
                                {
                                    "company": "AAPL",
                                    "year": "2018",
                                    "yearly_pct_change": "25.57"
                                },
                                {
                                    "company": "AAPL",
                                    "year": "2019",
                                    "yearly_pct_change": "10.6"
                                },
                                {
                                    "company": "AAPL",
                                    "year": "2020",
                                    "yearly_pct_change": "83.86"
                                },
                                {
                                    "company": "AAPL",
                                    "year": "2021",
                                    "yearly_pct_change": "47.28"
                                },
                                {
                                    "company": "AAPL",
                                    "year": "2022",
                                    "yearly_pct_change": "9.38"
                                },
                                {
                                    "company": "AAPL",
                                    "year": "2023",
                                    "yearly_pct_change": "-43.75"
                                },
                                {
                                    "company": "AMD",
                                    "year": "2013",
                                    "yearly_pct_change": "NULL"
                                },
                                {
                                    "company": "AMD",
                                    "year": "2014",
                                    "yearly_pct_change": "118.13"
                                },
                                {
                                    "company": "AMD",
                                    "year": "2015",
                                    "yearly_pct_change": "-36.32"
                                },
                                {
                                    "company": "AMD",
                                    "year": "2016",
                                    "yearly_pct_change": "125.36"
                                },
                                {
                                    "company": "AMD",
                                    "year": "2017",
                                    "yearly_pct_change": "135.25"
                                },
                                {
                                    "company": "AMD",
                                    "year": "2018",
                                    "yearly_pct_change": "38.7"
                                },
                                {
                                    "company": "AMD",
                                    "year": "2019",
                                    "yearly_pct_change": "74.62"
                                },
                                {
                                    "company": "AMD",
                                    "year": "2020",
                                    "yearly_pct_change": "120.03"
                                },
                                {
                                    "company": "AMD",
                                    "year": "2021",
                                    "yearly_pct_change": "53.53"
                                },
                                {
                                    "company": "AMD",
                                    "year": "2022",
                                    "yearly_pct_change": "-10.5"
                                },
                                {
                                    "company": "AMD",
                                    "year": "2023",
                                    "yearly_pct_change": "-44.59"
                                },
                                {
                                    "company": "AMZN",
                                    "year": "2013",
                                    "yearly_pct_change": "NULL"
                                },
                                {
                                    "company": "AMZN",
                                    "year": "2014",
                                    "yearly_pct_change": "117.37"
                                },
                                {
                                    "company": "AMZN",
                                    "year": "2015",
                                    "yearly_pct_change": "43.78"
                                },
                                {
                                    "company": "AMZN",
                                    "year": "2016",
                                    "yearly_pct_change": "46.3"
                                },
                                {
                                    "company": "AMZN",
                                    "year": "2017",
                                    "yearly_pct_change": "37.85"
                                },
                                {
                                    "company": "AMZN",
                                    "year": "2018",
                                    "yearly_pct_change": "69.57"
                                },
                                {
                                    "company": "AMZN",
                                    "year": "2019",
                                    "yearly_pct_change": "9.42"
                                },
                                {
                                    "company": "AMZN",
                                    "year": "2020",
                                    "yearly_pct_change": "50.43"
                                },
                                {
                                    "company": "AMZN",
                                    "year": "2021",
                                    "yearly_pct_change": "24.24"
                                },
                                {
                                    "company": "AMZN",
                                    "year": "2022",
                                    "yearly_pct_change": "-24.88"
                                },
                                {
                                    "company": "AMZN",
                                    "year": "2023",
                                    "yearly_pct_change": "-54.57"
                                },
                                {
                                    "company": "CSCO",
                                    "year": "2013",
                                    "yearly_pct_change": "NULL"
                                },
                                {
                                    "company": "CSCO",
                                    "year": "2014",
                                    "yearly_pct_change": "126.15"
                                },
                                {
                                    "company": "CSCO",
                                    "year": "2015",
                                    "yearly_pct_change": "14.83"
                                },
                                {
                                    "company": "CSCO",
                                    "year": "2016",
                                    "yearly_pct_change": "3.37"
                                },
                                {
                                    "company": "CSCO",
                                    "year": "2017",
                                    "yearly_pct_change": "14.66"
                                },
                                {
                                    "company": "CSCO",
                                    "year": "2018",
                                    "yearly_pct_change": "33.43"
                                },
                                {
                                    "company": "CSCO",
                                    "year": "2019",
                                    "yearly_pct_change": "14.81"
                                },
                                {
                                    "company": "CSCO",
                                    "year": "2020",
                                    "yearly_pct_change": "-14.45"
                                },
                                {
                                    "company": "CSCO",
                                    "year": "2021",
                                    "yearly_pct_change": "23.14"
                                },
                                {
                                    "company": "CSCO",
                                    "year": "2022",
                                    "yearly_pct_change": "-9.25"
                                },
                                {
                                    "company": "CSCO",
                                    "year": "2023",
                                    "yearly_pct_change": "-45.91"
                                },
                                {
                                    "company": "META",
                                    "year": "2013",
                                    "yearly_pct_change": "NULL"
                                },
                                {
                                    "company": "META",
                                    "year": "2014",
                                    "yearly_pct_change": "227.56"
                                },
                                {
                                    "company": "META",
                                    "year": "2015",
                                    "yearly_pct_change": "29.1"
                                },
                                {
                                    "company": "META",
                                    "year": "2016",
                                    "yearly_pct_change": "31.84"
                                },
                                {
                                    "company": "META",
                                    "year": "2017",
                                    "yearly_pct_change": "33.25"
                                },
                                {
                                    "company": "META",
                                    "year": "2018",
                                    "yearly_pct_change": "9.54"
                                },
                                {
                                    "company": "META",
                                    "year": "2019",
                                    "yearly_pct_change": "6.33"
                                },
                                {
                                    "company": "META",
                                    "year": "2020",
                                    "yearly_pct_change": "29.64"
                                },
                                {
                                    "company": "META",
                                    "year": "2021",
                                    "yearly_pct_change": "36.39"
                                },
                                {
                                    "company": "META",
                                    "year": "2022",
                                    "yearly_pct_change": "-44.12"
                                },
                                {
                                    "company": "META",
                                    "year": "2023",
                                    "yearly_pct_change": "-36.2"
                                },
                                {
                                    "company": "MSFT",
                                    "year": "2013",
                                    "yearly_pct_change": "NULL"
                                },
                                {
                                    "company": "MSFT",
                                    "year": "2014",
                                    "yearly_pct_change": "166.75"
                                },
                                {
                                    "company": "MSFT",
                                    "year": "2015",
                                    "yearly_pct_change": "10.04"
                                },
                                {
                                    "company": "MSFT",
                                    "year": "2016",
                                    "yearly_pct_change": "18.29"
                                },
                                {
                                    "company": "MSFT",
                                    "year": "2017",
                                    "yearly_pct_change": "29.75"
                                },
                                {
                                    "company": "MSFT",
                                    "year": "2018",
                                    "yearly_pct_change": "40.36"
                                },
                                {
                                    "company": "MSFT",
                                    "year": "2019",
                                    "yearly_pct_change": "29.56"
                                },
                                {
                                    "company": "MSFT",
                                    "year": "2020",
                                    "yearly_pct_change": "48.63"
                                },
                                {
                                    "company": "MSFT",
                                    "year": "2021",
                                    "yearly_pct_change": "42.39"
                                },
                                {
                                    "company": "MSFT",
                                    "year": "2022",
                                    "yearly_pct_change": "-2.93"
                                },
                                {
                                    "company": "MSFT",
                                    "year": "2023",
                                    "yearly_pct_change": "-42.76"
                                },
                                {
                                    "company": "NFLX",
                                    "year": "2013",
                                    "yearly_pct_change": "NULL"
                                },
                                {
                                    "company": "NFLX",
                                    "year": "2014",
                                    "yearly_pct_change": "178.82"
                                },
                                {
                                    "company": "NFLX",
                                    "year": "2015",
                                    "yearly_pct_change": "59.83"
                                },
                                {
                                    "company": "NFLX",
                                    "year": "2016",
                                    "yearly_pct_change": "11.03"
                                },
                                {
                                    "company": "NFLX",
                                    "year": "2017",
                                    "yearly_pct_change": "61.44"
                                },
                                {
                                    "company": "NFLX",
                                    "year": "2018",
                                    "yearly_pct_change": "93.07"
                                },
                                {
                                    "company": "NFLX",
                                    "year": "2019",
                                    "yearly_pct_change": "3.41"
                                },
                                {
                                    "company": "NFLX",
                                    "year": "2020",
                                    "yearly_pct_change": "36.41"
                                },
                                {
                                    "company": "NFLX",
                                    "year": "2021",
                                    "yearly_pct_change": "24.44"
                                },
                                {
                                    "company": "NFLX",
                                    "year": "2022",
                                    "yearly_pct_change": "-49.21"
                                },
                                {
                                    "company": "NFLX",
                                    "year": "2023",
                                    "yearly_pct_change": "-33.11"
                                },
                                {
                                    "company": "QCOM",
                                    "year": "2013",
                                    "yearly_pct_change": "NULL"
                                },
                                {
                                    "company": "QCOM",
                                    "year": "2014",
                                    "yearly_pct_change": "140.47"
                                },
                                {
                                    "company": "QCOM",
                                    "year": "2015",
                                    "yearly_pct_change": "-17.56"
                                },
                                {
                                    "company": "QCOM",
                                    "year": "2016",
                                    "yearly_pct_change": "-8.49"
                                },
                                {
                                    "company": "QCOM",
                                    "year": "2017",
                                    "yearly_pct_change": "-1.39"
                                },
                                {
                                    "company": "QCOM",
                                    "year": "2018",
                                    "yearly_pct_change": "8.13"
                                },
                                {
                                    "company": "QCOM",
                                    "year": "2019",
                                    "yearly_pct_change": "17.16"
                                },
                                {
                                    "company": "QCOM",
                                    "year": "2020",
                                    "yearly_pct_change": "43.19"
                                },
                                {
                                    "company": "QCOM",
                                    "year": "2021",
                                    "yearly_pct_change": "41.55"
                                },
                                {
                                    "company": "QCOM",
                                    "year": "2022",
                                    "yearly_pct_change": "-4.53"
                                },
                                {
                                    "company": "QCOM",
                                    "year": "2023",
                                    "yearly_pct_change": "-54.19"
                                },
                                {
                                    "company": "SBUX",
                                    "year": "2013",
                                    "yearly_pct_change": "NULL"
                                },
                                {
                                    "company": "SBUX",
                                    "year": "2014",
                                    "yearly_pct_change": "115.26"
                                },
                                {
                                    "company": "SBUX",
                                    "year": "2015",
                                    "yearly_pct_change": "40.98"
                                },
                                {
                                    "company": "SBUX",
                                    "year": "2016",
                                    "yearly_pct_change": "6.26"
                                },
                                {
                                    "company": "SBUX",
                                    "year": "2017",
                                    "yearly_pct_change": "0.8"
                                },
                                {
                                    "company": "SBUX",
                                    "year": "2018",
                                    "yearly_pct_change": "0.41"
                                },
                                {
                                    "company": "SBUX",
                                    "year": "2019",
                                    "yearly_pct_change": "42.2"
                                },
                                {
                                    "company": "SBUX",
                                    "year": "2020",
                                    "yearly_pct_change": "2.15"
                                },
                                {
                                    "company": "SBUX",
                                    "year": "2021",
                                    "yearly_pct_change": "34.68"
                                },
                                {
                                    "company": "SBUX",
                                    "year": "2022",
                                    "yearly_pct_change": "-22.1"
                                },
                                {
                                    "company": "SBUX",
                                    "year": "2023",
                                    "yearly_pct_change": "-36.88"
                                },
                                {
                                    "company": "TSLA",
                                    "year": "2013",
                                    "yearly_pct_change": "NULL"
                                },
                                {
                                    "company": "TSLA",
                                    "year": "2014",
                                    "yearly_pct_change": "215.24"
                                },
                                {
                                    "company": "TSLA",
                                    "year": "2015",
                                    "yearly_pct_change": "3"
                                },
                                {
                                    "company": "TSLA",
                                    "year": "2016",
                                    "yearly_pct_change": "-8.81"
                                },
                                {
                                    "company": "TSLA",
                                    "year": "2017",
                                    "yearly_pct_change": "49.25"
                                },
                                {
                                    "company": "TSLA",
                                    "year": "2018",
                                    "yearly_pct_change": "0.95"
                                },
                                {
                                    "company": "TSLA",
                                    "year": "2019",
                                    "yearly_pct_change": "-13.45"
                                },
                                {
                                    "company": "TSLA",
                                    "year": "2020",
                                    "yearly_pct_change": "432.21"
                                },
                                {
                                    "company": "TSLA",
                                    "year": "2021",
                                    "yearly_pct_change": "167.9"
                                },
                                {
                                    "company": "TSLA",
                                    "year": "2022",
                                    "yearly_pct_change": "0.79"
                                },
                                {
                                    "company": "TSLA",
                                    "year": "2023",
                                    "yearly_pct_change": "-60.65"
                                }
                            ]
                        },
                        "text/html": [
                            "<table>",
                            "<tr><th>company</th><th>year</th><th>yearly_pct_change</th></tr>",
                            "<tr><td>AAPL</td><td>2013</td><td>NULL</td></tr>",
                            "<tr><td>AAPL</td><td>2014</td><td>178.22</td></tr>",
                            "<tr><td>AAPL</td><td>2015</td><td>30.1</td></tr>",
                            "<tr><td>AAPL</td><td>2016</td><td>-12.86</td></tr>",
                            "<tr><td>AAPL</td><td>2017</td><td>43.35</td></tr>",
                            "<tr><td>AAPL</td><td>2018</td><td>25.57</td></tr>",
                            "<tr><td>AAPL</td><td>2019</td><td>10.6</td></tr>",
                            "<tr><td>AAPL</td><td>2020</td><td>83.86</td></tr>",
                            "<tr><td>AAPL</td><td>2021</td><td>47.28</td></tr>",
                            "<tr><td>AAPL</td><td>2022</td><td>9.38</td></tr>",
                            "<tr><td>AAPL</td><td>2023</td><td>-43.75</td></tr>",
                            "<tr><td>AMD</td><td>2013</td><td>NULL</td></tr>",
                            "<tr><td>AMD</td><td>2014</td><td>118.13</td></tr>",
                            "<tr><td>AMD</td><td>2015</td><td>-36.32</td></tr>",
                            "<tr><td>AMD</td><td>2016</td><td>125.36</td></tr>",
                            "<tr><td>AMD</td><td>2017</td><td>135.25</td></tr>",
                            "<tr><td>AMD</td><td>2018</td><td>38.7</td></tr>",
                            "<tr><td>AMD</td><td>2019</td><td>74.62</td></tr>",
                            "<tr><td>AMD</td><td>2020</td><td>120.03</td></tr>",
                            "<tr><td>AMD</td><td>2021</td><td>53.53</td></tr>",
                            "<tr><td>AMD</td><td>2022</td><td>-10.5</td></tr>",
                            "<tr><td>AMD</td><td>2023</td><td>-44.59</td></tr>",
                            "<tr><td>AMZN</td><td>2013</td><td>NULL</td></tr>",
                            "<tr><td>AMZN</td><td>2014</td><td>117.37</td></tr>",
                            "<tr><td>AMZN</td><td>2015</td><td>43.78</td></tr>",
                            "<tr><td>AMZN</td><td>2016</td><td>46.3</td></tr>",
                            "<tr><td>AMZN</td><td>2017</td><td>37.85</td></tr>",
                            "<tr><td>AMZN</td><td>2018</td><td>69.57</td></tr>",
                            "<tr><td>AMZN</td><td>2019</td><td>9.42</td></tr>",
                            "<tr><td>AMZN</td><td>2020</td><td>50.43</td></tr>",
                            "<tr><td>AMZN</td><td>2021</td><td>24.24</td></tr>",
                            "<tr><td>AMZN</td><td>2022</td><td>-24.88</td></tr>",
                            "<tr><td>AMZN</td><td>2023</td><td>-54.57</td></tr>",
                            "<tr><td>CSCO</td><td>2013</td><td>NULL</td></tr>",
                            "<tr><td>CSCO</td><td>2014</td><td>126.15</td></tr>",
                            "<tr><td>CSCO</td><td>2015</td><td>14.83</td></tr>",
                            "<tr><td>CSCO</td><td>2016</td><td>3.37</td></tr>",
                            "<tr><td>CSCO</td><td>2017</td><td>14.66</td></tr>",
                            "<tr><td>CSCO</td><td>2018</td><td>33.43</td></tr>",
                            "<tr><td>CSCO</td><td>2019</td><td>14.81</td></tr>",
                            "<tr><td>CSCO</td><td>2020</td><td>-14.45</td></tr>",
                            "<tr><td>CSCO</td><td>2021</td><td>23.14</td></tr>",
                            "<tr><td>CSCO</td><td>2022</td><td>-9.25</td></tr>",
                            "<tr><td>CSCO</td><td>2023</td><td>-45.91</td></tr>",
                            "<tr><td>META</td><td>2013</td><td>NULL</td></tr>",
                            "<tr><td>META</td><td>2014</td><td>227.56</td></tr>",
                            "<tr><td>META</td><td>2015</td><td>29.1</td></tr>",
                            "<tr><td>META</td><td>2016</td><td>31.84</td></tr>",
                            "<tr><td>META</td><td>2017</td><td>33.25</td></tr>",
                            "<tr><td>META</td><td>2018</td><td>9.54</td></tr>",
                            "<tr><td>META</td><td>2019</td><td>6.33</td></tr>",
                            "<tr><td>META</td><td>2020</td><td>29.64</td></tr>",
                            "<tr><td>META</td><td>2021</td><td>36.39</td></tr>",
                            "<tr><td>META</td><td>2022</td><td>-44.12</td></tr>",
                            "<tr><td>META</td><td>2023</td><td>-36.2</td></tr>",
                            "<tr><td>MSFT</td><td>2013</td><td>NULL</td></tr>",
                            "<tr><td>MSFT</td><td>2014</td><td>166.75</td></tr>",
                            "<tr><td>MSFT</td><td>2015</td><td>10.04</td></tr>",
                            "<tr><td>MSFT</td><td>2016</td><td>18.29</td></tr>",
                            "<tr><td>MSFT</td><td>2017</td><td>29.75</td></tr>",
                            "<tr><td>MSFT</td><td>2018</td><td>40.36</td></tr>",
                            "<tr><td>MSFT</td><td>2019</td><td>29.56</td></tr>",
                            "<tr><td>MSFT</td><td>2020</td><td>48.63</td></tr>",
                            "<tr><td>MSFT</td><td>2021</td><td>42.39</td></tr>",
                            "<tr><td>MSFT</td><td>2022</td><td>-2.93</td></tr>",
                            "<tr><td>MSFT</td><td>2023</td><td>-42.76</td></tr>",
                            "<tr><td>NFLX</td><td>2013</td><td>NULL</td></tr>",
                            "<tr><td>NFLX</td><td>2014</td><td>178.82</td></tr>",
                            "<tr><td>NFLX</td><td>2015</td><td>59.83</td></tr>",
                            "<tr><td>NFLX</td><td>2016</td><td>11.03</td></tr>",
                            "<tr><td>NFLX</td><td>2017</td><td>61.44</td></tr>",
                            "<tr><td>NFLX</td><td>2018</td><td>93.07</td></tr>",
                            "<tr><td>NFLX</td><td>2019</td><td>3.41</td></tr>",
                            "<tr><td>NFLX</td><td>2020</td><td>36.41</td></tr>",
                            "<tr><td>NFLX</td><td>2021</td><td>24.44</td></tr>",
                            "<tr><td>NFLX</td><td>2022</td><td>-49.21</td></tr>",
                            "<tr><td>NFLX</td><td>2023</td><td>-33.11</td></tr>",
                            "<tr><td>QCOM</td><td>2013</td><td>NULL</td></tr>",
                            "<tr><td>QCOM</td><td>2014</td><td>140.47</td></tr>",
                            "<tr><td>QCOM</td><td>2015</td><td>-17.56</td></tr>",
                            "<tr><td>QCOM</td><td>2016</td><td>-8.49</td></tr>",
                            "<tr><td>QCOM</td><td>2017</td><td>-1.39</td></tr>",
                            "<tr><td>QCOM</td><td>2018</td><td>8.13</td></tr>",
                            "<tr><td>QCOM</td><td>2019</td><td>17.16</td></tr>",
                            "<tr><td>QCOM</td><td>2020</td><td>43.19</td></tr>",
                            "<tr><td>QCOM</td><td>2021</td><td>41.55</td></tr>",
                            "<tr><td>QCOM</td><td>2022</td><td>-4.53</td></tr>",
                            "<tr><td>QCOM</td><td>2023</td><td>-54.19</td></tr>",
                            "<tr><td>SBUX</td><td>2013</td><td>NULL</td></tr>",
                            "<tr><td>SBUX</td><td>2014</td><td>115.26</td></tr>",
                            "<tr><td>SBUX</td><td>2015</td><td>40.98</td></tr>",
                            "<tr><td>SBUX</td><td>2016</td><td>6.26</td></tr>",
                            "<tr><td>SBUX</td><td>2017</td><td>0.8</td></tr>",
                            "<tr><td>SBUX</td><td>2018</td><td>0.41</td></tr>",
                            "<tr><td>SBUX</td><td>2019</td><td>42.2</td></tr>",
                            "<tr><td>SBUX</td><td>2020</td><td>2.15</td></tr>",
                            "<tr><td>SBUX</td><td>2021</td><td>34.68</td></tr>",
                            "<tr><td>SBUX</td><td>2022</td><td>-22.1</td></tr>",
                            "<tr><td>SBUX</td><td>2023</td><td>-36.88</td></tr>",
                            "<tr><td>TSLA</td><td>2013</td><td>NULL</td></tr>",
                            "<tr><td>TSLA</td><td>2014</td><td>215.24</td></tr>",
                            "<tr><td>TSLA</td><td>2015</td><td>3</td></tr>",
                            "<tr><td>TSLA</td><td>2016</td><td>-8.81</td></tr>",
                            "<tr><td>TSLA</td><td>2017</td><td>49.25</td></tr>",
                            "<tr><td>TSLA</td><td>2018</td><td>0.95</td></tr>",
                            "<tr><td>TSLA</td><td>2019</td><td>-13.45</td></tr>",
                            "<tr><td>TSLA</td><td>2020</td><td>432.21</td></tr>",
                            "<tr><td>TSLA</td><td>2021</td><td>167.9</td></tr>",
                            "<tr><td>TSLA</td><td>2022</td><td>0.79</td></tr>",
                            "<tr><td>TSLA</td><td>2023</td><td>-60.65</td></tr>",
                            "</table>"
                        ]
                    }
                }
            ],
            "execution_count": 8
        },
        {
            "cell_type": "code",
            "source": [
                "-- Create table for annual computations \n",
                "\n",
                "CREATE TABLE annual_changes (\n",
                "    company VARCHAR(50),\n",
                "    year INT,\n",
                "    annual_pct_change DECIMAL(10, 2) \n",
                ");"
            ],
            "metadata": {
                "azdata_cell_guid": "57bee102-0ddf-419a-8ca3-012ca4c693ef",
                "language": "sql"
            },
            "outputs": [
                {
                    "output_type": "display_data",
                    "data": {
                        "text/html": "Commands completed successfully."
                    },
                    "metadata": {}
                },
                {
                    "output_type": "display_data",
                    "data": {
                        "text/html": "Total execution time: 00:00:00.022"
                    },
                    "metadata": {}
                }
            ],
            "execution_count": 15
        },
        {
            "cell_type": "code",
            "source": [
                "-- Insert annual percentage change computations \n",
                "\n",
                "WITH AnnualChanges AS (\n",
                "    SELECT \n",
                "        company, \n",
                "        YEAR([date]) AS year,\n",
                "        SUM([close]) AS year_end_close,\n",
                "        LAG(SUM([close])) OVER (PARTITION BY company ORDER BY YEAR([date])) AS prev_year_close\n",
                "    FROM stock_data\n",
                "    GROUP BY company, YEAR([date])\n",
                ")\n",
                "\n",
                "INSERT INTO annual_changes (company, year, annual_pct_change)\n",
                "SELECT \n",
                "    company, \n",
                "    year, \n",
                "    ROUND(((year_end_close - prev_year_close) / prev_year_close) * 100, 2) AS annual_pct_change\n",
                "FROM AnnualChanges;"
            ],
            "metadata": {
                "azdata_cell_guid": "bf1a6b3c-6f19-46f1-9a4e-860626e09ec8",
                "language": "sql"
            },
            "outputs": [
                {
                    "output_type": "display_data",
                    "data": {
                        "text/html": "(110 rows affected)"
                    },
                    "metadata": {}
                },
                {
                    "output_type": "display_data",
                    "data": {
                        "text/html": "Total execution time: 00:00:00.027"
                    },
                    "metadata": {}
                }
            ],
            "execution_count": 18
        },
        {
            "cell_type": "markdown",
            "source": [
                "## B. Calculate Volatility & Risk"
            ],
            "metadata": {
                "azdata_cell_guid": "5b8cffcd-8deb-40cf-af38-1777d751a095"
            },
            "attachments": {}
        },
        {
            "cell_type": "markdown",
            "source": [
                "### i. Compute standard deviation of daily percentage change"
            ],
            "metadata": {
                "azdata_cell_guid": "f0039160-138f-48fd-8c22-1486a54dc570"
            },
            "attachments": {}
        },
        {
            "cell_type": "code",
            "source": [
                "WITH DailyChanges AS (\n",
                "    SELECT \n",
                "        company, \n",
                "        [date],\n",
                "        ([close] - LAG([close]) OVER (PARTITION BY company ORDER BY [date])) / LAG([close]) OVER (PARTITION BY company ORDER BY [date]) * 100 AS daily_pct_change\n",
                "    FROM stock_data\n",
                ")\n",
                "SELECT \n",
                "    company, \n",
                "    ROUND(STDEV(daily_pct_change), 2) AS volatility\n",
                "FROM DailyChanges\n",
                "GROUP BY company;"
            ],
            "metadata": {
                "azdata_cell_guid": "f971055f-88ee-4ebb-aa31-766f4c2a906a",
                "language": "sql"
            },
            "outputs": [
                {
                    "output_type": "display_data",
                    "data": {
                        "text/html": "Warning: Null value is eliminated by an aggregate or other SET operation."
                    },
                    "metadata": {}
                },
                {
                    "output_type": "display_data",
                    "data": {
                        "text/html": "(10 rows affected)"
                    },
                    "metadata": {}
                },
                {
                    "output_type": "display_data",
                    "data": {
                        "text/html": "Total execution time: 00:00:00.053"
                    },
                    "metadata": {}
                },
                {
                    "output_type": "execute_result",
                    "metadata": {},
                    "execution_count": 29,
                    "data": {
                        "application/vnd.dataresource+json": {
                            "schema": {
                                "fields": [
                                    {
                                        "name": "company"
                                    },
                                    {
                                        "name": "volatility"
                                    }
                                ]
                            },
                            "data": [
                                {
                                    "company": "AAPL",
                                    "volatility": "1.8"
                                },
                                {
                                    "company": "AMD",
                                    "volatility": "3.66"
                                },
                                {
                                    "company": "AMZN",
                                    "volatility": "2.08"
                                },
                                {
                                    "company": "CSCO",
                                    "volatility": "1.58"
                                },
                                {
                                    "company": "META",
                                    "volatility": "2.45"
                                },
                                {
                                    "company": "MSFT",
                                    "volatility": "1.73"
                                },
                                {
                                    "company": "NFLX",
                                    "volatility": "2.81"
                                },
                                {
                                    "company": "QCOM",
                                    "volatility": "2.21"
                                },
                                {
                                    "company": "SBUX",
                                    "volatility": "1.64"
                                },
                                {
                                    "company": "TSLA",
                                    "volatility": "3.54"
                                }
                            ]
                        },
                        "text/html": [
                            "<table>",
                            "<tr><th>company</th><th>volatility</th></tr>",
                            "<tr><td>AAPL</td><td>1.8</td></tr>",
                            "<tr><td>AMD</td><td>3.66</td></tr>",
                            "<tr><td>AMZN</td><td>2.08</td></tr>",
                            "<tr><td>CSCO</td><td>1.58</td></tr>",
                            "<tr><td>META</td><td>2.45</td></tr>",
                            "<tr><td>MSFT</td><td>1.73</td></tr>",
                            "<tr><td>NFLX</td><td>2.81</td></tr>",
                            "<tr><td>QCOM</td><td>2.21</td></tr>",
                            "<tr><td>SBUX</td><td>1.64</td></tr>",
                            "<tr><td>TSLA</td><td>3.54</td></tr>",
                            "</table>"
                        ]
                    }
                }
            ],
            "execution_count": 29
        },
        {
            "cell_type": "code",
            "source": [
                "-- Create table for volatility computations\n",
                "CREATE TABLE volatility_data (\n",
                "    company VARCHAR(50),\n",
                "    volatility DECIMAL(10, 2)\n",
                ");\n",
                "\n",
                "-- Insert volatility data into table\n",
                "WITH DailyChanges AS (\n",
                "    SELECT \n",
                "        company, \n",
                "        [date],\n",
                "        ([close] - LAG([close]) OVER (PARTITION BY company ORDER BY [date])) / LAG([close]) OVER (PARTITION BY company ORDER BY [date]) * 100 AS daily_pct_change\n",
                "    FROM stock_data\n",
                ")\n",
                "INSERT INTO volatility_data (company, volatility)\n",
                "SELECT \n",
                "    company, \n",
                "    STDEV(daily_pct_change) AS volatility\n",
                "FROM DailyChanges\n",
                "GROUP BY company;"
            ],
            "metadata": {
                "azdata_cell_guid": "a5db7b0d-de56-48d3-b555-64d98928eb2a",
                "language": "sql"
            },
            "outputs": [
                {
                    "output_type": "display_data",
                    "data": {
                        "text/html": "Warning: Null value is eliminated by an aggregate or other SET operation."
                    },
                    "metadata": {}
                },
                {
                    "output_type": "display_data",
                    "data": {
                        "text/html": "(10 rows affected)"
                    },
                    "metadata": {}
                },
                {
                    "output_type": "display_data",
                    "data": {
                        "text/html": "Total execution time: 00:00:00.075"
                    },
                    "metadata": {}
                }
            ],
            "execution_count": 30
        },
        {
            "cell_type": "code",
            "source": [
                "-- View the results\n",
                "SELECT *\n",
                "FROM volatility_data"
            ],
            "metadata": {
                "azdata_cell_guid": "f50ba33f-ace4-4202-8703-1c15d45fc3ca",
                "language": "sql"
            },
            "outputs": [
                {
                    "output_type": "display_data",
                    "data": {
                        "text/html": "(10 rows affected)"
                    },
                    "metadata": {}
                },
                {
                    "output_type": "display_data",
                    "data": {
                        "text/html": "Total execution time: 00:00:00.007"
                    },
                    "metadata": {}
                },
                {
                    "output_type": "execute_result",
                    "metadata": {},
                    "execution_count": 31,
                    "data": {
                        "application/vnd.dataresource+json": {
                            "schema": {
                                "fields": [
                                    {
                                        "name": "company"
                                    },
                                    {
                                        "name": "volatility"
                                    }
                                ]
                            },
                            "data": [
                                {
                                    "company": "AAPL",
                                    "volatility": "1.80"
                                },
                                {
                                    "company": "AMD",
                                    "volatility": "3.66"
                                },
                                {
                                    "company": "AMZN",
                                    "volatility": "2.08"
                                },
                                {
                                    "company": "CSCO",
                                    "volatility": "1.58"
                                },
                                {
                                    "company": "META",
                                    "volatility": "2.45"
                                },
                                {
                                    "company": "MSFT",
                                    "volatility": "1.73"
                                },
                                {
                                    "company": "NFLX",
                                    "volatility": "2.81"
                                },
                                {
                                    "company": "QCOM",
                                    "volatility": "2.21"
                                },
                                {
                                    "company": "SBUX",
                                    "volatility": "1.64"
                                },
                                {
                                    "company": "TSLA",
                                    "volatility": "3.54"
                                }
                            ]
                        },
                        "text/html": [
                            "<table>",
                            "<tr><th>company</th><th>volatility</th></tr>",
                            "<tr><td>AAPL</td><td>1.80</td></tr>",
                            "<tr><td>AMD</td><td>3.66</td></tr>",
                            "<tr><td>AMZN</td><td>2.08</td></tr>",
                            "<tr><td>CSCO</td><td>1.58</td></tr>",
                            "<tr><td>META</td><td>2.45</td></tr>",
                            "<tr><td>MSFT</td><td>1.73</td></tr>",
                            "<tr><td>NFLX</td><td>2.81</td></tr>",
                            "<tr><td>QCOM</td><td>2.21</td></tr>",
                            "<tr><td>SBUX</td><td>1.64</td></tr>",
                            "<tr><td>TSLA</td><td>3.54</td></tr>",
                            "</table>"
                        ]
                    }
                }
            ],
            "execution_count": 31
        },
        {
            "cell_type": "markdown",
            "source": [
                "### ii. Compute each company's maximum drawdown"
            ],
            "metadata": {
                "language": "sql",
                "azdata_cell_guid": "c7368e09-c873-4c98-8876-be62edbf4dbd"
            },
            "attachments": {}
        },
        {
            "cell_type": "code",
            "source": [
                "WITH RunningMax AS (\n",
                "    SELECT company, [date], [close],\n",
                "           MAX([close]) OVER (PARTITION BY company ORDER BY [date] ROWS BETWEEN UNBOUNDED PRECEDING AND CURRENT ROW) AS max_close\n",
                "    FROM stock_data\n",
                ")\n",
                "SELECT company, ROUND(MIN([close] / max_close - 1) * 100, 2) AS max_drawdown_pct\n",
                "FROM RunningMax\n",
                "GROUP BY company;"
            ],
            "metadata": {
                "azdata_cell_guid": "365ba6d8-af6a-4471-a5f0-0ad250ef95a8",
                "language": "sql",
                "tags": []
            },
            "outputs": [
                {
                    "output_type": "display_data",
                    "data": {
                        "text/html": "(10 rows affected)"
                    },
                    "metadata": {}
                },
                {
                    "output_type": "display_data",
                    "data": {
                        "text/html": "Total execution time: 00:00:00.051"
                    },
                    "metadata": {}
                },
                {
                    "output_type": "execute_result",
                    "metadata": {},
                    "execution_count": 33,
                    "data": {
                        "application/vnd.dataresource+json": {
                            "schema": {
                                "fields": [
                                    {
                                        "name": "company"
                                    },
                                    {
                                        "name": "max_drawdown_pct"
                                    }
                                ]
                            },
                            "data": [
                                {
                                    "company": "AAPL",
                                    "max_drawdown_pct": "-38.73"
                                },
                                {
                                    "company": "AMD",
                                    "max_drawdown_pct": "-65.45"
                                },
                                {
                                    "company": "AMZN",
                                    "max_drawdown_pct": "-56.15"
                                },
                                {
                                    "company": "CSCO",
                                    "max_drawdown_pct": "-42.81"
                                },
                                {
                                    "company": "META",
                                    "max_drawdown_pct": "-76.74"
                                },
                                {
                                    "company": "MSFT",
                                    "max_drawdown_pct": "-37.56"
                                },
                                {
                                    "company": "NFLX",
                                    "max_drawdown_pct": "-75.95"
                                },
                                {
                                    "company": "QCOM",
                                    "max_drawdown_pct": "-47.35"
                                },
                                {
                                    "company": "SBUX",
                                    "max_drawdown_pct": "-44.55"
                                },
                                {
                                    "company": "TSLA",
                                    "max_drawdown_pct": "-73.63"
                                }
                            ]
                        },
                        "text/html": [
                            "<table>",
                            "<tr><th>company</th><th>max_drawdown_pct</th></tr>",
                            "<tr><td>AAPL</td><td>-38.73</td></tr>",
                            "<tr><td>AMD</td><td>-65.45</td></tr>",
                            "<tr><td>AMZN</td><td>-56.15</td></tr>",
                            "<tr><td>CSCO</td><td>-42.81</td></tr>",
                            "<tr><td>META</td><td>-76.74</td></tr>",
                            "<tr><td>MSFT</td><td>-37.56</td></tr>",
                            "<tr><td>NFLX</td><td>-75.95</td></tr>",
                            "<tr><td>QCOM</td><td>-47.35</td></tr>",
                            "<tr><td>SBUX</td><td>-44.55</td></tr>",
                            "<tr><td>TSLA</td><td>-73.63</td></tr>",
                            "</table>"
                        ]
                    }
                }
            ],
            "execution_count": 33
        },
        {
            "cell_type": "code",
            "source": [
                "-- Alter volatility table to add max_drawdown_pct column\n",
                "ALTER TABLE volatility_data\n",
                "ADD max_drawdown_pct DECIMAL(10, 2);"
            ],
            "metadata": {
                "language": "sql",
                "azdata_cell_guid": "9a74ca9d-56c1-4f47-a243-814f0afc083b"
            },
            "outputs": [
                {
                    "output_type": "display_data",
                    "data": {
                        "text/html": "Commands completed successfully."
                    },
                    "metadata": {}
                },
                {
                    "output_type": "display_data",
                    "data": {
                        "text/html": "Total execution time: 00:00:00.009"
                    },
                    "metadata": {}
                }
            ],
            "execution_count": 35
        },
        {
            "cell_type": "code",
            "source": [
                "-- Update the volatility table with the maximum drawdown computations\n",
                "\n",
                "WITH RunningMax AS (\n",
                "    SELECT company, [date], [close],\n",
                "           MAX([close]) OVER (PARTITION BY company ORDER BY [date] ROWS BETWEEN UNBOUNDED PRECEDING AND CURRENT ROW) AS max_close\n",
                "    FROM stock_data\n",
                ")\n",
                ", MaxDrawdown AS (\n",
                "    SELECT company, MIN([close] / max_close - 1) * 100 AS max_drawdown_pct\n",
                "    FROM RunningMax\n",
                "    GROUP BY company\n",
                ")\n",
                "UPDATE v\n",
                "SET v.max_drawdown_pct = m.max_drawdown_pct\n",
                "FROM volatility_data v\n",
                "JOIN MaxDrawdown m\n",
                "    ON v.company = m.company;"
            ],
            "metadata": {
                "azdata_cell_guid": "45c62374-dae4-4cce-91ee-44063ad660a3",
                "language": "sql"
            },
            "outputs": [
                {
                    "output_type": "display_data",
                    "data": {
                        "text/html": "(10 rows affected)"
                    },
                    "metadata": {}
                },
                {
                    "output_type": "display_data",
                    "data": {
                        "text/html": "Total execution time: 00:00:00.166"
                    },
                    "metadata": {}
                }
            ],
            "execution_count": 36
        },
        {
            "cell_type": "code",
            "source": [
                "SELECT *\n",
                "FROM volatility_data"
            ],
            "metadata": {
                "azdata_cell_guid": "71c377b2-8340-4fb1-b28e-f47497584e07",
                "language": "sql"
            },
            "outputs": [
                {
                    "output_type": "display_data",
                    "data": {
                        "text/html": "(10 rows affected)"
                    },
                    "metadata": {}
                },
                {
                    "output_type": "display_data",
                    "data": {
                        "text/html": "Total execution time: 00:00:00.020"
                    },
                    "metadata": {}
                },
                {
                    "output_type": "execute_result",
                    "metadata": {},
                    "execution_count": 37,
                    "data": {
                        "application/vnd.dataresource+json": {
                            "schema": {
                                "fields": [
                                    {
                                        "name": "company"
                                    },
                                    {
                                        "name": "volatility"
                                    },
                                    {
                                        "name": "max_drawdown_pct"
                                    }
                                ]
                            },
                            "data": [
                                {
                                    "company": "AAPL",
                                    "volatility": "1.80",
                                    "max_drawdown_pct": "-38.73"
                                },
                                {
                                    "company": "AMD",
                                    "volatility": "3.66",
                                    "max_drawdown_pct": "-65.45"
                                },
                                {
                                    "company": "AMZN",
                                    "volatility": "2.08",
                                    "max_drawdown_pct": "-56.15"
                                },
                                {
                                    "company": "CSCO",
                                    "volatility": "1.58",
                                    "max_drawdown_pct": "-42.81"
                                },
                                {
                                    "company": "META",
                                    "volatility": "2.45",
                                    "max_drawdown_pct": "-76.74"
                                },
                                {
                                    "company": "MSFT",
                                    "volatility": "1.73",
                                    "max_drawdown_pct": "-37.56"
                                },
                                {
                                    "company": "NFLX",
                                    "volatility": "2.81",
                                    "max_drawdown_pct": "-75.95"
                                },
                                {
                                    "company": "QCOM",
                                    "volatility": "2.21",
                                    "max_drawdown_pct": "-47.35"
                                },
                                {
                                    "company": "SBUX",
                                    "volatility": "1.64",
                                    "max_drawdown_pct": "-44.55"
                                },
                                {
                                    "company": "TSLA",
                                    "volatility": "3.54",
                                    "max_drawdown_pct": "-73.63"
                                }
                            ]
                        },
                        "text/html": [
                            "<table>",
                            "<tr><th>company</th><th>volatility</th><th>max_drawdown_pct</th></tr>",
                            "<tr><td>AAPL</td><td>1.80</td><td>-38.73</td></tr>",
                            "<tr><td>AMD</td><td>3.66</td><td>-65.45</td></tr>",
                            "<tr><td>AMZN</td><td>2.08</td><td>-56.15</td></tr>",
                            "<tr><td>CSCO</td><td>1.58</td><td>-42.81</td></tr>",
                            "<tr><td>META</td><td>2.45</td><td>-76.74</td></tr>",
                            "<tr><td>MSFT</td><td>1.73</td><td>-37.56</td></tr>",
                            "<tr><td>NFLX</td><td>2.81</td><td>-75.95</td></tr>",
                            "<tr><td>QCOM</td><td>2.21</td><td>-47.35</td></tr>",
                            "<tr><td>SBUX</td><td>1.64</td><td>-44.55</td></tr>",
                            "<tr><td>TSLA</td><td>3.54</td><td>-73.63</td></tr>",
                            "</table>"
                        ]
                    }
                }
            ],
            "execution_count": 37
        },
        {
            "cell_type": "markdown",
            "source": [
                "### iii. Comparative Analysis Between Companies / Stocks"
            ],
            "metadata": {
                "azdata_cell_guid": "73bccc51-fefa-4af4-86d5-e965af11934d"
            },
            "attachments": {}
        },
        {
            "cell_type": "code",
            "source": [
                "WITH returns_a AS (\n",
                "    SELECT \n",
                "        company, \n",
                "        [date], \n",
                "        ([close] - LAG([close]) OVER (PARTITION BY company ORDER BY [date])) / LAG([close]) OVER (PARTITION BY company ORDER BY [date]) AS daily_return\n",
                "    FROM stock_data\n",
                "), returns_b AS (\n",
                "    SELECT \n",
                "        company, \n",
                "        [date], \n",
                "        ([close] - LAG([close]) OVER (PARTITION BY company ORDER BY [date])) / LAG([close]) OVER (PARTITION BY company ORDER BY [date]) AS daily_return\n",
                "    FROM stock_data\n",
                "), avg_stdev_a AS (\n",
                "    SELECT \n",
                "        company, \n",
                "        AVG(daily_return) AS avg_a, \n",
                "        STDEV(daily_return) AS stdev_a\n",
                "    FROM returns_a\n",
                "    GROUP BY company\n",
                "), avg_stdev_b AS (\n",
                "    SELECT \n",
                "        company, \n",
                "        AVG(daily_return) AS avg_b, \n",
                "        STDEV(daily_return) AS stdev_b\n",
                "    FROM returns_b\n",
                "    GROUP BY company\n",
                ")\n",
                "SELECT \n",
                "    a.company AS company_a, \n",
                "    b.company AS company_b,\n",
                "    AVG((a.daily_return - avg_a.avg_a) * (b.daily_return - avg_b.avg_b)) \n",
                "    / (avg_a.stdev_a * avg_b.stdev_b) AS correlation\n",
                "FROM returns_a a\n",
                "JOIN returns_b b \n",
                "    ON a.[date] = b.[date] \n",
                "    AND a.company < b.company\n",
                "JOIN avg_stdev_a avg_a \n",
                "    ON a.company = avg_a.company\n",
                "JOIN avg_stdev_b avg_b \n",
                "    ON b.company = avg_b.company\n",
                "GROUP BY a.company, b.company, avg_a.stdev_a, avg_b.stdev_b;"
            ],
            "metadata": {
                "azdata_cell_guid": "8d47b530-3155-4839-84f8-3b883348740c",
                "language": "sql"
            },
            "outputs": [
                {
                    "output_type": "display_data",
                    "data": {
                        "text/html": "Warning: Null value is eliminated by an aggregate or other SET operation."
                    },
                    "metadata": {}
                },
                {
                    "output_type": "display_data",
                    "data": {
                        "text/html": "(45 rows affected)"
                    },
                    "metadata": {}
                },
                {
                    "output_type": "display_data",
                    "data": {
                        "text/html": "Total execution time: 00:00:01.274"
                    },
                    "metadata": {}
                },
                {
                    "output_type": "execute_result",
                    "metadata": {},
                    "execution_count": 41,
                    "data": {
                        "application/vnd.dataresource+json": {
                            "schema": {
                                "fields": [
                                    {
                                        "name": "company_a"
                                    },
                                    {
                                        "name": "company_b"
                                    },
                                    {
                                        "name": "correlation"
                                    }
                                ]
                            },
                            "data": [
                                {
                                    "company_a": "AMZN",
                                    "company_b": "CSCO",
                                    "correlation": "0.4007445795099718"
                                },
                                {
                                    "company_a": "AMZN",
                                    "company_b": "MSFT",
                                    "correlation": "0.6097800243371244"
                                },
                                {
                                    "company_a": "AAPL",
                                    "company_b": "MSFT",
                                    "correlation": "0.6459326820238573"
                                },
                                {
                                    "company_a": "AMD",
                                    "company_b": "AMZN",
                                    "correlation": "0.3794408330429113"
                                },
                                {
                                    "company_a": "AMZN",
                                    "company_b": "NFLX",
                                    "correlation": "0.5041642143016337"
                                },
                                {
                                    "company_a": "AMD",
                                    "company_b": "NFLX",
                                    "correlation": "0.32028584000222293"
                                },
                                {
                                    "company_a": "CSCO",
                                    "company_b": "MSFT",
                                    "correlation": "0.5716858540128593"
                                },
                                {
                                    "company_a": "QCOM",
                                    "company_b": "TSLA",
                                    "correlation": "0.3291826509479557"
                                },
                                {
                                    "company_a": "MSFT",
                                    "company_b": "TSLA",
                                    "correlation": "0.38530740847773587"
                                },
                                {
                                    "company_a": "META",
                                    "company_b": "SBUX",
                                    "correlation": "0.4142360001482512"
                                },
                                {
                                    "company_a": "NFLX",
                                    "company_b": "TSLA",
                                    "correlation": "0.35256928711002344"
                                },
                                {
                                    "company_a": "NFLX",
                                    "company_b": "SBUX",
                                    "correlation": "0.3163386056791203"
                                },
                                {
                                    "company_a": "CSCO",
                                    "company_b": "TSLA",
                                    "correlation": "0.2581421765697387"
                                },
                                {
                                    "company_a": "AAPL",
                                    "company_b": "META",
                                    "correlation": "0.49858677404325125"
                                },
                                {
                                    "company_a": "AMD",
                                    "company_b": "META",
                                    "correlation": "0.3239245219545275"
                                },
                                {
                                    "company_a": "AAPL",
                                    "company_b": "AMZN",
                                    "correlation": "0.5341663945314566"
                                },
                                {
                                    "company_a": "AAPL",
                                    "company_b": "SBUX",
                                    "correlation": "0.4684302380403355"
                                },
                                {
                                    "company_a": "AMZN",
                                    "company_b": "META",
                                    "correlation": "0.5555015808772561"
                                },
                                {
                                    "company_a": "CSCO",
                                    "company_b": "META",
                                    "correlation": "0.3593301935921798"
                                },
                                {
                                    "company_a": "AMD",
                                    "company_b": "TSLA",
                                    "correlation": "0.3250849413663313"
                                },
                                {
                                    "company_a": "NFLX",
                                    "company_b": "QCOM",
                                    "correlation": "0.33166206763358413"
                                },
                                {
                                    "company_a": "CSCO",
                                    "company_b": "QCOM",
                                    "correlation": "0.44185628909297286"
                                },
                                {
                                    "company_a": "AMD",
                                    "company_b": "CSCO",
                                    "correlation": "0.33993427888971617"
                                },
                                {
                                    "company_a": "MSFT",
                                    "company_b": "QCOM",
                                    "correlation": "0.5188124577181276"
                                },
                                {
                                    "company_a": "CSCO",
                                    "company_b": "NFLX",
                                    "correlation": "0.30636881889548023"
                                },
                                {
                                    "company_a": "AAPL",
                                    "company_b": "AMD",
                                    "correlation": "0.4035245358249181"
                                },
                                {
                                    "company_a": "AMZN",
                                    "company_b": "QCOM",
                                    "correlation": "0.4052198205682083"
                                },
                                {
                                    "company_a": "AMD",
                                    "company_b": "QCOM",
                                    "correlation": "0.41354067676616196"
                                },
                                {
                                    "company_a": "AAPL",
                                    "company_b": "CSCO",
                                    "correlation": "0.5237814494916447"
                                },
                                {
                                    "company_a": "META",
                                    "company_b": "NFLX",
                                    "correlation": "0.44410428768127325"
                                },
                                {
                                    "company_a": "QCOM",
                                    "company_b": "SBUX",
                                    "correlation": "0.4111467145527136"
                                },
                                {
                                    "company_a": "SBUX",
                                    "company_b": "TSLA",
                                    "correlation": "0.3114723770543374"
                                },
                                {
                                    "company_a": "AAPL",
                                    "company_b": "TSLA",
                                    "correlation": "0.40355552555191265"
                                },
                                {
                                    "company_a": "MSFT",
                                    "company_b": "NFLX",
                                    "correlation": "0.4325145447353838"
                                },
                                {
                                    "company_a": "CSCO",
                                    "company_b": "SBUX",
                                    "correlation": "0.4815807786957663"
                                },
                                {
                                    "company_a": "AAPL",
                                    "company_b": "QCOM",
                                    "correlation": "0.5265977611203408"
                                },
                                {
                                    "company_a": "AMZN",
                                    "company_b": "SBUX",
                                    "correlation": "0.4306350115150687"
                                },
                                {
                                    "company_a": "META",
                                    "company_b": "TSLA",
                                    "correlation": "0.3335699908044464"
                                },
                                {
                                    "company_a": "META",
                                    "company_b": "MSFT",
                                    "correlation": "0.5248520651328772"
                                },
                                {
                                    "company_a": "MSFT",
                                    "company_b": "SBUX",
                                    "correlation": "0.5214003928824098"
                                },
                                {
                                    "company_a": "AMD",
                                    "company_b": "MSFT",
                                    "correlation": "0.4087348929927374"
                                },
                                {
                                    "company_a": "AAPL",
                                    "company_b": "NFLX",
                                    "correlation": "0.3962591725741149"
                                },
                                {
                                    "company_a": "META",
                                    "company_b": "QCOM",
                                    "correlation": "0.37549239448878746"
                                },
                                {
                                    "company_a": "AMD",
                                    "company_b": "SBUX",
                                    "correlation": "0.29824081367408845"
                                },
                                {
                                    "company_a": "AMZN",
                                    "company_b": "TSLA",
                                    "correlation": "0.3860354213922402"
                                }
                            ]
                        },
                        "text/html": [
                            "<table>",
                            "<tr><th>company_a</th><th>company_b</th><th>correlation</th></tr>",
                            "<tr><td>AMZN</td><td>CSCO</td><td>0.4007445795099718</td></tr>",
                            "<tr><td>AMZN</td><td>MSFT</td><td>0.6097800243371244</td></tr>",
                            "<tr><td>AAPL</td><td>MSFT</td><td>0.6459326820238573</td></tr>",
                            "<tr><td>AMD</td><td>AMZN</td><td>0.3794408330429113</td></tr>",
                            "<tr><td>AMZN</td><td>NFLX</td><td>0.5041642143016337</td></tr>",
                            "<tr><td>AMD</td><td>NFLX</td><td>0.32028584000222293</td></tr>",
                            "<tr><td>CSCO</td><td>MSFT</td><td>0.5716858540128593</td></tr>",
                            "<tr><td>QCOM</td><td>TSLA</td><td>0.3291826509479557</td></tr>",
                            "<tr><td>MSFT</td><td>TSLA</td><td>0.38530740847773587</td></tr>",
                            "<tr><td>META</td><td>SBUX</td><td>0.4142360001482512</td></tr>",
                            "<tr><td>NFLX</td><td>TSLA</td><td>0.35256928711002344</td></tr>",
                            "<tr><td>NFLX</td><td>SBUX</td><td>0.3163386056791203</td></tr>",
                            "<tr><td>CSCO</td><td>TSLA</td><td>0.2581421765697387</td></tr>",
                            "<tr><td>AAPL</td><td>META</td><td>0.49858677404325125</td></tr>",
                            "<tr><td>AMD</td><td>META</td><td>0.3239245219545275</td></tr>",
                            "<tr><td>AAPL</td><td>AMZN</td><td>0.5341663945314566</td></tr>",
                            "<tr><td>AAPL</td><td>SBUX</td><td>0.4684302380403355</td></tr>",
                            "<tr><td>AMZN</td><td>META</td><td>0.5555015808772561</td></tr>",
                            "<tr><td>CSCO</td><td>META</td><td>0.3593301935921798</td></tr>",
                            "<tr><td>AMD</td><td>TSLA</td><td>0.3250849413663313</td></tr>",
                            "<tr><td>NFLX</td><td>QCOM</td><td>0.33166206763358413</td></tr>",
                            "<tr><td>CSCO</td><td>QCOM</td><td>0.44185628909297286</td></tr>",
                            "<tr><td>AMD</td><td>CSCO</td><td>0.33993427888971617</td></tr>",
                            "<tr><td>MSFT</td><td>QCOM</td><td>0.5188124577181276</td></tr>",
                            "<tr><td>CSCO</td><td>NFLX</td><td>0.30636881889548023</td></tr>",
                            "<tr><td>AAPL</td><td>AMD</td><td>0.4035245358249181</td></tr>",
                            "<tr><td>AMZN</td><td>QCOM</td><td>0.4052198205682083</td></tr>",
                            "<tr><td>AMD</td><td>QCOM</td><td>0.41354067676616196</td></tr>",
                            "<tr><td>AAPL</td><td>CSCO</td><td>0.5237814494916447</td></tr>",
                            "<tr><td>META</td><td>NFLX</td><td>0.44410428768127325</td></tr>",
                            "<tr><td>QCOM</td><td>SBUX</td><td>0.4111467145527136</td></tr>",
                            "<tr><td>SBUX</td><td>TSLA</td><td>0.3114723770543374</td></tr>",
                            "<tr><td>AAPL</td><td>TSLA</td><td>0.40355552555191265</td></tr>",
                            "<tr><td>MSFT</td><td>NFLX</td><td>0.4325145447353838</td></tr>",
                            "<tr><td>CSCO</td><td>SBUX</td><td>0.4815807786957663</td></tr>",
                            "<tr><td>AAPL</td><td>QCOM</td><td>0.5265977611203408</td></tr>",
                            "<tr><td>AMZN</td><td>SBUX</td><td>0.4306350115150687</td></tr>",
                            "<tr><td>META</td><td>TSLA</td><td>0.3335699908044464</td></tr>",
                            "<tr><td>META</td><td>MSFT</td><td>0.5248520651328772</td></tr>",
                            "<tr><td>MSFT</td><td>SBUX</td><td>0.5214003928824098</td></tr>",
                            "<tr><td>AMD</td><td>MSFT</td><td>0.4087348929927374</td></tr>",
                            "<tr><td>AAPL</td><td>NFLX</td><td>0.3962591725741149</td></tr>",
                            "<tr><td>META</td><td>QCOM</td><td>0.37549239448878746</td></tr>",
                            "<tr><td>AMD</td><td>SBUX</td><td>0.29824081367408845</td></tr>",
                            "<tr><td>AMZN</td><td>TSLA</td><td>0.3860354213922402</td></tr>",
                            "</table>"
                        ]
                    }
                }
            ],
            "execution_count": 41
        },
        {
            "cell_type": "code",
            "source": [
                "-- Create table for correlation computations\n",
                "CREATE TABLE correlation_results (\n",
                "    company_a VARCHAR(50),\n",
                "    company_b VARCHAR(50),\n",
                "    correlation FLOAT\n",
                ");"
            ],
            "metadata": {
                "azdata_cell_guid": "7591bb9f-b0dd-4663-b986-401819e7d474",
                "language": "sql"
            },
            "outputs": [
                {
                    "output_type": "display_data",
                    "data": {
                        "text/html": "Commands completed successfully."
                    },
                    "metadata": {}
                },
                {
                    "output_type": "display_data",
                    "data": {
                        "text/html": "Total execution time: 00:00:00.073"
                    },
                    "metadata": {}
                }
            ],
            "execution_count": 42
        },
        {
            "cell_type": "code",
            "source": [
                "-- Insert the correlation data into the table\n",
                "WITH returns_a AS (\n",
                "    SELECT \n",
                "        company, \n",
                "        [date], \n",
                "        ([close] - LAG([close]) OVER (PARTITION BY company ORDER BY [date])) / LAG([close]) OVER (PARTITION BY company ORDER BY [date]) AS daily_return\n",
                "    FROM stock_data\n",
                "), returns_b AS (\n",
                "    SELECT \n",
                "        company, \n",
                "        [date], \n",
                "        ([close] - LAG([close]) OVER (PARTITION BY company ORDER BY [date])) / LAG([close]) OVER (PARTITION BY company ORDER BY [date]) AS daily_return\n",
                "    FROM stock_data\n",
                "), avg_stdev_a AS (\n",
                "    SELECT company, \n",
                "           AVG(daily_return) AS avg_return_a, \n",
                "           STDEV(daily_return) AS stdev_a\n",
                "    FROM returns_a\n",
                "    GROUP BY company\n",
                "), avg_stdev_b AS (\n",
                "    SELECT company, \n",
                "           AVG(daily_return) AS avg_return_b, \n",
                "           STDEV(daily_return) AS stdev_b\n",
                "    FROM returns_b\n",
                "    GROUP BY company\n",
                ")\n",
                "INSERT INTO correlation_results (company_a, company_b, correlation)\n",
                "SELECT \n",
                "    a.company AS company_a, \n",
                "    b.company AS company_b,\n",
                "    AVG((a.daily_return - avg_stdev_a.avg_return_a) * (b.daily_return - avg_stdev_b.avg_return_b)) \n",
                "    / NULLIF((MAX(avg_stdev_a.stdev_a) * MAX(avg_stdev_b.stdev_b)), 0) AS correlation\n",
                "FROM returns_a a\n",
                "JOIN returns_b b \n",
                "    ON a.[date] = b.[date] \n",
                "    AND a.company < b.company\n",
                "JOIN avg_stdev_a ON a.company = avg_stdev_a.company\n",
                "JOIN avg_stdev_b ON b.company = avg_stdev_b.company\n",
                "GROUP BY a.company, b.company;"
            ],
            "metadata": {
                "language": "sql",
                "azdata_cell_guid": "a7ee48c9-b2de-456f-bc70-e93e424106e6",
                "tags": []
            },
            "outputs": [
                {
                    "output_type": "display_data",
                    "data": {
                        "text/html": "Warning: Null value is eliminated by an aggregate or other SET operation."
                    },
                    "metadata": {}
                },
                {
                    "output_type": "display_data",
                    "data": {
                        "text/html": "(45 rows affected)"
                    },
                    "metadata": {}
                },
                {
                    "output_type": "display_data",
                    "data": {
                        "text/html": "Total execution time: 00:00:01.240"
                    },
                    "metadata": {}
                }
            ],
            "execution_count": 45
        },
        {
            "cell_type": "code",
            "source": [
                "-- Which stocks tend to close higher or lower compared to others? \n",
                "SELECT company, \n",
                "       AVG([close]) - (SELECT AVG([close]) FROM stock_data) AS rel_performance\n",
                "FROM stock_data\n",
                "GROUP BY company;"
            ],
            "metadata": {
                "azdata_cell_guid": "be82e2f9-864c-4344-a21f-6f5364a4e7d4",
                "language": "sql"
            },
            "outputs": [
                {
                    "output_type": "display_data",
                    "data": {
                        "text/html": "(10 rows affected)"
                    },
                    "metadata": {}
                },
                {
                    "output_type": "display_data",
                    "data": {
                        "text/html": "Total execution time: 00:00:00.300"
                    },
                    "metadata": {}
                },
                {
                    "output_type": "execute_result",
                    "metadata": {},
                    "execution_count": 46,
                    "data": {
                        "application/vnd.dataresource+json": {
                            "schema": {
                                "fields": [
                                    {
                                        "name": "company"
                                    },
                                    {
                                        "name": "rel_performance"
                                    }
                                ]
                            },
                            "data": [
                                {
                                    "company": "AAPL",
                                    "rel_performance": "-32.16107392686827"
                                },
                                {
                                    "company": "AMD",
                                    "rel_performance": "-64.38696025437221"
                                },
                                {
                                    "company": "AMZN",
                                    "rel_performance": "-23.628772655008206"
                                },
                                {
                                    "company": "CSCO",
                                    "rel_performance": "-63.36587917329114"
                                },
                                {
                                    "company": "META",
                                    "rel_performance": "63.268127186009636"
                                },
                                {
                                    "company": "MSFT",
                                    "rel_performance": "33.15480445151003"
                                },
                                {
                                    "company": "NFLX",
                                    "rel_performance": "154.31258267090567"
                                },
                                {
                                    "company": "QCOM",
                                    "rel_performance": "-15.510604928458179"
                                },
                                {
                                    "company": "SBUX",
                                    "rel_performance": "-32.491407790143185"
                                },
                                {
                                    "company": "TSLA",
                                    "rel_performance": "-19.190815580286326"
                                }
                            ]
                        },
                        "text/html": [
                            "<table>",
                            "<tr><th>company</th><th>rel_performance</th></tr>",
                            "<tr><td>AAPL</td><td>-32.16107392686827</td></tr>",
                            "<tr><td>AMD</td><td>-64.38696025437221</td></tr>",
                            "<tr><td>AMZN</td><td>-23.628772655008206</td></tr>",
                            "<tr><td>CSCO</td><td>-63.36587917329114</td></tr>",
                            "<tr><td>META</td><td>63.268127186009636</td></tr>",
                            "<tr><td>MSFT</td><td>33.15480445151003</td></tr>",
                            "<tr><td>NFLX</td><td>154.31258267090567</td></tr>",
                            "<tr><td>QCOM</td><td>-15.510604928458179</td></tr>",
                            "<tr><td>SBUX</td><td>-32.491407790143185</td></tr>",
                            "<tr><td>TSLA</td><td>-19.190815580286326</td></tr>",
                            "</table>"
                        ]
                    }
                }
            ],
            "execution_count": 46
        },
        {
            "cell_type": "code",
            "source": [
                "-- Create table for relative performance computations\n",
                "CREATE TABLE relative_performance (\n",
                "    company VARCHAR(50),\n",
                "    rel_performance FLOAT\n",
                ");\n",
                "\n",
                "-- Insert the relative performance data into the table\n",
                "INSERT INTO relative_performance (company, rel_performance)\n",
                "SELECT company, AVG([close]) - (SELECT AVG([close]) FROM stock_data)\n",
                "FROM stock_data\n",
                "GROUP BY company;"
            ],
            "metadata": {
                "azdata_cell_guid": "03c5adc1-3e2d-403a-a6cd-d44778e0c9b5",
                "language": "sql",
                "tags": []
            },
            "outputs": [
                {
                    "output_type": "display_data",
                    "data": {
                        "text/html": "(10 rows affected)"
                    },
                    "metadata": {}
                },
                {
                    "output_type": "display_data",
                    "data": {
                        "text/html": "Total execution time: 00:00:00.225"
                    },
                    "metadata": {}
                }
            ],
            "execution_count": 47
        },
        {
            "cell_type": "markdown",
            "source": [
                "### iv. Pattern Detection & Streaks"
            ],
            "metadata": {
                "azdata_cell_guid": "85523a44-b3ab-46cd-a87f-d6db4cbbfe53"
            },
            "attachments": {}
        },
        {
            "cell_type": "code",
            "source": [
                "-- Compute the streak length for positive / negative days\n",
                "WITH Streaks AS (\n",
                "    SELECT company, [date],\n",
                "           CASE \n",
                "               WHEN [close] > LAG([close]) OVER (PARTITION BY company ORDER BY [date]) THEN 1\n",
                "               WHEN [close] < LAG([close]) OVER (PARTITION BY company ORDER BY [date]) THEN -1\n",
                "               ELSE 0 \n",
                "           END AS change_flag\n",
                "    FROM stock_data\n",
                "),\n",
                "StreakCounts AS (\n",
                "    SELECT company, [date], change_flag,\n",
                "           SUM(CASE WHEN change_flag = 1 THEN 1 ELSE 0 END) \n",
                "           OVER (PARTITION BY company ORDER BY [date] ROWS UNBOUNDED PRECEDING) AS pos_streak,\n",
                "           SUM(CASE WHEN change_flag = -1 THEN 1 ELSE 0 END) \n",
                "           OVER (PARTITION BY company ORDER BY [date] ROWS UNBOUNDED PRECEDING) AS neg_streak\n",
                "    FROM Streaks\n",
                ")\n",
                "SELECT company, MAX(pos_streak) AS max_pos_streak, MAX(neg_streak) AS max_neg_streak\n",
                "FROM StreakCounts\n",
                "GROUP BY company;"
            ],
            "metadata": {
                "azdata_cell_guid": "5daa1903-43e0-41b7-9209-f9264f914d7a",
                "language": "sql"
            },
            "outputs": [
                {
                    "output_type": "display_data",
                    "data": {
                        "text/html": "(10 rows affected)"
                    },
                    "metadata": {}
                },
                {
                    "output_type": "display_data",
                    "data": {
                        "text/html": "Total execution time: 00:00:00.240"
                    },
                    "metadata": {}
                },
                {
                    "output_type": "execute_result",
                    "metadata": {},
                    "execution_count": 49,
                    "data": {
                        "application/vnd.dataresource+json": {
                            "schema": {
                                "fields": [
                                    {
                                        "name": "company"
                                    },
                                    {
                                        "name": "max_pos_streak"
                                    },
                                    {
                                        "name": "max_neg_streak"
                                    }
                                ]
                            },
                            "data": [
                                {
                                    "company": "AAPL",
                                    "max_pos_streak": "1320",
                                    "max_neg_streak": "1170"
                                },
                                {
                                    "company": "AMD",
                                    "max_pos_streak": "1264",
                                    "max_neg_streak": "1187"
                                },
                                {
                                    "company": "AMZN",
                                    "max_pos_streak": "1327",
                                    "max_neg_streak": "1169"
                                },
                                {
                                    "company": "CSCO",
                                    "max_pos_streak": "1292",
                                    "max_neg_streak": "1192"
                                },
                                {
                                    "company": "META",
                                    "max_pos_streak": "1330",
                                    "max_neg_streak": "1177"
                                },
                                {
                                    "company": "MSFT",
                                    "max_pos_streak": "1326",
                                    "max_neg_streak": "1171"
                                },
                                {
                                    "company": "NFLX",
                                    "max_pos_streak": "1282",
                                    "max_neg_streak": "1229"
                                },
                                {
                                    "company": "QCOM",
                                    "max_pos_streak": "1296",
                                    "max_neg_streak": "1211"
                                },
                                {
                                    "company": "SBUX",
                                    "max_pos_streak": "1302",
                                    "max_neg_streak": "1197"
                                },
                                {
                                    "company": "TSLA",
                                    "max_pos_streak": "1306",
                                    "max_neg_streak": "1195"
                                }
                            ]
                        },
                        "text/html": [
                            "<table>",
                            "<tr><th>company</th><th>max_pos_streak</th><th>max_neg_streak</th></tr>",
                            "<tr><td>AAPL</td><td>1320</td><td>1170</td></tr>",
                            "<tr><td>AMD</td><td>1264</td><td>1187</td></tr>",
                            "<tr><td>AMZN</td><td>1327</td><td>1169</td></tr>",
                            "<tr><td>CSCO</td><td>1292</td><td>1192</td></tr>",
                            "<tr><td>META</td><td>1330</td><td>1177</td></tr>",
                            "<tr><td>MSFT</td><td>1326</td><td>1171</td></tr>",
                            "<tr><td>NFLX</td><td>1282</td><td>1229</td></tr>",
                            "<tr><td>QCOM</td><td>1296</td><td>1211</td></tr>",
                            "<tr><td>SBUX</td><td>1302</td><td>1197</td></tr>",
                            "<tr><td>TSLA</td><td>1306</td><td>1195</td></tr>",
                            "</table>"
                        ]
                    }
                }
            ],
            "execution_count": 49
        },
        {
            "cell_type": "code",
            "source": [
                "-- Create table for streak computations\n",
                "CREATE TABLE stock_streaks (\n",
                "    company VARCHAR(50),\n",
                "    max_pos_streak INT,\n",
                "    max_neg_streak INT\n",
                ");\n",
                "\n",
                "-- Insert streak computation data\n",
                "WITH Streaks AS (\n",
                "    SELECT company, [date],\n",
                "           CASE \n",
                "               WHEN [close] > LAG([close]) OVER (PARTITION BY company ORDER BY [date]) THEN 1\n",
                "               WHEN [close] < LAG([close]) OVER (PARTITION BY company ORDER BY [date]) THEN -1\n",
                "               ELSE 0 \n",
                "           END AS change_flag\n",
                "    FROM stock_data\n",
                "),\n",
                "StreakCounts AS (\n",
                "    SELECT company, [date], change_flag,\n",
                "           SUM(CASE WHEN change_flag = 1 THEN 1 ELSE 0 END) \n",
                "           OVER (PARTITION BY company ORDER BY [date] ROWS UNBOUNDED PRECEDING) AS pos_streak,\n",
                "           SUM(CASE WHEN change_flag = -1 THEN 1 ELSE 0 END) \n",
                "           OVER (PARTITION BY company ORDER BY [date] ROWS UNBOUNDED PRECEDING) AS neg_streak\n",
                "    FROM Streaks\n",
                ")\n",
                "INSERT INTO stock_streaks (company, max_pos_streak, max_neg_streak)\n",
                "SELECT company, MAX(pos_streak), MAX(neg_streak)\n",
                "FROM StreakCounts\n",
                "GROUP BY company;"
            ],
            "metadata": {
                "azdata_cell_guid": "0f951ce2-1d8b-4d3b-a043-667ccaaaa3cb",
                "language": "sql",
                "tags": []
            },
            "outputs": [
                {
                    "output_type": "display_data",
                    "data": {
                        "text/html": "(10 rows affected)"
                    },
                    "metadata": {}
                },
                {
                    "output_type": "display_data",
                    "data": {
                        "text/html": "Total execution time: 00:00:00.149"
                    },
                    "metadata": {}
                }
            ],
            "execution_count": 50
        }
    ]
}