{
    "metadata": {
        "kernelspec": {
            "name": "SQL",
            "display_name": "SQL",
            "language": "sql"
        },
        "language_info": {
            "name": "sql",
            "version": ""
        }
    },
    "nbformat_minor": 2,
    "nbformat": 4,
    "cells": [
        {
            "cell_type": "markdown",
            "source": [
                "# Step 2: Cleaning"
            ],
            "metadata": {
                "language": "sql",
                "azdata_cell_guid": "6e107e3e-a1e7-4a84-b315-46c33ecfc0ff"
            },
            "attachments": {}
        },
        {
            "cell_type": "code",
            "source": [
                "SELECT TOP 10 * FROM stock_data;"
            ],
            "metadata": {
                "azdata_cell_guid": "8c912c15-7135-4758-85ea-67a8ddb2215c",
                "language": "sql"
            },
            "outputs": [
                {
                    "output_type": "display_data",
                    "data": {
                        "text/html": "(10 rows affected)"
                    },
                    "metadata": {}
                },
                {
                    "output_type": "display_data",
                    "data": {
                        "text/html": "Total execution time: 00:00:00.009"
                    },
                    "metadata": {}
                },
                {
                    "output_type": "execute_result",
                    "metadata": {},
                    "execution_count": 4,
                    "data": {
                        "application/vnd.dataresource+json": {
                            "schema": {
                                "fields": [
                                    {
                                        "name": "company"
                                    },
                                    {
                                        "name": "date"
                                    },
                                    {
                                        "name": "close"
                                    },
                                    {
                                        "name": "volume"
                                    },
                                    {
                                        "name": "open"
                                    },
                                    {
                                        "name": "high"
                                    },
                                    {
                                        "name": "low"
                                    }
                                ]
                            },
                            "data": [
                                {
                                    "company": "AAPL",
                                    "date": "2013-07-18",
                                    "close": "15.42",
                                    "volume": "218632537",
                                    "open": "15.48",
                                    "high": "15.53",
                                    "low": "15.38"
                                },
                                {
                                    "company": "AAPL",
                                    "date": "2013-07-19",
                                    "close": "15.18",
                                    "volume": "268548901",
                                    "open": "15.47",
                                    "high": "15.5",
                                    "low": "15.16"
                                },
                                {
                                    "company": "AAPL",
                                    "date": "2013-07-22",
                                    "close": "15.23",
                                    "volume": "207648981",
                                    "open": "15.34",
                                    "high": "15.35",
                                    "low": "15.2"
                                },
                                {
                                    "company": "AAPL",
                                    "date": "2013-07-23",
                                    "close": "14.96",
                                    "volume": "354477618",
                                    "open": "15.21",
                                    "high": "15.25",
                                    "low": "14.95"
                                },
                                {
                                    "company": "AAPL",
                                    "date": "2013-07-24",
                                    "close": "15.73",
                                    "volume": "591624923",
                                    "open": "15.68",
                                    "high": "15.88",
                                    "low": "15.55"
                                },
                                {
                                    "company": "AAPL",
                                    "date": "2013-07-25",
                                    "close": "15.66",
                                    "volume": "229432412",
                                    "open": "15.74",
                                    "high": "15.76",
                                    "low": "15.56"
                                },
                                {
                                    "company": "AAPL",
                                    "date": "2013-07-26",
                                    "close": "15.75",
                                    "volume": "200082264",
                                    "open": "15.55",
                                    "high": "15.75",
                                    "low": "15.51"
                                },
                                {
                                    "company": "AAPL",
                                    "date": "2013-07-29",
                                    "close": "15.99",
                                    "volume": "248025441",
                                    "open": "15.74",
                                    "high": "16.07",
                                    "low": "15.72"
                                },
                                {
                                    "company": "AAPL",
                                    "date": "2013-07-30",
                                    "close": "16.19",
                                    "volume": "308960556",
                                    "open": "16.07",
                                    "high": "16.33",
                                    "low": "16.04"
                                },
                                {
                                    "company": "AAPL",
                                    "date": "2013-07-31",
                                    "close": "16.16",
                                    "volume": "322499391",
                                    "open": "16.25",
                                    "high": "16.33",
                                    "low": "16.05"
                                }
                            ]
                        },
                        "text/html": [
                            "<table>",
                            "<tr><th>company</th><th>date</th><th>close</th><th>volume</th><th>open</th><th>high</th><th>low</th></tr>",
                            "<tr><td>AAPL</td><td>2013-07-18</td><td>15.42</td><td>218632537</td><td>15.48</td><td>15.53</td><td>15.38</td></tr>",
                            "<tr><td>AAPL</td><td>2013-07-19</td><td>15.18</td><td>268548901</td><td>15.47</td><td>15.5</td><td>15.16</td></tr>",
                            "<tr><td>AAPL</td><td>2013-07-22</td><td>15.23</td><td>207648981</td><td>15.34</td><td>15.35</td><td>15.2</td></tr>",
                            "<tr><td>AAPL</td><td>2013-07-23</td><td>14.96</td><td>354477618</td><td>15.21</td><td>15.25</td><td>14.95</td></tr>",
                            "<tr><td>AAPL</td><td>2013-07-24</td><td>15.73</td><td>591624923</td><td>15.68</td><td>15.88</td><td>15.55</td></tr>",
                            "<tr><td>AAPL</td><td>2013-07-25</td><td>15.66</td><td>229432412</td><td>15.74</td><td>15.76</td><td>15.56</td></tr>",
                            "<tr><td>AAPL</td><td>2013-07-26</td><td>15.75</td><td>200082264</td><td>15.55</td><td>15.75</td><td>15.51</td></tr>",
                            "<tr><td>AAPL</td><td>2013-07-29</td><td>15.99</td><td>248025441</td><td>15.74</td><td>16.07</td><td>15.72</td></tr>",
                            "<tr><td>AAPL</td><td>2013-07-30</td><td>16.19</td><td>308960556</td><td>16.07</td><td>16.33</td><td>16.04</td></tr>",
                            "<tr><td>AAPL</td><td>2013-07-31</td><td>16.16</td><td>322499391</td><td>16.25</td><td>16.33</td><td>16.05</td></tr>",
                            "</table>"
                        ]
                    }
                }
            ],
            "execution_count": 4
        },
        {
            "cell_type": "markdown",
            "source": [
                "## A. Check for NULL values"
            ],
            "metadata": {
                "language": "sql",
                "azdata_cell_guid": "c435ebb1-5270-4748-8b38-fe4871bc18ef"
            },
            "attachments": {}
        },
        {
            "cell_type": "code",
            "source": [
                "-- Count the number of NULL values in each column\n",
                "SELECT \n",
                "    SUM(CASE WHEN company IS NULL THEN 1 ELSE 0 END) AS company_nulls,\n",
                "    SUM(CASE WHEN [date] IS NULL THEN 1 ELSE 0 END) AS date_nulls,\n",
                "    SUM(CASE WHEN [close] IS NULL THEN 1 ELSE 0 END) AS close_nulls,\n",
                "    SUM(CASE WHEN volume IS NULL THEN 1 ELSE 0 END) AS volume_nulls,\n",
                "    SUM(CASE WHEN [open] IS NULL THEN 1 ELSE 0 END) AS open_nulls,\n",
                "    SUM(CASE WHEN high IS NULL THEN 1 ELSE 0 END) AS high_nulls,\n",
                "    SUM(CASE WHEN low IS NULL THEN 1 ELSE 0 END) AS low_nulls\n",
                "FROM stock_data;\n",
                "\n",
                "-- No NULL values! "
            ],
            "metadata": {
                "azdata_cell_guid": "0fcfa4f3-c9bc-4668-aa23-689de0e6ab34",
                "language": "sql"
            },
            "outputs": [
                {
                    "output_type": "display_data",
                    "data": {
                        "text/html": "(1 row affected)"
                    },
                    "metadata": {}
                },
                {
                    "output_type": "display_data",
                    "data": {
                        "text/html": "Total execution time: 00:00:00.023"
                    },
                    "metadata": {}
                },
                {
                    "output_type": "execute_result",
                    "metadata": {},
                    "execution_count": 5,
                    "data": {
                        "application/vnd.dataresource+json": {
                            "schema": {
                                "fields": [
                                    {
                                        "name": "company_nulls"
                                    },
                                    {
                                        "name": "date_nulls"
                                    },
                                    {
                                        "name": "close_nulls"
                                    },
                                    {
                                        "name": "volume_nulls"
                                    },
                                    {
                                        "name": "open_nulls"
                                    },
                                    {
                                        "name": "high_nulls"
                                    },
                                    {
                                        "name": "low_nulls"
                                    }
                                ]
                            },
                            "data": [
                                {
                                    "company_nulls": "0",
                                    "date_nulls": "0",
                                    "close_nulls": "0",
                                    "volume_nulls": "0",
                                    "open_nulls": "0",
                                    "high_nulls": "0",
                                    "low_nulls": "0"
                                }
                            ]
                        },
                        "text/html": [
                            "<table>",
                            "<tr><th>company_nulls</th><th>date_nulls</th><th>close_nulls</th><th>volume_nulls</th><th>open_nulls</th><th>high_nulls</th><th>low_nulls</th></tr>",
                            "<tr><td>0</td><td>0</td><td>0</td><td>0</td><td>0</td><td>0</td><td>0</td></tr>",
                            "</table>"
                        ]
                    }
                }
            ],
            "execution_count": 5
        },
        {
            "cell_type": "markdown",
            "source": [
                "## B. Check for data type consistency"
            ],
            "metadata": {
                "azdata_cell_guid": "0b74d8a1-0b4a-44c4-964c-d957f57f86a9"
            },
            "attachments": {}
        },
        {
            "cell_type": "code",
            "source": [
                "-- Get the data type for each column\n",
                "SELECT COLUMN_NAME, DATA_TYPE\n",
                "FROM INFORMATION_SCHEMA.COLUMNS\n",
                "WHERE TABLE_NAME = 'stock_data';"
            ],
            "metadata": {
                "azdata_cell_guid": "536b7f01-7090-4686-acfe-ebd9042bdc28",
                "language": "sql"
            },
            "outputs": [
                {
                    "output_type": "display_data",
                    "data": {
                        "text/html": "(7 rows affected)"
                    },
                    "metadata": {}
                },
                {
                    "output_type": "display_data",
                    "data": {
                        "text/html": "Total execution time: 00:00:00.049"
                    },
                    "metadata": {}
                },
                {
                    "output_type": "execute_result",
                    "metadata": {},
                    "execution_count": 6,
                    "data": {
                        "application/vnd.dataresource+json": {
                            "schema": {
                                "fields": [
                                    {
                                        "name": "COLUMN_NAME"
                                    },
                                    {
                                        "name": "DATA_TYPE"
                                    }
                                ]
                            },
                            "data": [
                                {
                                    "COLUMN_NAME": "company",
                                    "DATA_TYPE": "varchar"
                                },
                                {
                                    "COLUMN_NAME": "date",
                                    "DATA_TYPE": "date"
                                },
                                {
                                    "COLUMN_NAME": "close",
                                    "DATA_TYPE": "float"
                                },
                                {
                                    "COLUMN_NAME": "volume",
                                    "DATA_TYPE": "int"
                                },
                                {
                                    "COLUMN_NAME": "open",
                                    "DATA_TYPE": "float"
                                },
                                {
                                    "COLUMN_NAME": "high",
                                    "DATA_TYPE": "float"
                                },
                                {
                                    "COLUMN_NAME": "low",
                                    "DATA_TYPE": "float"
                                }
                            ]
                        },
                        "text/html": [
                            "<table>",
                            "<tr><th>COLUMN_NAME</th><th>DATA_TYPE</th></tr>",
                            "<tr><td>company</td><td>varchar</td></tr>",
                            "<tr><td>date</td><td>date</td></tr>",
                            "<tr><td>close</td><td>float</td></tr>",
                            "<tr><td>volume</td><td>int</td></tr>",
                            "<tr><td>open</td><td>float</td></tr>",
                            "<tr><td>high</td><td>float</td></tr>",
                            "<tr><td>low</td><td>float</td></tr>",
                            "</table>"
                        ]
                    }
                }
            ],
            "execution_count": 6
        },
        {
            "cell_type": "code",
            "source": [
                "-- Ensure all values in date column are in DATE format\n",
                "SELECT *\n",
                "FROM stock_data\n",
                "WHERE TRY_CAST(date AS DATE) IS NULL;\n",
                "\n",
                "-- Looks good! "
            ],
            "metadata": {
                "language": "sql",
                "azdata_cell_guid": "c3e5872a-e7d2-48b6-9532-9faecdfe1d03"
            },
            "outputs": [
                {
                    "output_type": "display_data",
                    "data": {
                        "text/html": "(0 rows affected)"
                    },
                    "metadata": {}
                },
                {
                    "output_type": "display_data",
                    "data": {
                        "text/html": "Total execution time: 00:00:00.053"
                    },
                    "metadata": {}
                },
                {
                    "output_type": "execute_result",
                    "metadata": {},
                    "execution_count": 7,
                    "data": {
                        "application/vnd.dataresource+json": {
                            "schema": {
                                "fields": [
                                    {
                                        "name": "company"
                                    },
                                    {
                                        "name": "date"
                                    },
                                    {
                                        "name": "close"
                                    },
                                    {
                                        "name": "volume"
                                    },
                                    {
                                        "name": "open"
                                    },
                                    {
                                        "name": "high"
                                    },
                                    {
                                        "name": "low"
                                    }
                                ]
                            },
                            "data": []
                        },
                        "text/html": [
                            "<table>",
                            "<tr><th>company</th><th>date</th><th>close</th><th>volume</th><th>open</th><th>high</th><th>low</th></tr>",
                            "</table>"
                        ]
                    }
                }
            ],
            "execution_count": 7
        },
        {
            "cell_type": "code",
            "source": [
                "-- Ensure all values in close, open, high, low columsn are in numeric format\n",
                "SELECT *\n",
                "FROM stock_data\n",
                "WHERE TRY_CAST([close] AS FLOAT) IS NULL\n",
                "   OR TRY_CAST(volume AS FLOAT) IS NULL\n",
                "   OR TRY_CAST([open] AS FLOAT) IS NULL\n",
                "   OR TRY_CAST(high AS FLOAT) IS NULL\n",
                "   OR TRY_CAST(low AS FLOAT) IS NULL;\n",
                "\n",
                "-- Looks good! "
            ],
            "metadata": {
                "language": "sql",
                "azdata_cell_guid": "4ed2d240-5848-4c47-ba12-0697346a17a5"
            },
            "outputs": [
                {
                    "output_type": "display_data",
                    "data": {
                        "text/html": "(0 rows affected)"
                    },
                    "metadata": {}
                },
                {
                    "output_type": "display_data",
                    "data": {
                        "text/html": "Total execution time: 00:00:00.074"
                    },
                    "metadata": {}
                },
                {
                    "output_type": "execute_result",
                    "metadata": {},
                    "execution_count": 9,
                    "data": {
                        "application/vnd.dataresource+json": {
                            "schema": {
                                "fields": [
                                    {
                                        "name": "company"
                                    },
                                    {
                                        "name": "date"
                                    },
                                    {
                                        "name": "close"
                                    },
                                    {
                                        "name": "volume"
                                    },
                                    {
                                        "name": "open"
                                    },
                                    {
                                        "name": "high"
                                    },
                                    {
                                        "name": "low"
                                    }
                                ]
                            },
                            "data": []
                        },
                        "text/html": [
                            "<table>",
                            "<tr><th>company</th><th>date</th><th>close</th><th>volume</th><th>open</th><th>high</th><th>low</th></tr>",
                            "</table>"
                        ]
                    }
                }
            ],
            "execution_count": 9
        }
    ]
}