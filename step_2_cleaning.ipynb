{
    "metadata": {
        "kernelspec": {
            "name": "SQL",
            "display_name": "SQL",
            "language": "sql"
        },
        "language_info": {
            "name": "sql",
            "version": ""
        }
    },
    "nbformat_minor": 2,
    "nbformat": 4,
    "cells": [
        {
            "cell_type": "markdown",
            "source": [
                "# Step 2: Cleaning"
            ],
            "metadata": {
                "language": "sql",
                "azdata_cell_guid": "6e107e3e-a1e7-4a84-b315-46c33ecfc0ff"
            },
            "attachments": {}
        },
        {
            "cell_type": "code",
            "source": [
                "SELECT TOP 10 * FROM stock_data;"
            ],
            "metadata": {
                "azdata_cell_guid": "8c912c15-7135-4758-85ea-67a8ddb2215c",
                "language": "sql"
            },
            "outputs": [
                {
                    "output_type": "display_data",
                    "data": {
                        "text/html": "(10 rows affected)"
                    },
                    "metadata": {}
                },
                {
                    "output_type": "display_data",
                    "data": {
                        "text/html": "Total execution time: 00:00:00.100"
                    },
                    "metadata": {}
                },
                {
                    "output_type": "execute_result",
                    "metadata": {},
                    "execution_count": 1,
                    "data": {
                        "application/vnd.dataresource+json": {
                            "schema": {
                                "fields": [
                                    {
                                        "name": "company"
                                    },
                                    {
                                        "name": "date"
                                    },
                                    {
                                        "name": "close"
                                    },
                                    {
                                        "name": "volume"
                                    },
                                    {
                                        "name": "open"
                                    },
                                    {
                                        "name": "high"
                                    },
                                    {
                                        "name": "low"
                                    }
                                ]
                            },
                            "data": [
                                {
                                    "company": "AAPL",
                                    "date": "2013-07-18",
                                    "close": "15.42",
                                    "volume": "218632537",
                                    "open": "15.48",
                                    "high": "15.53",
                                    "low": "15.38"
                                },
                                {
                                    "company": "AAPL",
                                    "date": "2013-07-19",
                                    "close": "15.18",
                                    "volume": "268548901",
                                    "open": "15.47",
                                    "high": "15.5",
                                    "low": "15.16"
                                },
                                {
                                    "company": "AAPL",
                                    "date": "2013-07-22",
                                    "close": "15.23",
                                    "volume": "207648981",
                                    "open": "15.34",
                                    "high": "15.35",
                                    "low": "15.2"
                                },
                                {
                                    "company": "AAPL",
                                    "date": "2013-07-23",
                                    "close": "14.96",
                                    "volume": "354477618",
                                    "open": "15.21",
                                    "high": "15.25",
                                    "low": "14.95"
                                },
                                {
                                    "company": "AAPL",
                                    "date": "2013-07-24",
                                    "close": "15.73",
                                    "volume": "591624923",
                                    "open": "15.68",
                                    "high": "15.88",
                                    "low": "15.55"
                                },
                                {
                                    "company": "AAPL",
                                    "date": "2013-07-25",
                                    "close": "15.66",
                                    "volume": "229432412",
                                    "open": "15.74",
                                    "high": "15.76",
                                    "low": "15.56"
                                },
                                {
                                    "company": "AAPL",
                                    "date": "2013-07-26",
                                    "close": "15.75",
                                    "volume": "200082264",
                                    "open": "15.55",
                                    "high": "15.75",
                                    "low": "15.51"
                                },
                                {
                                    "company": "AAPL",
                                    "date": "2013-07-29",
                                    "close": "15.99",
                                    "volume": "248025441",
                                    "open": "15.74",
                                    "high": "16.07",
                                    "low": "15.72"
                                },
                                {
                                    "company": "AAPL",
                                    "date": "2013-07-30",
                                    "close": "16.19",
                                    "volume": "308960556",
                                    "open": "16.07",
                                    "high": "16.33",
                                    "low": "16.04"
                                },
                                {
                                    "company": "AAPL",
                                    "date": "2013-07-31",
                                    "close": "16.16",
                                    "volume": "322499391",
                                    "open": "16.25",
                                    "high": "16.33",
                                    "low": "16.05"
                                }
                            ]
                        },
                        "text/html": [
                            "<table>",
                            "<tr><th>company</th><th>date</th><th>close</th><th>volume</th><th>open</th><th>high</th><th>low</th></tr>",
                            "<tr><td>AAPL</td><td>2013-07-18</td><td>15.42</td><td>218632537</td><td>15.48</td><td>15.53</td><td>15.38</td></tr>",
                            "<tr><td>AAPL</td><td>2013-07-19</td><td>15.18</td><td>268548901</td><td>15.47</td><td>15.5</td><td>15.16</td></tr>",
                            "<tr><td>AAPL</td><td>2013-07-22</td><td>15.23</td><td>207648981</td><td>15.34</td><td>15.35</td><td>15.2</td></tr>",
                            "<tr><td>AAPL</td><td>2013-07-23</td><td>14.96</td><td>354477618</td><td>15.21</td><td>15.25</td><td>14.95</td></tr>",
                            "<tr><td>AAPL</td><td>2013-07-24</td><td>15.73</td><td>591624923</td><td>15.68</td><td>15.88</td><td>15.55</td></tr>",
                            "<tr><td>AAPL</td><td>2013-07-25</td><td>15.66</td><td>229432412</td><td>15.74</td><td>15.76</td><td>15.56</td></tr>",
                            "<tr><td>AAPL</td><td>2013-07-26</td><td>15.75</td><td>200082264</td><td>15.55</td><td>15.75</td><td>15.51</td></tr>",
                            "<tr><td>AAPL</td><td>2013-07-29</td><td>15.99</td><td>248025441</td><td>15.74</td><td>16.07</td><td>15.72</td></tr>",
                            "<tr><td>AAPL</td><td>2013-07-30</td><td>16.19</td><td>308960556</td><td>16.07</td><td>16.33</td><td>16.04</td></tr>",
                            "<tr><td>AAPL</td><td>2013-07-31</td><td>16.16</td><td>322499391</td><td>16.25</td><td>16.33</td><td>16.05</td></tr>",
                            "</table>"
                        ]
                    }
                }
            ],
            "execution_count": 1
        },
        {
            "cell_type": "markdown",
            "source": [
                "## A. Check for NULL values"
            ],
            "metadata": {
                "language": "sql",
                "azdata_cell_guid": "c435ebb1-5270-4748-8b38-fe4871bc18ef"
            },
            "attachments": {}
        },
        {
            "cell_type": "code",
            "source": [
                "-- Count the number of NULL values in each column\n",
                "SELECT \n",
                "    SUM(CASE WHEN company IS NULL THEN 1 ELSE 0 END) AS company_nulls,\n",
                "    SUM(CASE WHEN [date] IS NULL THEN 1 ELSE 0 END) AS date_nulls,\n",
                "    SUM(CASE WHEN [close] IS NULL THEN 1 ELSE 0 END) AS close_nulls,\n",
                "    SUM(CASE WHEN volume IS NULL THEN 1 ELSE 0 END) AS volume_nulls,\n",
                "    SUM(CASE WHEN [open] IS NULL THEN 1 ELSE 0 END) AS open_nulls,\n",
                "    SUM(CASE WHEN high IS NULL THEN 1 ELSE 0 END) AS high_nulls,\n",
                "    SUM(CASE WHEN low IS NULL THEN 1 ELSE 0 END) AS low_nulls\n",
                "FROM stock_data;\n",
                "\n",
                "-- No NULL values! "
            ],
            "metadata": {
                "azdata_cell_guid": "0fcfa4f3-c9bc-4668-aa23-689de0e6ab34",
                "language": "sql"
            },
            "outputs": [
                {
                    "output_type": "display_data",
                    "data": {
                        "text/html": "(1 row affected)"
                    },
                    "metadata": {}
                },
                {
                    "output_type": "display_data",
                    "data": {
                        "text/html": "Total execution time: 00:00:00.050"
                    },
                    "metadata": {}
                },
                {
                    "output_type": "execute_result",
                    "metadata": {},
                    "execution_count": 3,
                    "data": {
                        "application/vnd.dataresource+json": {
                            "schema": {
                                "fields": [
                                    {
                                        "name": "company_nulls"
                                    },
                                    {
                                        "name": "date_nulls"
                                    },
                                    {
                                        "name": "close_nulls"
                                    },
                                    {
                                        "name": "volume_nulls"
                                    },
                                    {
                                        "name": "open_nulls"
                                    },
                                    {
                                        "name": "high_nulls"
                                    },
                                    {
                                        "name": "low_nulls"
                                    }
                                ]
                            },
                            "data": [
                                {
                                    "company_nulls": "0",
                                    "date_nulls": "0",
                                    "close_nulls": "0",
                                    "volume_nulls": "0",
                                    "open_nulls": "0",
                                    "high_nulls": "0",
                                    "low_nulls": "0"
                                }
                            ]
                        },
                        "text/html": [
                            "<table>",
                            "<tr><th>company_nulls</th><th>date_nulls</th><th>close_nulls</th><th>volume_nulls</th><th>open_nulls</th><th>high_nulls</th><th>low_nulls</th></tr>",
                            "<tr><td>0</td><td>0</td><td>0</td><td>0</td><td>0</td><td>0</td><td>0</td></tr>",
                            "</table>"
                        ]
                    }
                }
            ],
            "execution_count": 3
        },
        {
            "cell_type": "markdown",
            "source": [
                ""
            ],
            "metadata": {
                "language": "sql",
                "azdata_cell_guid": "b8576b9e-310b-4cdd-8d2f-709025ae231c"
            }
        }
    ]
}